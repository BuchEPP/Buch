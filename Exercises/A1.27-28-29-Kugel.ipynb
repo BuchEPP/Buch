{
 "cells": [
  {
   "cell_type": "code",
   "execution_count": 35,
   "metadata": {
    "tags": []
   },
   "outputs": [],
   "source": [
    "import math\n",
    "import numpy as np"
   ]
  },
  {
   "cell_type": "markdown",
   "metadata": {},
   "source": [
    "## LCG Random number generator"
   ]
  },
  {
   "cell_type": "code",
   "execution_count": 13,
   "metadata": {
    "tags": []
   },
   "outputs": [],
   "source": [
    "def ran0(seed):\n",
    "    \"\"\"Linear congruential generator.\"\"\"\n",
    "    m = 2**31-1\n",
    "    a = 7**5\n",
    "    c = 0\n",
    "    while True:\n",
    "        seed = (a * seed + c) % m\n",
    "        yield seed/(m+1.)"
   ]
  },
  {
   "cell_type": "code",
   "execution_count": 14,
   "metadata": {
    "tags": []
   },
   "outputs": [
    {
     "name": "stdout",
     "output_type": "stream",
     "text": [
      "0.00800637574866414\n",
      "0.5631572701968253\n",
      "0.9842446050606668\n",
      "0.1990849575959146\n",
      "0.020883872639387846\n",
      "0.9952476131729782\n",
      "0.1266423873603344\n",
      "0.47860535606741905\n",
      "0.9202231704257429\n",
      "0.19083254737779498\n"
     ]
    }
   ],
   "source": [
    "x = ran0(1023) # initialize with a seed\n",
    "for i in range(10):\n",
    "    print(next(x))"
   ]
  },
  {
   "cell_type": "markdown",
   "metadata": {},
   "source": [
    "## Calculate area of circle"
   ]
  },
  {
   "cell_type": "code",
   "execution_count": 27,
   "metadata": {
    "tags": []
   },
   "outputs": [
    {
     "data": {
      "text/plain": [
       "28.2744864"
      ]
     },
     "execution_count": 27,
     "metadata": {},
     "output_type": "execute_result"
    }
   ],
   "source": [
    "# calculate area A of circle with R=1; A=pi\n",
    "N = 5000000\n",
    "R = 3\n",
    "#  N Pseudo-Zufallszahlen für x,y im Intervall  [0,1)\n",
    "x_array = np.random.rand(N)\n",
    "y_array = np.random.rand(N)\n",
    "# Anzahl der x-y Paare im Kreis\n",
    "N_circle = sum(x_array**2 + y_array**2 < 1)\n",
    "A = 4 * R**2 * float(N_circle) / N\n",
    "A"
   ]
  },
  {
   "cell_type": "code",
   "execution_count": 28,
   "metadata": {
    "tags": []
   },
   "outputs": [
    {
     "data": {
      "text/plain": [
       "28.274333882308138"
      ]
     },
     "execution_count": 28,
     "metadata": {},
     "output_type": "execute_result"
    }
   ],
   "source": [
    "# analytic\n",
    "Aa = math.pi * R**2\n",
    "Aa"
   ]
  },
  {
   "cell_type": "markdown",
   "metadata": {},
   "source": [
    "## Volume of 3-dim cube"
   ]
  },
  {
   "cell_type": "code",
   "execution_count": 29,
   "metadata": {
    "tags": []
   },
   "outputs": [
    {
     "data": {
      "text/plain": [
       "113.23584"
      ]
     },
     "execution_count": 29,
     "metadata": {},
     "output_type": "execute_result"
    }
   ],
   "source": [
    "# 3-dim Kugel\n",
    "N = 50000\n",
    "R = 3\n",
    "#  N Pseudo-Zufallszahlen für x,y im Intervall  [0,1)\n",
    "xa = np.random.rand(N)\n",
    "ya = np.random.rand(N)\n",
    "za = np.random.rand(N)\n",
    "# Anzahl der x-y Paare im Kreis\n",
    "N_circle = sum(xa**2 + ya**2 + za**2 < 1)\n",
    "V = 8 * R**3 * float(N_circle) / N\n",
    "V"
   ]
  },
  {
   "cell_type": "code",
   "execution_count": 30,
   "metadata": {
    "tags": []
   },
   "outputs": [
    {
     "data": {
      "text/plain": [
       "113.09733552923255"
      ]
     },
     "execution_count": 30,
     "metadata": {},
     "output_type": "execute_result"
    }
   ],
   "source": [
    "# analytisch\n",
    "Va = 4*math.pi*R**3/3\n",
    "Va"
   ]
  },
  {
   "cell_type": "markdown",
   "metadata": {},
   "source": [
    "## Volume of 5-dim cube"
   ]
  },
  {
   "cell_type": "code",
   "execution_count": 33,
   "metadata": {
    "tags": []
   },
   "outputs": [
    {
     "data": {
      "text/plain": [
       "1280.310624"
      ]
     },
     "execution_count": 33,
     "metadata": {},
     "output_type": "execute_result"
    }
   ],
   "source": [
    "# 5-dim Kugel\n",
    "N = 10**6\n",
    "R = 3\n",
    "#  N Pseudo-Zufallszahlen für x,y im Intervall  [0,1)\n",
    "xa = np.random.rand(N)\n",
    "ya = np.random.rand(N)\n",
    "za = np.random.rand(N)\n",
    "sa = np.random.rand(N)\n",
    "ta = np.random.rand(N)\n",
    "# Anzahl der x-y Paare im Kreis\n",
    "N_circle = sum(xa**2 + ya**2 + za**2 + sa**2 + ta**2 < 1)\n",
    "V = 32 * R**5 * float(N_circle) / N\n",
    "V"
   ]
  },
  {
   "cell_type": "code",
   "execution_count": 34,
   "metadata": {
    "tags": []
   },
   "outputs": [
    {
     "data": {
      "text/plain": [
       "1279.1007303811812"
      ]
     },
     "execution_count": 34,
     "metadata": {},
     "output_type": "execute_result"
    }
   ],
   "source": [
    "# analytic (wikipedia.de/Kugel)\n",
    "ndim = 5\n",
    "Vn = R**ndim *math.pi**(ndim/2.)/math.gamma(0.5*ndim+1)\n",
    "Vn"
   ]
  },
  {
   "cell_type": "code",
   "execution_count": null,
   "metadata": {},
   "outputs": [],
   "source": []
  }
 ],
 "metadata": {
  "kernelspec": {
   "display_name": "Python 3 (ipykernel)",
   "language": "python",
   "name": "python3"
  },
  "language_info": {
   "codemirror_mode": {
    "name": "ipython",
    "version": 3
   },
   "file_extension": ".py",
   "mimetype": "text/x-python",
   "name": "python",
   "nbconvert_exporter": "python",
   "pygments_lexer": "ipython3",
   "version": "3.9.16"
  }
 },
 "nbformat": 4,
 "nbformat_minor": 4
}
