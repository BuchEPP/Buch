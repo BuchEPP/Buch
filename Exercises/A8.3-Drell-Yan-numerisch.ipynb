{
 "cells": [
  {
   "cell_type": "code",
   "execution_count": 1,
   "id": "e54c821c-c981-4043-b96a-4e6fb2063ee5",
   "metadata": {},
   "outputs": [],
   "source": [
    "import numpy as np\n",
    "import scipy as sp\n",
    "from scipy import integrate"
   ]
  },
  {
   "cell_type": "markdown",
   "id": "db28f731-95e6-430d-83ff-34b39fb3f735",
   "metadata": {},
   "source": [
    "1. Wir verwenden die Valenzpartondichte für das $d(\\bar{d})$-Quark in (Kap. 5.3).\n",
    "2. Wir wählen wieder $\\sqrt{s}=30$~GeV und $x_0=0.01$.  \n",
    "3. Wir integrieren über den Drell-Yan Wirkungsquerschnitt unter Verwendung der Scipy Routine *dblquad*. \n",
    "4. Vergleichen Sie dieses Ergebnis mit dem numerischen Resultat der vorhergehenden Aufgabe.  "
   ]
  },
  {
   "cell_type": "code",
   "execution_count": 2,
   "id": "85d3752f-e63b-4496-a403-0f8409dc0f0d",
   "metadata": {},
   "outputs": [],
   "source": [
    "def f(xa,xb):\n",
    "    \"\"\"\n",
    "    return fa(xa)*fb(xb) * sigma_DY\n",
    "    use: fa=fb=dv (Kap. 5.3)\n",
    "    \"\"\"\n",
    "    alf = 1./137\n",
    "    Q = 1./3\n",
    "    s = 30**2\n",
    "    fac = 0.389e6 # convert 1/GeV**2 to nb\n",
    "    sigdy = (Q**2/9.) * 4*np.pi*alf**2/(xa*xb*s)\n",
    "    dva =  0.67*xa**0.4*(1-xa**1.51)**4.5/xa\n",
    "    dvb =  0.67*xb**0.4*(1-xb**1.51)**4.5/xb\n",
    "    return dva*dvb*sigdy*fac"
   ]
  },
  {
   "cell_type": "code",
   "execution_count": 3,
   "id": "2f00c76f-0528-488e-a3ca-a965005e07e4",
   "metadata": {},
   "outputs": [
    {
     "data": {
      "text/plain": [
       "(0.7675074284126913, 3.4135726492375614e-08)"
      ]
     },
     "execution_count": 3,
     "metadata": {},
     "output_type": "execute_result"
    }
   ],
   "source": [
    "# 2-dimensional Integration\n",
    "sp.integrate.dblquad(f, 0.01, 1, lambda x: 0.01, lambda x: 1)"
   ]
  },
  {
   "cell_type": "code",
   "execution_count": 4,
   "id": "8e11e797-ca72-4ee9-9d3f-bc6b58583170",
   "metadata": {},
   "outputs": [],
   "source": [
    "# we get the same result as in the supplement of Aufgabe 8.2"
   ]
  },
  {
   "cell_type": "code",
   "execution_count": null,
   "id": "cf4554bc-820c-45a0-8572-9eb8046b115e",
   "metadata": {},
   "outputs": [],
   "source": []
  }
 ],
 "metadata": {
  "kernelspec": {
   "display_name": "Python 3 (ipykernel)",
   "language": "python",
   "name": "python3"
  },
  "language_info": {
   "codemirror_mode": {
    "name": "ipython",
    "version": 3
   },
   "file_extension": ".py",
   "mimetype": "text/x-python",
   "name": "python",
   "nbconvert_exporter": "python",
   "pygments_lexer": "ipython3",
   "version": "3.9.16"
  }
 },
 "nbformat": 4,
 "nbformat_minor": 5
}
