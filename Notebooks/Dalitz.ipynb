{
 "cells": [
  {
   "cell_type": "code",
   "execution_count": 1,
   "id": "cdcdbe85",
   "metadata": {},
   "outputs": [],
   "source": [
    "import numpy as np\n",
    "import matplotlib.pyplot as plt"
   ]
  },
  {
   "cell_type": "markdown",
   "id": "291f25e5",
   "metadata": {},
   "source": [
    "dalitz1 selects from $N$ trials a list of pairs $E_1,E_2$ according to the criteria given in section (2.1.3) of the book "
   ]
  },
  {
   "cell_type": "code",
   "execution_count": 2,
   "id": "a940ae13",
   "metadata": {},
   "outputs": [],
   "source": [
    "def dalitz1(M,m1,m2,m3,N):\n",
    "    res0=[]\n",
    "    for i in range (N):\n",
    "        E1=m1+(M-m1)*np.random.rand()\n",
    "        E2=m2+(M-m2)*np.random.rand()\n",
    "        E3=M-E1-E2\n",
    "        if E3 > m3:\n",
    "            p1=np.sqrt(E1**2-m1**2)\n",
    "            p2=np.sqrt(E2**2-m2**2)\n",
    "            p3=np.sqrt(E3**2-m3**2)\n",
    "            z=(p3**2-p1**2-p2**2)/2/p1/p2\n",
    "            if abs(z) <1 :\n",
    "                res0.append([E1,E2])\n",
    "    result=res0\n",
    "    return result"
   ]
  },
  {
   "cell_type": "code",
   "execution_count": 3,
   "id": "04c3a0b9",
   "metadata": {},
   "outputs": [],
   "source": [
    "tst=dalitz1(2.0,0.5,0.5,0.15,10000)"
   ]
  },
  {
   "cell_type": "code",
   "execution_count": 4,
   "id": "3be64772",
   "metadata": {
    "scrolled": true
   },
   "outputs": [
    {
     "data": {
      "image/png": "[encoded data removed]",
      "text/plain": [
       "<Figure size 432x288 with 1 Axes>"
      ]
     },
     "metadata": {
      "needs_background": "light"
     },
     "output_type": "display_data"
    }
   ],
   "source": [
    "for i in range (len(tst)):\n",
    "    x=tst[i][0]\n",
    "    y=tst[i][1]\n",
    "    plt.xlim(0.4,1)\n",
    "    plt.ylim(0.4,1)\n",
    "    plt.scatter(x,y,marker='+',color='r')"
   ]
  },
  {
   "cell_type": "code",
   "execution_count": null,
   "id": "920eec04",
   "metadata": {},
   "outputs": [],
   "source": []
  }
 ],
 "metadata": {
  "kernelspec": {
   "display_name": "Python 3 (ipykernel)",
   "language": "python",
   "name": "python3"
  },
  "language_info": {
   "codemirror_mode": {
    "name": "ipython",
    "version": 3
   },
   "file_extension": ".py",
   "mimetype": "text/x-python",
   "name": "python",
   "nbconvert_exporter": "python",
   "pygments_lexer": "ipython3",
   "version": "3.10.3"
  }
 },
 "nbformat": 4,
 "nbformat_minor": 5
}
