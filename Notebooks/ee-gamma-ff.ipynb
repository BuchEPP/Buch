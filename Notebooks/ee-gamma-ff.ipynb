{
 "cells": [
  {
   "cell_type": "markdown",
   "id": "2e4f03bf-a938-48ba-aa3b-8cf96aa7f826",
   "metadata": {},
   "source": [
    "# Fermion Pair-production: $e^- e^+ \\rightarrow \\gamma \\rightarrow f \\bar{f}$"
   ]
  },
  {
   "cell_type": "markdown",
   "metadata": {},
   "source": [
    "Perform a semi-automatic calculation of the fermion pair production process. The program is somewhat complicated, but once the procedure is clear it can easily be adapted to other processes. \n",
    "\n",
    "The following steps are done in the calculation\n",
    "- enter the Feynman rules for the process in the function `meg``\n",
    "- spin averaged matrix element\n",
    "- $d\\sigma/d\\Omega$\n",
    "- total cross section from $d\\sigma/d\\Omega$\n",
    "- $d\\sigma/dt$\n",
    "- total cross section from $d\\sigma/dt$\n",
    "- make some plots\n",
    "- compare this calculation with the formula in the book\n",
    "- show that $d\\sigma/dt$ with masses can be expressed in a similar way as the massless formula \n"
   ]
  },
  {
   "cell_type": "markdown",
   "id": "09d86ed4-bae7-409e-88f4-43a10098cf04",
   "metadata": {},
   "source": [
    "### Procedure:\n",
    "- function `meg` calculates the matrix element for $\\gamma$ exchange\n",
    "- function: `mel2sum` calculates the squared spin summed matrix element. With a print flag\n",
    "             one can display the amplitude for each helicity combination. \n",
    "\n",
    "Parameters:\n",
    "- E: energy of $e^-$ and $e^+$ in the cms-system\n",
    "- s: Mandelstam s\n",
    "- m: electron mass\n",
    "- M: fermion mass\n",
    "- alpha: fine structure constant"
   ]
  },
  {
   "cell_type": "code",
   "execution_count": 1,
   "id": "62eb0e62-634c-4d0d-a40e-22c71c25a75c",
   "metadata": {},
   "outputs": [
    {
     "name": "stdout",
     "output_type": "stream",
     "text": [
      "Reading heppackv0.py (March 2023)\n",
      "\n",
      "Done\n"
     ]
    }
   ],
   "source": [
    "import sympy as sy\n",
    "import sympy.physics.matrices as sypm\n",
    "import heppackv0 as h\n",
    "import itertools as it\n",
    "import utsm_sy as utsm\n",
    "from matplotlib import style\n",
    "style.use('ggplot') # use a fancies plot style"
   ]
  },
  {
   "cell_type": "markdown",
   "metadata": {},
   "source": [
    "----\n",
    "# Functions"
   ]
  },
  {
   "cell_type": "code",
   "execution_count": 2,
   "metadata": {},
   "outputs": [],
   "source": [
    "def to_cos(expr,sth, sct, rep=True):\n",
    "    \"\"\"\n",
    "    Convert trig functions to cos(sth). Valid for 0<= sth <= pi:\n",
    "\n",
    "    Input:\n",
    "    expr : sympy expression with trig functions\n",
    "    sth  : symbol for angle theta\n",
    "    sct  : symbol for cos(theta)\n",
    "    rep  : True:  replace cos(sth) by sct\n",
    "           False: leave cos(theta)\n",
    "\n",
    "    Usage:\n",
    "    th,ct = sy.symbols(\"theta,c_theta\", real=True)\n",
    "    expr = sy.sin(th/2)**4\n",
    "    to_cos(expr,th,ct)\n",
    "\n",
    "    Result:\n",
    "    rep = True: (ct-1)**2/4\n",
    "    rep = False: (cos(th)-1)**2/\n",
    "\n",
    "    \"\"\"\n",
    "    r = expr.subs(sy.tan(sth/2), sy.sin(sth/2)/sy.cos(sth/2))\n",
    "    r = r.subs(sy.sin(sth/2)**2, (1-sy.cos(sth))/2)\n",
    "    r = r.subs(sy.cos(sth/2)**2, (1+sy.cos(sth))/2)\n",
    "    r = r.subs(sy.cos(2*sth)   , 2*sy.cos(sth)**2-1)\n",
    "    r = r.subs(sy.sin(sth)**2  , 1-sy.cos(sth)**2)\n",
    "    r = r.subs(sy.sin(sth)     , sy.sqrt(1-sy.cos(sth)**2))\n",
    "    if rep:\n",
    "        r = r.subs(sy.cos(sth),sct)\n",
    "        r = r.subs(sth,sy.acos(sct))\n",
    "        return sy.simplify(r)\n",
    "    else:\n",
    "        r = sy.simplify(r)\n",
    "        return r"
   ]
  },
  {
   "cell_type": "code",
   "execution_count": 3,
   "metadata": {},
   "outputs": [],
   "source": [
    "def get_mandelstam(ppe,ppE, ppf, ppF):\n",
    "    # calculate Mandelstam variables S,T,U from list of particle properties\n",
    "    def add4(v1,v2):\n",
    "        return [ v1[i]+ v2[i] for i in range(4)]\n",
    "    def sub4(v1,v2):\n",
    "        return [ v1[i]- v2[i] for i in range(4)]\n",
    "    \n",
    "    v1 = h.fourvec(ppe)\n",
    "    v2 = h.fourvec(ppE)\n",
    "    v3 = h.fourvec(ppf)\n",
    "    v4 = h.fourvec(ppF)\n",
    "    S = h.dotprod4( add4(v1,v2), add4(v1,v2))\n",
    "    T = h.dotprod4( sub4(v1,v3), sub4(v1,v3))\n",
    "    U = h.dotprod4( sub4(v1,v4), sub4(v1,v4))\n",
    "\n",
    "    return S, T, U"
   ]
  },
  {
   "cell_type": "code",
   "execution_count": 4,
   "metadata": {},
   "outputs": [],
   "source": [
    "def tmandel(ss,st,sct,sm1,sm2,sm3,sm4):\n",
    "    \"\"\"\n",
    "    Calculate the substitution needed to convert a sympy expression \n",
    "    which was prepared with the function to_cos() \n",
    "    such that all cos(theta) terms are replaced by the Mandelstam t variable\n",
    "\n",
    "    Input:\n",
    "    ss: symbol s-mandelstam\n",
    "    st: symbol t-mandelstam\n",
    "    sct: symbol sct=cos(th)\n",
    "    sm1, sm2, sm3, sm4: masses\n",
    "\n",
    "    Return:\n",
    "    rst: t-mandelstam t=f(s,ct,m1,m2,m3,m4)\n",
    "    sdtdct: dt/dcos(theta)\n",
    "    subs_ct : ct = f(t), use subs(ct, subs_ct) to replace cos(theta) to t\n",
    "    \"\"\"\n",
    "    a  = sm1**4 - 2*sm1**2*sm2**2 + sm2**4 + ss*(-2*sm1**2 - 2*sm2**2 + ss)\n",
    "    b  = sm3**4 - 2*sm3**2*sm4**2 + sm4**4 + ss*(-2*sm3**2 - 2*sm4**2 + ss)\n",
    "    sa = sy.sqrt(a/ss)\n",
    "    sb = sy.sqrt(b/ss)\n",
    "    sdtdct = sy.Rational(1,2)*sa*sb\n",
    "    #\n",
    "    A = -sm1**2*sm3**2 + sm1**2*sm4**2 + sm2**2*sm3**2 - sm2**2*sm4**2\n",
    "    B = sm1**2 + sm2**2 + sm3**2 + sm4**2 - ss\n",
    "    rst =  (A + ss*(sct*sa*sb+B))/(2*ss)\n",
    "    # subs_ct\n",
    "    subs_ct = ss*sa*sb*(-A+ss*(-B+2*st))/(a*b)\n",
    "    return rst, sdtdct, subs_ct"
   ]
  },
  {
   "cell_type": "markdown",
   "metadata": {},
   "source": [
    "----\n",
    "\n",
    "# Calculate Feynman rules"
   ]
  },
  {
   "cell_type": "code",
   "execution_count": 5,
   "id": "fcfd59d2-61bd-43ed-a6e8-8ce2fd730535",
   "metadata": {},
   "outputs": [],
   "source": [
    "#sy.init_printing(use_unicode=True)\n",
    "s,E,alpha,sqrts = sy.symbols(\"s,E,alpha, sqrts\", positive=True)\n",
    "m,M = sy.symbols(\"m,M\",nonnegative=True)\n",
    "Qf = sy.symbols(\"Q_f\",real=True)\n",
    "theta,phi,sct,t,u = sy.symbols(\"theta, phi, c_theta, t, u\",real=True)"
   ]
  },
  {
   "cell_type": "code",
   "execution_count": 6,
   "id": "bee5eda5-902c-45ba-a0c6-96ad8f7c9827",
   "metadata": {},
   "outputs": [],
   "source": [
    "# [E,m,th,ph] : list of particle properties \n",
    "#m=0 # set m=0 for massless calculation\n",
    "#M=0\n",
    "ppe = [E,m,0,0] # e-\n",
    "ppE = [E,m,sy.pi,sy.pi] # e+\n",
    "ppf = [E,M,theta,0] # f\n",
    "ppF = [E,M,sy.pi-theta,sy.pi] # fbar"
   ]
  },
  {
   "cell_type": "code",
   "execution_count": 7,
   "metadata": {},
   "outputs": [
    {
     "data": {
      "text/plain": [
       "'S: '"
      ]
     },
     "metadata": {},
     "output_type": "display_data"
    },
    {
     "data": {
      "image/png": "[encoded data removed]",
      "text/latex": [
       "$\\displaystyle 4 E^{2}$"
      ],
      "text/plain": [
       "   2\n",
       "4⋅E "
      ]
     },
     "metadata": {},
     "output_type": "display_data"
    },
    {
     "data": {
      "text/plain": [
       "'T: '"
      ]
     },
     "metadata": {},
     "output_type": "display_data"
    },
    {
     "data": {
      "image/png": "[encoded data removed]",
      "text/latex": [
       "$\\displaystyle - 2 E^{2} + M^{2} + m^{2} + 2 \\sqrt{E^{2} - M^{2}} \\sqrt{E^{2} - m^{2}} \\cos{\\left(\\theta \\right)}$"
      ],
      "text/plain": [
       "                        _________    _________       \n",
       "     2    2    2       ╱  2    2    ╱  2    2        \n",
       "- 2⋅E  + M  + m  + 2⋅╲╱  E  - M  ⋅╲╱  E  - m  ⋅cos(θ)"
      ]
     },
     "metadata": {},
     "output_type": "display_data"
    },
    {
     "data": {
      "text/plain": [
       "'U: '"
      ]
     },
     "metadata": {},
     "output_type": "display_data"
    },
    {
     "data": {
      "image/png": "[encoded data removed]",
      "text/latex": [
       "$\\displaystyle - 2 E^{2} + M^{2} + m^{2} - 2 \\sqrt{E^{2} - M^{2}} \\sqrt{E^{2} - m^{2}} \\cos{\\left(\\theta \\right)}$"
      ],
      "text/plain": [
       "                        _________    _________       \n",
       "     2    2    2       ╱  2    2    ╱  2    2        \n",
       "- 2⋅E  + M  + m  - 2⋅╲╱  E  - M  ⋅╲╱  E  - m  ⋅cos(θ)"
      ]
     },
     "metadata": {},
     "output_type": "display_data"
    }
   ],
   "source": [
    "S,T,U = get_mandelstam(ppe,ppE, ppf, ppF)\n",
    "display(\"S: \",S)\n",
    "display(\"T: \",T)\n",
    "display(\"U: \",U)"
   ]
  },
  {
   "cell_type": "code",
   "execution_count": 8,
   "metadata": {},
   "outputs": [
    {
     "data": {
      "text/plain": [
       "'Flux: '"
      ]
     },
     "metadata": {},
     "output_type": "display_data"
    },
    {
     "data": {
      "image/png": "[encoded data removed]",
      "text/latex": [
       "$\\displaystyle 8 E \\sqrt{E^{2} - m^{2}}$"
      ],
      "text/plain": [
       "       _________\n",
       "      ╱  2    2 \n",
       "8⋅E⋅╲╱  E  - m  "
      ]
     },
     "metadata": {},
     "output_type": "display_data"
    },
    {
     "data": {
      "text/plain": [
       "'fac_dsdo: '"
      ]
     },
     "metadata": {},
     "output_type": "display_data"
    },
    {
     "data": {
      "image/png": "[encoded data removed]",
      "text/latex": [
       "$\\displaystyle \\frac{1}{256 \\pi^{2} E^{2}}$"
      ],
      "text/plain": [
       "    1    \n",
       "─────────\n",
       "     2  2\n",
       "256⋅π ⋅E "
      ]
     },
     "metadata": {},
     "output_type": "display_data"
    },
    {
     "data": {
      "text/plain": [
       "'fac_dsdt: '"
      ]
     },
     "metadata": {},
     "output_type": "display_data"
    },
    {
     "data": {
      "image/png": "[encoded data removed]",
      "text/latex": [
       "$\\displaystyle \\frac{1}{256 \\pi E^{2} \\left(E^{2} - m^{2}\\right)}$"
      ],
      "text/plain": [
       "        1         \n",
       "──────────────────\n",
       "       2 ⎛ 2    2⎞\n",
       "256⋅π⋅E ⋅⎝E  - m ⎠"
      ]
     },
     "metadata": {},
     "output_type": "display_data"
    },
    {
     "data": {
      "text/plain": [
       "'Kinetic: '"
      ]
     },
     "metadata": {},
     "output_type": "display_data"
    },
    {
     "data": {
      "image/png": "[encoded data removed]",
      "text/latex": [
       "$\\displaystyle \\frac{\\sqrt{E^{2} - M^{2}}}{\\sqrt{E^{2} - m^{2}}}$"
      ],
      "text/plain": [
       "   _________\n",
       "  ╱  2    2 \n",
       "╲╱  E  - M  \n",
       "────────────\n",
       "   _________\n",
       "  ╱  2    2 \n",
       "╲╱  E  - m  "
      ]
     },
     "metadata": {},
     "output_type": "display_data"
    }
   ],
   "source": [
    "# see appendix A.2 for related formulae in the book\n",
    "# Calculate flux, kinetic and pre-factors for cms system with \n",
    "# In general Flux = 2*S12\n",
    "# S12 = sy.sqrt((s-(m1+m2)**2) *  (s-(m1-m2)**2))\n",
    "Sij = lambda s,mi,mj: sy.sqrt((s-(mi+mj)**2) *  (s-(mi-mj)**2))\n",
    "S12 = Sij(4*E*E, m, m)\n",
    "Flux = 2*S12\n",
    "Flux = sy.simplify(Flux)\n",
    "display(\"Flux: \",Flux)\n",
    "\n",
    "# permutation factor for equal final state\n",
    "Permutation = 1\n",
    "\n",
    "# prefactor for dsigma/dOmega in cms: fac_dsdo = 1(64 * pi**2 * s)\n",
    "fac_dsdo = Permutation/(64 * sy.pi**2 * 4*E*E ); \n",
    "display(\"fac_dsdo: \",fac_dsdo)\n",
    "\n",
    "# prefactor for dsigma/dt: fac_dsdt = 16 * pi * S12**2\n",
    "fac_dsdt = sy.simplify(Permutation/(16 * sy.pi * S12**2 ))\n",
    "display(\"fac_dsdt: \",fac_dsdt)\n",
    "\n",
    "# Calculate kinetic factor K = p3/p1 for pairproduction\n",
    "# in general K = S34/S12\n",
    "S12 = sy.sqrt((s-(m+m)**2) *  (s-(m-m)**2))\n",
    "S34 = sy.sqrt((s-(M+M)**2) *  (s-(M-M)**2))\n",
    "Kinetic = sy.simplify((S34/S12).subs(s,4*E*E))\n",
    "display(\"Kinetic: \",Kinetic)"
   ]
  },
  {
   "cell_type": "code",
   "execution_count": 9,
   "id": "809a38d3-1f0c-4bb2-882c-bf475c895b73",
   "metadata": {},
   "outputs": [],
   "source": [
    "# some quantities\n",
    "q2 = S # q2=s=4*E**2\n",
    "#qslash = h.dag(q)\n",
    "Qe = -1 # electron charge\n",
    "spin_average = sy.Rational(1,4)\n",
    "fGeV_to_nbarn = 0.38938E6 #convert 1/GeV**2 to nbarn\n",
    "fGeV_to_pbarn = 0.38938E9 #convert 1/GeV**2 to pbarn\n",
    "# substitutions\n",
    "# trigonometric equalities\n",
    "dsubs_th = { sy.sin(theta)**2  :1-sy.cos(theta)**2,\n",
    "             sy.cos(theta/2)**4:(1+sy.cos(theta))**2/4,\n",
    "             sy.sin(theta/2)**4:(1-sy.cos(theta))**2/4,\n",
    "             sy.cos(theta/2)**2:(1+sy.cos(theta))/2,\n",
    "             sy.sin(theta/2)**2:(1-sy.cos(theta))/2}\n",
    "# make dicts for substitutions for muon and b-quark\n",
    "dsubs_mu = {alpha:1/137,Qe:-1,Qf:-1,M:0.105,m:0.511E-3}\n",
    "dsubs_b  = {alpha:1/137,Qe:-1,Qf:-1,M:4.5,m:0.511E-3}"
   ]
  },
  {
   "cell_type": "code",
   "execution_count": 10,
   "id": "1dabe3f0-2e98-4307-94af-ab1df61e7b1a",
   "metadata": {},
   "outputs": [],
   "source": [
    "# matrix element for photon exchange diagram\n",
    "def meg(ppe, ppE, ppf, ppF, he, hE, hf, hF):\n",
    "    # pre-factor with couplings \n",
    "    pre = -Qe*Qf*4*sy.pi*alpha/q2\n",
    "    # helicity spinors \n",
    "    ue = h.u(ppe, he) # incoming electron\n",
    "    vEbar = h.vbar(ppE, hE) # incoming positron\n",
    "    ufbar = h.ubar(ppf, hf)  # outgoing fermion\n",
    "    vF = h.v(ppF, hF) # outgoing anti-fermion\n",
    "    # calculate matrix element and sum over the mu index\n",
    "    # use gamma matrix in sympy.physics.matrices\n",
    "    # True: index mu is down\n",
    "    mat = sy.Matrix([0])\n",
    "    for i in range(4):\n",
    "        # the next line is the center of the program\n",
    "        # specify here the feynman rules for the process\n",
    "        mat = mat + vEbar*sypm.mgamma(i, True)*ue * ufbar*sypm.mgamma(i, False)*vF \n",
    "\n",
    "    return sy.simplify(pre*mat)"
   ]
  },
  {
   "cell_type": "code",
   "execution_count": 11,
   "id": "c8c6fc3f-e3cf-45bf-a112-6000756b474a",
   "metadata": {},
   "outputs": [],
   "source": [
    "# this function calculates the spin averaged matrix element (ME) squared\n",
    "def mel2sum(ppe, ppE, ppf, ppF, showElements=False):\n",
    "    # calculate sum of squared ME\n",
    "    # display ME for helicity combinations, if showElements == True\n",
    "    if showElements: \n",
    "        print(\"e-   e+   f-   f+  Matrix element\")\n",
    "    hels   = (1, -1)\n",
    "    me2sum = sy.Matrix([0])\n",
    "    helicities = list(it.product(hels, repeat=4))   # get list of all helicity combinations\n",
    "    for (he, hE, hf, hF) in helicities:   # equivalent to 4 independet loops over the helicity states\n",
    "        me = sy.Matrix([0])\n",
    "        me += meg(ppe, ppE, ppf, ppF, he, hE, hf, hF)\n",
    "        mes    = me.conjugate() \n",
    "        me2    = sy.simplify(me*mes)   # calculated squared ME\n",
    "        me2sum += me2\n",
    "        \n",
    "        if not showElements: continue\n",
    "        sh = \"{0:>2}   {1:>2}   {2:>2}   {3:>2}  \".format(str(he), str(hE), str(hf), str(hF))\n",
    "        sme = me.tolist()[0][0]\n",
    "        print(sh,sme)\n",
    "    sme2sum = me2sum.tolist()[0][0]\n",
    "    return sme2sum"
   ]
  },
  {
   "cell_type": "code",
   "execution_count": 12,
   "id": "e76389eb-be14-4ff3-82df-3c612c7b2924",
   "metadata": {},
   "outputs": [
    {
     "name": "stdout",
     "output_type": "stream",
     "text": [
      "e-   e+   f-   f+  Matrix element\n",
      " 1    1    1    1   -4*pi*M*Q_f*alpha*m*cos(theta)/E**2\n",
      " 1    1    1   -1   -4*pi*Q_f*alpha*m*sin(theta)/E\n",
      " 1    1   -1    1   4*pi*Q_f*alpha*m*sin(theta)/E\n",
      " 1    1   -1   -1   -4*pi*M*Q_f*alpha*m*cos(theta)/E**2\n",
      " 1   -1    1    1   4*pi*M*Q_f*alpha*sin(theta)/E\n",
      " 1   -1    1   -1   -8*pi*Q_f*alpha*cos(theta/2)**2\n",
      " 1   -1   -1    1   -8*pi*Q_f*alpha*sin(theta/2)**2\n",
      " 1   -1   -1   -1   4*pi*M*Q_f*alpha*sin(theta)/E\n",
      "-1    1    1    1   -4*pi*M*Q_f*alpha*sin(theta)/E\n",
      "-1    1    1   -1   -8*pi*Q_f*alpha*sin(theta/2)**2\n",
      "-1    1   -1    1   -8*pi*Q_f*alpha*cos(theta/2)**2\n",
      "-1    1   -1   -1   -4*pi*M*Q_f*alpha*sin(theta)/E\n",
      "-1   -1    1    1   -4*pi*M*Q_f*alpha*m*cos(theta)/E**2\n",
      "-1   -1    1   -1   -4*pi*Q_f*alpha*m*sin(theta)/E\n",
      "-1   -1   -1    1   4*pi*Q_f*alpha*m*sin(theta)/E\n",
      "-1   -1   -1   -1   -4*pi*M*Q_f*alpha*m*cos(theta)/E**2\n"
     ]
    },
    {
     "data": {
      "text/plain": [
       "'Spin averaged Tfi squared (mel2av2G): '"
      ]
     },
     "metadata": {},
     "output_type": "display_data"
    },
    {
     "data": {
      "image/png": "[encoded data removed]",
      "text/latex": [
       "$\\displaystyle \\frac{16 \\pi^{2} Q_{f}^{2} \\alpha^{2} \\left(E^{4} \\left(\\cos^{2}{\\left(\\theta \\right)} + 1\\right) + E^{2} \\left(M^{2} + m^{2}\\right) \\sin^{2}{\\left(\\theta \\right)} + M^{2} m^{2} \\cos^{2}{\\left(\\theta \\right)}\\right)}{E^{4}}$"
      ],
      "text/plain": [
       "    2    2  2 ⎛ 4 ⎛   2       ⎞    2 ⎛ 2    2⎞    2       2  2    2   ⎞\n",
       "16⋅π ⋅Q_f ⋅α ⋅⎝E ⋅⎝cos (θ) + 1⎠ + E ⋅⎝M  + m ⎠⋅sin (θ) + M ⋅m ⋅cos (θ)⎠\n",
       "───────────────────────────────────────────────────────────────────────\n",
       "                                    4                                  \n",
       "                                   E                                   "
      ]
     },
     "metadata": {},
     "output_type": "display_data"
    }
   ],
   "source": [
    "# Calculate spin averaged matrix element \n",
    "smel2sum =  mel2sum(ppe, ppE, ppf, ppF, showElements=True)\n",
    "mel2av = (spin_average*smel2sum)\n",
    "mel2avG = sy.simplify(mel2av)\n",
    "mel2av2G = sy.simplify(mel2avG.subs(dsubs_th).expand())\n",
    "display(\"Spin averaged Tfi squared (mel2av2G): \", mel2av2G)"
   ]
  },
  {
   "cell_type": "markdown",
   "metadata": {},
   "source": [
    "#### Calculate $d\\sigma/d\\Omega$"
   ]
  },
  {
   "cell_type": "code",
   "execution_count": 13,
   "metadata": {},
   "outputs": [
    {
     "data": {
      "image/png": "[encoded data removed]",
      "text/latex": [
       "$\\displaystyle \\frac{Q_{f}^{2} \\alpha^{2} \\sqrt{E^{2} - M^{2}} \\left(E^{4} \\left(\\cos^{2}{\\left(\\theta \\right)} + 1\\right) + E^{2} \\left(M^{2} + m^{2}\\right) \\sin^{2}{\\left(\\theta \\right)} + M^{2} m^{2} \\cos^{2}{\\left(\\theta \\right)}\\right)}{16 E^{6} \\sqrt{E^{2} - m^{2}}}$"
      ],
      "text/plain": [
       "           _________                                                          \n",
       "   2  2   ╱  2    2  ⎛ 4 ⎛   2       ⎞    2 ⎛ 2    2⎞    2       2  2    2   ⎞\n",
       "Q_f ⋅α ⋅╲╱  E  - M  ⋅⎝E ⋅⎝cos (θ) + 1⎠ + E ⋅⎝M  + m ⎠⋅sin (θ) + M ⋅m ⋅cos (θ)⎠\n",
       "──────────────────────────────────────────────────────────────────────────────\n",
       "                                       _________                              \n",
       "                                  6   ╱  2    2                               \n",
       "                              16⋅E ⋅╲╱  E  - m                                "
      ]
     },
     "execution_count": 13,
     "metadata": {},
     "output_type": "execute_result"
    }
   ],
   "source": [
    "# calculate ds/dOmega in polar form\n",
    "dsdoG = sy.simplify(fac_dsdo * Kinetic * mel2av2G)\n",
    "dsdoG"
   ]
  },
  {
   "cell_type": "code",
   "execution_count": 14,
   "metadata": {},
   "outputs": [
    {
     "data": {
      "text/plain": [
       "'stotG: '"
      ]
     },
     "metadata": {},
     "output_type": "display_data"
    },
    {
     "data": {
      "image/png": "[encoded data removed]",
      "text/latex": [
       "$\\displaystyle \\frac{\\pi Q_{f}^{2} \\alpha^{2} \\sqrt{E^{2} - M^{2}} \\cdot \\left(4 E^{4} + 2 E^{2} M^{2} + 2 E^{2} m^{2} + M^{2} m^{2}\\right)}{12 E^{6} \\sqrt{E^{2} - m^{2}}}$"
      ],
      "text/plain": [
       "             _________                                   \n",
       "     2  2   ╱  2    2  ⎛   4      2  2      2  2    2  2⎞\n",
       "π⋅Q_f ⋅α ⋅╲╱  E  - M  ⋅⎝4⋅E  + 2⋅E ⋅M  + 2⋅E ⋅m  + M ⋅m ⎠\n",
       "─────────────────────────────────────────────────────────\n",
       "                             _________                   \n",
       "                        6   ╱  2    2                    \n",
       "                    12⋅E ⋅╲╱  E  - m                     "
      ]
     },
     "metadata": {},
     "output_type": "display_data"
    }
   ],
   "source": [
    "# calculate total cross section\n",
    "stotG = sy.integrate(dsdoG * sy.sin(theta), (phi,0,2*sy.pi), (theta,0,sy.pi))\n",
    "stotG = sy.simplify(stotG)\n",
    "display(\"stotG: \",stotG)"
   ]
  },
  {
   "cell_type": "code",
   "execution_count": 15,
   "metadata": {},
   "outputs": [
    {
     "data": {
      "image/png": "[encoded data removed]",
      "text/latex": [
       "$\\displaystyle 869.002625609452$"
      ],
      "text/plain": [
       "869.002625609452"
      ]
     },
     "execution_count": 15,
     "metadata": {},
     "output_type": "execute_result"
    }
   ],
   "source": [
    "# Calculate numeric value for cross section at sqrts=10 GeV, E=5 GeV\n",
    "# convert to nbarn\n",
    "# result should be around 870 pb\n",
    "(stotG.subs(dsubs_mu).subs(E,5) * fGeV_to_pbarn).evalf()"
   ]
  },
  {
   "cell_type": "markdown",
   "metadata": {},
   "source": [
    "### Calculate $d\\sigma/dt$"
   ]
  },
  {
   "cell_type": "code",
   "execution_count": 16,
   "id": "2d65d015-0860-4a0d-8427-27f2eaba0e13",
   "metadata": {},
   "outputs": [
    {
     "data": {
      "text/plain": [
       "'mel2av2G_ct: '"
      ]
     },
     "metadata": {},
     "output_type": "display_data"
    },
    {
     "data": {
      "image/png": "[encoded data removed]",
      "text/latex": [
       "$\\displaystyle \\frac{16 \\pi^{2} Q_{f}^{2} \\alpha^{2} \\left(E^{4} \\left(c_{\\theta}^{2} + 1\\right) - E^{2} \\left(M^{2} + m^{2}\\right) \\left(c_{\\theta}^{2} - 1\\right) + M^{2} c_{\\theta}^{2} m^{2}\\right)}{E^{4}}$"
      ],
      "text/plain": [
       "    2    2  2 ⎛ 4 ⎛      2    ⎞    2 ⎛ 2    2⎞ ⎛      2    ⎞    2       2  2⎞\n",
       "16⋅π ⋅Q_f ⋅α ⋅⎝E ⋅⎝cₜₕₑₜₐ  + 1⎠ - E ⋅⎝M  + m ⎠⋅⎝cₜₕₑₜₐ  - 1⎠ + M ⋅cₜₕₑₜₐ ⋅m ⎠\n",
       "─────────────────────────────────────────────────────────────────────────────\n",
       "                                       4                                     \n",
       "                                      E                                      "
      ]
     },
     "metadata": {},
     "output_type": "display_data"
    },
    {
     "data": {
      "text/plain": [
       "'subs_ct: '"
      ]
     },
     "metadata": {},
     "output_type": "display_data"
    },
    {
     "data": {
      "image/png": "[encoded data removed]",
      "text/latex": [
       "$\\displaystyle \\frac{- 2 M^{2} - 2 m^{2} + s + 2 t}{\\sqrt{- 4 M^{2} + s} \\sqrt{- 4 m^{2} + s}}$"
      ],
      "text/plain": [
       "         2      2              \n",
       "    - 2⋅M  - 2⋅m  + s + 2⋅t    \n",
       "───────────────────────────────\n",
       "   ____________    ____________\n",
       "  ╱      2        ╱      2     \n",
       "╲╱  - 4⋅M  + s ⋅╲╱  - 4⋅m  + s "
      ]
     },
     "metadata": {},
     "output_type": "display_data"
    },
    {
     "data": {
      "text/plain": [
       "'mel2av2G_st: '"
      ]
     },
     "metadata": {},
     "output_type": "display_data"
    },
    {
     "data": {
      "image/png": "[encoded data removed]",
      "text/latex": [
       "$\\displaystyle \\frac{32 \\pi^{2} Q_{f}^{2} \\alpha^{2} \\cdot \\left(2 M^{4} + 4 M^{2} m^{2} - 4 M^{2} t + 2 m^{4} - 4 m^{2} t + s^{2} + 2 s t + 2 t^{2}\\right)}{s^{2}}$"
      ],
      "text/plain": [
       "    2    2  2 ⎛   4      2  2      2        4      2      2              2⎞\n",
       "32⋅π ⋅Q_f ⋅α ⋅⎝2⋅M  + 4⋅M ⋅m  - 4⋅M ⋅t + 2⋅m  - 4⋅m ⋅t + s  + 2⋅s⋅t + 2⋅t ⎠\n",
       "───────────────────────────────────────────────────────────────────────────\n",
       "                                      2                                    \n",
       "                                     s                                     "
      ]
     },
     "metadata": {},
     "output_type": "display_data"
    },
    {
     "name": "stdout",
     "output_type": "stream",
     "text": [
      "1/(64*pi*s*(-m**2 + s/4))\n"
     ]
    },
    {
     "data": {
      "text/plain": [
       "'dsdtG: '"
      ]
     },
     "metadata": {},
     "output_type": "display_data"
    },
    {
     "data": {
      "image/png": "[encoded data removed]",
      "text/latex": [
       "$\\displaystyle \\frac{\\pi Q_{f}^{2} \\alpha^{2} \\cdot \\left(2 M^{4} + 4 M^{2} m^{2} - 4 M^{2} t + 2 m^{4} - 4 m^{2} t + s^{2} + 2 s t + 2 t^{2}\\right)}{2 s^{3} \\left(- m^{2} + \\frac{s}{4}\\right)}$"
      ],
      "text/plain": [
       "     2  2 ⎛   4      2  2      2        4      2      2              2⎞\n",
       "π⋅Q_f ⋅α ⋅⎝2⋅M  + 4⋅M ⋅m  - 4⋅M ⋅t + 2⋅m  - 4⋅m ⋅t + s  + 2⋅s⋅t + 2⋅t ⎠\n",
       "───────────────────────────────────────────────────────────────────────\n",
       "                               3 ⎛   2   s⎞                            \n",
       "                            2⋅s ⋅⎜- m  + ─⎟                            \n",
       "                                 ⎝       4⎠                            "
      ]
     },
     "metadata": {},
     "output_type": "display_data"
    }
   ],
   "source": [
    "# Calculate dsigma/dt\n",
    "\n",
    "# convert to sct=cos(theta) terms \n",
    "mel2av2G_ct = to_cos(mel2av2G,theta, sct, True)\n",
    "display(\"mel2av2G_ct: \",mel2av2G_ct)\n",
    "\n",
    "# get substitution for sct ->T\n",
    "rst, sdtdct, subs_ct = tmandel(s,t,sct,m,m,M,M)\n",
    "display(\"subs_ct: \",subs_ct)\n",
    "\n",
    "# replace expression with s, t\n",
    "mel2av2G_st = sy.simplify(mel2av2G_ct.subs(sct, subs_ct).subs(E**2,s/4))\n",
    "display(\"mel2av2G_st: \",mel2av2G_st)\n",
    "\n",
    "# calculate dsig/dt\n",
    "print(fac_dsdt.subs(E**2,s/4))\n",
    "dsdtG = fac_dsdt.subs(E**2,s/4) * mel2av2G_st\n",
    "display(\"dsdtG: \",dsdtG)"
   ]
  },
  {
   "cell_type": "code",
   "execution_count": 17,
   "metadata": {},
   "outputs": [],
   "source": [
    "# calculate total cross section\n",
    "# calculate limits in t (s. PDG2022, chap 49 Kinematics, eq. 49.35)\n",
    "# since t is negative the lower limit is t1 and the upper limit t0\n",
    "def ftlimit(s,m1,m2,m3,m4):\n",
    "    E1cm = (s + m1**2 - m2**2) /2 /sy.sqrt(s)\n",
    "    E2cm = (s + m2**2 - m1**2) /2 /sy.sqrt(s)\n",
    "    E3cm = (s + m3**2 - m4**2) /2 /sy.sqrt(s)\n",
    "    E4cm = (s + m4**2 - m3**2) /2 /sy.sqrt(s)\n",
    "    p1cm = sy.sqrt(E1cm**2 - m1**2) \n",
    "    p3cm = sy.sqrt(E3cm**2 - m3**2) \n",
    "    #print(\"E1cm: \",E1cm)\n",
    "    #print(\"E3cm: \",E3cm)\n",
    "    #print(\"p1cm: \",p1cm)\n",
    "    #print(\"p3cm: \",p3cm)    \n",
    "    t0 = (m1**2 -m3**2 - m2**2 + m4**2)**2 /4 /s  - (p1cm - p3cm)**2\n",
    "    t1 = (m1**2 -m3**2 - m2**2 + m4**2)**2 /4 /s  - (p1cm + p3cm)**2 \n",
    "    return sy.simplify(t0), sy.simplify(t1)"
   ]
  },
  {
   "cell_type": "code",
   "execution_count": 18,
   "metadata": {},
   "outputs": [
    {
     "data": {
      "text/plain": [
       "'Lower limit in t: '"
      ]
     },
     "metadata": {},
     "output_type": "display_data"
    },
    {
     "data": {
      "image/png": "[encoded data removed]",
      "text/latex": [
       "$\\displaystyle - \\frac{\\left(\\sqrt{- 4 M^{2} + s} + \\sqrt{- 4 m^{2} + s}\\right)^{2}}{4}$"
      ],
      "text/plain": [
       "                                    2 \n",
       " ⎛   ____________      ____________⎞  \n",
       " ⎜  ╱      2          ╱      2     ⎟  \n",
       "-⎝╲╱  - 4⋅M  + s  + ╲╱  - 4⋅m  + s ⎠  \n",
       "──────────────────────────────────────\n",
       "                  4                   "
      ]
     },
     "metadata": {},
     "output_type": "display_data"
    },
    {
     "data": {
      "text/plain": [
       "'Upper limit in t: '"
      ]
     },
     "metadata": {},
     "output_type": "display_data"
    },
    {
     "data": {
      "image/png": "[encoded data removed]",
      "text/latex": [
       "$\\displaystyle - \\frac{\\left(\\sqrt{- 4 M^{2} + s} - \\sqrt{- 4 m^{2} + s}\\right)^{2}}{4}$"
      ],
      "text/plain": [
       "                                    2 \n",
       " ⎛   ____________      ____________⎞  \n",
       " ⎜  ╱      2          ╱      2     ⎟  \n",
       "-⎝╲╱  - 4⋅M  + s  - ╲╱  - 4⋅m  + s ⎠  \n",
       "──────────────────────────────────────\n",
       "                  4                   "
      ]
     },
     "metadata": {},
     "output_type": "display_data"
    },
    {
     "data": {
      "text/plain": [
       "'stotG_st: '"
      ]
     },
     "metadata": {},
     "output_type": "display_data"
    },
    {
     "data": {
      "image/png": "[encoded data removed]",
      "text/latex": [
       "$\\displaystyle \\frac{4 \\pi Q_{f}^{2} \\alpha^{2} \\sqrt{- 4 M^{2} + s} \\left(4 M^{2} m^{2} + 2 M^{2} s + 2 m^{2} s + s^{2}\\right)}{3 s^{3} \\sqrt{- 4 m^{2} + s}}$"
      ],
      "text/plain": [
       "               ____________                                 \n",
       "       2  2   ╱      2      ⎛   2  2      2        2      2⎞\n",
       "4⋅π⋅Q_f ⋅α ⋅╲╱  - 4⋅M  + s ⋅⎝4⋅M ⋅m  + 2⋅M ⋅s + 2⋅m ⋅s + s ⎠\n",
       "────────────────────────────────────────────────────────────\n",
       "                            ____________                    \n",
       "                       3   ╱      2                         \n",
       "                    3⋅s ⋅╲╱  - 4⋅m  + s                     "
      ]
     },
     "metadata": {},
     "output_type": "display_data"
    }
   ],
   "source": [
    "# Calculate stot\n",
    "\n",
    "# get limits in t\n",
    "t0,t1 = ftlimit(s,m,m,M,M)\n",
    "display(\"Lower limit in t: \", t1)\n",
    "display(\"Upper limit in t: \", t0)\n",
    "\n",
    "# Calculate stot\n",
    "stotG_st = sy.integrate(dsdtG, (t,t1,t0))\n",
    "stotG_st = sy.simplify(stotG_st)\n",
    "display(\"stotG_st: \",stotG_st)"
   ]
  },
  {
   "cell_type": "code",
   "execution_count": 19,
   "id": "476f90df-ba4b-4138-85d8-9f94d66c2f4c",
   "metadata": {},
   "outputs": [
    {
     "data": {
      "text/plain": [
       "'stotG_st_num: '"
      ]
     },
     "metadata": {},
     "output_type": "display_data"
    },
    {
     "data": {
      "image/png": "[encoded data removed]",
      "text/latex": [
       "$\\displaystyle 869.002625609452$"
      ],
      "text/plain": [
       "869.002625609452"
      ]
     },
     "metadata": {},
     "output_type": "display_data"
    }
   ],
   "source": [
    "# Calculate numeric value for stotG_st at sqrt(s) = 10 GeV\n",
    "# sd/dt includes integration over phi \n",
    "# result should be 869 pb\n",
    "stotG_st_num = (stotG_st.subs(dsubs_mu).subs(s,100) * fGeV_to_pbarn).evalf()\n",
    "display(\"stotG_st_num: \",stotG_st_num)"
   ]
  },
  {
   "cell_type": "markdown",
   "metadata": {},
   "source": [
    "### Plots"
   ]
  },
  {
   "cell_type": "markdown",
   "metadata": {},
   "source": [
    "#### Plot $\\frac{d\\sigma}{d\\cos\\theta}$  for $f=\\mu$"
   ]
  },
  {
   "cell_type": "code",
   "execution_count": 20,
   "metadata": {},
   "outputs": [
    {
     "data": {
      "image/png": "[encoded data removed]",
      "text/plain": [
       "<Figure size 640x480 with 1 Axes>"
      ]
     },
     "metadata": {},
     "output_type": "display_data"
    }
   ],
   "source": [
    "# get plotable stot for e- e+ --> mu- mu+\n",
    "Ebeam = 0.5 # GeV\n",
    "fdsdoG = 2*sy.pi*fGeV_to_nbarn * dsdoG.subs(dsubs_mu).subs(E,Ebeam).evalf()\n",
    "dsdo_sct = utsm.to_cos(fdsdoG, theta, sct, True)\n",
    "pG=sy.plot(dsdo_sct, (sct, -1, 1), \n",
    "                    title=r\"$d\\sigma/d\\cos\\theta~(e^- e^+ \\rightarrow \\gamma \\rightarrow \\mu^- \\mu^+)$\",\n",
    "                    #yscale=\"linear\",\n",
    "                    #xscale='linear',\n",
    "                    #ymin = 0,\n",
    "                    #ymax = 200,\n",
    "                    xlim=[-1,1],  # limit range of x-axis in the plot\n",
    "                    ylim=[0,80], # limit range of y-axis in the plot\n",
    "                    axis_center=(-1,0),\n",
    "                    #autoscale = True,\n",
    "                    #size=(10,10),\n",
    "                    ylabel=r\"$d\\sigma/d\\cos\\theta$ (nb)\",\n",
    "                    xlabel=r\"$\\cos \\theta} $\")"
   ]
  },
  {
   "cell_type": "markdown",
   "metadata": {},
   "source": [
    "#### Plot $\\sigma_{tot}$  for $f=\\mu$"
   ]
  },
  {
   "cell_type": "code",
   "execution_count": 21,
   "metadata": {},
   "outputs": [
    {
     "name": "stdout",
     "output_type": "stream",
     "text": [
      "0.869002625609452 pb at E=5 GeV\n"
     ]
    },
    {
     "data": {
      "image/png": "[encoded data removed]",
      "text/plain": [
       "<Figure size 640x480 with 1 Axes>"
      ]
     },
     "metadata": {},
     "output_type": "display_data"
    },
    {
     "data": {
      "text/plain": [
       "<sympy.plotting.plot.Plot at 0x127da26d0>"
      ]
     },
     "execution_count": 21,
     "metadata": {},
     "output_type": "execute_result"
    }
   ],
   "source": [
    "# get plotable stot for e- e+ --> mu- mu+\n",
    "fstotG = fGeV_to_nbarn*stotG.subs(dsubs_mu).evalf()\n",
    "print(fstotG.subs(E,5),\"pb at E=5 GeV\")\n",
    "\n",
    "sy.plotting.plot(fstotG.subs(E,sqrts/2), (sqrts, 5, 50),\n",
    "                autoscale=True,\n",
    "                axis_center=(0,0),\n",
    "                xlim = (0,50),\n",
    "                line_color=\"red\",\n",
    "                title=r\"$\\sigma_{tot}~(e^- e^+ \\rightarrow \\gamma \\rightarrow \\mu^- \\mu^+)$\",\n",
    "                yscale=r\"linear\",\n",
    "                ylabel=r\"$\\sigma_{tot}$ (nbarn)\",\n",
    "                xlabel=r\"$\\sqrt{s}$ (GeV)\")"
   ]
  },
  {
   "cell_type": "code",
   "execution_count": 22,
   "metadata": {},
   "outputs": [
    {
     "data": {
      "image/png": "[encoded data removed]",
      "text/plain": [
       "<Figure size 640x480 with 1 Axes>"
      ]
     },
     "metadata": {},
     "output_type": "display_data"
    },
    {
     "data": {
      "text/plain": [
       "<sympy.plotting.plot.Plot at 0x127e8b9a0>"
      ]
     },
     "execution_count": 22,
     "metadata": {},
     "output_type": "execute_result"
    }
   ],
   "source": [
    "# log plot\n",
    "sy.plotting.plot(fstotG.subs(E,sqrts/2), (sqrts, 1, 50),\n",
    "                autoscale=True,\n",
    "                axis_center=(0,1e-2),\n",
    "                xlim = (0,50),\n",
    "                ylim = (1e-2,10),\n",
    "                line_color=\"red\",\n",
    "                title=r\"$\\sigma_{tot}~(e^- e^+ \\rightarrow \\gamma \\rightarrow \\mu^- \\mu^+)$\",\n",
    "                yscale=r\"log\",\n",
    "                ylabel=r\"$\\sigma_{tot}$ (nbarn)\",\n",
    "                xlabel=r\"$\\sqrt{s}$ (GeV)\")"
   ]
  },
  {
   "cell_type": "markdown",
   "metadata": {},
   "source": [
    "# Compare with formula in the book "
   ]
  },
  {
   "cell_type": "markdown",
   "metadata": {},
   "source": [
    "### Compare with book\n"
   ]
  },
  {
   "cell_type": "code",
   "execution_count": 23,
   "id": "113f77a5-e9d8-49c5-b6a1-0477cadb9fc0",
   "metadata": {},
   "outputs": [
    {
     "data": {
      "text/plain": [
       "'dsdt_book: '"
      ]
     },
     "metadata": {},
     "output_type": "display_data"
    },
    {
     "data": {
      "image/png": "[encoded data removed]",
      "text/latex": [
       "$\\displaystyle - \\frac{2 \\pi \\alpha^{2} \\left(s^{2} + 2 s t + 2 \\left(M^{2} + m^{2} - t\\right)^{2}\\right)}{s^{3} \\cdot \\left(4 m^{2} - s\\right)}$"
      ],
      "text/plain": [
       "        ⎛                            2⎞ \n",
       "      2 ⎜ 2             ⎛ 2    2    ⎞ ⎟ \n",
       "-2⋅π⋅α ⋅⎝s  + 2⋅s⋅t + 2⋅⎝M  + m  - t⎠ ⎠ \n",
       "────────────────────────────────────────\n",
       "              3 ⎛   2    ⎞              \n",
       "             s ⋅⎝4⋅m  - s⎠              "
      ]
     },
     "metadata": {},
     "output_type": "display_data"
    },
    {
     "data": {
      "text/plain": [
       "'dsdtG: '"
      ]
     },
     "metadata": {},
     "output_type": "display_data"
    },
    {
     "data": {
      "image/png": "[encoded data removed]",
      "text/latex": [
       "$\\displaystyle \\frac{\\pi Q_{f}^{2} \\alpha^{2} \\cdot \\left(2 M^{4} + 4 M^{2} m^{2} - 4 M^{2} t + 2 m^{4} - 4 m^{2} t + s^{2} + 2 s t + 2 t^{2}\\right)}{2 s^{3} \\left(- m^{2} + \\frac{s}{4}\\right)}$"
      ],
      "text/plain": [
       "     2  2 ⎛   4      2  2      2        4      2      2              2⎞\n",
       "π⋅Q_f ⋅α ⋅⎝2⋅M  + 4⋅M ⋅m  - 4⋅M ⋅t + 2⋅m  - 4⋅m ⋅t + s  + 2⋅s⋅t + 2⋅t ⎠\n",
       "───────────────────────────────────────────────────────────────────────\n",
       "                               3 ⎛   2   s⎞                            \n",
       "                            2⋅s ⋅⎜- m  + ─⎟                            \n",
       "                                 ⎝       4⎠                            "
      ]
     },
     "metadata": {},
     "output_type": "display_data"
    },
    {
     "data": {
      "text/plain": [
       "'check equality: '"
      ]
     },
     "metadata": {},
     "output_type": "display_data"
    },
    {
     "data": {
      "image/png": "[encoded data removed]",
      "text/latex": [
       "$\\displaystyle 0$"
      ],
      "text/plain": [
       "0"
      ]
     },
     "execution_count": 23,
     "metadata": {},
     "output_type": "execute_result"
    }
   ],
   "source": [
    "# replace expression with s, t\n",
    "# 1) dsdt from the book, e.q. 3.71\n",
    "t0 = t-m**2-M**2\n",
    "A = 1 + 2*t0**2/s**2 + 2*t/s\n",
    "dsdt_book = sy.simplify(2*sy.pi*alpha**2 * A / s**2 / (1-4*m**2/s))\n",
    "display(\"dsdt_book: \",dsdt_book)\n",
    "\n",
    "# 2) this calculation \n",
    "display(\"dsdtG: \",dsdtG)\n",
    "\n",
    "display(\"check equality: \")\n",
    "sy.simplify((dsdt_book-dsdtG).subs(Qf,-1).expand())\n"
   ]
  },
  {
   "cell_type": "code",
   "execution_count": 28,
   "metadata": {},
   "outputs": [
    {
     "data": {
      "text/plain": [
       "'msumnew: '"
      ]
     },
     "metadata": {},
     "output_type": "display_data"
    },
    {
     "data": {
      "image/png": "[encoded data removed]",
      "text/latex": [
       "$\\displaystyle - \\frac{2 \\left(M^{2} + m^{2}\\right)^{2}}{s^{2}} + \\frac{\\left(- 2 M^{2} - 2 m^{2} + t\\right)^{2} + \\left(- 2 M^{2} - 2 m^{2} + u\\right)^{2}}{s^{2}}$"
      ],
      "text/plain": [
       "             2                      2                      2\n",
       "    ⎛ 2    2⎞    ⎛     2      2    ⎞    ⎛     2      2    ⎞ \n",
       "  2⋅⎝M  + m ⎠    ⎝- 2⋅M  - 2⋅m  + t⎠  + ⎝- 2⋅M  - 2⋅m  + u⎠ \n",
       "- ──────────── + ───────────────────────────────────────────\n",
       "        2                              2                    \n",
       "       s                              s                     "
      ]
     },
     "metadata": {},
     "output_type": "display_data"
    },
    {
     "data": {
      "text/plain": [
       "'dsdt_new: '"
      ]
     },
     "metadata": {},
     "output_type": "display_data"
    },
    {
     "data": {
      "image/png": "[encoded data removed]",
      "text/latex": [
       "$\\displaystyle \\frac{2 \\pi \\alpha^{2} \\cdot \\left(2 M^{4} + 4 M^{2} m^{2} - 4 M^{2} t + 2 m^{4} - 4 m^{2} t + s^{2} + 2 s t + 2 t^{2}\\right)}{s^{3} \\left(- 4 m^{2} + s\\right)}$"
      ],
      "text/plain": [
       "     2 ⎛   4      2  2      2        4      2      2              2⎞\n",
       "2⋅π⋅α ⋅⎝2⋅M  + 4⋅M ⋅m  - 4⋅M ⋅t + 2⋅m  - 4⋅m ⋅t + s  + 2⋅s⋅t + 2⋅t ⎠\n",
       "────────────────────────────────────────────────────────────────────\n",
       "                           3 ⎛     2    ⎞                           \n",
       "                          s ⋅⎝- 4⋅m  + s⎠                           "
      ]
     },
     "metadata": {},
     "output_type": "display_data"
    },
    {
     "data": {
      "text/plain": [
       "'check equality: dsdt_book - dsdt_new'"
      ]
     },
     "metadata": {},
     "output_type": "display_data"
    },
    {
     "data": {
      "image/png": "[encoded data removed]",
      "text/latex": [
       "$\\displaystyle 0$"
      ],
      "text/plain": [
       "0"
      ]
     },
     "metadata": {},
     "output_type": "display_data"
    }
   ],
   "source": [
    "# alternative representation\n",
    "# 3) new replacement for spin averaged M squared: 2*e^4*(t1**2 + u1**2)/s**2  - 2*(M**2+m**2)**2/s**2\n",
    "t1 = t-2*m**2-2*M**2\n",
    "u1 = u-2*m**2-2*M**2\n",
    "msumnew = ((t1**2+u1**2)/s**2 - 2*(M**2+m**2)**2/s**2)\n",
    "display(\"msumnew: \",msumnew)\n",
    "msumnew_st = (msumnew.subs(u,-s-t+2*m**2+2*M**2)).expand()\n",
    "dsdt_new = sy.simplify(2*sy.pi*alpha**2 * msumnew_st / s**2 / (1-4*m**2/s))\n",
    "display(\"dsdt_new: \",dsdt_new)\n",
    "\n",
    "# \n",
    "r2 = sy.simplify((dsdt_book-dsdt_new).expand())\n",
    "display(\"check equality: dsdt_book - dsdt_new\",r2)"
   ]
  },
  {
   "cell_type": "markdown",
   "metadata": {},
   "source": [
    "# Conclusion\n",
    "\n",
    "There are several ways to write the spin averaged matrix element for $e^- e^+ \\rightarrow \\mu^- \\mu^+$\n",
    "\n",
    "1. Formula in the book\n",
    "\n",
    "$$\\overline{\\sum}\\vert T_{fi}\\vert^2 = 2e^4 ~\\frac{2t_0^2+s^2+2ts}{s^2} $$\n",
    "with $t_0 -m^2-M^2\n",
    "\n",
    "2. Alternative (similar to massless formula)\n",
    "$$\\overline{\\sum}\\vert T_{fi}\\vert^2 = 2e^4 ~\\frac{t_1^2+u_1^2-2(m^2+M^2)^2}{s^2}$$\n",
    "with $t_1 = t - 2(m^2+M^2)$ and $u_1 = u - 2(m^2+M^2)$"
   ]
  },
  {
   "cell_type": "markdown",
   "metadata": {},
   "source": []
  }
 ],
 "metadata": {
  "kernelspec": {
   "display_name": "Python 3 (ipykernel)",
   "language": "python",
   "name": "python3"
  },
  "language_info": {
   "codemirror_mode": {
    "name": "ipython",
    "version": 3
   },
   "file_extension": ".py",
   "mimetype": "text/x-python",
   "name": "python",
   "nbconvert_exporter": "python",
   "pygments_lexer": "ipython3",
   "version": "3.9.16"
  }
 },
 "nbformat": 4,
 "nbformat_minor": 5
}
