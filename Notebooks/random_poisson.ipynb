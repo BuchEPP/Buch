{
 "cells": [
  {
   "cell_type": "markdown",
   "id": "545b87bb-f5f8-4700-b4ac-ff52cb919a42",
   "metadata": {
    "tags": []
   },
   "source": [
    "#  Generate random numbers according to Poisson distribution\n",
    "\n",
    "see exercise 1.33\n",
    "\n"
   ]
  },
  {
   "cell_type": "code",
   "execution_count": 1,
   "id": "dfe1492f-6d6d-49a8-a411-de409eb1c9a9",
   "metadata": {
    "tags": []
   },
   "outputs": [],
   "source": [
    "import math\n",
    "import numpy as np\n",
    "import matplotlib.pyplot as plt"
   ]
  },
  {
   "cell_type": "markdown",
   "id": "b81affeb-b211-407e-b18f-2c207362bac8",
   "metadata": {},
   "source": [
    "## Make your own Poisson generator"
   ]
  },
  {
   "cell_type": "code",
   "execution_count": 2,
   "id": "3c3d67df-37e9-4b69-9fa0-b8c948d14952",
   "metadata": {
    "tags": []
   },
   "outputs": [],
   "source": [
    "# Poisson density function\n",
    "def pois(k,lam):\n",
    "    return lam**k * math.exp(-lam) / math.factorial(k)"
   ]
  },
  {
   "cell_type": "code",
   "execution_count": 3,
   "id": "6bf9ab6d-d116-44ae-95a0-5e5f41c5dc74",
   "metadata": {
    "tags": []
   },
   "outputs": [
    {
     "data": {
      "text/plain": [
       "0.14037389581428056"
      ]
     },
     "execution_count": 3,
     "metadata": {},
     "output_type": "execute_result"
    }
   ],
   "source": [
    "pois(3,5)"
   ]
  },
  {
   "cell_type": "code",
   "execution_count": 4,
   "id": "53fea848-839b-41be-9e10-ef5db641d2bb",
   "metadata": {
    "tags": []
   },
   "outputs": [],
   "source": [
    "def ran0(seed):\n",
    "    # starting seed \n",
    "    m = 2**31-1\n",
    "    a = 7**5\n",
    "    c=0\n",
    "    while True:\n",
    "        seed = (a * seed + c) % m\n",
    "        yield seed/(m+1.)"
   ]
  },
  {
   "cell_type": "code",
   "execution_count": 5,
   "id": "2321e625-22fb-4ccf-8410-2e60fa2d399c",
   "metadata": {
    "tags": []
   },
   "outputs": [
    {
     "name": "stdout",
     "output_type": "stream",
     "text": [
      "0.09661652846261859\n"
     ]
    }
   ],
   "source": [
    "x = ran0(12345)\n",
    "print(next(x))"
   ]
  },
  {
   "cell_type": "code",
   "execution_count": 6,
   "id": "1f6f8600-83f6-4347-a7ff-5946131d60ef",
   "metadata": {
    "tags": []
   },
   "outputs": [],
   "source": [
    "# Make cumulative distribution apoissum\n",
    "def poiscum(lam, kup, Print=False):\n",
    "    apois = []\n",
    "    apoissum = []\n",
    "    poissum = 0\n",
    "    if Print: print(\"    k   apois     apoissum\")\n",
    "    # choose N about 10 sigma above the lam \n",
    "    for k in range(kup):\n",
    "        p = pois(k,lam)\n",
    "        poissum += p    # sum of all\n",
    "        apois.append(p) # list of poisson values for each k\n",
    "        apoissum.append(poissum) # list of cumulative sum\n",
    "        if Print: print(\"{:>5.0f}   {:>7.5f}   {:>7.5f}\".format(k,p,poissum))\n",
    "    return apoissum"
   ]
  },
  {
   "cell_type": "code",
   "execution_count": 7,
   "id": "9ec104bd-dd42-4d99-ae96-a884ed588855",
   "metadata": {
    "tags": []
   },
   "outputs": [
    {
     "name": "stdout",
     "output_type": "stream",
     "text": [
      "    k   apois     apoissum\n",
      "    0   0.00674   0.00674\n",
      "    1   0.03369   0.04043\n",
      "    2   0.08422   0.12465\n",
      "    3   0.14037   0.26503\n",
      "    4   0.17547   0.44049\n",
      "    5   0.17547   0.61596\n",
      "    6   0.14622   0.76218\n",
      "    7   0.10444   0.86663\n",
      "    8   0.06528   0.93191\n",
      "    9   0.03627   0.96817\n",
      "   10   0.01813   0.98630\n",
      "   11   0.00824   0.99455\n",
      "   12   0.00343   0.99798\n",
      "   13   0.00132   0.99930\n",
      "   14   0.00047   0.99977\n"
     ]
    },
    {
     "data": {
      "text/plain": [
       "[0.006737946999085467,\n",
       " 0.040427681994512805,\n",
       " 0.12465201948308113,\n",
       " 0.2650259152973617,\n",
       " 0.4404932850652124,\n",
       " 0.6159606548330632,\n",
       " 0.7621834629729387,\n",
       " 0.8666283259299927,\n",
       " 0.9319063652781515,\n",
       " 0.9681719426937953,\n",
       " 0.9863047314016171,\n",
       " 0.9945469080869906,\n",
       " 0.997981148372563,\n",
       " 0.99930201002086,\n",
       " 0.9997737463238233]"
      ]
     },
     "execution_count": 7,
     "metadata": {},
     "output_type": "execute_result"
    }
   ],
   "source": [
    "poiscum(5,15,True)"
   ]
  },
  {
   "cell_type": "code",
   "execution_count": 8,
   "id": "01dcd46b-33b9-4d69-beb9-d0c4583b0452",
   "metadata": {
    "tags": []
   },
   "outputs": [],
   "source": [
    "def find_interval(arr, x):\n",
    "    \"\"\"\n",
    "    In this routine, we use the binary search algorithm \n",
    "    to efficiently find the interval where the \n",
    "    number x fits in the ordered list.\n",
    "    \"\"\"\n",
    "    low = 0\n",
    "    high = len(arr) - 1\n",
    "    while low <= high:\n",
    "        mid = (low + high) // 2\n",
    "        if arr[mid] == x:\n",
    "            return mid\n",
    "        elif arr[mid] < x:\n",
    "            low = mid + 1\n",
    "        else:\n",
    "            high = mid - 1\n",
    "    return low"
   ]
  },
  {
   "cell_type": "code",
   "execution_count": 9,
   "id": "5326f8ce-72eb-4815-85ac-dc049562b30c",
   "metadata": {
    "tags": []
   },
   "outputs": [
    {
     "name": "stdout",
     "output_type": "stream",
     "text": [
      "3\n",
      "The number 6.2 fits between 5 and 7\n"
     ]
    }
   ],
   "source": [
    "# Example usage:\n",
    "arr = [1, 3, 5, 7, 9, 11, 13]\n",
    "x = 6.2\n",
    "interval = find_interval(arr, x)\n",
    "print(interval)\n",
    "print(f\"The number {x} fits between {arr[interval - 1]} and {arr[interval]}\")"
   ]
  },
  {
   "cell_type": "code",
   "execution_count": 10,
   "id": "95f61949-823e-447d-8777-d613884e247d",
   "metadata": {
    "tags": []
   },
   "outputs": [],
   "source": [
    "# generate N Poisson random numbers for a given lambda parameter\n",
    "# kup is the upper limit of k-values\n",
    "def poisrand(lam, kup, N, seed):\n",
    "    x = ran0(seed)\n",
    "    apoissum = poiscum(lam, kup, True)\n",
    "    aranpois = []\n",
    "    for i in range(N):\n",
    "        X = next(x)\n",
    "        interval = find_interval(apoissum, X) # poiscum(5,15,True)\n",
    "        #print(i,X, interval)\n",
    "        aranpois.append(interval)\n",
    "    return aranpois"
   ]
  },
  {
   "cell_type": "code",
   "execution_count": 11,
   "id": "aaf27e71-45b3-48cc-9b89-75d3a183732e",
   "metadata": {
    "tags": []
   },
   "outputs": [
    {
     "name": "stdout",
     "output_type": "stream",
     "text": [
      "    k   apois     apoissum\n",
      "    0   0.00674   0.00674\n",
      "    1   0.03369   0.04043\n",
      "    2   0.08422   0.12465\n",
      "    3   0.14037   0.26503\n",
      "    4   0.17547   0.44049\n",
      "    5   0.17547   0.61596\n",
      "    6   0.14622   0.76218\n",
      "    7   0.10444   0.86663\n",
      "    8   0.06528   0.93191\n",
      "    9   0.03627   0.96817\n",
      "   10   0.01813   0.98630\n",
      "   11   0.00824   0.99455\n",
      "   12   0.00343   0.99798\n",
      "   13   0.00132   0.99930\n",
      "   14   0.00047   0.99977\n"
     ]
    }
   ],
   "source": [
    "arpois = np.array(poisrand(5, 15, 1000, 123456))"
   ]
  },
  {
   "cell_type": "code",
   "execution_count": 18,
   "id": "71387d5f-bfcb-4de4-baee-efc3dba7108c",
   "metadata": {
    "tags": []
   },
   "outputs": [
    {
     "data": {
      "text/plain": [
       "(array([  7.,  45.,  82., 134., 190., 161., 143., 114.,  61.,  38.,  15.,\n",
       "          7.,   0.,   3.,   0.]),\n",
       " array([ 0.,  1.,  2.,  3.,  4.,  5.,  6.,  7.,  8.,  9., 10., 11., 12.,\n",
       "        13., 14., 15.]),\n",
       " <BarContainer object of 15 artists>)"
      ]
     },
     "execution_count": 18,
     "metadata": {},
     "output_type": "execute_result"
    },
    {
     "data": {
      "image/png": "[encoded data removed]",
      "text/plain": [
       "<Figure size 640x480 with 1 Axes>"
      ]
     },
     "metadata": {},
     "output_type": "display_data"
    }
   ],
   "source": [
    "plt.hist(arpois,15,(0,15), rwidth=0.3, align='left')"
   ]
  },
  {
   "cell_type": "code",
   "execution_count": 13,
   "id": "71f4a932-8f09-470a-9a09-6c8fb4ceb149",
   "metadata": {
    "tags": []
   },
   "outputs": [
    {
     "name": "stdout",
     "output_type": "stream",
     "text": [
      "Mean:  4.928\n",
      "Std:  2.220093691716636\n"
     ]
    }
   ],
   "source": [
    "print(\"Mean: \",arpois.mean())\n",
    "print(\"Std: \",arpois.std())"
   ]
  },
  {
   "cell_type": "markdown",
   "id": "887e66df-0b25-43ea-8004-e6bb9b3d6b4f",
   "metadata": {
    "tags": []
   },
   "source": [
    "## Compare to numpy poisson random generator "
   ]
  },
  {
   "cell_type": "code",
   "execution_count": 14,
   "id": "84037d28-fba9-4605-bb5d-b55ef5cd3b09",
   "metadata": {
    "tags": []
   },
   "outputs": [
    {
     "name": "stdout",
     "output_type": "stream",
     "text": [
      "4\n"
     ]
    },
    {
     "data": {
      "text/plain": [
       "array([ 4,  4,  6,  3,  6,  5, 12,  2,  5,  8])"
      ]
     },
     "execution_count": 14,
     "metadata": {},
     "output_type": "execute_result"
    }
   ],
   "source": [
    "# print 10 random numbers\n",
    "rng = np.random.default_rng(seed=None)\n",
    "print(rng.poisson(lam=5))\n",
    "apois = rng.poisson(lam=5, size=10)\n",
    "apois"
   ]
  },
  {
   "cell_type": "code",
   "execution_count": 19,
   "id": "eb54b2fd-5b8c-4745-b62f-32a3830a4495",
   "metadata": {},
   "outputs": [
    {
     "data": {
      "text/plain": [
       "(array([  6.,  32.,  82., 136., 171., 163., 170., 106.,  64.,  35.,  18.,\n",
       "          8.,   7.,   1.,   1.]),\n",
       " array([ 0.,  1.,  2.,  3.,  4.,  5.,  6.,  7.,  8.,  9., 10., 11., 12.,\n",
       "        13., 14., 15.]),\n",
       " <BarContainer object of 15 artists>)"
      ]
     },
     "execution_count": 19,
     "metadata": {},
     "output_type": "execute_result"
    },
    {
     "data": {
      "image/png": "[encoded data removed]",
      "text/plain": [
       "<Figure size 640x480 with 1 Axes>"
      ]
     },
     "metadata": {},
     "output_type": "display_data"
    }
   ],
   "source": [
    "# plot random numbers\n",
    "apois = rng.poisson(lam=5, size=1000)\n",
    "plt.hist(apois,15,(0,15), rwidth=0.3, align='left')"
   ]
  },
  {
   "cell_type": "code",
   "execution_count": 16,
   "id": "a97c2a96-d409-4ab8-b991-4782fff50e0c",
   "metadata": {
    "tags": []
   },
   "outputs": [
    {
     "name": "stdout",
     "output_type": "stream",
     "text": [
      "Mean:  4.916\n",
      "Std:  2.2567551927490936\n"
     ]
    }
   ],
   "source": [
    "print(\"Mean: \",apois.mean())\n",
    "print(\"Std: \",apois.std())"
   ]
  }
 ],
 "metadata": {
  "kernelspec": {
   "display_name": "Python 3 (ipykernel)",
   "language": "python",
   "name": "python3"
  },
  "language_info": {
   "codemirror_mode": {
    "name": "ipython",
    "version": 3
   },
   "file_extension": ".py",
   "mimetype": "text/x-python",
   "name": "python",
   "nbconvert_exporter": "python",
   "pygments_lexer": "ipython3",
   "version": "3.9.16"
  }
 },
 "nbformat": 4,
 "nbformat_minor": 5
}
