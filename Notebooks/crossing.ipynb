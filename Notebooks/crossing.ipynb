{
 "cells": [
  {
   "cell_type": "markdown",
   "metadata": {},
   "source": [
    "# Calculate crossing reactions\n",
    "\n",
    "This function calculates substitution rules of s,t,u for crossing reactions\n",
    "\n",
    "The crossing technique allows to related spin averaged amplitudes $T_{fi}$\n",
    "between reactions which are related by the cross sing symmetry. \n",
    "The methode is explained in the boook in section 3.2. \n",
    "\n",
    "We considering the following general reaction\n",
    "\n",
    "$$ a(p_1) ~ b(p_2) \\to c(p_3) ~ d(p_4) $$\n",
    "\n",
    "Assuming time reversal symmetry and CP symmetry holds also the \n",
    "reversed reaction and the charged conjugare reaction have the\n",
    "same spine averaged amplitutre $T_{fi}$.  \n",
    "\n",
    "An illustrative graphical method was presented in the book. For this computer\n",
    "program we use a more formal approach. \n",
    "\n",
    "As shown in section 3.2 of the book the following rules are used to obtain the amplitudes of crossed reactions\n",
    "\n",
    "1. Moving an particle from incoming to outgoing, or vice versa, changes the sign of the 4-momentum and for fermions changes a fermion to the antifermion and vice versa. \n",
    "2. The scattering angle $\\theta$ is the angle between the 3-momentum of the first particles on either side of the reaction equation (here $a(p_1)$ and $c(p_3)$).\n",
    "3. The scattering amplitude receives a sign factor $(-1)^{N_f}$, where $N_f$ is the number of fermions which are exchanged between incoming and outgoing. \n",
    "\n",
    "As an example we consider the base reaction with the ordering of the momenta (1,2,3,4)\n",
    "\n",
    "$$ e^-(p_1) ~ e^+(p_2) \\to \\mu^-(p_3) ~\\mu^+(p_4) $$\n",
    "\n",
    "The Mandelstam variables of the base reaction are (we use capital latters for the base reaction)\n",
    "$$S = (p_1+p_2)^2 = (p_2+p_4)^2$$\n",
    "$$T = (p_1-p_3)^2 = (p_2-p_4)^2$$ \n",
    "$$U = (p_1-p_4)^2 = (p_2-p_3)^2$$ \n",
    "with the amplitude $T_{fi}(S,T,U)$.\n",
    "\n",
    "We choose the crossed reaction with the momenta order (1,3,2,4)\n",
    "\n",
    "$$ e^-(p_1) ~ \\mu^+(-p_3) \\to e^-(-p_2) ~\\mu^+(p_4) $$\n",
    "\n",
    "Now one can calculate the Mandelstam variables of the cross reaction. \n",
    "$$s = (p_1-p_3)^2 = T$$ \n",
    "$$t = (p_1+p_2)^2 = S$$ \n",
    "$$u = (p_1-p_4)^2 = U$$\n",
    "\n",
    "We find the substitution $s \\leftrightarrow T, t \\leftrightarrow S, u \\leftrightarrow U$ and\n",
    "the amplitude of the crossed reaction \n",
    "\n",
    "$$ T_{fi}(e^- ~ \\mu^+ \\to e^- ~ \\mu^+; s,t,u) = (-1)^{N_f}  ~ T_{fi}(e^- ~ e^+ \\to \\mu^- ~ \\mu^+; t,s,u)~. $$\n",
    "\n",
    "For the crossed reaction is $N_f=2$, because two fermions are exchanged. \n",
    "\n",
    "This method of calculating crossed reactions is used in the following function. \n"
   ]
  },
  {
   "cell_type": "code",
   "execution_count": 1,
   "metadata": {},
   "outputs": [],
   "source": [
    "import sympy as sy\n",
    "import math"
   ]
  },
  {
   "cell_type": "code",
   "execution_count": 2,
   "metadata": {},
   "outputs": [],
   "source": [
    "p1,p2,p3,p4 = sy.symbols(\"p_1 p_2 p_3 p_4\",positive=True)\n",
    "S,T,U = sy.symbols(\"S T U\",real=True)"
   ]
  },
  {
   "cell_type": "code",
   "execution_count": 3,
   "metadata": {},
   "outputs": [],
   "source": [
    "def crossing(particles, order, Tfi_base = ''):\n",
    "    \"\"\"\n",
    "    \n",
    "    This function calculates substitution rule of s,t,u for crossing reactions\n",
    "\n",
    "    The general paretocle\n",
    "\n",
    "    Parameters\n",
    "    ----------\n",
    "    particles (list of strings) : gives names of particles of base reaction. \n",
    "                                e.g. particles = ['e-','e+','mu-','mu+']\n",
    "    order (list of integers) : gives new order of particles after crossing\n",
    "                                base order = [1,2,3,4]\n",
    "                                after crossing: order = [1,4,2,3]\n",
    "    Tfi_base (str, optional) : One can give the string expression of the \n",
    "                               amplitude of the base reaction using s,t,u.  \n",
    "                               e.g. Tfi_base = \"(t**2 + u**2)/s**2\"\n",
    "    Returns\n",
    "    -------- \n",
    "    None\n",
    "\n",
    "    Prints\n",
    "    ------\n",
    "    - base reaction\n",
    "    - crossed reaction\n",
    "    - substitution rules for s,t,u\n",
    "    - Tfi of crossed reaction (if Tfi_base is given)\n",
    "\n",
    "    Several examples of usage are given below following the discusion in the book. \n",
    "\n",
    "    \"\"\"\n",
    "\n",
    "    # make particle dict\n",
    "    dpar = {'gam':0, \n",
    "        'nue':1, 'nuebar':-1, \n",
    "        'numu':2, 'numubar':-2,\n",
    "        'nutau':3, 'nutaubar':-3,\n",
    "        'e-':4, 'e+':-4,\n",
    "        'mu-':5, 'mu+':-5,\n",
    "        'tau-':6, 'tau+':-6,\n",
    "        'u':7, 'ubar':-7,\n",
    "        'd':8, 'dbar':-8,\n",
    "        'c':9, 'cbar':-9,\n",
    "        's':10, 'sbar':-10,\n",
    "        't':11, 'tbar':-11,\n",
    "        'b':12, 'bbar':-12,\n",
    "        'W+':13, 'W-':-13,\n",
    "        'Z':14, 'H':15,\n",
    "        'A':20, 'Abar':-20,\n",
    "        'B':21, 'Bbar':-21,\n",
    "        'C':22, 'Cbar':-22,\n",
    "        'D':23, 'Dar':-23}       \n",
    "    # make revesed dict {4:'e-',....} and add -14,-15 for Z, H\n",
    "    dpar_flipped = {value: key for key, value in dpar.items()}\n",
    "    dpar_flipped[-14] = 'Z'\n",
    "    dpar_flipped[-15] = 'H'\n",
    "    # Mandelstam variables \n",
    "    dsubs = {(p1+p2)**2: S, (p3+p4)**2:S, (-p1-p2)**2: S, (-p3-p4)**2:S,\n",
    "         (p1-p3)**2: T, (p2-p4)**2: T,(-p1+p3)**2: T, (-p2+p4)**2: T,\n",
    "         (p1-p4)**2: U, (p2-p3)**2: U, (-p1+p4)**2: U, (-p2+p3)**2: U\n",
    "    }\n",
    "    # momentum assignment\n",
    "    lmom = [p1,p2,p3,p4]\n",
    "    lpar = []\n",
    "    for name in particles:\n",
    "        lpar.append(dpar[name])\n",
    "    # \n",
    "    lparc = []\n",
    "    lmomc = []\n",
    "    # calculate crossing\n",
    "    for i in range(1,5):\n",
    "        p = order[i-1]\n",
    "        sign = int(math.copysign(1,2.5-i)*math.copysign(1,2.5-p))\n",
    "        pc = lpar[p-1]*sign\n",
    "        mc = lmom[p-1]*sign\n",
    "        #print(i,p,sign(i,p))\n",
    "        lparc.append(pc)\n",
    "        lmomc.append(mc)\n",
    "    # Calculate Mandelstam\n",
    "    sc = (lmomc[0]+lmomc[1])**2; sy.simplify(sc).subs(dsubs)\n",
    "    tc = (lmomc[0]-lmomc[2])**2; sy.simplify(tc).subs(dsubs)\n",
    "    uc = (lmomc[0]-lmomc[3])**2; sy.simplify(uc).subs(dsubs)\n",
    "        \n",
    "    # get crossed particle names\n",
    "    particlesc = []\n",
    "    for num in lparc:\n",
    "        particlesc.append(dpar_flipped[num])\n",
    "    # printout    \n",
    "    print(\"Base reaction: {}  {} --> {}  {}\".format(*particles))\n",
    "    print(\"Crossed reaction: {}  {} --> {}  {}\".format(*particlesc))\n",
    "    print(\"Exchange Mandelstam variables between crossed and base (capital letters) reaction:\")\n",
    "    print(\"s <-> \",sc.subs(dsubs))\n",
    "    print(\"t <-> \",tc.subs(dsubs))\n",
    "    print(\"u <-> \",uc.subs(dsubs))\n",
    "\n",
    "    if not 'Tfi_base' == '':\n",
    "\n",
    "        Tfi_base = Tfi_base.upper()\n",
    "        Tfi = Tfi_base\n",
    "        Tfi = Tfi.replace(str(sc.subs(dsubs)),'s')\n",
    "        Tfi = Tfi.replace(str(tc.subs(dsubs)),'t')\n",
    "        Tfi = Tfi.replace(str(uc.subs(dsubs)),'u')\n",
    "        print(\"Tfi_base: \",Tfi_base)\n",
    "        print(\"Tfi_crossed: \",Tfi)"
   ]
  },
  {
   "cell_type": "markdown",
   "metadata": {},
   "source": [
    "# Examples"
   ]
  },
  {
   "cell_type": "markdown",
   "metadata": {},
   "source": [
    "#### Base reaction:  $e^- ~ e^+ \\to \\mu^-  \\mu^+$ \n",
    "#### Crossed reaction:  $e^- ~ \\mu^- \\to e^-  \\mu^-$"
   ]
  },
  {
   "cell_type": "code",
   "execution_count": 4,
   "metadata": {},
   "outputs": [
    {
     "name": "stdout",
     "output_type": "stream",
     "text": [
      "Base reaction: e-  e+ --> mu-  mu+\n",
      "Crossed reaction: e-  mu- --> e-  mu-\n",
      "Exchange Mandelstam variables between crossed and base (capital letters) reaction:\n",
      "s <->  U\n",
      "t <->  S\n",
      "u <->  T\n",
      "Tfi_base:  (T**2 + U**2)/S**2\n",
      "Tfi_crossed:  (u**2 + s**2)/t**2\n"
     ]
    }
   ],
   "source": [
    "# Base reaction: e-  e+ --> mu-  mu+\n",
    "# Crossed reaction: e-  mu- --> e-  mu-\n",
    "# see. Book. eq. 3.62 and 3.63\n",
    "particles = ['e-','e+','mu-','mu+']\n",
    "order = [1,4,2,3]\n",
    "Tfi_base = \"(t**2 + u**2)/s**2\"\n",
    "crossing(particles, order, Tfi_base = Tfi_base)"
   ]
  },
  {
   "cell_type": "markdown",
   "metadata": {},
   "source": [
    "#### Base reaction:  $e^- ~ e^+ \\to \\mu^-  \\mu^+$ <br>\n",
    "#### Crossed reaction:  $e^- ~ \\mu^+ \\to e^-  \\mu^+$"
   ]
  },
  {
   "cell_type": "code",
   "execution_count": 5,
   "metadata": {},
   "outputs": [
    {
     "name": "stdout",
     "output_type": "stream",
     "text": [
      "Base reaction: e-  e+ --> mu-  mu+\n",
      "Crossed reaction: e-  mu+ --> e-  mu+\n",
      "Exchange Mandelstam variables between crossed and base (capital letters) reaction:\n",
      "s <->  T\n",
      "t <->  S\n",
      "u <->  U\n",
      "Tfi_base:  (T**2 + U**2)/S**2\n",
      "Tfi_crossed:  (s**2 + u**2)/t**2\n"
     ]
    }
   ],
   "source": [
    "# Base reaction: e-  e+ --> mu-  mu+\n",
    "# Crossed reaction: e-  mu+ --> e-  mu+\n",
    "# see. Book. eq. 3.62 and 3.63\n",
    "particles = ['e-','e+','mu-','mu+']\n",
    "Tfi_base = \"(t**2 + u**2)/s**2\"\n",
    "crossing(particles, [1,3,2,4], Tfi_base = Tfi_base)"
   ]
  },
  {
   "cell_type": "markdown",
   "metadata": {},
   "source": [
    "#### Base reaction:  $e^- ~ e^+ \\to \\gamma  \\gamma$ <br>\n",
    "#### Crossed reaction:  $e^- ~ \\gamma \\to e^- \\gamma$"
   ]
  },
  {
   "cell_type": "code",
   "execution_count": 6,
   "metadata": {},
   "outputs": [
    {
     "name": "stdout",
     "output_type": "stream",
     "text": [
      "Base reaction: e-  e+ --> gam  gam\n",
      "Crossed reaction: e-  gam --> e-  gam\n",
      "Exchange Mandelstam variables between crossed and base (capital letters) reaction:\n",
      "s <->  T\n",
      "t <->  S\n",
      "u <->  U\n",
      "Tfi_base:  (U/T + T/U)\n",
      "Tfi_crossed:  (u/s + s/u)\n"
     ]
    }
   ],
   "source": [
    "# Base reaction: e-  e+ --> gam  gam\n",
    "# Crossed:  gam e- --> gam e-  (1. option)\n",
    "# see book eq. 3.87 and 3.94 ff.\n",
    "# as explained in the book Tfi gets a minus sign, \n",
    "# because only one fermion is exchanged between incoming and outgoing. \n",
    "particles = ['e-','e+','gam','gam']\n",
    "order = [3,1,4,2] # 1st option for ordering\n",
    "Tfi_base = \"(u/t + t/u)\"\n",
    "crossing(particles, [1,3,2,4], Tfi_base = Tfi_base)"
   ]
  },
  {
   "cell_type": "code",
   "execution_count": 7,
   "metadata": {},
   "outputs": [
    {
     "name": "stdout",
     "output_type": "stream",
     "text": [
      "Base reaction: e-  e+ --> gam  gam\n",
      "Crossed reaction: e-  gam --> e-  gam\n",
      "Exchange Mandelstam variables between crossed and base (capital letters) reaction:\n",
      "s <->  U\n",
      "t <->  S\n",
      "u <->  T\n",
      "Tfi_base:  (U/T + T/U)\n",
      "Tfi_crossed:  (s/u + u/s)\n"
     ]
    }
   ],
   "source": [
    "# Base reaction: e-  e+ --> gam  gam\n",
    "# Crossed:  gam e- --> gam e-  (2. option)\n",
    "# see book eq. 3.87 and 3.94 ff.\n",
    "# as explained in the book Tfi gets a minus sign, \n",
    "# because only one fermion is exchanged between incoming and outgoing.\n",
    "# Note that we get the same result for both ordering options.  \n",
    "particles = ['e-','e+','gam','gam']\n",
    "order = [1,4,2,3] # 2nd option for ordering\n",
    "Tfi_base = \"(u/t + t/u)\"\n",
    "crossing(particles, order, Tfi_base = Tfi_base)"
   ]
  },
  {
   "cell_type": "markdown",
   "metadata": {},
   "source": [
    "\n",
    "#### Base reaction:  $\\nu_e ~ e^- \\to \\nu_e ~ e^-$ <br>\n",
    "#### Crossed reaction:  $\\bar\\nu_e ~ e^- \\to \\bar\\nu_e ~ e^-$"
   ]
  },
  {
   "cell_type": "code",
   "execution_count": 8,
   "metadata": {},
   "outputs": [
    {
     "name": "stdout",
     "output_type": "stream",
     "text": [
      "Base reaction: nue  e- --> nue  e-\n",
      "Crossed reaction: nuebar  e- --> nuebar  e-\n",
      "Exchange Mandelstam variables between crossed and base (capital letters) reaction:\n",
      "s <->  U\n",
      "t <->  T\n",
      "u <->  S\n",
      "Tfi_base:  S\n",
      "Tfi_crossed:  u\n"
     ]
    }
   ],
   "source": [
    "# Base reaction: nu_e-  e- --> nu_e  e- \n",
    "# Crossed:  nubar_e e-  --> gam nubar_e e- \n",
    "# see book eq. 6.9ff\n",
    "# only the charged current reaction is used  \n",
    "particles = ['nue','e-','nue','e-']\n",
    "order = [3,2,1,4] \n",
    "Tfi_base = \"s\"\n",
    "crossing(particles, order, Tfi_base = Tfi_base)"
   ]
  }
 ],
 "metadata": {
  "kernelspec": {
   "display_name": "epy",
   "language": "python",
   "name": "python3"
  },
  "language_info": {
   "codemirror_mode": {
    "name": "ipython",
    "version": 3
   },
   "file_extension": ".py",
   "mimetype": "text/x-python",
   "name": "python",
   "nbconvert_exporter": "python",
   "pygments_lexer": "ipython3",
   "version": "3.9.16"
  }
 },
 "nbformat": 4,
 "nbformat_minor": 2
}
