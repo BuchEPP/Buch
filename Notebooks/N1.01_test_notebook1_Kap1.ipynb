{
 "cells": [
  {
   "cell_type": "code",
   "execution_count": 3,
   "id": "cbbecc91-7214-478d-9312-e8dcc1d4fe8c",
   "metadata": {},
   "outputs": [],
   "source": [
    "import sympy as sy"
   ]
  },
  {
   "cell_type": "code",
   "execution_count": 4,
   "id": "a88f1385-beab-4ce9-9041-a16dbb364805",
   "metadata": {},
   "outputs": [],
   "source": [
    "x,xa,xb,x0 = sy.symbols(\"x,x_a,x_b,x_0\",positive=True)\n",
    "Q,alf,s,A,b = sy.symbols(\"Q_q,alpha,s,A,b\",positive=True)\n",
    "ndv,xdv = sy.symbols(\"ndv,xdv\",positive=True)"
   ]
  },
  {
   "cell_type": "markdown",
   "id": "ca4390b6-ae27-4232-9a55-c519879747fc",
   "metadata": {},
   "source": [
    "# Aufgabe 8.1"
   ]
  },
  {
   "cell_type": "markdown",
   "id": "9a25e5bd-7a0b-4b2d-b657-9d52a5f634fd",
   "metadata": {},
   "source": [
    "1) Drell-Yan Parton x-section.   \n",
    "Add factor 1/9 for average over incoming colour"
   ]
  },
  {
   "cell_type": "code",
   "execution_count": 5,
   "id": "ca833149-220b-4ea4-93f4-a8be86d38437",
   "metadata": {},
   "outputs": [
    {
     "data": {
      "text/latex": [
       "$\\displaystyle \\frac{4 \\pi Q_{q}^{2} \\alpha^{2}}{9 s x_{a} x_{b}}$"
      ],
      "text/plain": [
       "4*pi*Q_q**2*alpha**2/(9*s*x_a*x_b)"
      ]
     },
     "execution_count": 5,
     "metadata": {},
     "output_type": "execute_result"
    }
   ],
   "source": [
    "sigdy = (Q**2/sy.Rational(9)) * 4*sy.pi*alf**2/(xa*xb*s)\n",
    "sigdy"
   ]
  },
  {
   "cell_type": "markdown",
   "id": "a6d78d9f-37e3-43cd-bb51-215d589b46f7",
   "metadata": {},
   "source": [
    "2) Define parton density functions with parameters A, b"
   ]
  },
  {
   "cell_type": "code",
   "execution_count": 6,
   "id": "fb71316b-6228-455f-807d-3f94dc8eb1e0",
   "metadata": {},
   "outputs": [
    {
     "data": {
      "text/latex": [
       "$\\displaystyle A x_{a} \\left(1 - x_{a}\\right)^{b}$"
      ],
      "text/plain": [
       "A*x_a*(1 - x_a)**b"
      ]
     },
     "metadata": {},
     "output_type": "display_data"
    },
    {
     "data": {
      "text/latex": [
       "$\\displaystyle A x_{b} \\left(1 - x_{b}\\right)^{b}$"
      ],
      "text/plain": [
       "A*x_b*(1 - x_b)**b"
      ]
     },
     "metadata": {},
     "output_type": "display_data"
    }
   ],
   "source": [
    "fa=A*xa*(1-xa)**b\n",
    "fb=A*xb*(1-xb)**b\n",
    "display(fa)\n",
    "display(fb)"
   ]
  },
  {
   "cell_type": "markdown",
   "id": "9485a17b-5817-46d3-b32b-152c8091e83d",
   "metadata": {},
   "source": [
    "3. Integrate over full x-range"
   ]
  },
  {
   "cell_type": "code",
   "execution_count": 7,
   "id": "35021687-280c-4ca9-8441-1f5eacbb4d96",
   "metadata": {},
   "outputs": [
    {
     "data": {
      "text/latex": [
       "$\\displaystyle \\frac{4 \\pi A^{2} Q_{q}^{2} \\alpha^{2}}{9 s \\left(b + 1\\right)^{2}}$"
      ],
      "text/plain": [
       "4*pi*A**2*Q_q**2*alpha**2/(9*s*(b + 1)**2)"
      ]
     },
     "execution_count": 7,
     "metadata": {},
     "output_type": "execute_result"
    }
   ],
   "source": [
    "sig = sy.integrate(fa*fb*sigdy,(xa,0,1),(xb,0,1))\n",
    "sig"
   ]
  },
  {
   "cell_type": "markdown",
   "id": "e374b4f6-43dc-4061-b834-99291ebba75e",
   "metadata": {},
   "source": [
    "4. Integrate over $x_0 < x < 1$"
   ]
  },
  {
   "cell_type": "code",
   "execution_count": 8,
   "id": "f882e352-0e5e-49d7-ad20-66eddd49f1ef",
   "metadata": {},
   "outputs": [
    {
     "data": {
      "text/latex": [
       "$\\displaystyle \\frac{4 \\pi A^{2} Q_{q}^{2} \\alpha^{2} \\left(1 - x_{0}\\right)^{2 b + 2}}{9 s \\left(b + 1\\right)^{2}}$"
      ],
      "text/plain": [
       "4*pi*A**2*Q_q**2*alpha**2*(1 - x_0)**(2*b + 2)/(9*s*(b + 1)**2)"
      ]
     },
     "execution_count": 8,
     "metadata": {},
     "output_type": "execute_result"
    }
   ],
   "source": [
    "sigm = sy.integrate(fa*fb*sigdy,(xa,x0,1),(xb,x0,1))\n",
    "sigm"
   ]
  },
  {
   "cell_type": "markdown",
   "id": "fb6ffa20-c7f5-445e-971d-b9e1bc2af56d",
   "metadata": {},
   "source": [
    "5. Numeric calculation for d valence quark\n",
    "- normalization for d-quark $n_d=\\int_0^1 dx~d(x) = 1$\n",
    "- average momentum $x_d =  \\int_0^1 dx~x d(x)$"
   ]
  },
  {
   "cell_type": "code",
   "execution_count": 9,
   "id": "2dacf5fd-4d0d-4c41-bd76-c8704626db16",
   "metadata": {},
   "outputs": [
    {
     "name": "stdout",
     "output_type": "stream",
     "text": [
      "A:  342.000000000000\n",
      "b:  17.0000000000000\n"
     ]
    }
   ],
   "source": [
    "# solve\n",
    "nd = sy.integrate(fa,(xa,0,1))\n",
    "xd = sy.integrate(xa*fa,(xa,0,1))\n",
    "nd0 = 1\n",
    "xd0 = 0.1\n",
    "sold=sy.solve({nd-nd0,xd-xd0},{A,b})\n",
    "A0 = sold[0][A]; print(\"A: \",A0)\n",
    "b0 = sold[0][b]; print(\"b: \",b0)"
   ]
  },
  {
   "cell_type": "code",
   "execution_count": 10,
   "id": "d3b8b31b-0a4b-4ae3-9055-9f5187236802",
   "metadata": {},
   "outputs": [
    {
     "name": "stdout",
     "output_type": "stream",
     "text": [
      "Cross section (nb):  0.898183370746387\n"
     ]
    }
   ],
   "source": [
    "# numerical calculation; result is in 1/GeV**2\n",
    "# multiply with 0.389e6 GeV**2 nb\n",
    "dsubs={A:A0, b:b0, Q:-1/3,alf:1/137, x0:0.01,s:900}\n",
    "signb = sigm.subs(dsubs).evalf()*0.389e6\n",
    "print(\"Cross section (nb): \",signb) "
   ]
  },
  {
   "cell_type": "markdown",
   "id": "582053df-6ef3-4d9d-b97c-72021107ccc0",
   "metadata": {},
   "source": [
    "# Supplement"
   ]
  },
  {
   "cell_type": "code",
   "execution_count": 11,
   "id": "8e608409-71e7-4d4a-9023-2d3cb5c94396",
   "metadata": {},
   "outputs": [
    {
     "name": "stdout",
     "output_type": "stream",
     "text": [
      "nd:  1.00000000000000\n",
      "xd:  0.100000000000000\n"
     ]
    }
   ],
   "source": [
    "# check nd, xd\n",
    "print(\"nd: \",nd.subs(dsubs).evalf())\n",
    "print(\"xd: \",xd.subs(dsubs).evalf())"
   ]
  },
  {
   "cell_type": "markdown",
   "id": "50df5747-7a49-498e-8f82-c196c900cce9",
   "metadata": {},
   "source": [
    "Compare this simplified parametrisation to Kap 5.3, \n",
    " dv-quark parton density\n",
    "\n",
    "$$d_v = 0.67 x^{0.4}*(1-x^{1.51})^{4.5}/x$$"
   ]
  },
  {
   "cell_type": "code",
   "execution_count": 13,
   "id": "0530c4dc-7e10-44e3-9c82-ae9b9d27ef2d",
   "metadata": {},
   "outputs": [
    {
     "data": {
      "text/latex": [
       "$\\displaystyle \\frac{0.67 \\left(1 - x^{1.51}\\right)^{4.5}}{x^{0.6}}$"
      ],
      "text/plain": [
       "0.67*(1 - x**1.51)**4.5/x**0.6"
      ]
     },
     "metadata": {},
     "output_type": "display_data"
    },
    {
     "data": {
      "image/png": "[encoded data removed]",
      "text/plain": [
       "<Figure size 432x288 with 1 Axes>"
      ]
     },
     "metadata": {
      "needs_background": "light"
     },
     "output_type": "display_data"
    },
    {
     "data": {
      "image/png": "[encoded data removed]",
      "text/plain": [
       "<Figure size 432x288 with 1 Axes>"
      ]
     },
     "metadata": {
      "needs_background": "light"
     },
     "output_type": "display_data"
    },
    {
     "data": {
      "image/png": "[encoded data removed]",
      "text/plain": [
       "<Figure size 432x288 with 1 Axes>"
      ]
     },
     "metadata": {
      "needs_background": "light"
     },
     "output_type": "display_data"
    }
   ],
   "source": [
    "# plot f_d and compare with pdf in Kap. 5.3\n",
    "dv = 0.67* x**0.4 * (1-x**1.51)**4.5/x\n",
    "display(dv)\n",
    "pl1 = sy.plotting.plot(xa*fa.subs(dsubs).evalf(),(xa,0,1), line_color=\"blue\", legend=True)\n",
    "pl2 = sy.plotting.plot(x*dv,(x,0,1),line_color=\"red\", legend=True)\n",
    "pl1.extend(pl2)\n",
    "pl1.show()"
   ]
  },
  {
   "cell_type": "markdown",
   "id": "3dd7947e-7fbd-4863-a5ec-d5b72d26a298",
   "metadata": {},
   "source": [
    "The averave x and the normalizations are identical, \n",
    "but the shapes are very different."
   ]
  },
  {
   "cell_type": "code",
   "execution_count": 15,
   "id": "973ce9a7-82b7-4d8e-a3b6-b67524274e0b",
   "metadata": {},
   "outputs": [
    {
     "data": {
      "text/latex": [
       "$\\displaystyle 0.767507428412692$"
      ],
      "text/plain": [
       "0.767507428412692"
      ]
     },
     "execution_count": 15,
     "metadata": {},
     "output_type": "execute_result"
    }
   ],
   "source": [
    "# calculate x-sec with dv\n",
    "# interesting to see that sympy is also able to integrate the realistic pdf dv\n",
    "dva = 0.67*xa**0.4*(1-xa**1.51)**4.5/xa\n",
    "dvb = 0.67*xb**0.4*(1-xb**1.51)**4.5/xb\n",
    "sigv = sy.integrate((dva*dvb*sigdy).evalf(),(xa,0.01,1),(xb,0.01,1))\n",
    "sy.re(sigv.subs(dsubs)).evalf()*0.389e6"
   ]
  },
  {
   "cell_type": "code",
   "execution_count": null,
   "id": "1e5575cc-3ae6-43bc-bc9d-9f04a419708d",
   "metadata": {},
   "outputs": [],
   "source": []
  }
 ],
 "metadata": {
  "kernelspec": {
   "display_name": "Python 3 (ipykernel)",
   "language": "python",
   "name": "python3"
  },
  "language_info": {
   "codemirror_mode": {
    "name": "ipython",
    "version": 3
   },
   "file_extension": ".py",
   "mimetype": "text/x-python",
   "name": "python",
   "nbconvert_exporter": "python",
   "pygments_lexer": "ipython3",
   "version": "3.8.12"
  }
 },
 "nbformat": 4,
 "nbformat_minor": 5
}
