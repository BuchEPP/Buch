{
 "cells": [
  {
   "cell_type": "markdown",
   "metadata": {},
   "source": [
    "# Chapter 7.3: Higgs Decay into an on-shell $W^+ W^-$\n",
    "\n",
    "Coupling: $g_{HVV} = -2i g^{\\mu\\nu} M_V^2/v$\n",
    "\n",
    "Compute the decay width $\\Gamma(H\\to W^+W^-)$ (eq. 7.96 in the book) with sympy."
   ]
  },
  {
   "cell_type": "code",
   "execution_count": 1,
   "metadata": {
    "tags": []
   },
   "outputs": [
    {
     "name": "stdout",
     "output_type": "stream",
     "text": [
      "Reading heppackv0.py (March 2023)\n",
      "\n",
      "Done\n"
     ]
    }
   ],
   "source": [
    "import heppackv0 as hep\n",
    "import sympy as sy"
   ]
  },
  {
   "cell_type": "code",
   "execution_count": 2,
   "metadata": {
    "tags": []
   },
   "outputs": [
    {
     "data": {
      "image/png": "[encoded data removed]",
      "text/latex": [
       "$\\displaystyle \\left[\\begin{matrix}1 & 0 & 0 & 0\\\\0 & -1 & 0 & 0\\\\0 & 0 & -1 & 0\\\\0 & 0 & 0 & -1\\end{matrix}\\right]$"
      ],
      "text/plain": [
       "⎡1  0   0   0 ⎤\n",
       "⎢             ⎥\n",
       "⎢0  -1  0   0 ⎥\n",
       "⎢             ⎥\n",
       "⎢0  0   -1  0 ⎥\n",
       "⎢             ⎥\n",
       "⎣0  0   0   -1⎦"
      ]
     },
     "execution_count": 2,
     "metadata": {},
     "output_type": "execute_result"
    }
   ],
   "source": [
    "# M = Higgs mass, m = W-boson mass, v=246 GeV\n",
    "# Use Dm instead of E to ensure that arguments of sqrts are always positiv\n",
    "# Later replace Dm --> M/2-m\n",
    "M,m,Dm,v = sy.symbols(\"M,m,Dm,v\" , positive=True, real=True) \n",
    "gmunu = sy.diag(1,-1,-1,-1)\n",
    "gmunu"
   ]
  },
  {
   "cell_type": "code",
   "execution_count": 3,
   "metadata": {
    "tags": []
   },
   "outputs": [],
   "source": [
    "pW1 = [Dm+m, m, 0, 0] # V1\n",
    "pW2 = [Dm+m, m, sy.pi, sy.pi] # V2"
   ]
  },
  {
   "cell_type": "code",
   "execution_count": 4,
   "metadata": {
    "tags": []
   },
   "outputs": [],
   "source": [
    "# Matrix element H-> VV\n",
    "# hf, ha: helicities of fermion and anti-fermion\n",
    "def mel(pW1, pW2, hW1, hW2):\n",
    "    pre = -2*sy.I*m**2/v # HWW coupling\n",
    "    me = sy.Rational(0)\n",
    "    polW1 = hep.polbar(pW1,hW1)\n",
    "    polW2 = hep.polbar(pW2,hW2)\n",
    "    for mu in range(4):\n",
    "        me = me + polW1[mu]*polW2[mu]*gmunu[mu,mu]\n",
    "    return sy.trigsimp(sy.simplify(pre*me))"
   ]
  },
  {
   "cell_type": "code",
   "execution_count": 5,
   "metadata": {
    "tags": []
   },
   "outputs": [
    {
     "data": {
      "image/png": "[encoded data removed]",
      "text/latex": [
       "$\\displaystyle \\frac{2 i m^{2}}{v}$"
      ],
      "text/plain": [
       "     2\n",
       "2⋅ⅈ⋅m \n",
       "──────\n",
       "  v   "
      ]
     },
     "execution_count": 5,
     "metadata": {},
     "output_type": "execute_result"
    }
   ],
   "source": [
    "mel(pW1,pW2,-1,-1)"
   ]
  },
  {
   "cell_type": "code",
   "execution_count": 6,
   "metadata": {
    "tags": []
   },
   "outputs": [],
   "source": [
    "def mel2(pW1, pW2, showAmplitude=True):\n",
    "    \"\"\" \n",
    "    Calculate spin averaged matrix element of Higgs decay to a V-pair \n",
    "    \"\"\"    \n",
    "    if showAmplitude: print(\"hW1  hW2\")\n",
    "    hels   = (-1, 0, 1)\n",
    "    me2sum = 0\n",
    "    for hW1 in hels:\n",
    "        for hW2 in hels:         \n",
    "            me     = mel(pW1, pW2, hW1, hW2)\n",
    "            me2    = me*me.conjugate()\n",
    "            me2sum += me2\n",
    "            me2sum =  sy.simplify(me2sum)\n",
    "\n",
    "            if showAmplitude:\n",
    "                sh = \"{0:2}   {1:2} \".format(hW1,hW2)\n",
    "                sme2 = me.subs(Dm, M/2-m)\n",
    "                sme3 = sy.simplify(sme2)\n",
    "                print(sh, sme3)\n",
    "    sme2sum = sy.simplify(me2sum.subs(Dm, M/2-m))\n",
    "    return sme2sum"
   ]
  },
  {
   "cell_type": "code",
   "execution_count": 7,
   "metadata": {
    "tags": []
   },
   "outputs": [
    {
     "name": "stdout",
     "output_type": "stream",
     "text": [
      "hW1  hW2\n",
      "-1   -1  2*I*m**2/v\n",
      "-1    0  0\n",
      "-1    1  0\n",
      " 0   -1  0\n",
      " 0    0  I*(-M**2 + 2*m**2)/v\n",
      " 0    1  0\n",
      " 1   -1  0\n",
      " 1    0  0\n",
      " 1    1  2*I*m**2/v\n",
      "mel2HVV:  (8*m**4 + (M**2 - 2*m**2)**2)/v**2\n"
     ]
    },
    {
     "data": {
      "text/plain": [
       "'Gamma: '"
      ]
     },
     "metadata": {},
     "output_type": "display_data"
    },
    {
     "data": {
      "image/png": "[encoded data removed]",
      "text/latex": [
       "$\\displaystyle \\frac{\\sqrt{M^{2} - 4 m^{2}} \\cdot \\left(8 m^{4} + \\left(M^{2} - 2 m^{2}\\right)^{2}\\right)}{16 \\pi M^{2} v^{2}}$"
      ],
      "text/plain": [
       "   ___________ ⎛                  2⎞\n",
       "  ╱  2      2  ⎜   4   ⎛ 2      2⎞ ⎟\n",
       "╲╱  M  - 4⋅m  ⋅⎝8⋅m  + ⎝M  - 2⋅m ⎠ ⎠\n",
       "────────────────────────────────────\n",
       "                   2  2             \n",
       "             16⋅π⋅M ⋅v              "
      ]
     },
     "metadata": {},
     "output_type": "display_data"
    }
   ],
   "source": [
    "# apply factors  \n",
    "mel2HWW = mel2(pW1, pW2, showAmplitude=True)\n",
    "print(\"mel2HVV: \", mel2HWW)\n",
    "pre2= sy.sqrt(M**2/4 - m**2) /(8*sy.pi*M**2)\n",
    "Gamma = sy.simplify(pre2*mel2HWW)\n",
    "display(\"Gamma: \", Gamma)"
   ]
  },
  {
   "cell_type": "code",
   "execution_count": 8,
   "metadata": {
    "tags": []
   },
   "outputs": [
    {
     "data": {
      "image/png": "[encoded data removed]",
      "text/latex": [
       "$\\displaystyle \\frac{M^{3} \\sqrt{1 - \\frac{4 m^{2}}{M^{2}}} \\cdot \\left(1 - \\frac{4 m^{2}}{M^{2}} + \\frac{12 m^{4}}{M^{4}}\\right)}{16 \\pi v^{2}}$"
      ],
      "text/plain": [
       "         __________                   \n",
       "        ╱        2  ⎛       2       4⎞\n",
       " 3     ╱      4⋅m   ⎜    4⋅m    12⋅m ⎟\n",
       "M ⋅   ╱   1 - ──── ⋅⎜1 - ──── + ─────⎟\n",
       "     ╱          2   ⎜      2       4 ⎟\n",
       "   ╲╱          M    ⎝     M       M  ⎠\n",
       "──────────────────────────────────────\n",
       "                     2                \n",
       "               16⋅π⋅v                 "
      ]
     },
     "execution_count": 8,
     "metadata": {},
     "output_type": "execute_result"
    }
   ],
   "source": [
    "# compare to Book, eq. 7.96\n",
    "betaW = sy.sqrt(1-4*m**2/M**2)\n",
    "x = m**2/M**2\n",
    "GammaBook = M**3*betaW*(1-4*x+12*x**2)/(16*sy.pi*v**2)\n",
    "GammaBook"
   ]
  },
  {
   "cell_type": "markdown",
   "metadata": {},
   "source": [
    "<hr style=\"width:100%;height:2px;color:black\">"
   ]
  },
  {
   "cell_type": "code",
   "execution_count": 9,
   "metadata": {
    "tags": []
   },
   "outputs": [
    {
     "data": {
      "image/png": "[encoded data removed]",
      "text/latex": [
       "$\\displaystyle 0$"
      ],
      "text/plain": [
       "0"
      ]
     },
     "execution_count": 9,
     "metadata": {},
     "output_type": "execute_result"
    }
   ],
   "source": [
    "# test equality\n",
    "sy.simplify(Gamma-GammaBook)"
   ]
  },
  {
   "cell_type": "code",
   "execution_count": null,
   "metadata": {},
   "outputs": [],
   "source": []
  }
 ],
 "metadata": {
  "kernelspec": {
   "display_name": "Python 3 (ipykernel)",
   "language": "python",
   "name": "python3"
  },
  "language_info": {
   "codemirror_mode": {
    "name": "ipython",
    "version": 3
   },
   "file_extension": ".py",
   "mimetype": "text/x-python",
   "name": "python",
   "nbconvert_exporter": "python",
   "pygments_lexer": "ipython3",
   "version": "3.9.16"
  }
 },
 "nbformat": 4,
 "nbformat_minor": 4
}
