{
 "cells": [
  {
   "cell_type": "code",
   "execution_count": 1,
   "metadata": {},
   "outputs": [],
   "source": [
    "from sympy import *"
   ]
  },
  {
   "cell_type": "code",
   "execution_count": 2,
   "metadata": {},
   "outputs": [
    {
     "name": "stdout",
     "output_type": "stream",
     "text": [
      "Reading heppackv0.py (March 2023)\n",
      "\n",
      "Done\n"
     ]
    }
   ],
   "source": [
    "import heppackv0 as hep"
   ]
  },
  {
   "cell_type": "code",
   "execution_count": 3,
   "metadata": {},
   "outputs": [
    {
     "name": "stdout",
     "output_type": "stream",
     "text": [
      "The CM system is used\n"
     ]
    }
   ],
   "source": [
    "print('The CM system is used')\n",
    "E,E1,M,m,theta=symbols('E E1 M m theta',positive=True)\n",
    "G_F,f_pi=symbols('G_F,f_pi',positive=True)"
   ]
  },
  {
   "cell_type": "markdown",
   "metadata": {},
   "source": [
    "The calculation of the decay amplitude for $\\pi^-(p_\\pi)\\to \\mu^-(p_f)+\\bar{\\nu}_\\mu(k_f)$ is very simple. We repeat it here in a way close to doing it by hand  using paper and pencil. "
   ]
  },
  {
   "cell_type": "code",
   "execution_count": 4,
   "metadata": {},
   "outputs": [],
   "source": [
    "ppi=[M,M,0,0]\n",
    "pf=[E,m,theta,0]\n",
    "kf=[E1,0,pi-theta,pi]\n",
    "d=[M/2,M/2,0,0]\n",
    "u=[M/2,M/2,pi,pi]"
   ]
  },
  {
   "cell_type": "markdown",
   "metadata": {},
   "source": [
    "### a) Annihilation of two quarks at rest\n",
    "In the book it is explained that the decay can be calculated from the annihilation cross section (via weak interaction) of a $d$- and  a $\\bar{u}$-quark at rest."
   ]
  },
  {
   "cell_type": "code",
   "execution_count": 5,
   "metadata": {},
   "outputs": [
    {
     "data": {
      "image/png": "[encoded data removed]",
      "text/latex": [
       "$\\displaystyle \\left[ - \\frac{M}{2}, \\  0, \\  0, \\  \\frac{M}{2}\\right]$"
      ],
      "text/plain": [
       "⎡-M         M⎤\n",
       "⎢───, 0, 0, ─⎥\n",
       "⎣ 2         2⎦"
      ]
     },
     "execution_count": 5,
     "metadata": {},
     "output_type": "execute_result"
    }
   ],
   "source": [
    "j1=hep.vbuw(u,+1,d,+1);j1"
   ]
  },
  {
   "cell_type": "code",
   "execution_count": 6,
   "metadata": {},
   "outputs": [
    {
     "data": {
      "image/png": "[encoded data removed]",
      "text/latex": [
       "$\\displaystyle \\left[ \\frac{M}{2}, \\  0, \\  0, \\  \\frac{M}{2}\\right]$"
      ],
      "text/plain": [
       "⎡M        M⎤\n",
       "⎢─, 0, 0, ─⎥\n",
       "⎣2        2⎦"
      ]
     },
     "execution_count": 6,
     "metadata": {},
     "output_type": "execute_result"
    }
   ],
   "source": [
    "j2=hep.vbuw(u,-1,d,-1);j2"
   ]
  },
  {
   "cell_type": "code",
   "execution_count": 7,
   "metadata": {},
   "outputs": [
    {
     "data": {
      "image/png": "[encoded data removed]",
      "text/latex": [
       "$\\displaystyle \\left[ - \\frac{\\sqrt{2} M}{2}, \\  0, \\  0, \\  0\\right]$"
      ],
      "text/plain": [
       "⎡-√2⋅M          ⎤\n",
       "⎢──────, 0, 0, 0⎥\n",
       "⎣  2            ⎦"
      ]
     },
     "execution_count": 7,
     "metadata": {},
     "output_type": "execute_result"
    }
   ],
   "source": [
    "jpi=[-M/sqrt(2),0,0,0];jpi"
   ]
  },
  {
   "cell_type": "markdown",
   "metadata": {},
   "source": [
    "The simple result shows, that we only need $\\bar{u}(p_f)\\gamma^0(1-\\gamma^5)v(k_f)/2$. After multiplying with $j_\\pi^0$ and squaring we get"
   ]
  },
  {
   "cell_type": "code",
   "execution_count": 8,
   "metadata": {},
   "outputs": [
    {
     "data": {
      "image/png": "[encoded data removed]",
      "text/latex": [
       "$\\displaystyle E_{1} M^{2} \\left(E - \\sqrt{E^{2} - m^{2}}\\right)$"
      ],
      "text/plain": [
       "      ⎛       _________⎞\n",
       "    2 ⎜      ╱  2    2 ⎟\n",
       "E₁⋅M ⋅⎝E - ╲╱  E  - m  ⎠"
      ]
     },
     "execution_count": 8,
     "metadata": {},
     "output_type": "execute_result"
    }
   ],
   "source": [
    "t1sq=simplify((hep.ubvw(pf,1,kf,1)[0]*jpi[0])**2);t1sq"
   ]
  },
  {
   "cell_type": "code",
   "execution_count": 9,
   "metadata": {},
   "outputs": [
    {
     "data": {
      "image/png": "[encoded data removed]",
      "text/latex": [
       "$\\displaystyle M^{2} \\left(E E_{1} - E_{1}^{2}\\right)$"
      ],
      "text/plain": [
       " 2 ⎛         2⎞\n",
       "M ⋅⎝E⋅E₁ - E₁ ⎠"
      ]
     },
     "execution_count": 9,
     "metadata": {},
     "output_type": "execute_result"
    }
   ],
   "source": [
    "t1sq=M**2*(E*E1-E1**2);t1sq"
   ]
  },
  {
   "cell_type": "code",
   "execution_count": 10,
   "metadata": {},
   "outputs": [
    {
     "data": {
      "image/png": "[encoded data removed]",
      "text/latex": [
       "$\\displaystyle \\frac{m^{2} \\left(M^{2} - m^{2}\\right)}{2}$"
      ],
      "text/plain": [
       " 2 ⎛ 2    2⎞\n",
       "m ⋅⎝M  - m ⎠\n",
       "────────────\n",
       "     2      "
      ]
     },
     "execution_count": 10,
     "metadata": {},
     "output_type": "execute_result"
    }
   ],
   "source": [
    "simplify(t1sq.subs(E,(M**2+m**2)/2/M).subs(E1,(M**2-m**2)/2/M))"
   ]
  },
  {
   "cell_type": "markdown",
   "metadata": {},
   "source": [
    "The route from the scattering amplitude to the decay width is explained in the book.\n",
    "\n",
    "### b) Decay amplitude\n",
    "\n",
    "The decay amplitude is given by the product of the incoming and the outgoing currents. The structure is identical to the scattering amplitude. "
   ]
  },
  {
   "cell_type": "code",
   "execution_count": 12,
   "metadata": {},
   "outputs": [
    {
     "data": {
      "image/png": "[encoded data removed]",
      "text/latex": [
       "$\\displaystyle \\left[ M, \\  0, \\  0, \\  0\\right]$"
      ],
      "text/plain": [
       "[M, 0, 0, 0]"
      ]
     },
     "execution_count": 12,
     "metadata": {},
     "output_type": "execute_result"
    }
   ],
   "source": [
    "jin=hep.fourvec(ppi);jin"
   ]
  },
  {
   "cell_type": "code",
   "execution_count": 13,
   "metadata": {},
   "outputs": [
    {
     "data": {
      "image/png": "[encoded data removed]",
      "text/latex": [
       "$\\displaystyle \\left[ \\sqrt{E_{1}} \\left(\\sqrt{E - m} - \\sqrt{E + m}\\right), \\  \\sqrt{E_{1}} \\left(- \\sqrt{E - m} + \\sqrt{E + m}\\right) \\sin{\\left(\\theta \\right)}, \\  0, \\  - \\sqrt{E_{1}} \\left(\\sqrt{E - m} - \\sqrt{E + m}\\right) \\cos{\\left(\\theta \\right)}\\right]$"
      ],
      "text/plain": [
       "⎡  ____ ⎛  _______     _______⎞    ____ ⎛    _______     _______⎞             \n",
       "⎣╲╱ E₁ ⋅⎝╲╱ E - m  - ╲╱ E + m ⎠, ╲╱ E₁ ⋅⎝- ╲╱ E - m  + ╲╱ E + m ⎠⋅sin(θ), 0, -\n",
       "\n",
       "  ____ ⎛  _______     _______⎞       ⎤\n",
       "╲╱ E₁ ⋅⎝╲╱ E - m  - ╲╱ E + m ⎠⋅cos(θ)⎦"
      ]
     },
     "execution_count": 13,
     "metadata": {},
     "output_type": "execute_result"
    }
   ],
   "source": [
    "jout=hep.ubvw(pf,1,kf,1);jout"
   ]
  },
  {
   "cell_type": "code",
   "execution_count": 14,
   "metadata": {
    "scrolled": true
   },
   "outputs": [
    {
     "data": {
      "image/png": "[encoded data removed]",
      "text/latex": [
       "$\\displaystyle \\sqrt{E_{1}} M \\left(\\sqrt{E - m} - \\sqrt{E + m}\\right)$"
      ],
      "text/plain": [
       "  ____   ⎛  _______     _______⎞\n",
       "╲╱ E₁ ⋅M⋅⎝╲╱ E - m  - ╲╱ E + m ⎠"
      ]
     },
     "execution_count": 14,
     "metadata": {},
     "output_type": "execute_result"
    }
   ],
   "source": [
    "T=hep.dotprod4(jin,jout);T"
   ]
  },
  {
   "cell_type": "code",
   "execution_count": 15,
   "metadata": {
    "scrolled": true
   },
   "outputs": [
    {
     "data": {
      "image/png": "[encoded data removed]",
      "text/latex": [
       "$\\displaystyle E_{1} M^{2} \\left(\\sqrt{E - m} - \\sqrt{E + m}\\right)^{2}$"
      ],
      "text/plain": [
       "                             2\n",
       "    2 ⎛  _______     _______⎞ \n",
       "E₁⋅M ⋅⎝╲╱ E - m  - ╲╱ E + m ⎠ "
      ]
     },
     "execution_count": 15,
     "metadata": {},
     "output_type": "execute_result"
    }
   ],
   "source": [
    "T2=simplify(T*T);T2"
   ]
  },
  {
   "cell_type": "code",
   "execution_count": 16,
   "metadata": {},
   "outputs": [
    {
     "data": {
      "image/png": "[encoded data removed]",
      "text/latex": [
       "$\\displaystyle \\left(\\sqrt{E - m} - \\sqrt{E + m}\\right)^{2}$"
      ],
      "text/plain": [
       "                       2\n",
       "⎛  _______     _______⎞ \n",
       "⎝╲╱ E - m  - ╲╱ E + m ⎠ "
      ]
     },
     "execution_count": 16,
     "metadata": {},
     "output_type": "execute_result"
    }
   ],
   "source": [
    "h1=(sqrt(E-m)-sqrt(E+m))**2;h1"
   ]
  },
  {
   "cell_type": "code",
   "execution_count": 17,
   "metadata": {},
   "outputs": [
    {
     "data": {
      "image/png": "[encoded data removed]",
      "text/latex": [
       "$\\displaystyle 2 E_{1} M m^{2}$"
      ],
      "text/plain": [
       "        2\n",
       "2⋅E₁⋅M⋅m "
      ]
     },
     "execution_count": 17,
     "metadata": {},
     "output_type": "execute_result"
    }
   ],
   "source": [
    "T2=E1*M**2*h1.subs(h1,2*m**2/M);T2"
   ]
  },
  {
   "cell_type": "code",
   "execution_count": 18,
   "metadata": {
    "scrolled": true
   },
   "outputs": [
    {
     "data": {
      "image/png": "[encoded data removed]",
      "text/latex": [
       "$\\displaystyle M^{2} m^{2} \\cdot \\left(1 - \\frac{m^{2}}{M^{2}}\\right)$"
      ],
      "text/plain": [
       "      ⎛     2⎞\n",
       " 2  2 ⎜    m ⎟\n",
       "M ⋅m ⋅⎜1 - ──⎟\n",
       "      ⎜     2⎟\n",
       "      ⎝    M ⎠"
      ]
     },
     "execution_count": 18,
     "metadata": {},
     "output_type": "execute_result"
    }
   ],
   "source": [
    "T21=T2.subs(E1,M*(1-m**2/M/M)/2);T21"
   ]
  },
  {
   "cell_type": "code",
   "execution_count": 11,
   "metadata": {},
   "outputs": [
    {
     "data": {
      "image/png": "[encoded data removed]",
      "text/latex": [
       "$\\displaystyle 2 G_{F}^{2} f_{\\pi}^{2}$"
      ],
      "text/plain": [
       "     2    2\n",
       "2⋅G_F ⋅fₚᵢ "
      ]
     },
     "execution_count": 11,
     "metadata": {},
     "output_type": "execute_result"
    }
   ],
   "source": [
    "fak=2*G_F**2*f_pi**2;fak"
   ]
  },
  {
   "cell_type": "code",
   "execution_count": 19,
   "metadata": {},
   "outputs": [
    {
     "data": {
      "image/png": "[encoded data removed]",
      "text/latex": [
       "$\\displaystyle 2 G_{F}^{2} M^{2} f_{\\pi}^{2} m^{2} \\cdot \\left(1 - \\frac{m^{2}}{M^{2}}\\right)$"
      ],
      "text/plain": [
       "                  ⎛     2⎞\n",
       "     2  2    2  2 ⎜    m ⎟\n",
       "2⋅G_F ⋅M ⋅fₚᵢ ⋅m ⋅⎜1 - ──⎟\n",
       "                  ⎜     2⎟\n",
       "                  ⎝    M ⎠"
      ]
     },
     "execution_count": 19,
     "metadata": {},
     "output_type": "execute_result"
    }
   ],
   "source": [
    "Tsq=fak*T21;Tsq"
   ]
  },
  {
   "cell_type": "code",
   "execution_count": null,
   "metadata": {},
   "outputs": [],
   "source": []
  },
  {
   "cell_type": "code",
   "execution_count": null,
   "metadata": {},
   "outputs": [],
   "source": []
  },
  {
   "cell_type": "code",
   "execution_count": null,
   "metadata": {},
   "outputs": [],
   "source": []
  }
 ],
 "metadata": {
  "kernelspec": {
   "display_name": "Python 3 (ipykernel)",
   "language": "python",
   "name": "python3"
  },
  "language_info": {
   "codemirror_mode": {
    "name": "ipython",
    "version": 3
   },
   "file_extension": ".py",
   "mimetype": "text/x-python",
   "name": "python",
   "nbconvert_exporter": "python",
   "pygments_lexer": "ipython3",
   "version": "3.10.3"
  }
 },
 "nbformat": 4,
 "nbformat_minor": 2
}
