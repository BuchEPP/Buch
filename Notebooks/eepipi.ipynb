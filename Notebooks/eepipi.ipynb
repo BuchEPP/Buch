{
 "cells": [
  {
   "cell_type": "markdown",
   "metadata": {},
   "source": [
    "The notebook investigates the process $e^-e^+\\to \\pi^- \\pi^+$ or more precisely the production of pointlike scalar particles via electromagnetic interaction. For real pions the amplitudes have to be multiplied by a formfactor, as explained in the book (section 5.2.3)."
   ]
  },
  {
   "cell_type": "markdown",
   "metadata": {},
   "source": [
    "### 1) Setup"
   ]
  },
  {
   "cell_type": "code",
   "execution_count": 1,
   "metadata": {},
   "outputs": [],
   "source": [
    "from sympy import *"
   ]
  },
  {
   "cell_type": "code",
   "execution_count": 2,
   "metadata": {},
   "outputs": [
    {
     "name": "stdout",
     "output_type": "stream",
     "text": [
      "Reading heppackv0.py (March 2023)\n",
      "\n",
      "Done\n"
     ]
    }
   ],
   "source": [
    "import heppackv0 as hep"
   ]
  },
  {
   "cell_type": "code",
   "execution_count": 3,
   "metadata": {},
   "outputs": [],
   "source": [
    "M,m,theta,phi, alpha=symbols('M m theta phi alpha',real=True)\n",
    "t,t0,s,s0,p=symbols('t t0,s,s0,p',real=True)\n",
    "E,P,beta,xi=symbols('E P beta xi',positive=True)"
   ]
  },
  {
   "cell_type": "markdown",
   "metadata": {},
   "source": [
    "This tutorial will be less verbose than eemmuu.ipynb. Because the amplitudes are very simple we can afford to include a possible $\\phi$ dependence right from the beginning."
   ]
  },
  {
   "cell_type": "code",
   "execution_count": 4,
   "metadata": {},
   "outputs": [],
   "source": [
    "pin=[E,m,0,0]\n",
    "ki=[E,m,pi,pi]\n",
    "pf=[E,M,theta,phi]\n",
    "kf=[E,M,pi-theta,pi+phi]"
   ]
  },
  {
   "cell_type": "code",
   "execution_count": 5,
   "metadata": {},
   "outputs": [
    {
     "data": {
      "image/png": "[encoded data removed]",
      "text/latex": [
       "$\\displaystyle \\left[ E, \\  2 \\sqrt{E^{2} - M^{2}} \\sin{\\left(\\frac{\\theta}{2} \\right)} \\cos{\\left(\\phi \\right)} \\cos{\\left(\\frac{\\theta}{2} \\right)}, \\  2 \\sqrt{E^{2} - M^{2}} \\sin{\\left(\\phi \\right)} \\sin{\\left(\\frac{\\theta}{2} \\right)} \\cos{\\left(\\frac{\\theta}{2} \\right)}, \\  \\sqrt{E^{2} - M^{2}} \\left(- \\sin^{2}{\\left(\\frac{\\theta}{2} \\right)} + \\cos^{2}{\\left(\\frac{\\theta}{2} \\right)}\\right)\\right]$"
      ],
      "text/plain": [
       "⎡        _________                            _________                       \n",
       "⎢       ╱  2    2     ⎛θ⎞           ⎛θ⎞      ╱  2    2            ⎛θ⎞    ⎛θ⎞  \n",
       "⎢E, 2⋅╲╱  E  - M  ⋅sin⎜─⎟⋅cos(φ)⋅cos⎜─⎟, 2⋅╲╱  E  - M  ⋅sin(φ)⋅sin⎜─⎟⋅cos⎜─⎟, \n",
       "⎣                     ⎝2⎠           ⎝2⎠                           ⎝2⎠    ⎝2⎠  \n",
       "\n",
       "   _________                      ⎤\n",
       "  ╱  2    2  ⎛     2⎛θ⎞      2⎛θ⎞⎞⎥\n",
       "╲╱  E  - M  ⋅⎜- sin ⎜─⎟ + cos ⎜─⎟⎟⎥\n",
       "             ⎝      ⎝2⎠       ⎝2⎠⎠⎦"
      ]
     },
     "execution_count": 5,
     "metadata": {},
     "output_type": "execute_result"
    }
   ],
   "source": [
    "pf4=hep.fourvec(pf);pf4"
   ]
  },
  {
   "cell_type": "code",
   "execution_count": 6,
   "metadata": {},
   "outputs": [
    {
     "data": {
      "image/png": "[encoded data removed]",
      "text/latex": [
       "$\\displaystyle \\left[ E, \\  - 2 \\sqrt{E^{2} - M^{2}} \\sin{\\left(\\frac{\\theta}{2} \\right)} \\cos{\\left(\\phi \\right)} \\cos{\\left(\\frac{\\theta}{2} \\right)}, \\  - 2 \\sqrt{E^{2} - M^{2}} \\sin{\\left(\\phi \\right)} \\sin{\\left(\\frac{\\theta}{2} \\right)} \\cos{\\left(\\frac{\\theta}{2} \\right)}, \\  \\sqrt{E^{2} - M^{2}} \\left(\\sin^{2}{\\left(\\frac{\\theta}{2} \\right)} - \\cos^{2}{\\left(\\frac{\\theta}{2} \\right)}\\right)\\right]$"
      ],
      "text/plain": [
       "⎡         _________                             _________                     \n",
       "⎢        ╱  2    2     ⎛θ⎞           ⎛θ⎞       ╱  2    2            ⎛θ⎞    ⎛θ⎞\n",
       "⎢E, -2⋅╲╱  E  - M  ⋅sin⎜─⎟⋅cos(φ)⋅cos⎜─⎟, -2⋅╲╱  E  - M  ⋅sin(φ)⋅sin⎜─⎟⋅cos⎜─⎟\n",
       "⎣                      ⎝2⎠           ⎝2⎠                            ⎝2⎠    ⎝2⎠\n",
       "\n",
       "     _________                    ⎤\n",
       "    ╱  2    2  ⎛   2⎛θ⎞      2⎛θ⎞⎞⎥\n",
       ", ╲╱  E  - M  ⋅⎜sin ⎜─⎟ - cos ⎜─⎟⎟⎥\n",
       "               ⎝    ⎝2⎠       ⎝2⎠⎠⎦"
      ]
     },
     "execution_count": 6,
     "metadata": {},
     "output_type": "execute_result"
    }
   ],
   "source": [
    "kf4=hep.fourvec(kf);kf4"
   ]
  },
  {
   "cell_type": "markdown",
   "metadata": {},
   "source": [
    "### 2) Cross section"
   ]
  },
  {
   "cell_type": "markdown",
   "metadata": {},
   "source": [
    "The Feynman rules require $p^\\mu_f-k^\\mu_f$ at the outgoing vertex. Here this is done by hand because Jupyter refuses subtraction of lists. One also learns that Jupyter starts the indexing of vectors etc with 0."
   ]
  },
  {
   "cell_type": "code",
   "execution_count": 7,
   "metadata": {},
   "outputs": [
    {
     "data": {
      "image/png": "[encoded data removed]",
      "text/latex": [
       "$\\displaystyle \\left[ 0, \\  \\sqrt{E^{2} - M^{2}} \\left(- \\sin{\\left(\\phi - \\theta \\right)} + \\sin{\\left(\\phi + \\theta \\right)}\\right), \\  \\sqrt{E^{2} - M^{2}} \\left(\\cos{\\left(\\phi - \\theta \\right)} - \\cos{\\left(\\phi + \\theta \\right)}\\right), \\  2 \\sqrt{E^{2} - M^{2}} \\cos{\\left(\\theta \\right)}\\right]$"
      ],
      "text/plain": [
       "⎡      _________                                _________                     \n",
       "⎢     ╱  2    2                                ╱  2    2                      \n",
       "⎣0, ╲╱  E  - M  ⋅(-sin(φ - θ) + sin(φ + θ)), ╲╱  E  - M  ⋅(cos(φ - θ) - cos(φ \n",
       "\n",
       "            _________       ⎤\n",
       "           ╱  2    2        ⎥\n",
       "+ θ)), 2⋅╲╱  E  - M  ⋅cos(θ)⎦"
      ]
     },
     "execution_count": 7,
     "metadata": {},
     "output_type": "execute_result"
    }
   ],
   "source": [
    "p4=[0,2*simplify(hep.fourvec(pf)[1]),2*simplify(hep.fourvec(pf)[2]),2*simplify(hep.fourvec(pf)[3])];p4"
   ]
  },
  {
   "cell_type": "code",
   "execution_count": 8,
   "metadata": {},
   "outputs": [
    {
     "data": {
      "image/png": "[encoded data removed]",
      "text/latex": [
       "$\\displaystyle \\frac{\\sqrt{E^{2} - M^{2}} \\left(i \\sin{\\left(\\phi \\right)} - \\cos{\\left(\\phi \\right)}\\right) \\sin{\\left(\\theta \\right)}}{E}$"
      ],
      "text/plain": [
       "   _________                           \n",
       "  ╱  2    2                            \n",
       "╲╱  E  - M  ⋅(ⅈ⋅sin(φ) - cos(φ))⋅sin(θ)\n",
       "───────────────────────────────────────\n",
       "                   E                   "
      ]
     },
     "execution_count": 8,
     "metadata": {},
     "output_type": "execute_result"
    }
   ],
   "source": [
    "tmp=hep.dotprod4(hep.vbu(ki,1,pin,-1),p4)/4/E**2;tmp"
   ]
  },
  {
   "cell_type": "code",
   "execution_count": 9,
   "metadata": {},
   "outputs": [
    {
     "data": {
      "image/png": "[encoded data removed]",
      "text/latex": [
       "$\\displaystyle \\frac{P \\left(i \\sin{\\left(\\phi \\right)} - \\cos{\\left(\\phi \\right)}\\right) \\sin{\\left(\\theta \\right)}}{E}$"
      ],
      "text/plain": [
       "P⋅(ⅈ⋅sin(φ) - cos(φ))⋅sin(θ)\n",
       "────────────────────────────\n",
       "             E              "
      ]
     },
     "execution_count": 9,
     "metadata": {},
     "output_type": "execute_result"
    }
   ],
   "source": [
    "t1=tmp.subs(E**2-M**2,P**2);t1"
   ]
  },
  {
   "cell_type": "code",
   "execution_count": 10,
   "metadata": {},
   "outputs": [
    {
     "data": {
      "image/png": "[encoded data removed]",
      "text/latex": [
       "$\\displaystyle \\frac{\\left(E^{2} - M^{2}\\right) \\sin^{2}{\\left(\\theta \\right)}}{E^{2}}$"
      ],
      "text/plain": [
       "⎛ 2    2⎞    2   \n",
       "⎝E  - M ⎠⋅sin (θ)\n",
       "─────────────────\n",
       "         2       \n",
       "        E        "
      ]
     },
     "execution_count": 10,
     "metadata": {},
     "output_type": "execute_result"
    }
   ],
   "source": [
    "t1sq=simplify((t1*conjugate(t1)).subs(P**2,E**2-M**2));t1sq"
   ]
  },
  {
   "cell_type": "code",
   "execution_count": 11,
   "metadata": {},
   "outputs": [
    {
     "data": {
      "image/png": "[encoded data removed]",
      "text/latex": [
       "$\\displaystyle - \\frac{m \\sqrt{E^{2} - M^{2}} \\cos{\\left(\\theta \\right)}}{E^{2}}$"
      ],
      "text/plain": [
       "      _________        \n",
       "     ╱  2    2         \n",
       "-m⋅╲╱  E  - M  ⋅cos(θ) \n",
       "───────────────────────\n",
       "            2          \n",
       "           E           "
      ]
     },
     "execution_count": 11,
     "metadata": {},
     "output_type": "execute_result"
    }
   ],
   "source": [
    "t2=hep.dotprod4(hep.vbu(ki,1,pin,1),p4)/4/E**2;t2"
   ]
  },
  {
   "cell_type": "markdown",
   "metadata": {},
   "source": [
    "The the cross section for unpolarized beams is independent of $\\phi$."
   ]
  },
  {
   "cell_type": "code",
   "execution_count": 12,
   "metadata": {},
   "outputs": [
    {
     "data": {
      "image/png": "[encoded data removed]",
      "text/latex": [
       "$\\displaystyle \\frac{m^{2} \\left(E^{2} - M^{2}\\right) \\cos^{2}{\\left(\\theta \\right)}}{E^{4}}$"
      ],
      "text/plain": [
       " 2 ⎛ 2    2⎞    2   \n",
       "m ⋅⎝E  - M ⎠⋅cos (θ)\n",
       "────────────────────\n",
       "          4         \n",
       "         E          "
      ]
     },
     "execution_count": 12,
     "metadata": {},
     "output_type": "execute_result"
    }
   ],
   "source": [
    "t2sq=t2**2;t2sq"
   ]
  },
  {
   "cell_type": "code",
   "execution_count": 13,
   "metadata": {},
   "outputs": [
    {
     "data": {
      "image/png": "[encoded data removed]",
      "text/latex": [
       "$\\displaystyle \\frac{\\left(E^{2} - M^{2}\\right) \\left(E^{2} \\sin^{2}{\\left(\\theta \\right)} + m^{2} \\cos^{2}{\\left(\\theta \\right)}\\right)}{2 E^{4}}$"
      ],
      "text/plain": [
       "⎛ 2    2⎞ ⎛ 2    2       2    2   ⎞\n",
       "⎝E  - M ⎠⋅⎝E ⋅sin (θ) + m ⋅cos (θ)⎠\n",
       "───────────────────────────────────\n",
       "                   4               \n",
       "                2⋅E                "
      ]
     },
     "execution_count": 13,
     "metadata": {},
     "output_type": "execute_result"
    }
   ],
   "source": [
    "tsqav=simplify((t1sq+t2sq)/2);tsqav"
   ]
  },
  {
   "cell_type": "markdown",
   "metadata": {},
   "source": [
    "The invariants $t,t_0,s$ expressed in CM variables:"
   ]
  },
  {
   "cell_type": "code",
   "execution_count": 14,
   "metadata": {},
   "outputs": [
    {
     "data": {
      "image/png": "[encoded data removed]",
      "text/latex": [
       "$\\displaystyle - 2 E^{2} + M^{2} + m^{2} + 2 \\sqrt{E^{2} - M^{2}} \\sqrt{E^{2} - m^{2}} \\cos{\\left(\\theta \\right)}$"
      ],
      "text/plain": [
       "                        _________    _________       \n",
       "     2    2    2       ╱  2    2    ╱  2    2        \n",
       "- 2⋅E  + M  + m  + 2⋅╲╱  E  - M  ⋅╲╱  E  - m  ⋅cos(θ)"
      ]
     },
     "execution_count": 14,
     "metadata": {},
     "output_type": "execute_result"
    }
   ],
   "source": [
    "tCM=m**2+M**2-2*E**2+2*sqrt(E**2-m**2)*sqrt(E**2-M**2)*cos(theta);tCM"
   ]
  },
  {
   "cell_type": "code",
   "execution_count": 15,
   "metadata": {},
   "outputs": [
    {
     "data": {
      "image/png": "[encoded data removed]",
      "text/latex": [
       "$\\displaystyle - 2 E^{2} + 2 \\sqrt{E^{2} - M^{2}} \\sqrt{E^{2} - m^{2}} \\cos{\\left(\\theta \\right)}$"
      ],
      "text/plain": [
       "              _________    _________       \n",
       "     2       ╱  2    2    ╱  2    2        \n",
       "- 2⋅E  + 2⋅╲╱  E  - M  ⋅╲╱  E  - m  ⋅cos(θ)"
      ]
     },
     "execution_count": 15,
     "metadata": {},
     "output_type": "execute_result"
    }
   ],
   "source": [
    "t0CM=tCM-M**2-m**2;t0CM"
   ]
  },
  {
   "cell_type": "code",
   "execution_count": 16,
   "metadata": {},
   "outputs": [
    {
     "data": {
      "image/png": "[encoded data removed]",
      "text/latex": [
       "$\\displaystyle 4 E^{2}$"
      ],
      "text/plain": [
       "   2\n",
       "4⋅E "
      ]
     },
     "execution_count": 16,
     "metadata": {},
     "output_type": "execute_result"
    }
   ],
   "source": [
    "sCM=4*E**2;sCM"
   ]
  },
  {
   "cell_type": "markdown",
   "metadata": {},
   "source": [
    "Guessing from the results of eemumu we try"
   ]
  },
  {
   "cell_type": "code",
   "execution_count": 17,
   "metadata": {},
   "outputs": [
    {
     "data": {
      "image/png": "[encoded data removed]",
      "text/latex": [
       "$\\displaystyle \\frac{2 m^{2} s - 2 s t - 2 t_{0}^{2}}{s^{2}}$"
      ],
      "text/plain": [
       "   2                 2\n",
       "2⋅m ⋅s - 2⋅s⋅t - 2⋅t₀ \n",
       "──────────────────────\n",
       "           2          \n",
       "          s           "
      ]
     },
     "execution_count": 17,
     "metadata": {},
     "output_type": "execute_result"
    }
   ],
   "source": [
    "tsqav_inv=2*(s*m**2-s*t-t0**2)/s**2;tsqav_inv"
   ]
  },
  {
   "cell_type": "code",
   "execution_count": 18,
   "metadata": {},
   "outputs": [],
   "source": [
    "tsqav_inv2=tsqav_inv.subs([(s,sCM),(t,tCM),(t0,t0CM)])"
   ]
  },
  {
   "cell_type": "code",
   "execution_count": 19,
   "metadata": {},
   "outputs": [
    {
     "data": {
      "text/plain": [
       "True"
      ]
     },
     "execution_count": 19,
     "metadata": {},
     "output_type": "execute_result"
    }
   ],
   "source": [
    "tsqav!=tsqav_inv2"
   ]
  },
  {
   "cell_type": "markdown",
   "metadata": {},
   "source": [
    "and prove it. Another useful form is"
   ]
  },
  {
   "cell_type": "code",
   "execution_count": 20,
   "metadata": {},
   "outputs": [
    {
     "data": {
      "image/png": "[encoded data removed]",
      "text/latex": [
       "$\\displaystyle \\frac{\\beta^{2} \\sin^{2}{\\left(\\theta \\right)}}{2} + \\frac{\\beta^{2} m^{2} \\cos^{2}{\\left(\\theta \\right)}}{2 E^{2}}$"
      ],
      "text/plain": [
       " 2    2       2  2    2   \n",
       "β ⋅sin (θ)   β ⋅m ⋅cos (θ)\n",
       "────────── + ─────────────\n",
       "    2                2    \n",
       "                  2⋅E     "
      ]
     },
     "execution_count": 20,
     "metadata": {},
     "output_type": "execute_result"
    }
   ],
   "source": [
    "tsqav_alt=beta**2*sin(theta)**2/2+m**2*beta**2*cos(theta)**2/2/E**2;tsqav_alt"
   ]
  },
  {
   "cell_type": "code",
   "execution_count": 21,
   "metadata": {},
   "outputs": [
    {
     "data": {
      "image/png": "[encoded data removed]",
      "text/latex": [
       "$\\displaystyle 0$"
      ],
      "text/plain": [
       "0"
      ]
     },
     "execution_count": 21,
     "metadata": {},
     "output_type": "execute_result"
    }
   ],
   "source": [
    "simplify(tsqav_alt.subs(beta**2,1-M**2/E**2)-tsqav)"
   ]
  },
  {
   "cell_type": "markdown",
   "metadata": {},
   "source": [
    "### 3) Polarized Beams"
   ]
  },
  {
   "cell_type": "markdown",
   "metadata": {},
   "source": [
    "In contrast to the procedure in the eemumu notebook we here have pions travelling in the $\\theta,\\phi$ direction produced from positrons and electrons  with spins up and down along the $x$ axis. The columns of the transformation matrix yield for $\\theta=\\pi/2, \\phi=0$\n",
    "$$\\left|\\uparrow\\right\\rangle={\\textstyle\\frac{1}{\\sqrt{2}}\\left(|\\frac{1}{2}\\rangle+|\\frac{-1}{2}\\rangle\\right)}$$\n",
    "\n",
    "$$\\left|\\downarrow\\right\\rangle={\\textstyle\\frac{1}{\\sqrt{2}}\\left(-|\\frac{1}{2}\\rangle+|\\frac{-1}\n",
    "{2}\\rangle\\right)}$$\n",
    "leading to the helicity states \n",
    "\n",
    "$$\\begin{array}[]{ll}\\left|e^+\\uparrow\\right\\rangle&={\\textstyle\\frac{1}{\\sqrt{2}}\\left(|e^+,R\\rangle+|e^+,L\\rangle\\right)}\\\\ \\left|e^-\\downarrow\\right\\rangle&={\\textstyle\\frac{1}{\\sqrt{2}}\\left(-|e^-,L\\rangle+|e^-,R\\rangle\\right)}\\enspace.\\end{array}$$\n",
    "The incoming state is calculated from the product of the helicity staes. For $m=0$ unly\n",
    "$$\\left|e^+\\uparrow\\right\\rangle\\left|e^-\\downarrow\\right\\rangle=\\textstyle\\frac{1}{2}\\left(|e^+,L\\rangle|e^-,R\\rangle-|e^+,R\\rangle|e^-,L\\rangle\\right)\\enspace $$\n",
    "survives. Thus the incoming current has to be calculatet from \n",
    "$\\bar{v_L}(k_i)\\gamma^{\\mu}u_R(p_i)-\\bar{v_R}(k_i)\\gamma^{\\mu}u_L(p_i)$."
   ]
  },
  {
   "cell_type": "code",
   "execution_count": 22,
   "metadata": {},
   "outputs": [
    {
     "data": {
      "image/png": "[encoded data removed]",
      "text/latex": [
       "$\\displaystyle \\left[ 0, \\  - 2 E, \\  - 2 i E, \\  0\\right]$"
      ],
      "text/plain": [
       "[0, -2⋅E, -2⋅ⅈ⋅E, 0]"
      ]
     },
     "execution_count": 22,
     "metadata": {},
     "output_type": "execute_result"
    }
   ],
   "source": [
    "hep.vbu(ki,-1,pin,1)"
   ]
  },
  {
   "cell_type": "code",
   "execution_count": 23,
   "metadata": {},
   "outputs": [
    {
     "data": {
      "image/png": "[encoded data removed]",
      "text/latex": [
       "$\\displaystyle \\left[ 0, \\  2 E, \\  - 2 i E, \\  0\\right]$"
      ],
      "text/plain": [
       "[0, 2⋅E, -2⋅ⅈ⋅E, 0]"
      ]
     },
     "execution_count": 23,
     "metadata": {},
     "output_type": "execute_result"
    }
   ],
   "source": [
    "hep.vbu(ki,1,pin,-1)"
   ]
  },
  {
   "cell_type": "code",
   "execution_count": 24,
   "metadata": {},
   "outputs": [
    {
     "data": {
      "image/png": "[encoded data removed]",
      "text/latex": [
       "$\\displaystyle \\left[ 0, \\  - 2 E, \\  0, \\  0\\right]$"
      ],
      "text/plain": [
       "[0, -2⋅E, 0, 0]"
      ]
     },
     "execution_count": 24,
     "metadata": {},
     "output_type": "execute_result"
    }
   ],
   "source": [
    "vbudif=[0,-2*E,0,0];vbudif"
   ]
  },
  {
   "cell_type": "markdown",
   "metadata": {},
   "source": [
    "The calculation of the amplitude is very simple via"
   ]
  },
  {
   "cell_type": "code",
   "execution_count": 25,
   "metadata": {},
   "outputs": [
    {
     "data": {
      "image/png": "[encoded data removed]",
      "text/latex": [
       "$\\displaystyle - \\frac{\\sqrt{E^{2} - M^{2}} \\sin{\\left(\\theta \\right)} \\cos{\\left(\\phi \\right)}}{E}$"
      ],
      "text/plain": [
       "    _________               \n",
       "   ╱  2    2                \n",
       "-╲╱  E  - M  ⋅sin(θ)⋅cos(φ) \n",
       "────────────────────────────\n",
       "             E              "
      ]
     },
     "execution_count": 25,
     "metadata": {},
     "output_type": "execute_result"
    }
   ],
   "source": [
    "tmp=simplify(vbudif[1]*p4[1])/4/E**2;tmp"
   ]
  },
  {
   "cell_type": "markdown",
   "metadata": {},
   "source": [
    "which gives (up to kinematical factors) the polarized cross section after squaring and polishing"
   ]
  },
  {
   "cell_type": "code",
   "execution_count": 26,
   "metadata": {},
   "outputs": [
    {
     "data": {
      "image/png": "[encoded data removed]",
      "text/latex": [
       "$\\displaystyle \\frac{\\left(E^{2} - M^{2}\\right) \\sin^{2}{\\left(\\theta \\right)} \\cos^{2}{\\left(\\phi \\right)}}{E^{2}}$"
      ],
      "text/plain": [
       "⎛ 2    2⎞    2       2   \n",
       "⎝E  - M ⎠⋅sin (θ)⋅cos (φ)\n",
       "─────────────────────────\n",
       "             2           \n",
       "            E            "
      ]
     },
     "execution_count": 26,
     "metadata": {},
     "output_type": "execute_result"
    }
   ],
   "source": [
    "polsqP=tmp**2;polsqP"
   ]
  },
  {
   "cell_type": "code",
   "execution_count": 27,
   "metadata": {},
   "outputs": [
    {
     "data": {
      "image/png": "[encoded data removed]",
      "text/latex": [
       "$\\displaystyle \\beta^{2} \\sin^{2}{\\left(\\theta \\right)} \\cos^{2}{\\left(\\phi \\right)}$"
      ],
      "text/plain": [
       " 2    2       2   \n",
       "β ⋅sin (θ)⋅cos (φ)"
      ]
     },
     "execution_count": 27,
     "metadata": {},
     "output_type": "execute_result"
    }
   ],
   "source": [
    "sigP=polsqP.subs(E**2-M**2,E**2*beta**2);sigP"
   ]
  },
  {
   "cell_type": "markdown",
   "metadata": {},
   "source": [
    "which is the result of the standard reference Y.S.Tsai, PRD12, 3533 (1975). Combining with the unpolarized cross section (next line) we obtain the result for beams with \n",
    "a partial polarization $\\xi^2$"
   ]
  },
  {
   "cell_type": "code",
   "execution_count": 28,
   "metadata": {},
   "outputs": [
    {
     "data": {
      "image/png": "[encoded data removed]",
      "text/latex": [
       "$\\displaystyle \\frac{\\beta^{2} \\sin^{2}{\\left(\\theta \\right)}}{2}$"
      ],
      "text/plain": [
       " 2    2   \n",
       "β ⋅sin (θ)\n",
       "──────────\n",
       "    2     "
      ]
     },
     "execution_count": 28,
     "metadata": {},
     "output_type": "execute_result"
    }
   ],
   "source": [
    "sigU=beta**2*sin(theta)**2/2;sigU"
   ]
  },
  {
   "cell_type": "code",
   "execution_count": 29,
   "metadata": {},
   "outputs": [
    {
     "data": {
      "image/png": "[encoded data removed]",
      "text/latex": [
       "$\\displaystyle \\beta^{2} \\xi^{2} \\sin^{2}{\\left(\\theta \\right)} \\cos^{2}{\\left(\\phi \\right)} + \\frac{\\beta^{2} \\cdot \\left(1 - \\xi^{2}\\right) \\sin^{2}{\\left(\\theta \\right)}}{2}$"
      ],
      "text/plain": [
       "                         2 ⎛     2⎞    2   \n",
       " 2  2    2       2      β ⋅⎝1 - ξ ⎠⋅sin (θ)\n",
       "β ⋅ξ ⋅sin (θ)⋅cos (φ) + ───────────────────\n",
       "                                 2         "
      ]
     },
     "execution_count": 29,
     "metadata": {},
     "output_type": "execute_result"
    }
   ],
   "source": [
    "(1-xi**2)*sigU+xi**2*sigP"
   ]
  },
  {
   "cell_type": "code",
   "execution_count": 30,
   "metadata": {},
   "outputs": [
    {
     "data": {
      "image/png": "[encoded data removed]",
      "text/latex": [
       "$\\displaystyle - \\frac{\\beta^{2} \\xi^{2} \\sin^{2}{\\left(\\theta \\right)} \\cos{\\left(2 \\phi \\right)}}{2} + \\frac{\\beta^{2} \\sin^{2}{\\left(\\theta \\right)}}{2}$"
      ],
      "text/plain": [
       "   2  2    2                2    2   \n",
       "  β ⋅ξ ⋅sin (θ)⋅cos(2⋅φ)   β ⋅sin (θ)\n",
       "- ────────────────────── + ──────────\n",
       "            2                  2     "
      ]
     },
     "execution_count": 30,
     "metadata": {},
     "output_type": "execute_result"
    }
   ],
   "source": [
    "sig=sigU-(xi**2*beta**2*sin(theta)**2*cos(2*phi))/2;sig"
   ]
  },
  {
   "cell_type": "markdown",
   "metadata": {},
   "source": [
    "and finally after conventionally switching to a magnetic field along the $y$ axis the cross section $d\\sigma/d\\Omega$ "
   ]
  },
  {
   "cell_type": "code",
   "execution_count": 31,
   "metadata": {},
   "outputs": [
    {
     "name": "stdout",
     "output_type": "stream",
     "text": [
      "dsigma/dOmega=\n"
     ]
    },
    {
     "data": {
      "image/png": "[encoded data removed]",
      "text/latex": [
       "$\\displaystyle \\frac{\\alpha^{2} \\beta^{2} \\left(- \\xi^{2} \\cos{\\left(2 \\phi \\right)} + 1\\right) \\sin^{2}{\\left(\\theta \\right)}}{32 E^{2}}$"
      ],
      "text/plain": [
       " 2  2 ⎛   2             ⎞    2   \n",
       "α ⋅β ⋅⎝- ξ ⋅cos(2⋅φ) + 1⎠⋅sin (θ)\n",
       "─────────────────────────────────\n",
       "                  2              \n",
       "              32⋅E               "
      ]
     },
     "execution_count": 31,
     "metadata": {},
     "output_type": "execute_result"
    }
   ],
   "source": [
    "dsigdOm=simplify(alpha**2/16/E**2*sig);print('dsigma/dOmega='); dsigdOm"
   ]
  },
  {
   "cell_type": "markdown",
   "metadata": {},
   "source": [
    "### 4) e$\\pi$ scattering"
   ]
  },
  {
   "cell_type": "markdown",
   "metadata": {},
   "source": [
    "The amplitudes squared for $e\\pi$ scattering is obtained via crossing $s\\leftrightarrow t$ with a minus sign because\n",
    "only one fermion line is crossed"
   ]
  },
  {
   "cell_type": "code",
   "execution_count": 32,
   "metadata": {},
   "outputs": [
    {
     "data": {
      "image/png": "[encoded data removed]",
      "text/latex": [
       "$\\displaystyle \\frac{- 2 m^{2} t + 2 s t + 2 s_{0}^{2}}{t^{2}}$"
      ],
      "text/plain": [
       "     2                 2\n",
       "- 2⋅m ⋅t + 2⋅s⋅t + 2⋅s₀ \n",
       "────────────────────────\n",
       "            2           \n",
       "           t            "
      ]
     },
     "execution_count": 32,
     "metadata": {},
     "output_type": "execute_result"
    }
   ],
   "source": [
    "tsqav_sc=-2*(t*m**2-s*t-s0**2)/t**2;tsqav_sc"
   ]
  },
  {
   "cell_type": "code",
   "execution_count": 33,
   "metadata": {},
   "outputs": [
    {
     "name": "stdout",
     "output_type": "stream",
     "text": [
      "dsigma/dt=\n"
     ]
    },
    {
     "data": {
      "image/png": "[encoded data removed]",
      "text/latex": [
       "$\\displaystyle \\frac{\\pi \\alpha^{2} \\left(- 2 m^{2} t + 2 s t + 2 s_{0}^{2}\\right)}{s_{0}^{2} t^{2} \\left(- \\frac{4 M^{2} m^{2}}{s_{0}^{2}} + 1\\right)}$"
      ],
      "text/plain": [
       "   2 ⎛     2                 2⎞\n",
       "π⋅α ⋅⎝- 2⋅m ⋅t + 2⋅s⋅t + 2⋅s₀ ⎠\n",
       "───────────────────────────────\n",
       "            ⎛     2  2    ⎞    \n",
       "       2  2 ⎜  4⋅M ⋅m     ⎟    \n",
       "     s₀ ⋅t ⋅⎜- ─────── + 1⎟    \n",
       "            ⎜      2      ⎟    \n",
       "            ⎝    s₀       ⎠    "
      ]
     },
     "execution_count": 33,
     "metadata": {},
     "output_type": "execute_result"
    }
   ],
   "source": [
    "dsigdt=16*pi**2*alpha**2/(16*pi*s0**2*(1-4*m**2*M**2/s0**2))*tsqav_sc;print('dsigma/dt='); dsigdt"
   ]
  },
  {
   "cell_type": "markdown",
   "metadata": {},
   "source": [
    "The Mott cross section is obtained in the limit $M \\rightarrow\\infty$. It is identical to the result of eemumu notebook. The basic difference between pions and protons is the magnetic moment of the proton which is proportional to $1/M$."
   ]
  },
  {
   "cell_type": "code",
   "execution_count": null,
   "metadata": {},
   "outputs": [],
   "source": []
  }
 ],
 "metadata": {
  "kernelspec": {
   "display_name": "Python 3 (ipykernel)",
   "language": "python",
   "name": "python3"
  },
  "language_info": {
   "codemirror_mode": {
    "name": "ipython",
    "version": 3
   },
   "file_extension": ".py",
   "mimetype": "text/x-python",
   "name": "python",
   "nbconvert_exporter": "python",
   "pygments_lexer": "ipython3",
   "version": "3.10.3"
  }
 },
 "nbformat": 4,
 "nbformat_minor": 2
}
