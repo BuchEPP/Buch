{
 "cells": [
  {
   "cell_type": "markdown",
   "id": "63dc204c-afd5-4e21-9a71-e9346f6f24ab",
   "metadata": {
    "tags": []
   },
   "source": [
    "# Random general inversion\n",
    "\n",
    "Define a general ppf-function for an arbitrary 1-dim function pdf(x, args).\n",
    "Use it to generate random numbers, which are distributed according to pdf. \n",
    "Follow the instruction in chapter 1.6. \n",
    "This numerical method to generate a ppf can be used for all 1-D functions,\n",
    "but it is quite slow. "
   ]
  },
  {
   "cell_type": "code",
   "execution_count": 1,
   "id": "3494a77a-ae1e-4a27-ba11-66a5df54b321",
   "metadata": {
    "tags": []
   },
   "outputs": [],
   "source": [
    "import numpy as np\n",
    "import scipy as sp\n",
    "import matplotlib.pyplot as plt \n",
    "from scipy.integrate import quad\n",
    "from scipy.stats import expon\n",
    "from scipy.optimize import brentq"
   ]
  },
  {
   "cell_type": "code",
   "execution_count": 2,
   "id": "73315c61-39a6-4e6c-9efb-6d0d568d442d",
   "metadata": {
    "tags": []
   },
   "outputs": [],
   "source": [
    "# example pdf-function, change it according to your needs\n",
    "def pdf(x,*args):\n",
    "    return (x-args[0])**2 + args[1]"
   ]
  },
  {
   "cell_type": "code",
   "execution_count": 3,
   "id": "95af5b45-60a4-408d-bd6a-945bd943cb7c",
   "metadata": {
    "tags": []
   },
   "outputs": [],
   "source": [
    "def cdf(x,func, *args):\n",
    "    return quad(func,0,x,args=args)[0]"
   ]
  },
  {
   "cell_type": "code",
   "execution_count": 4,
   "id": "63048c80-3fd0-420c-8395-be1e530dcfd6",
   "metadata": {
    "tags": []
   },
   "outputs": [],
   "source": [
    "def ppf(y, low, high, pdf, *args):\n",
    "    \"\"\"\n",
    "    Calculate the ppf numerically for a 1-dim function pdf(x, *args)\n",
    "    \n",
    "    Parameters:\n",
    "    y : float in (0,1)\n",
    "    low : float of lower limit in x\n",
    "    high: float with upper limit in x\n",
    "    pdf : function pdf(x,*args)\n",
    "    \"\"\"\n",
    "    def cdfy(x,func, *args):\n",
    "        # calculate the cdf of func(x,*args)\n",
    "        # normalize to integral over full range\n",
    "        # subtract y-value because brentq returns the root,\n",
    "        # i.e. the x-value where fx/f0-y == 0\n",
    "        fx = quad(func,low,x,args=args)[0]\n",
    "        f0 = quad(func,low,high,args=args)[0]\n",
    "        return fx/f0 -y\n",
    "    return brentq(cdfy,low,high,args=(pdf,*args))"
   ]
  },
  {
   "cell_type": "code",
   "execution_count": 5,
   "id": "92a992c7-345c-4e0f-9f57-60ce496dad1b",
   "metadata": {
    "tags": []
   },
   "outputs": [],
   "source": [
    "def ppfrand(Y, low, high, pdf, *args):\n",
    "    \"\"\"\n",
    "    Generate random numbers according to the pdf function using \n",
    "    the array Y of uniform random numbers Y\n",
    "    \"\"\"\n",
    "    l = []\n",
    "    for y in Y:\n",
    "        l.append(ppf(y,low,high,pdf,*args))\n",
    "    return np.array(l)"
   ]
  },
  {
   "cell_type": "code",
   "execution_count": 6,
   "id": "25190904-c20f-4b67-a8d4-410f1db7c477",
   "metadata": {
    "tags": []
   },
   "outputs": [],
   "source": [
    "def fsin(t,om,phi0):\n",
    "    # define a complicated function f(x,*args)\n",
    "    return np.sqrt((1+np.sin(om*t+phi0))*om*t)"
   ]
  },
  {
   "cell_type": "code",
   "execution_count": 7,
   "id": "8c763429-fb92-496a-bacb-b8767f53751e",
   "metadata": {
    "tags": []
   },
   "outputs": [
    {
     "data": {
      "text/plain": [
       "[<matplotlib.lines.Line2D at 0x12b2e2040>]"
      ]
     },
     "execution_count": 7,
     "metadata": {},
     "output_type": "execute_result"
    },
    {
     "data": {
      "image/png": "[encoded data removed]",
      "text/plain": [
       "<Figure size 640x480 with 1 Axes>"
      ]
     },
     "metadata": {},
     "output_type": "display_data"
    }
   ],
   "source": [
    "# plot the function and histogram of random numbers\n",
    "# normalize both properly\n",
    "low = 0\n",
    "high = 2*np.pi\n",
    "om = 2\n",
    "phi0 = 0.\n",
    "N = 1000\n",
    "nbin = 30\n",
    "binsize = (high-low)/nbin\n",
    "\n",
    "# get histogram of random numbers\n",
    "Y  = np.random.rand(N) # array of uniform random numbers\n",
    "R  = ppfrand(Y,low,high,fsin,om,phi0) # array of random numbers\n",
    "plt.hist(R, bins=nbin) # plot histogram of random numbers\n",
    "\n",
    "# calculate function pdf(x,..) \n",
    "# normalise by dividing by the integral over the whole range and \n",
    "# multiplying by N and the binsize to compare with the histogram.\n",
    "x = np.linspace(low,high)\n",
    "y = fsin(x,om,phi0)/quad(fsin,low,high,args=(om,phi0))[0]*N*binsize\n",
    "plt.plot(x,y) # plot function"
   ]
  },
  {
   "cell_type": "code",
   "execution_count": null,
   "id": "ede2647a-e877-49a7-96c3-5e0f19d16ef6",
   "metadata": {},
   "outputs": [],
   "source": []
  }
 ],
 "metadata": {
  "kernelspec": {
   "display_name": "Python 3 (ipykernel)",
   "language": "python",
   "name": "python3"
  },
  "language_info": {
   "codemirror_mode": {
    "name": "ipython",
    "version": 3
   },
   "file_extension": ".py",
   "mimetype": "text/x-python",
   "name": "python",
   "nbconvert_exporter": "python",
   "pygments_lexer": "ipython3",
   "version": "3.9.16"
  }
 },
 "nbformat": 4,
 "nbformat_minor": 5
}
