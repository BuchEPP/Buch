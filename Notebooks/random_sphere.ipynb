{
 "cells": [
  {
   "cell_type": "markdown",
   "metadata": {},
   "source": [
    "# Calculation with random numbers\n",
    "\n",
    "These calculations are explained in chapter 1.6.\n",
    "They are used in the exercises 1.27, 1.28, 1.29\n",
    "\n",
    "Calculations\n",
    "- calculate area of cicle and $\\pi$ with random numbers\n",
    "- calculate the volume of 3-D sphere\n",
    "- calculate the volume of a 5-D sphere"
   ]
  },
  {
   "cell_type": "code",
   "execution_count": 2,
   "metadata": {
    "tags": []
   },
   "outputs": [],
   "source": [
    "import math\n",
    "import numpy as np"
   ]
  },
  {
   "cell_type": "code",
   "execution_count": null,
   "metadata": {},
   "outputs": [],
   "source": [
    "import numpy as np\n",
    "# N random numbers for (x,y)\n",
    "N = 10**5\n",
    "Xa = np.random.rand(N) # np.array\n",
    "Ya = np.random.rand(N) # np.array\n",
    "# Number of (x,y) Pairs inside circle of radius 1\n",
    "Ncircle = sum(Xa**2 + Ya**2 < 1)\n",
    "pi = 4*float(Ncircle)/N\n",
    "print(pi)"
   ]
  },
  {
   "cell_type": "markdown",
   "metadata": {},
   "source": [
    "## Calculate area of circle\n",
    "\n",
    "see fig 1.40 in the book"
   ]
  },
  {
   "cell_type": "code",
   "execution_count": 8,
   "metadata": {
    "tags": []
   },
   "outputs": [
    {
     "name": "stdout",
     "output_type": "stream",
     "text": [
      "Area of cicle:  28.31796\n",
      "number pi:  3.14644\n"
     ]
    }
   ],
   "source": [
    "# calculate area A of circle with Radius R\n",
    "# show that A = pi for R=1\n",
    "N = 10**5\n",
    "R = 3\n",
    "#  N pseudo numbers für x,y in intervall  [0,1)\n",
    "X = np.random.rand(N)\n",
    "Y = np.random.rand(N)\n",
    "# number of x-y Pair inside the circle\n",
    "N_circle = sum(X**2 + Y**2 < 1)\n",
    "A = 4 * R**2 * float(N_circle) / N\n",
    "print(\"Area of cicle: \",A)\n",
    "print(\"number pi: \",A/R**2)"
   ]
  },
  {
   "cell_type": "markdown",
   "metadata": {
    "tags": []
   },
   "source": [
    "## Calculate the volume of a 3-D sphere\n",
    "see exercise 1.28"
   ]
  },
  {
   "cell_type": "code",
   "execution_count": 16,
   "metadata": {
    "tags": []
   },
   "outputs": [
    {
     "data": {
      "text/plain": [
       "4.19024"
      ]
     },
     "execution_count": 16,
     "metadata": {},
     "output_type": "execute_result"
    }
   ],
   "source": [
    "# 3-dim sphere with radius R=3\n",
    "N = 10**5\n",
    "R = 3\n",
    "#  N pseudo random numbers in [0,1)\n",
    "X = np.random.rand(N)\n",
    "Y = np.random.rand(N)\n",
    "Z = np.random.rand(N)\n",
    "# number Np of (x,y,z) pairs inside sphere\n",
    "Np = sum(X**2 + Y**2 + Z**2 < 1)\n",
    "V = 8 * R**3 * float(Np) / N\n",
    "V"
   ]
  },
  {
   "cell_type": "code",
   "execution_count": 13,
   "metadata": {
    "tags": []
   },
   "outputs": [
    {
     "data": {
      "text/plain": [
       "113.09733552923255"
      ]
     },
     "execution_count": 13,
     "metadata": {},
     "output_type": "execute_result"
    }
   ],
   "source": [
    "# compare with formula for volume of sphere\n",
    "Va = 4*math.pi*R**3/3\n",
    "Va"
   ]
  },
  {
   "cell_type": "markdown",
   "metadata": {},
   "source": [
    "## Volume of 5-dim sphere\n",
    "see exercise 1.29"
   ]
  },
  {
   "cell_type": "code",
   "execution_count": 17,
   "metadata": {
    "tags": []
   },
   "outputs": [
    {
     "data": {
      "text/plain": [
       "1277.923392"
      ]
     },
     "execution_count": 17,
     "metadata": {},
     "output_type": "execute_result"
    }
   ],
   "source": [
    "# 5-dim sphere with radius R=3\n",
    "N = 10**6\n",
    "R = 3\n",
    "#  N pseudo random numbers in [0,1)\n",
    "X = np.random.rand(N)\n",
    "Y = np.random.rand(N)\n",
    "Z = np.random.rand(N)\n",
    "S = np.random.rand(N)\n",
    "T = np.random.rand(N)\n",
    "# number Np of (x,y,z) pairs inside 5-D sphere\n",
    "Np = sum(X**2 + Y**2 + Z**2 + S**2 + T**2 < 1)\n",
    "V = 32 * R**5 * float(Np) / N\n",
    "V"
   ]
  },
  {
   "cell_type": "code",
   "execution_count": 18,
   "metadata": {
    "tags": []
   },
   "outputs": [
    {
     "data": {
      "text/plain": [
       "1279.1007303811812"
      ]
     },
     "execution_count": 18,
     "metadata": {},
     "output_type": "execute_result"
    }
   ],
   "source": [
    "# analytical formula (see wikipedia.de/Kugel)\n",
    "ndim = 5\n",
    "Vn = R**ndim *math.pi**(ndim/2.)/math.gamma(0.5*ndim+1)\n",
    "Vn"
   ]
  }
 ],
 "metadata": {
  "kernelspec": {
   "display_name": "Python 3 (ipykernel)",
   "language": "python",
   "name": "python3"
  },
  "language_info": {
   "codemirror_mode": {
    "name": "ipython",
    "version": 3
   },
   "file_extension": ".py",
   "mimetype": "text/x-python",
   "name": "python",
   "nbconvert_exporter": "python",
   "pygments_lexer": "ipython3",
   "version": "3.9.16"
  }
 },
 "nbformat": 4,
 "nbformat_minor": 4
}
