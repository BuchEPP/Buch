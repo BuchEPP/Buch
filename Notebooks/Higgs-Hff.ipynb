{
 "cells": [
  {
   "cell_type": "markdown",
   "metadata": {},
   "source": [
    "# Chapter 7.3: Higgs Decay into a Fermion-Pair\n",
    "\n",
    "Hff coupling: $g_{Hff} = -im_f/v$\n",
    "\n",
    "Compute the decay width $\\Gamma(H\\to f\\bar{f})$ (eq. 7.93 in the book) with sympy."
   ]
  },
  {
   "cell_type": "code",
   "execution_count": 1,
   "metadata": {
    "tags": []
   },
   "outputs": [
    {
     "name": "stdout",
     "output_type": "stream",
     "text": [
      "Reading heppackv0.py (March 2023)\n",
      "\n",
      "Done\n"
     ]
    }
   ],
   "source": [
    "import heppackv0 as hep\n",
    "import sympy as sy"
   ]
  },
  {
   "cell_type": "code",
   "execution_count": 2,
   "metadata": {
    "tags": []
   },
   "outputs": [],
   "source": [
    "# M=Higgs mass, m=fermion mass, v=246 GeV\n",
    "# Use Dm instead of E to define that the arguments of sqare roots are always positiv\n",
    "# Later replace Dm --> M/2-m\n",
    "M,m,Dm,v = sy.symbols(\"M,m,Dm,v\" , positive=True, real=True) "
   ]
  },
  {
   "cell_type": "code",
   "execution_count": 3,
   "metadata": {
    "tags": []
   },
   "outputs": [],
   "source": [
    "pf = [Dm+m, m, 0, 0] # fermion, [E,m,theta, phi)\n",
    "pa = [Dm+m, m, sy.pi, sy.pi] # anti-fermion\n",
    "uf = hep.u(pf,-1)\n",
    "ua = hep.v(pa,-1)"
   ]
  },
  {
   "cell_type": "code",
   "execution_count": 4,
   "metadata": {
    "tags": []
   },
   "outputs": [],
   "source": [
    "# Matrix element H-> ff\n",
    "# hf, ha: helicities of fermion and anti-fermion\n",
    "def mel(pf, pa, hf, ha):\n",
    "    pre = -sy.I*m/v # Hff coupling\n",
    "    me = hep.ubar(pf, hf) * hep.v(pa, ha)\n",
    "    return sy.simplify(pre*me)"
   ]
  },
  {
   "cell_type": "code",
   "execution_count": 5,
   "metadata": {
    "tags": []
   },
   "outputs": [],
   "source": [
    "def mel2(pf, pa, showAmplitude=True):\n",
    "    \"\"\" \n",
    "    Calculate spin averaged matrix element of Higgs decay to a fermion pair \n",
    "    \"\"\"    \n",
    "    if showAmplitude: print(\"hf  ha\")\n",
    "    hels   = (-1, 1)\n",
    "    me2sum = sy.Matrix([0])\n",
    "    for hf in hels:\n",
    "        for ha in hels:         \n",
    "            me     = mel(pf, pa, hf, ha)\n",
    "            me2    = me*me.conjugate()\n",
    "            me2sum += me2\n",
    "            me2sum =  sy.simplify(me2sum)\n",
    "\n",
    "            if showAmplitude:\n",
    "                sh = \"{0:2}   {1:2} \".format(hf,ha)\n",
    "                sme = me.tolist()[0][0]\n",
    "                sme2 = sme.subs(Dm, M/2-m)\n",
    "                sme3 = sy.simplify(sme2)\n",
    "                print(sh, sme3)\n",
    "    sme2sum = me2sum.tolist()[0][0]\n",
    "    sme3sum = sy.simplify(sme2sum.subs(Dm, M/2-m))\n",
    "    return sme3sum"
   ]
  },
  {
   "cell_type": "code",
   "execution_count": 6,
   "metadata": {
    "tags": []
   },
   "outputs": [
    {
     "name": "stdout",
     "output_type": "stream",
     "text": [
      "hf  ha\n",
      "-1   -1  I*m*sqrt(M - 2*m)*sqrt(M + 2*m)/v\n",
      "-1    1  0\n",
      " 1   -1  0\n",
      " 1    1  I*m*sqrt(M - 2*m)*sqrt(M + 2*m)/v\n",
      "mel2Hff:  2*m**2*(M**2 - 4*m**2)/v**2\n"
     ]
    },
    {
     "data": {
      "text/plain": [
       "'Gamma: '"
      ]
     },
     "metadata": {},
     "output_type": "display_data"
    },
    {
     "data": {
      "image/png": "[encoded data removed]",
      "text/latex": [
       "$\\displaystyle \\frac{m^{2} \\left(M^{2} - 4 m^{2}\\right)^{\\frac{3}{2}}}{8 \\pi M^{2} v^{2}}$"
      ],
      "text/plain": [
       "              3/2\n",
       " 2 ⎛ 2      2⎞   \n",
       "m ⋅⎝M  - 4⋅m ⎠   \n",
       "─────────────────\n",
       "         2  2    \n",
       "    8⋅π⋅M ⋅v     "
      ]
     },
     "metadata": {},
     "output_type": "display_data"
    }
   ],
   "source": [
    "# apply factors  \n",
    "mel2Hff = mel2(pf, pa, showAmplitude=True)\n",
    "print(\"mel2Hff: \", mel2Hff)\n",
    "pre2= sy.sqrt(M**2/4 - m**2) /(8*sy.pi*M**2)\n",
    "Gamma = sy.simplify(pre2*mel2Hff)\n",
    "display(\"Gamma: \", Gamma)"
   ]
  },
  {
   "cell_type": "code",
   "execution_count": 7,
   "metadata": {
    "tags": []
   },
   "outputs": [
    {
     "data": {
      "image/png": "[encoded data removed]",
      "text/latex": [
       "$\\displaystyle \\frac{M m^{2} \\left(1 - \\frac{4 m^{2}}{M^{2}}\\right)^{\\frac{3}{2}}}{8 \\pi v^{2}}$"
      ],
      "text/plain": [
       "               3/2\n",
       "     ⎛       2⎞   \n",
       "   2 ⎜    4⋅m ⎟   \n",
       "M⋅m ⋅⎜1 - ────⎟   \n",
       "     ⎜      2 ⎟   \n",
       "     ⎝     M  ⎠   \n",
       "──────────────────\n",
       "           2      \n",
       "      8⋅π⋅v       "
      ]
     },
     "execution_count": 7,
     "metadata": {},
     "output_type": "execute_result"
    }
   ],
   "source": [
    "# compare to Book, eq. 7.93\n",
    "betaf = sy.sqrt(1-4*m**2/M**2)\n",
    "GammaBook = m**2*betaf**3*M/(8*sy.pi*v**2)\n",
    "GammaBook"
   ]
  },
  {
   "cell_type": "markdown",
   "metadata": {},
   "source": [
    "<hr style=\"width:100%;height:2px;color:black\">"
   ]
  },
  {
   "cell_type": "code",
   "execution_count": 8,
   "metadata": {
    "tags": []
   },
   "outputs": [
    {
     "data": {
      "image/png": "[encoded data removed]",
      "text/latex": [
       "$\\displaystyle 0$"
      ],
      "text/plain": [
       "0"
      ]
     },
     "execution_count": 8,
     "metadata": {},
     "output_type": "execute_result"
    }
   ],
   "source": [
    "# test equality\n",
    "sy.simplify(Gamma-GammaBook)"
   ]
  }
 ],
 "metadata": {
  "kernelspec": {
   "display_name": "Python 3 (ipykernel)",
   "language": "python",
   "name": "python3"
  },
  "language_info": {
   "codemirror_mode": {
    "name": "ipython",
    "version": 3
   },
   "file_extension": ".py",
   "mimetype": "text/x-python",
   "name": "python",
   "nbconvert_exporter": "python",
   "pygments_lexer": "ipython3",
   "version": "3.9.16"
  }
 },
 "nbformat": 4,
 "nbformat_minor": 4
}
