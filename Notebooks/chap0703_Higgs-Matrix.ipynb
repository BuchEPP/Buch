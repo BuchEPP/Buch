{
 "cells": [
  {
   "cell_type": "markdown",
   "id": "c0546982-08aa-486d-bda4-5cd1663f8a08",
   "metadata": {},
   "source": [
    "# Calculate $M_A$ and $M_Z$ in the Higgs mechanism using the Matrix method\n",
    "\n",
    "section 7.3 and box 7.2 in the book"
   ]
  },
  {
   "cell_type": "code",
   "execution_count": 1,
   "id": "3186def4-1b0d-4ec7-8b57-6f70f8792f77",
   "metadata": {},
   "outputs": [],
   "source": [
    "import sympy as sy"
   ]
  },
  {
   "cell_type": "code",
   "execution_count": 213,
   "id": "a5fd6504-1cb1-4fe0-a238-b774b6c39acf",
   "metadata": {},
   "outputs": [
    {
     "data": {
      "text/latex": [
       "$\\displaystyle \\left[\\begin{matrix}g^{2} & - g g'\\\\- g g' & g'^{2}\\end{matrix}\\right]$"
      ],
      "text/plain": [
       "Matrix([\n",
       "[ g**2, -g*g'],\n",
       "[-g*g', g'**2]])"
      ]
     },
     "execution_count": 213,
     "metadata": {},
     "output_type": "execute_result"
    }
   ],
   "source": [
    "g, gp, v = sy.symbols(\"g g' v \", positive=True)\n",
    "W3m, Bm = sy.symbols(\"W^3_\\mu B_\\mu\")\n",
    "ctw, stw = sy.symbols(\"cos(\\Theta_{w})  sin(\\Theta_{w})\",real=True)\n",
    "Vm = sy.Matrix([[W3m, Bm]])\n",
    "VM = sy.Matrix([W3m, Bm])\n",
    "M0 = sy.Matrix([[g**2, -g*gp],[-g*gp, gp**2]])\n",
    "M0"
   ]
  },
  {
   "cell_type": "code",
   "execution_count": 214,
   "id": "f1d50e96-2bba-4bdb-b1d4-276d6084b98b",
   "metadata": {},
   "outputs": [
    {
     "data": {
      "text/plain": [
       "'P'"
      ]
     },
     "metadata": {},
     "output_type": "display_data"
    },
    {
     "data": {
      "text/latex": [
       "$\\displaystyle \\left[\\begin{matrix}\\frac{g'}{g \\sqrt{1 + \\frac{g'^{2}}{g^{2}}}} & - \\frac{g}{g' \\sqrt{\\frac{g^{2}}{g'^{2}} + 1}}\\\\\\frac{1}{\\sqrt{1 + \\frac{g'^{2}}{g^{2}}}} & \\frac{1}{\\sqrt{\\frac{g^{2}}{g'^{2}} + 1}}\\end{matrix}\\right]$"
      ],
      "text/plain": [
       "Matrix([\n",
       "[g'/(g*sqrt(1 + g'**2/g**2)), -g/(g'*sqrt(g**2/g'**2 + 1))],\n",
       "[     1/sqrt(1 + g'**2/g**2),       1/sqrt(g**2/g'**2 + 1)]])"
      ]
     },
     "metadata": {},
     "output_type": "display_data"
    },
    {
     "data": {
      "text/plain": [
       "'D'"
      ]
     },
     "metadata": {},
     "output_type": "display_data"
    },
    {
     "data": {
      "text/latex": [
       "$\\displaystyle \\left[\\begin{matrix}0 & 0\\\\0 & g^{2} + g'^{2}\\end{matrix}\\right]$"
      ],
      "text/plain": [
       "Matrix([\n",
       "[0,            0],\n",
       "[0, g**2 + g'**2]])"
      ]
     },
     "metadata": {},
     "output_type": "display_data"
    }
   ],
   "source": [
    "(P, D) = M0.diagonalize(sort=False, normalize=True)\n",
    "display(\"P\",P)\n",
    "display(\"D\",D)"
   ]
  },
  {
   "cell_type": "code",
   "execution_count": 215,
   "id": "1ba345bb-47c4-4a36-b528-d8237262b307",
   "metadata": {
    "tags": []
   },
   "outputs": [
    {
     "name": "stdout",
     "output_type": "stream",
     "text": [
      "Eigenvalue (photon):  0\n"
     ]
    },
    {
     "data": {
      "text/plain": [
       "'(Mass photon)**2 : '"
      ]
     },
     "metadata": {},
     "output_type": "display_data"
    },
    {
     "data": {
      "text/latex": [
       "$\\displaystyle 0$"
      ],
      "text/plain": [
       "0"
      ]
     },
     "metadata": {},
     "output_type": "display_data"
    },
    {
     "data": {
      "text/plain": [
       "'Eigenvector 1 (photon): '"
      ]
     },
     "metadata": {},
     "output_type": "display_data"
    },
    {
     "data": {
      "text/latex": [
       "$\\displaystyle \\frac{g'}{\\sqrt{g^{2} + g'^{2}}}$"
      ],
      "text/plain": [
       "g'/sqrt(g**2 + g'**2)"
      ]
     },
     "metadata": {},
     "output_type": "display_data"
    },
    {
     "data": {
      "text/plain": [
       "'Eigenvector 2 (photon): '"
      ]
     },
     "metadata": {},
     "output_type": "display_data"
    },
    {
     "data": {
      "text/latex": [
       "$\\displaystyle \\frac{g}{\\sqrt{g^{2} + g'^{2}}}$"
      ],
      "text/plain": [
       "g/sqrt(g**2 + g'**2)"
      ]
     },
     "metadata": {},
     "output_type": "display_data"
    }
   ],
   "source": [
    "print(\"Eigenvalue (photon): \",D[0,1] ) \n",
    "display(\"(Mass photon)**2 : \",D[0,1]*v**2/4)\n",
    "display(\"Eigenvector 1 (photon): \",sy.simplify(P[0,0]))\n",
    "display(\"Eigenvector 2 (photon): \",sy.simplify(P[1,0]))\n"
   ]
  },
  {
   "cell_type": "code",
   "execution_count": 216,
   "id": "44444669-d5f8-4253-81bc-b1f4d849d403",
   "metadata": {},
   "outputs": [
    {
     "name": "stdout",
     "output_type": "stream",
     "text": [
      "Eigenvalue Z:  g**2 + g'**2\n"
     ]
    },
    {
     "data": {
      "text/plain": [
       "'(Mass Z)**2 : '"
      ]
     },
     "metadata": {},
     "output_type": "display_data"
    },
    {
     "data": {
      "text/latex": [
       "$\\displaystyle \\frac{v^{2} \\left(g^{2} + g'^{2}\\right)}{4}$"
      ],
      "text/plain": [
       "v**2*(g**2 + g'**2)/4"
      ]
     },
     "metadata": {},
     "output_type": "display_data"
    },
    {
     "data": {
      "text/plain": [
       "'Eigenvector 1 (Z): '"
      ]
     },
     "metadata": {},
     "output_type": "display_data"
    },
    {
     "data": {
      "text/latex": [
       "$\\displaystyle - \\frac{g}{\\sqrt{g^{2} + g'^{2}}}$"
      ],
      "text/plain": [
       "-g/sqrt(g**2 + g'**2)"
      ]
     },
     "metadata": {},
     "output_type": "display_data"
    },
    {
     "data": {
      "text/plain": [
       "'Eigenvector 2 (Z): '"
      ]
     },
     "metadata": {},
     "output_type": "display_data"
    },
    {
     "data": {
      "text/latex": [
       "$\\displaystyle \\frac{g'}{\\sqrt{g^{2} + g'^{2}}}$"
      ],
      "text/plain": [
       "g'/sqrt(g**2 + g'**2)"
      ]
     },
     "metadata": {},
     "output_type": "display_data"
    }
   ],
   "source": [
    "print(\"Eigenvalue Z: \",D[1,1] ) \n",
    "display(\"(Mass Z)**2 : \",D[1,1]*v**2/4)\n",
    "display(\"Eigenvector 1 (Z): \",sy.simplify(P[0,1]))\n",
    "display(\"Eigenvector 2 (Z): \",sy.simplify(P[1,1]))"
   ]
  },
  {
   "cell_type": "code",
   "execution_count": 217,
   "id": "0d8a6d2c-4eb4-4211-bc2f-1e125efeebcf",
   "metadata": {
    "tags": []
   },
   "outputs": [
    {
     "data": {
      "text/latex": [
       "$\\displaystyle \\left[\\begin{matrix}\\frac{- B_{\\mu} g + W^{3}_{\\mu} g'}{\\sqrt{g^{2} + g'^{2}}}\\\\\\frac{B_{\\mu} g' + W^{3}_{\\mu} g}{\\sqrt{g^{2} + g'^{2}}}\\end{matrix}\\right]$"
      ],
      "text/plain": [
       "Matrix([\n",
       "[(-B_\\mu*g + W^3_\\mu*g')/sqrt(g**2 + g'**2)],\n",
       "[ (B_\\mu*g' + W^3_\\mu*g)/sqrt(g**2 + g'**2)]])"
      ]
     },
     "execution_count": 217,
     "metadata": {},
     "output_type": "execute_result"
    }
   ],
   "source": [
    "sy.simplify(P*VM)"
   ]
  },
  {
   "cell_type": "code",
   "execution_count": null,
   "id": "54b6aeed-d72d-446a-9f18-9480a9383bb6",
   "metadata": {},
   "outputs": [],
   "source": []
  }
 ],
 "metadata": {
  "kernelspec": {
   "display_name": "Python 3 (ipykernel)",
   "language": "python",
   "name": "python3"
  },
  "language_info": {
   "codemirror_mode": {
    "name": "ipython",
    "version": 3
   },
   "file_extension": ".py",
   "mimetype": "text/x-python",
   "name": "python",
   "nbconvert_exporter": "python",
   "pygments_lexer": "ipython3",
   "version": "3.9.16"
  }
 },
 "nbformat": 4,
 "nbformat_minor": 5
}
