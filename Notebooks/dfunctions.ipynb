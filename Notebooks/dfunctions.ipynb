{
 "cells": [
  {
   "cell_type": "markdown",
   "metadata": {},
   "source": [
    "# Calculate special functions\n",
    "\n",
    "see Book Elementarteilchenphysik, Berger, Herten\n",
    "Section 2.2 - 2.4\n",
    "\n",
    "Topics:\n",
    "- d-function, Tab. 2.1, eq. 2.53, 2.54\n",
    "- D-function, eq. 2.56\n",
    "- special harmonic functions $Y_l^m$ (from book and from sympy)\n",
    "\n",
    "- calculate resonance production as discussed in the book\n",
    "    - $\\pi p \\to \\Delta \\to \\pi p$\n",
    "    - $\\pi\\pi \\to \\rho \\to \\pi\\pi$\n",
    "    - $gg\\to H\\to \\gamma\\gamma$\n",
    "    - $gg\\to H\\to Z\\gamma$\n",
    "\n",
    "- print all d- and D-function for J\n",
    "- check some equations in the book "
   ]
  },
  {
   "cell_type": "markdown",
   "metadata": {},
   "source": [
    "---"
   ]
  },
  {
   "cell_type": "markdown",
   "metadata": {},
   "source": [
    "## Functions"
   ]
  },
  {
   "cell_type": "code",
   "execution_count": 2,
   "metadata": {},
   "outputs": [],
   "source": [
    "import sympy as sy"
   ]
  },
  {
   "cell_type": "code",
   "execution_count": 3,
   "metadata": {},
   "outputs": [],
   "source": [
    "theta, phi = sy.symbols('theta phi ',real=True)"
   ]
  },
  {
   "cell_type": "code",
   "execution_count": 4,
   "metadata": {},
   "outputs": [],
   "source": [
    "# define some sympy abbreviations\n",
    "ct = sy.cos(theta)\n",
    "st = sy.sin(theta)\n",
    "ct2 = sy.cos(theta/2)\n",
    "st2 = sy.sin(theta/2)\n",
    "r12 = sy.Rational(1,2)\n",
    "r32 = sy.Rational(3,2)\n",
    "r14 = sy.Rational(1,4)\n",
    "\n",
    "# dfunc[(J,MP,M)] from the book Tab. 2.1\n",
    "dfunc = {\n",
    "    # J=0\n",
    "    (0,0,0): 1,\n",
    "    # J=1/2\n",
    "    (r12,r12,r12):ct2, \n",
    "    (r12,r12,-r12):-st2,\n",
    "    # J=1\n",
    "    (1,1,1):(1+ct)/2, \n",
    "    (1,1,0):-st/sy.sqrt(2), \n",
    "    (1,1,-1):(1-ct)/2, \n",
    "    (1,0,0):ct,\n",
    "    # J=3/2\n",
    "    (r32,r32,r32): (1+ct)*ct2/2, \n",
    "    (r32,r32,r12): -sy.sqrt(3)*(1+ct)*st2/2,\n",
    "    (r32,r32,-r12): sy.sqrt(3)*(1-ct)*ct2/2,\n",
    "    (r32,r32,-r32): -(1-ct)*st2/2,\n",
    "    (r32,r12,r12) : (3*ct-1)*ct2/2,\n",
    "    (r32,r12,-r12) : -(3*ct+1)*st2/2,\n",
    "    # J=2\n",
    "    (2,2,2): r14*(1+ct)**2,\n",
    "    (2,2,1): -r12*(1+ct)*st,\n",
    "    (2,2,0): r14*sy.sqrt(6)*st**2,\n",
    "    (2,2,-1): -r12*(1-ct)*st,\n",
    "    (2,2,-2): r14*(1-ct)**2,\n",
    "    (2,1,1) : r12*(1+ct)*(2*ct-1),\n",
    "    (2,1,0) : -sy.sqrt(sy.Rational(3,2))*st*ct,\n",
    "    (2,1,-1) : r12*(1-ct)*(2*ct+1),\n",
    "    (2,0,0) : r32*ct**2-r12\n",
    "}"
   ]
  },
  {
   "cell_type": "code",
   "execution_count": 5,
   "metadata": {},
   "outputs": [],
   "source": [
    "def dfunction(J,MP,M):\n",
    "    \"\"\"\n",
    "    Calculate d-function \n",
    "\n",
    "    Parameters\n",
    "    J (integer or sy.Rational): spin\n",
    "    MP (integer or sy.Rational): M^\\prime\n",
    "    MP (integer or sy.Rational): M\n",
    "\n",
    "    Return \n",
    "    d-function (sy.Rational)\n",
    "\n",
    "\n",
    "    # use eq. 2.53, 2.54 to calculate missing combinations\n",
    "    \"\"\"\n",
    "    if (J,MP,M) in dfunc.keys():\n",
    "        return dfunc[(J,MP,M)]\n",
    "    elif (J,-M,-MP) in dfunc.keys():\n",
    "        return dfunc[(J,-M,-MP)]\n",
    "    elif (J,M,MP) in dfunc.keys():\n",
    "        return (-1)**(M-MP)*dfunc[(J,M,MP)]\n",
    "    elif (J,-MP,-M) in dfunc.keys():\n",
    "        return (-1)**(M-MP)*dfunc[(J,-MP,-M)]\n",
    "    else:\n",
    "        print('Error for: ',J,MP,M)\n",
    "        return None\n",
    "\n",
    "        \n",
    "    \n"
   ]
  },
  {
   "cell_type": "code",
   "execution_count": 6,
   "metadata": {},
   "outputs": [],
   "source": [
    "def Dfunction(J,MP,M):\n",
    "    \"\"\"\n",
    "    Return D-function, see eq. 2.56\n",
    "    \"\"\"\n",
    "    return sy.exp(-sy.I * phi * (MP-M) ) * dfunction(J,MP,M)"
   ]
  },
  {
   "cell_type": "code",
   "execution_count": 7,
   "metadata": {},
   "outputs": [],
   "source": [
    "def printd(J):\n",
    "    # print all d-functions and D-functions for angular momentum J\n",
    "    mul = int(2*J+1.1)\n",
    "    step = 1\n",
    "    for ip in range(mul):\n",
    "        MP = -J + ip*step\n",
    "        for i in range(mul):\n",
    "            M = -J + i*step\n",
    "            d = sy.simplify(dfunction(J,MP,M))\n",
    "            D = sy.simplify(Dfunction(J,MP,M))\n",
    "            print('J,MP,M: ',J,MP,M,' d: ', d,' D: ',Dfunction(J,MP,M))\n",
    "\n"
   ]
  },
  {
   "cell_type": "code",
   "execution_count": 8,
   "metadata": {},
   "outputs": [],
   "source": [
    "def Ylm(l,m):  # Y_l^m\n",
    "    \"\"\"Spherical harmonics\n",
    "    \n",
    "    Functions given in the Book, Table 2.2 and unnumbered equation after 2.57\"\n",
    "    \"\"\"\n",
    "    dY = {(0,0): 1/sy.sqrt(4*sy.pi),\n",
    "          (1,0): sy.sqrt(sy.Rational(3,4)/sy.pi) * sy.cos(theta),\n",
    "          (1,1): -sy.sqrt(sy.Rational(3,8)/sy.pi) * sy.sin(theta) * sy.exp(sy.I*phi),\n",
    "          (2,0): sy.sqrt(sy.Rational(5,4)/sy.pi) * (sy.Rational(3,2)*sy.cos(theta)**2-r12),\n",
    "          (2,1): -sy.sqrt(sy.Rational(15,8)/sy.pi) * sy.sin(theta) * sy.cos(theta) * sy.exp(sy.I*phi),\n",
    "          (2,2): sy.sqrt(sy.Rational(15,32)/sy.pi) * sy.sin(theta)**2 * sy.exp(sy.I*2*phi)\n",
    "    }\n",
    "    t=(l,m)\n",
    "    if m >= 0:\n",
    "          return dY[t]\n",
    "    else:\n",
    "          tt = (l,-m)\n",
    "          return (-1)**abs(m) * dY[tt].conjugate()"
   ]
  },
  {
   "cell_type": "code",
   "execution_count": 9,
   "metadata": {},
   "outputs": [],
   "source": [
    "def Ynm(n,m):\n",
    "    \"\"\"Spherical Harmonics from sympy\n",
    "    \n",
    "    see: https://docs.sympy.org/latest/modules/functions/special.html#spherical-harmonics\n",
    "    \"\"\"\n",
    "    return sy.Ynm(n,m,theta,phi).expand(func=True)"
   ]
  },
  {
   "cell_type": "markdown",
   "metadata": {},
   "source": [
    "---"
   ]
  },
  {
   "cell_type": "markdown",
   "metadata": {},
   "source": [
    "# Examples"
   ]
  },
  {
   "cell_type": "markdown",
   "metadata": {},
   "source": [
    "### 1) Delta resonance"
   ]
  },
  {
   "cell_type": "code",
   "execution_count": null,
   "metadata": {},
   "outputs": [
    {
     "data": {
      "text/latex": [
       "$\\displaystyle \\frac{3 \\cos^{2}{\\left(\\theta \\right)}}{4} + \\frac{1}{4}$"
      ],
      "text/plain": [
       "3*cos(theta)**2/4 + 1/4"
      ]
     },
     "execution_count": 10,
     "metadata": {},
     "output_type": "execute_result"
    }
   ],
   "source": [
    "# eq. 2.109, p. 132\n",
    "dsdO = dfunction(r32,r12,r12)**2 + dfunction(r32,r12,-r12)**2 \n",
    "dsdO = sy.simplify(dsdO)\n",
    "dsdO.subs(sy.cos(2*theta),2*sy.cos(theta)**2-1)"
   ]
  },
  {
   "cell_type": "markdown",
   "metadata": {},
   "source": [
    "### 2) $\\rho\\to \\pi \\pi$ decay"
   ]
  },
  {
   "cell_type": "code",
   "execution_count": 25,
   "metadata": {},
   "outputs": [
    {
     "data": {
      "text/latex": [
       "$\\displaystyle \\cos^{2}{\\left(\\theta \\right)}$"
      ],
      "text/plain": [
       "cos(theta)**2"
      ]
     },
     "execution_count": 25,
     "metadata": {},
     "output_type": "execute_result"
    }
   ],
   "source": [
    "# rho -> pi pi , page 134\n",
    "dfunction(1,0,0)**2"
   ]
  },
  {
   "cell_type": "markdown",
   "metadata": {},
   "source": [
    "### 3) $gg \\to H\\to \\gamma\\gamma$ for J=2\n",
    "\n",
    "$d^J_{\\lambda\\mu}$ with $\\lambda=\\lambda_1 - \\lambda_2, \\mu=\\lambda_3-\\lambda_4$ (eq. 2.89, 2.106)"
   ]
  },
  {
   "cell_type": "code",
   "execution_count": null,
   "metadata": {},
   "outputs": [
    {
     "data": {
      "text/plain": [
       "'(2,0,0): '"
      ]
     },
     "metadata": {},
     "output_type": "display_data"
    },
    {
     "data": {
      "text/latex": [
       "$\\displaystyle \\left(\\frac{3 \\cos^{2}{\\left(\\theta \\right)}}{2} - \\frac{1}{2}\\right)^{2}$"
      ],
      "text/plain": [
       "(3*cos(theta)**2/2 - 1/2)**2"
      ]
     },
     "metadata": {},
     "output_type": "display_data"
    },
    {
     "data": {
      "text/plain": [
       "'(2,0,2): '"
      ]
     },
     "metadata": {},
     "output_type": "display_data"
    },
    {
     "data": {
      "text/latex": [
       "$\\displaystyle \\frac{3 \\sin^{4}{\\left(\\theta \\right)}}{8}$"
      ],
      "text/plain": [
       "3*sin(theta)**4/8"
      ]
     },
     "metadata": {},
     "output_type": "display_data"
    },
    {
     "data": {
      "text/plain": [
       "'(2,2,2)+(2,2-2): '"
      ]
     },
     "metadata": {},
     "output_type": "display_data"
    },
    {
     "data": {
      "text/latex": [
       "$\\displaystyle \\frac{\\cos^{4}{\\left(\\theta \\right)}}{16} + \\frac{3 \\cos^{2}{\\left(\\theta \\right)}}{8} + \\frac{1}{16}$"
      ],
      "text/plain": [
       "cos(theta)**4/16 + 3*cos(theta)**2/8 + 1/16"
      ]
     },
     "metadata": {},
     "output_type": "display_data"
    }
   ],
   "source": [
    "# Higgs decay into gamma  gamma, p. 137\n",
    "# gluons have helicity lambda_i = -1,1\n",
    "# photons have lambda_i = -1,1\n",
    "# therefore \n",
    "# lamda = lambda_1 - lambda_2 = (-2,0,2) ; \n",
    "# mu = lambda_3 - lambda_4 = (-2,0,2)\n",
    "\n",
    "display('(2,0,0): ',(dfunction(2,0,0)**2))\n",
    "display('(2,0,2): ',(dfunction(2,0,2)**2))\n",
    "r = r12*(dfunction(2,2,2)**2+dfunction(2,2,-2)**2).expand()\n",
    "r = r.subs(sy.sin(theta)**4,(1-sy.cos(theta)**2)**2).expand()\n",
    "display('(2,2,2)+(2,2-2): ',r)"
   ]
  },
  {
   "cell_type": "markdown",
   "metadata": {},
   "source": [
    "### 4) $gg \\to H\\to Z\\gamma$ for J=2\n",
    "\n",
    "Exercise 2.23\n",
    "\n",
    "$d^J_{\\lambda\\mu}$ with $\\lambda=\\lambda_1 - \\lambda_2, ~\\mu=\\lambda_3-\\lambda_4$ (eq. 2.89, 2.106)"
   ]
  },
  {
   "cell_type": "code",
   "execution_count": 26,
   "metadata": {},
   "outputs": [
    {
     "data": {
      "text/plain": [
       "'(2,2,1): '"
      ]
     },
     "metadata": {},
     "output_type": "display_data"
    },
    {
     "data": {
      "text/latex": [
       "$\\displaystyle \\frac{\\left(\\cos^{2}{\\left(\\theta \\right)} + 1\\right) \\sin^{2}{\\left(\\theta \\right)}}{4}$"
      ],
      "text/plain": [
       "(cos(theta)**2 + 1)*sin(theta)**2/4"
      ]
     },
     "metadata": {},
     "output_type": "display_data"
    },
    {
     "data": {
      "text/plain": [
       "'(2,0,1): '"
      ]
     },
     "metadata": {},
     "output_type": "display_data"
    },
    {
     "data": {
      "text/latex": [
       "$\\displaystyle \\frac{3 \\sin^{2}{\\left(\\theta \\right)} \\cos^{2}{\\left(\\theta \\right)}}{2}$"
      ],
      "text/plain": [
       "3*sin(theta)**2*cos(theta)**2/2"
      ]
     },
     "metadata": {},
     "output_type": "display_data"
    }
   ],
   "source": [
    "# exercise 2.23, p. 137\n",
    "# H > Z gamma for H with J=2\n",
    "# gluons have lambda_i = -1,1\n",
    "# photons have lambda_i = -1,1\n",
    "# Z has lambda_i = -1,0,1\n",
    "# therefore lamda = (0, ± 2) ; mu= (0, ± 1, ± 2) \n",
    "r= sy.simplify(r12*(dfunction(2,2,1)**2+dfunction(2,2,-1)**2))\n",
    "display('(2,2,1): ',r)\n",
    "display('(2,0,1): ',(dfunction(2,0,1)**2))"
   ]
  },
  {
   "cell_type": "markdown",
   "metadata": {},
   "source": [
    "# Print d and D functions"
   ]
  },
  {
   "cell_type": "code",
   "execution_count": null,
   "metadata": {},
   "outputs": [
    {
     "name": "stdout",
     "output_type": "stream",
     "text": [
      "J,MP,M:  0 0 0  d:  1  D:  1\n"
     ]
    }
   ],
   "source": [
    "# Spin 0\n",
    "printd(0)"
   ]
  },
  {
   "cell_type": "code",
   "execution_count": null,
   "metadata": {},
   "outputs": [
    {
     "name": "stdout",
     "output_type": "stream",
     "text": [
      "J,MP,M:  1/2 -1/2 -1/2  d:  cos(theta/2)  D:  cos(theta/2)\n",
      "J,MP,M:  1/2 -1/2 1/2  d:  sin(theta/2)  D:  exp(I*phi)*sin(theta/2)\n",
      "J,MP,M:  1/2 1/2 -1/2  d:  -sin(theta/2)  D:  -exp(-I*phi)*sin(theta/2)\n",
      "J,MP,M:  1/2 1/2 1/2  d:  cos(theta/2)  D:  cos(theta/2)\n"
     ]
    }
   ],
   "source": [
    "# Spin 1/2\n",
    "printd(r12)"
   ]
  },
  {
   "cell_type": "code",
   "execution_count": null,
   "metadata": {},
   "outputs": [
    {
     "name": "stdout",
     "output_type": "stream",
     "text": [
      "J,MP,M:  1 -1 -1  d:  cos(theta)/2 + 1/2  D:  cos(theta)/2 + 1/2\n",
      "J,MP,M:  1 -1 0  d:  sqrt(2)*sin(theta)/2  D:  sqrt(2)*exp(I*phi)*sin(theta)/2\n",
      "J,MP,M:  1 -1 1  d:  1/2 - cos(theta)/2  D:  (1/2 - cos(theta)/2)*exp(2*I*phi)\n",
      "J,MP,M:  1 0 -1  d:  -sqrt(2)*sin(theta)/2  D:  -sqrt(2)*exp(-I*phi)*sin(theta)/2\n",
      "J,MP,M:  1 0 0  d:  cos(theta)  D:  cos(theta)\n",
      "J,MP,M:  1 0 1  d:  sqrt(2)*sin(theta)/2  D:  sqrt(2)*exp(I*phi)*sin(theta)/2\n",
      "J,MP,M:  1 1 -1  d:  1/2 - cos(theta)/2  D:  (1/2 - cos(theta)/2)*exp(-2*I*phi)\n",
      "J,MP,M:  1 1 0  d:  -sqrt(2)*sin(theta)/2  D:  -sqrt(2)*exp(-I*phi)*sin(theta)/2\n",
      "J,MP,M:  1 1 1  d:  cos(theta)/2 + 1/2  D:  cos(theta)/2 + 1/2\n"
     ]
    }
   ],
   "source": [
    "# Spin 1\n",
    "printd(1)"
   ]
  },
  {
   "cell_type": "code",
   "execution_count": null,
   "metadata": {},
   "outputs": [
    {
     "name": "stdout",
     "output_type": "stream",
     "text": [
      "J,MP,M:  3/2 -3/2 -3/2  d:  (cos(theta) + 1)*cos(theta/2)/2  D:  (cos(theta) + 1)*cos(theta/2)/2\n",
      "J,MP,M:  3/2 -3/2 -1/2  d:  sqrt(3)*(cos(theta) + 1)*sin(theta/2)/2  D:  sqrt(3)*(cos(theta) + 1)*exp(I*phi)*sin(theta/2)/2\n",
      "J,MP,M:  3/2 -3/2 1/2  d:  sqrt(3)*(1 - cos(theta))*cos(theta/2)/2  D:  sqrt(3)*(1 - cos(theta))*exp(2*I*phi)*cos(theta/2)/2\n",
      "J,MP,M:  3/2 -3/2 3/2  d:  (1 - cos(theta))*sin(theta/2)/2  D:  -(cos(theta) - 1)*exp(3*I*phi)*sin(theta/2)/2\n",
      "J,MP,M:  3/2 -1/2 -3/2  d:  -sqrt(3)*(cos(theta) + 1)*sin(theta/2)/2  D:  -sqrt(3)*(cos(theta) + 1)*exp(-I*phi)*sin(theta/2)/2\n",
      "J,MP,M:  3/2 -1/2 -1/2  d:  (3*cos(theta) - 1)*cos(theta/2)/2  D:  (3*cos(theta) - 1)*cos(theta/2)/2\n",
      "J,MP,M:  3/2 -1/2 1/2  d:  (3*cos(theta) + 1)*sin(theta/2)/2  D:  -(-3*cos(theta) - 1)*exp(I*phi)*sin(theta/2)/2\n",
      "J,MP,M:  3/2 -1/2 3/2  d:  sqrt(3)*(1 - cos(theta))*cos(theta/2)/2  D:  sqrt(3)*(1 - cos(theta))*exp(2*I*phi)*cos(theta/2)/2\n",
      "J,MP,M:  3/2 1/2 -3/2  d:  sqrt(3)*(1 - cos(theta))*cos(theta/2)/2  D:  sqrt(3)*(1 - cos(theta))*exp(-2*I*phi)*cos(theta/2)/2\n",
      "J,MP,M:  3/2 1/2 -1/2  d:  -(3*cos(theta) + 1)*sin(theta/2)/2  D:  (-3*cos(theta) - 1)*exp(-I*phi)*sin(theta/2)/2\n",
      "J,MP,M:  3/2 1/2 1/2  d:  (3*cos(theta) - 1)*cos(theta/2)/2  D:  (3*cos(theta) - 1)*cos(theta/2)/2\n",
      "J,MP,M:  3/2 1/2 3/2  d:  sqrt(3)*(cos(theta) + 1)*sin(theta/2)/2  D:  sqrt(3)*(cos(theta) + 1)*exp(I*phi)*sin(theta/2)/2\n",
      "J,MP,M:  3/2 3/2 -3/2  d:  (cos(theta) - 1)*sin(theta/2)/2  D:  (cos(theta) - 1)*exp(-3*I*phi)*sin(theta/2)/2\n",
      "J,MP,M:  3/2 3/2 -1/2  d:  sqrt(3)*(1 - cos(theta))*cos(theta/2)/2  D:  sqrt(3)*(1 - cos(theta))*exp(-2*I*phi)*cos(theta/2)/2\n",
      "J,MP,M:  3/2 3/2 1/2  d:  -sqrt(3)*(cos(theta) + 1)*sin(theta/2)/2  D:  -sqrt(3)*(cos(theta) + 1)*exp(-I*phi)*sin(theta/2)/2\n",
      "J,MP,M:  3/2 3/2 3/2  d:  (cos(theta) + 1)*cos(theta/2)/2  D:  (cos(theta) + 1)*cos(theta/2)/2\n"
     ]
    }
   ],
   "source": [
    "# Spin 3/2\n",
    "printd(r32)"
   ]
  },
  {
   "cell_type": "code",
   "execution_count": null,
   "metadata": {},
   "outputs": [
    {
     "name": "stdout",
     "output_type": "stream",
     "text": [
      "J,MP,M:  2 -2 -2  d:  (cos(theta) + 1)**2/4  D:  (cos(theta) + 1)**2/4\n",
      "J,MP,M:  2 -2 -1  d:  (cos(theta) + 1)*sin(theta)/2  D:  -(-cos(theta)/2 - 1/2)*exp(I*phi)*sin(theta)\n",
      "J,MP,M:  2 -2 0  d:  sqrt(6)*sin(theta)**2/4  D:  sqrt(6)*exp(2*I*phi)*sin(theta)**2/4\n",
      "J,MP,M:  2 -2 1  d:  (1 - cos(theta))*sin(theta)/2  D:  -(cos(theta)/2 - 1/2)*exp(3*I*phi)*sin(theta)\n",
      "J,MP,M:  2 -2 2  d:  (cos(theta) - 1)**2/4  D:  (1 - cos(theta))**2*exp(4*I*phi)/4\n",
      "J,MP,M:  2 -1 -2  d:  -(cos(theta) + 1)*sin(theta)/2  D:  (-cos(theta)/2 - 1/2)*exp(-I*phi)*sin(theta)\n",
      "J,MP,M:  2 -1 -1  d:  cos(theta)/2 + cos(2*theta)/2  D:  (cos(theta)/2 + 1/2)*(2*cos(theta) - 1)\n",
      "J,MP,M:  2 -1 0  d:  sqrt(6)*sin(2*theta)/4  D:  sqrt(6)*exp(I*phi)*sin(theta)*cos(theta)/2\n",
      "J,MP,M:  2 -1 1  d:  cos(theta)/2 - cos(2*theta)/2  D:  (1/2 - cos(theta)/2)*(2*cos(theta) + 1)*exp(2*I*phi)\n",
      "J,MP,M:  2 -1 2  d:  (1 - cos(theta))*sin(theta)/2  D:  -(cos(theta)/2 - 1/2)*exp(3*I*phi)*sin(theta)\n",
      "J,MP,M:  2 0 -2  d:  sqrt(6)*sin(theta)**2/4  D:  sqrt(6)*exp(-2*I*phi)*sin(theta)**2/4\n",
      "J,MP,M:  2 0 -1  d:  -sqrt(6)*sin(2*theta)/4  D:  -sqrt(6)*exp(-I*phi)*sin(theta)*cos(theta)/2\n",
      "J,MP,M:  2 0 0  d:  3*cos(theta)**2/2 - 1/2  D:  3*cos(theta)**2/2 - 1/2\n",
      "J,MP,M:  2 0 1  d:  sqrt(6)*sin(2*theta)/4  D:  sqrt(6)*exp(I*phi)*sin(theta)*cos(theta)/2\n",
      "J,MP,M:  2 0 2  d:  sqrt(6)*sin(theta)**2/4  D:  sqrt(6)*exp(2*I*phi)*sin(theta)**2/4\n",
      "J,MP,M:  2 1 -2  d:  (cos(theta) - 1)*sin(theta)/2  D:  (cos(theta)/2 - 1/2)*exp(-3*I*phi)*sin(theta)\n",
      "J,MP,M:  2 1 -1  d:  cos(theta)/2 - cos(2*theta)/2  D:  (1/2 - cos(theta)/2)*(2*cos(theta) + 1)*exp(-2*I*phi)\n",
      "J,MP,M:  2 1 0  d:  -sqrt(6)*sin(2*theta)/4  D:  -sqrt(6)*exp(-I*phi)*sin(theta)*cos(theta)/2\n",
      "J,MP,M:  2 1 1  d:  cos(theta)/2 + cos(2*theta)/2  D:  (cos(theta)/2 + 1/2)*(2*cos(theta) - 1)\n",
      "J,MP,M:  2 1 2  d:  (cos(theta) + 1)*sin(theta)/2  D:  -(-cos(theta)/2 - 1/2)*exp(I*phi)*sin(theta)\n",
      "J,MP,M:  2 2 -2  d:  (cos(theta) - 1)**2/4  D:  (1 - cos(theta))**2*exp(-4*I*phi)/4\n",
      "J,MP,M:  2 2 -1  d:  (cos(theta) - 1)*sin(theta)/2  D:  (cos(theta)/2 - 1/2)*exp(-3*I*phi)*sin(theta)\n",
      "J,MP,M:  2 2 0  d:  sqrt(6)*sin(theta)**2/4  D:  sqrt(6)*exp(-2*I*phi)*sin(theta)**2/4\n",
      "J,MP,M:  2 2 1  d:  -(cos(theta) + 1)*sin(theta)/2  D:  (-cos(theta)/2 - 1/2)*exp(-I*phi)*sin(theta)\n",
      "J,MP,M:  2 2 2  d:  (cos(theta) + 1)**2/4  D:  (cos(theta) + 1)**2/4\n"
     ]
    }
   ],
   "source": [
    "# Spin 2\n",
    "printd(2)"
   ]
  },
  {
   "cell_type": "markdown",
   "metadata": {},
   "source": [
    "# Checks"
   ]
  },
  {
   "cell_type": "markdown",
   "metadata": {},
   "source": [
    "### 1) Check: eq. 2.57\n"
   ]
  },
  {
   "cell_type": "code",
   "execution_count": null,
   "metadata": {},
   "outputs": [],
   "source": [
    "def DY(J,MP):\n",
    "    # calculate D^j_(j3,0) in eq. 2.57 from spherical harmonics\n",
    "    DY1 = sy.sqrt(4*sy.pi/(2*J+1)) * Ylm(J,MP).conjugate()\n",
    "    return  DY1"
   ]
  },
  {
   "cell_type": "code",
   "execution_count": null,
   "metadata": {},
   "outputs": [
    {
     "name": "stdout",
     "output_type": "stream",
     "text": [
      "(j,j3', j3) | Equal | Dfunction() | DY()\n",
      "(0, 0, 0) | True | 1 | 1\n",
      "(1, 1, 0) | True | -sqrt(2)*exp(-I*phi)*sin(theta)/2 | -sqrt(2)*exp(-I*phi)*sin(theta)/2\n",
      "(1, 0, 0) | True | cos(theta) | cos(theta)\n",
      "(1, -1, 0) | True | sqrt(2)*exp(I*phi)*sin(theta)/2 | sqrt(2)*exp(I*phi)*sin(theta)/2\n",
      "(2, 2, 0) | True | sqrt(6)*exp(-2*I*phi)*sin(theta)**2/4 | sqrt(6)*exp(-2*I*phi)*sin(theta)**2/4\n",
      "(2, 1, 0) | True | -sqrt(6)*exp(-I*phi)*sin(theta)*cos(theta)/2 | -sqrt(6)*exp(-I*phi)*sin(theta)*cos(theta)/2\n",
      "(2, 0, 0) | True | 3*cos(theta)**2/2 - 1/2 | 3*cos(theta)**2/2 - 1/2\n",
      "(2, -1, 0) | True | sqrt(6)*exp(I*phi)*sin(theta)*cos(theta)/2 | sqrt(6)*exp(I*phi)*sin(theta)*cos(theta)/2\n",
      "(2, -2, 0) | True | sqrt(6)*exp(2*I*phi)*sin(theta)**2/4 | sqrt(6)*exp(2*I*phi)*sin(theta)**2/4\n"
     ]
    }
   ],
   "source": [
    "# lJMPM = [(j, j3', j3=0), ... ]\n",
    "lJMPM =[(0,0,0),(1,1,0),(1,0,0),(1,-1,0),(2,2,0),(2,1,0),(2,0,0),(2,-1,0),(2,-2,0)]\n",
    "# compare Dfunction and DY\n",
    "print(\"(j,j3', j3) | Equal | Dfunction() | DY()\")\n",
    "for t in lJMPM:\n",
    "    s = f'{t} | {Dfunction(*t)==DY(*t[:2])} | {Dfunction(*t)} | {DY(*t[:2])}'\n",
    "    print(s)"
   ]
  },
  {
   "cell_type": "markdown",
   "metadata": {},
   "source": [
    "### 2) Compare spherical harmonic function $Y_n^m$  from sympy with $Y_l^m$ in the book"
   ]
  },
  {
   "cell_type": "code",
   "execution_count": 27,
   "metadata": {},
   "outputs": [
    {
     "data": {
      "text/latex": [
       "$\\displaystyle - \\frac{\\sqrt{30} e^{i \\phi} \\sin{\\left(\\theta \\right)} \\cos{\\left(\\theta \\right)}}{4 \\sqrt{\\pi}}$"
      ],
      "text/plain": [
       "-sqrt(30)*exp(I*phi)*sin(theta)*cos(theta)/(4*sqrt(pi))"
      ]
     },
     "execution_count": 27,
     "metadata": {},
     "output_type": "execute_result"
    }
   ],
   "source": [
    "#  get spherical harmonics from sympy\n",
    "# \n",
    "sy.Ynm(2,1,theta,phi).expand(func=True)"
   ]
  },
  {
   "cell_type": "code",
   "execution_count": 28,
   "metadata": {},
   "outputs": [
    {
     "data": {
      "text/latex": [
       "$\\displaystyle - \\frac{\\sqrt{30} e^{i \\phi} \\sin{\\left(\\theta \\right)} \\cos{\\left(\\theta \\right)}}{4 \\sqrt{\\pi}}$"
      ],
      "text/plain": [
       "-sqrt(30)*exp(I*phi)*sin(theta)*cos(theta)/(4*sqrt(pi))"
      ]
     },
     "execution_count": 28,
     "metadata": {},
     "output_type": "execute_result"
    }
   ],
   "source": [
    "Ylm(2,1)"
   ]
  },
  {
   "cell_type": "code",
   "execution_count": null,
   "metadata": {},
   "outputs": [
    {
     "name": "stdout",
     "output_type": "stream",
     "text": [
      "(l,m) | Equal | Ynm | Ylm\n",
      "(0, 0) | True | 1/(2*sqrt(pi)) | 1/(2*sqrt(pi))\n",
      "(1, 1) | True | -sqrt(6)*exp(I*phi)*sin(theta)/(4*sqrt(pi)) | -sqrt(6)*exp(I*phi)*sin(theta)/(4*sqrt(pi))\n",
      "(1, 0) | True | sqrt(3)*cos(theta)/(2*sqrt(pi)) | sqrt(3)*cos(theta)/(2*sqrt(pi))\n",
      "(1, -1) | True | sqrt(6)*exp(-I*phi)*sin(theta)/(4*sqrt(pi)) | sqrt(6)*exp(-I*phi)*sin(theta)/(4*sqrt(pi))\n",
      "(2, 2) | True | sqrt(30)*exp(2*I*phi)*sin(theta)**2/(8*sqrt(pi)) | sqrt(30)*exp(2*I*phi)*sin(theta)**2/(8*sqrt(pi))\n",
      "(2, 1) | True | -sqrt(30)*exp(I*phi)*sin(2*theta)/(8*sqrt(pi)) | -sqrt(30)*exp(I*phi)*sin(2*theta)/(8*sqrt(pi))\n",
      "(2, 0) | True | sqrt(5)*(3*cos(theta)**2 - 1)/(4*sqrt(pi)) | sqrt(5)*(3*cos(theta)**2 - 1)/(4*sqrt(pi))\n",
      "(2, -1) | True | sqrt(30)*exp(-I*phi)*sin(2*theta)/(8*sqrt(pi)) | sqrt(30)*exp(-I*phi)*sin(2*theta)/(8*sqrt(pi))\n",
      "(2, -2) | True | sqrt(30)*exp(-2*I*phi)*sin(theta)**2/(8*sqrt(pi)) | sqrt(30)*exp(-2*I*phi)*sin(theta)**2/(8*sqrt(pi))\n"
     ]
    }
   ],
   "source": [
    "# compare both function of spherical harmonics\n",
    "# lY = [(l, m), ... ] or [(n, m), ... ]\n",
    "print('(l,m) | Equal | Ynm | Ylm')\n",
    "lY =[(0,0),(1,1),(1,0),(1,-1),(2,2),(2,1),(2,0),(2,-1),(2,-2)]\n",
    "for t in lY:\n",
    "    ynm = sy.simplify(sy.Ynm(*t,theta,phi).expand(func=True))\n",
    "    ylm = sy.simplify(Ylm(*t))\n",
    "    s = f\"{t} | {ynm == ylm} | {ynm} | {ylm}\"\n",
    "    print(s)"
   ]
  },
  {
   "cell_type": "code",
   "execution_count": null,
   "metadata": {},
   "outputs": [],
   "source": []
  }
 ],
 "metadata": {
  "kernelspec": {
   "display_name": "epy",
   "language": "python",
   "name": "python3"
  },
  "language_info": {
   "codemirror_mode": {
    "name": "ipython",
    "version": 3
   },
   "file_extension": ".py",
   "mimetype": "text/x-python",
   "name": "python",
   "nbconvert_exporter": "python",
   "pygments_lexer": "ipython3",
   "version": "3.9.16"
  }
 },
 "nbformat": 4,
 "nbformat_minor": 2
}
