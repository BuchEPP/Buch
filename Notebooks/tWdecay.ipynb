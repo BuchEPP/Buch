{
 "cells": [
  {
   "cell_type": "code",
   "execution_count": 1,
   "id": "aca6b5f4",
   "metadata": {},
   "outputs": [],
   "source": [
    "from sympy import *"
   ]
  },
  {
   "cell_type": "code",
   "execution_count": 2,
   "id": "9fe1637b",
   "metadata": {},
   "outputs": [
    {
     "name": "stdout",
     "output_type": "stream",
     "text": [
      "Reading heppackv0.py (March 2023)\n",
      "\n",
      "Done\n"
     ]
    }
   ],
   "source": [
    "import heppackv0 as hep"
   ]
  },
  {
   "cell_type": "code",
   "execution_count": 3,
   "id": "20d598af",
   "metadata": {},
   "outputs": [
    {
     "name": "stdout",
     "output_type": "stream",
     "text": [
      "The rest system of the decaying particles is used\n"
     ]
    }
   ],
   "source": [
    "print('The rest system of the decaying particles is used')\n",
    "E,E1,M,m,theta,G_F=symbols('E E1 M m theta G_F',positive=True)"
   ]
  },
  {
   "cell_type": "markdown",
   "id": "2ae57dcc",
   "metadata": {},
   "source": [
    "### 1) The decay $t\\to W+b$\n",
    "\n",
    "The four momentum conservation reads $p_\\mathrm{top}=p_f+k_f$. The mass of the $b$ quark is neglected."
   ]
  },
  {
   "cell_type": "code",
   "execution_count": 4,
   "id": "27b028ea",
   "metadata": {},
   "outputs": [],
   "source": [
    "ptop=[m,m,0,0]\n",
    "pf=[E,M,theta,0]\n",
    "kf=[E1,0,pi-theta,pi]"
   ]
  },
  {
   "cell_type": "code",
   "execution_count": 5,
   "id": "10010712",
   "metadata": {},
   "outputs": [
    {
     "data": {
      "image/png": "[encoded data removed]",
      "text/latex": [
       "$\\displaystyle - 2 \\sqrt{E_{1}} \\sqrt{m} \\sin{\\left(\\frac{\\theta}{2} \\right)}$"
      ],
      "text/plain": [
       "     ____       ⎛θ⎞\n",
       "-2⋅╲╱ E₁ ⋅√m⋅sin⎜─⎟\n",
       "                ⎝2⎠"
      ]
     },
     "execution_count": 5,
     "metadata": {},
     "output_type": "execute_result"
    }
   ],
   "source": [
    "tt1=hep.dotprod4(hep.polbar(pf,1),hep.ubuw(ptop,1,kf,-1));tt1"
   ]
  },
  {
   "cell_type": "code",
   "execution_count": 6,
   "id": "c4d6d3f5",
   "metadata": {},
   "outputs": [
    {
     "data": {
      "image/png": "[encoded data removed]",
      "text/latex": [
       "$\\displaystyle 4 E_{1} m \\sin^{2}{\\left(\\frac{\\theta}{2} \\right)}$"
      ],
      "text/plain": [
       "          2⎛θ⎞\n",
       "4⋅E₁⋅m⋅sin ⎜─⎟\n",
       "           ⎝2⎠"
      ]
     },
     "execution_count": 6,
     "metadata": {},
     "output_type": "execute_result"
    }
   ],
   "source": [
    "tt1sq=tt1*tt1;tt1sq"
   ]
  },
  {
   "cell_type": "code",
   "execution_count": 7,
   "id": "df1a742b",
   "metadata": {},
   "outputs": [
    {
     "data": {
      "image/png": "[encoded data removed]",
      "text/latex": [
       "$\\displaystyle 2 \\sqrt{E_{1}} \\sqrt{m} \\cos{\\left(\\frac{\\theta}{2} \\right)}$"
      ],
      "text/plain": [
       "    ____       ⎛θ⎞\n",
       "2⋅╲╱ E₁ ⋅√m⋅cos⎜─⎟\n",
       "               ⎝2⎠"
      ]
     },
     "execution_count": 7,
     "metadata": {},
     "output_type": "execute_result"
    }
   ],
   "source": [
    "tt2=hep.dotprod4(hep.polbar(pf,1),hep.ubuw(ptop,-1,kf,-1));tt2"
   ]
  },
  {
   "cell_type": "code",
   "execution_count": 8,
   "id": "26019d2c",
   "metadata": {},
   "outputs": [
    {
     "data": {
      "image/png": "[encoded data removed]",
      "text/latex": [
       "$\\displaystyle 4 E_{1} m \\cos^{2}{\\left(\\frac{\\theta}{2} \\right)}$"
      ],
      "text/plain": [
       "          2⎛θ⎞\n",
       "4⋅E₁⋅m⋅cos ⎜─⎟\n",
       "           ⎝2⎠"
      ]
     },
     "execution_count": 8,
     "metadata": {},
     "output_type": "execute_result"
    }
   ],
   "source": [
    "tt2sq=tt2*tt2;tt2sq"
   ]
  },
  {
   "cell_type": "code",
   "execution_count": 9,
   "id": "a94189cd",
   "metadata": {},
   "outputs": [
    {
     "data": {
      "image/png": "[encoded data removed]",
      "text/latex": [
       "$\\displaystyle \\frac{\\sqrt{2} \\sqrt{E_{1}} \\sqrt{m} \\left(E + \\sqrt{E^{2} - M^{2}}\\right) \\cos{\\left(\\frac{\\theta}{2} \\right)}}{M}$"
      ],
      "text/plain": [
       "             ⎛       _________⎞       \n",
       "     ____    ⎜      ╱  2    2 ⎟    ⎛θ⎞\n",
       "√2⋅╲╱ E₁ ⋅√m⋅⎝E + ╲╱  E  - M  ⎠⋅cos⎜─⎟\n",
       "                                   ⎝2⎠\n",
       "──────────────────────────────────────\n",
       "                  M                   "
      ]
     },
     "execution_count": 9,
     "metadata": {},
     "output_type": "execute_result"
    }
   ],
   "source": [
    "tt3=hep.dotprod4(hep.polbar(pf,0),hep.ubuw(ptop,1,kf,-1));tt3"
   ]
  },
  {
   "cell_type": "code",
   "execution_count": 10,
   "id": "67045f28",
   "metadata": {},
   "outputs": [
    {
     "data": {
      "image/png": "[encoded data removed]",
      "text/latex": [
       "$\\displaystyle \\frac{2 E_{1} m \\left(E + \\sqrt{E^{2} - M^{2}}\\right)^{2} \\cos^{2}{\\left(\\frac{\\theta}{2} \\right)}}{M^{2}}$"
      ],
      "text/plain": [
       "                         2        \n",
       "       ⎛       _________⎞         \n",
       "       ⎜      ╱  2    2 ⎟     2⎛θ⎞\n",
       "2⋅E₁⋅m⋅⎝E + ╲╱  E  - M  ⎠ ⋅cos ⎜─⎟\n",
       "                               ⎝2⎠\n",
       "──────────────────────────────────\n",
       "                 2                \n",
       "                M                 "
      ]
     },
     "execution_count": 10,
     "metadata": {},
     "output_type": "execute_result"
    }
   ],
   "source": [
    "tt3sq=simplify(tt3*tt3);tt3sq"
   ]
  },
  {
   "cell_type": "code",
   "execution_count": 11,
   "id": "0e5cb33a",
   "metadata": {},
   "outputs": [
    {
     "data": {
      "image/png": "[encoded data removed]",
      "text/latex": [
       "$\\displaystyle \\frac{\\sqrt{2} \\sqrt{E_{1}} \\sqrt{m} \\left(E + \\sqrt{E^{2} - M^{2}}\\right) \\sin{\\left(\\frac{\\theta}{2} \\right)}}{M}$"
      ],
      "text/plain": [
       "             ⎛       _________⎞       \n",
       "     ____    ⎜      ╱  2    2 ⎟    ⎛θ⎞\n",
       "√2⋅╲╱ E₁ ⋅√m⋅⎝E + ╲╱  E  - M  ⎠⋅sin⎜─⎟\n",
       "                                   ⎝2⎠\n",
       "──────────────────────────────────────\n",
       "                  M                   "
      ]
     },
     "execution_count": 11,
     "metadata": {},
     "output_type": "execute_result"
    }
   ],
   "source": [
    "tt4=hep.dotprod4(hep.polbar(pf,0),hep.ubuw(ptop,-1,kf,-1));tt4"
   ]
  },
  {
   "cell_type": "code",
   "execution_count": 12,
   "id": "a85ae9c0",
   "metadata": {},
   "outputs": [
    {
     "data": {
      "image/png": "[encoded data removed]",
      "text/latex": [
       "$\\displaystyle \\frac{2 E_{1} m \\left(E + \\sqrt{E^{2} - M^{2}}\\right)^{2} \\sin^{2}{\\left(\\frac{\\theta}{2} \\right)}}{M^{2}}$"
      ],
      "text/plain": [
       "                         2        \n",
       "       ⎛       _________⎞         \n",
       "       ⎜      ╱  2    2 ⎟     2⎛θ⎞\n",
       "2⋅E₁⋅m⋅⎝E + ╲╱  E  - M  ⎠ ⋅sin ⎜─⎟\n",
       "                               ⎝2⎠\n",
       "──────────────────────────────────\n",
       "                 2                \n",
       "                M                 "
      ]
     },
     "execution_count": 12,
     "metadata": {},
     "output_type": "execute_result"
    }
   ],
   "source": [
    "tt4sq=simplify(tt4*tt4);tt4sq"
   ]
  },
  {
   "cell_type": "code",
   "execution_count": 13,
   "id": "ad3f3d5b",
   "metadata": {},
   "outputs": [
    {
     "data": {
      "image/png": "[encoded data removed]",
      "text/latex": [
       "$\\displaystyle \\frac{2 E_{1} m \\left(2 E^{2} + 2 E \\sqrt{E^{2} - M^{2}} + M^{2}\\right)}{M^{2}}$"
      ],
      "text/plain": [
       "       ⎛              _________     ⎞\n",
       "       ⎜   2         ╱  2    2     2⎟\n",
       "2⋅E₁⋅m⋅⎝2⋅E  + 2⋅E⋅╲╱  E  - M   + M ⎠\n",
       "─────────────────────────────────────\n",
       "                   2                 \n",
       "                  M                  "
      ]
     },
     "execution_count": 13,
     "metadata": {},
     "output_type": "execute_result"
    }
   ],
   "source": [
    "simplify(tt1sq+tt2sq+tt3sq+tt4sq)"
   ]
  },
  {
   "cell_type": "code",
   "execution_count": 14,
   "id": "edf1ed29",
   "metadata": {},
   "outputs": [
    {
     "data": {
      "image/png": "[encoded data removed]",
      "text/latex": [
       "$\\displaystyle \\frac{2 E_{1} m \\left(2 E^{2} + 2 E E_{1} + M^{2}\\right)}{M^{2}}$"
      ],
      "text/plain": [
       "       ⎛   2             2⎞\n",
       "2⋅E₁⋅m⋅⎝2⋅E  + 2⋅E⋅E₁ + M ⎠\n",
       "───────────────────────────\n",
       "              2            \n",
       "             M             "
      ]
     },
     "execution_count": 14,
     "metadata": {},
     "output_type": "execute_result"
    }
   ],
   "source": [
    "sumsq1=2*E1*m*(2*E**2+2*E*E1+M**2)/M**2;sumsq1"
   ]
  },
  {
   "cell_type": "code",
   "execution_count": 15,
   "id": "5e7d5cd8",
   "metadata": {},
   "outputs": [
    {
     "data": {
      "image/png": "[encoded data removed]",
      "text/latex": [
       "$\\displaystyle - 2 M^{2} + m^{2} + \\frac{m^{4}}{M^{2}}$"
      ],
      "text/plain": [
       "               4\n",
       "     2    2   m \n",
       "- 2⋅M  + m  + ──\n",
       "               2\n",
       "              M "
      ]
     },
     "execution_count": 15,
     "metadata": {},
     "output_type": "execute_result"
    }
   ],
   "source": [
    "sumsq=simplify(sumsq1.subs(E,(M**2+m**2)/2/m).subs(E1,(m**2-M**2)/2/m));sumsq"
   ]
  },
  {
   "cell_type": "code",
   "execution_count": 16,
   "id": "fdd66848",
   "metadata": {},
   "outputs": [
    {
     "data": {
      "image/png": "[encoded data removed]",
      "text/latex": [
       "$\\displaystyle \\frac{m^{4} \\left(- \\frac{M^{2}}{m^{2}} + 1\\right) \\left(\\frac{2 M^{2}}{m^{2}} + 1\\right)}{M^{2}}$"
      ],
      "text/plain": [
       "   ⎛   2    ⎞ ⎛   2    ⎞\n",
       " 4 ⎜  M     ⎟ ⎜2⋅M     ⎟\n",
       "m ⋅⎜- ── + 1⎟⋅⎜──── + 1⎟\n",
       "   ⎜   2    ⎟ ⎜  2     ⎟\n",
       "   ⎝  m     ⎠ ⎝ m      ⎠\n",
       "────────────────────────\n",
       "            2           \n",
       "           M            "
      ]
     },
     "execution_count": 16,
     "metadata": {},
     "output_type": "execute_result"
    }
   ],
   "source": [
    "sumsqalt=m**4/M**2*(1-M**2/m**2)*(1+2*M**2/m**2);sumsqalt"
   ]
  },
  {
   "cell_type": "code",
   "execution_count": 17,
   "id": "6cbd0142",
   "metadata": {},
   "outputs": [
    {
     "data": {
      "image/png": "[encoded data removed]",
      "text/latex": [
       "$\\displaystyle 0$"
      ],
      "text/plain": [
       "0"
      ]
     },
     "execution_count": 17,
     "metadata": {},
     "output_type": "execute_result"
    }
   ],
   "source": [
    "simplify(sumsq-sumsqalt)"
   ]
  },
  {
   "cell_type": "markdown",
   "id": "10034452",
   "metadata": {},
   "source": [
    "Therefore:\n",
    "\n",
    "$$\\sum|T_{{fi}}|^{2}=\\frac{g^{2}}{2}\\frac{m_{t}^{4}}{M_{W}^{2}}\n",
    "\\left(1-\\frac{M_{W}^{2}}{m_{t}^{2}}\\right)\\left(1+2\\frac{M_{W}^{2}}{m_{t}^{2}}\n",
    "\\right)\\enspace $$\n",
    "\n",
    "and after spin averaging (factor 1/2) and replacing $g^2$ by $G_F$\n",
    "\n",
    "$$\\overline{\\sum}|T_{{fi}}|^{2}=\\sqrt{2}G_Fm_{t}^{4}\n",
    "\\left(1-\\frac{M_{W}^{2}}{m_{t}^{2}}\\right)\\left(1+2\\frac{M_{W}^{2}}{m_{t}^{2}}\n",
    "\\right)\\enspace .$$\n",
    "\n",
    "The decay width is as usual obtained by multiplying this formula with the factor\n",
    "given in equation (2.17) of the book, i.e. $(1-M_W^2/m_t^2)/(16\\pi m_t)$\n",
    "resulting in\n",
    "\n",
    "$$\\Gamma(t\\to Wb)=\\frac{G_F}{8\\pi\\sqrt{2}}m_{t}^{3}\n",
    "\\left(1-\\frac{M_{W}^{2}}{m_{t}^{2}}\\right)^2\\left(1+2\\frac{M_{W}^{2}}{m_{t}^{2}}\n",
    "\\right)\\enspace .$$"
   ]
  },
  {
   "cell_type": "markdown",
   "id": "2fce403d",
   "metadata": {},
   "source": [
    "### 2) The decay $W\\to\\mu+\\bar{\\nu}_\\mu$\n",
    "\n",
    "The four momentum conservation reads  $𝑝_W=𝑝_𝑓+𝑘_𝑓$ . The mass of the antineutrino is neglected.\n",
    "Using crossing symmetry we only need to multiply sumsq in line 15 by $-1$ accounting for the crossing of one fermion line."
   ]
  },
  {
   "cell_type": "code",
   "execution_count": 18,
   "id": "4c352b8e",
   "metadata": {},
   "outputs": [
    {
     "data": {
      "image/png": "[encoded data removed]",
      "text/latex": [
       "$\\displaystyle 2 M^{2} - m^{2} - \\frac{m^{4}}{M^{2}}$"
      ],
      "text/plain": [
       "             4\n",
       "   2    2   m \n",
       "2⋅M  - m  - ──\n",
       "             2\n",
       "            M "
      ]
     },
     "execution_count": 18,
     "metadata": {},
     "output_type": "execute_result"
    }
   ],
   "source": [
    "sumsqW=2*M**2-m**2-m**4/M**2;sumsqW"
   ]
  },
  {
   "cell_type": "code",
   "execution_count": 19,
   "id": "01591cdf",
   "metadata": {},
   "outputs": [
    {
     "data": {
      "image/png": "[encoded data removed]",
      "text/latex": [
       "$\\displaystyle M^{2} \\cdot \\left(1 - \\frac{m^{2}}{M^{2}}\\right) \\left(2 + \\frac{m^{2}}{M^{2}}\\right)$"
      ],
      "text/plain": [
       "   ⎛     2⎞ ⎛     2⎞\n",
       " 2 ⎜    m ⎟ ⎜    m ⎟\n",
       "M ⋅⎜1 - ──⎟⋅⎜2 + ──⎟\n",
       "   ⎜     2⎟ ⎜     2⎟\n",
       "   ⎝    M ⎠ ⎝    M ⎠"
      ]
     },
     "execution_count": 19,
     "metadata": {},
     "output_type": "execute_result"
    }
   ],
   "source": [
    "sumsqaltW=M**2*(1-m**2/M**2)*(2+m**2/M**2);sumsqaltW"
   ]
  },
  {
   "cell_type": "code",
   "execution_count": 20,
   "id": "8748a138",
   "metadata": {},
   "outputs": [
    {
     "data": {
      "image/png": "[encoded data removed]",
      "text/latex": [
       "$\\displaystyle 0$"
      ],
      "text/plain": [
       "0"
      ]
     },
     "execution_count": 20,
     "metadata": {},
     "output_type": "execute_result"
    }
   ],
   "source": [
    "simplify(sumsqW-sumsqaltW)"
   ]
  },
  {
   "cell_type": "markdown",
   "id": "fea85c66",
   "metadata": {},
   "source": [
    "Therefore:\n",
    "\n",
    "$$\\sum|T_{{fi}}|^{2}=\\frac{g^{2}}{2}M^2\n",
    "\\left(1-\\frac{m^{2}}{M_{W}^{2}}\\right)\\left(2+\\frac{m^{2}}{M_W^{2}}\n",
    "\\right)\\enspace $$\n",
    "\n",
    "and after spin averaging (factor 1/3) and replacing $g^2$ by $G_F$\n",
    "\n",
    "$$\\overline{\\sum}|T_{{fi}}|^{2}=\\frac{8G_F}{6\\sqrt{2}}M_{W}^{4}\n",
    "\\left(1-\\frac{m^{2}}{M_{W}^{2}}\\right)\\left(2+\\frac{m^{2}}{M_W^{2}}\n",
    "\\right)\\enspace $$\n",
    "\n",
    "Finally \n",
    "\n",
    "$$\\Gamma(W\\to \\mu\\bar{\\nu}_\\mu)= \\frac{G_F}{12\\sqrt{2}\\pi}M_{W}^{3}\n",
    "\\left(1-\\frac{m^{2}}{M_{W}^{2}}\\right)^2\\left(2+\\frac{m^{2}}{M_W^{2}}\n",
    "\\right)\\enspace $$\n",
    "\n",
    "The mass corrections are very small. In most cases it suffices to use the approximation\n",
    "$m=M=0$\n",
    "\n",
    "$$\\Gamma_0= \\frac{G_F}{6\\sqrt{2}\\pi}M_{W}^{3}$$\n",
    "\n",
    "Decays $W\\to q\\bar{q}'$ can be calculated by multiplying the leptonic result with the color factor $N_C=3$  and\n",
    "including the respective elements of the CKM-matrix:\n",
    "\n",
    "$$\\Gamma_0(W\\to q\\bar{q}')= \\frac{G_F}{2\\sqrt{2}\\pi}|V_{ff'}|^2M_{W}^{3}\\enspace .$$"
   ]
  },
  {
   "cell_type": "markdown",
   "id": "11a063b8",
   "metadata": {},
   "source": [
    "As final check we calculate $\\sum|T_{{fi}}|^{2}$ from the contributing amplitudes. There are now 6 nonvanishing amplitudes. This again demonstrates the crossing principle as a basic property of $S$-matrix observables."
   ]
  },
  {
   "cell_type": "code",
   "execution_count": 21,
   "id": "c9d4d8ab",
   "metadata": {},
   "outputs": [],
   "source": [
    "pW=[M,M,0,0]\n",
    "pf=[E,m,theta,0]\n",
    "kf=[E1,0,pi-theta,pi]"
   ]
  },
  {
   "cell_type": "code",
   "execution_count": 22,
   "id": "14ce185e",
   "metadata": {},
   "outputs": [
    {
     "data": {
      "image/png": "[encoded data removed]",
      "text/latex": [
       "$\\displaystyle \\frac{\\sqrt{2} \\sqrt{E_{1}} \\left(\\sqrt{E - m} - \\sqrt{E + m}\\right) \\sin{\\left(\\theta \\right)}}{2}$"
      ],
      "text/plain": [
       "     ____ ⎛  _______     _______⎞       \n",
       "√2⋅╲╱ E₁ ⋅⎝╲╱ E - m  - ╲╱ E + m ⎠⋅sin(θ)\n",
       "────────────────────────────────────────\n",
       "                   2                    "
      ]
     },
     "execution_count": 22,
     "metadata": {},
     "output_type": "execute_result"
    }
   ],
   "source": [
    "tw1=hep.dotprod4(hep.pol(pW,1),hep.ubvw(pf,1,kf,1));tw1"
   ]
  },
  {
   "cell_type": "code",
   "execution_count": 23,
   "id": "03bb56ed",
   "metadata": {},
   "outputs": [
    {
     "data": {
      "image/png": "[encoded data removed]",
      "text/latex": [
       "$\\displaystyle E_{1} \\left(E - \\sqrt{E^{2} - m^{2}}\\right) \\sin^{2}{\\left(\\theta \\right)}$"
      ],
      "text/plain": [
       "   ⎛       _________⎞        \n",
       "   ⎜      ╱  2    2 ⎟    2   \n",
       "E₁⋅⎝E - ╲╱  E  - m  ⎠⋅sin (θ)"
      ]
     },
     "execution_count": 23,
     "metadata": {},
     "output_type": "execute_result"
    }
   ],
   "source": [
    "tw1sq=simplify(tw1*tw1);tw1sq"
   ]
  },
  {
   "cell_type": "code",
   "execution_count": 24,
   "id": "544415cb",
   "metadata": {},
   "outputs": [
    {
     "data": {
      "image/png": "[encoded data removed]",
      "text/latex": [
       "$\\displaystyle \\frac{\\sqrt{2} \\sqrt{E_{1}} \\cdot \\left(1 - \\cos{\\left(\\theta \\right)}\\right) \\left(\\sqrt{E - m} + \\sqrt{E + m}\\right)}{2}$"
      ],
      "text/plain": [
       "     ____              ⎛  _______     _______⎞\n",
       "√2⋅╲╱ E₁ ⋅(1 - cos(θ))⋅⎝╲╱ E - m  + ╲╱ E + m ⎠\n",
       "──────────────────────────────────────────────\n",
       "                      2                       "
      ]
     },
     "execution_count": 24,
     "metadata": {},
     "output_type": "execute_result"
    }
   ],
   "source": [
    "tw2=hep.dotprod4(hep.pol(pW,1),hep.ubvw(pf,-1,kf,1));tw2"
   ]
  },
  {
   "cell_type": "code",
   "execution_count": 25,
   "id": "581aa13c",
   "metadata": {},
   "outputs": [
    {
     "data": {
      "image/png": "[encoded data removed]",
      "text/latex": [
       "$\\displaystyle \\frac{E_{1} \\left(\\sqrt{E - m} + \\sqrt{E + m}\\right)^{2} \\left(\\cos{\\left(\\theta \\right)} - 1\\right)^{2}}{2}$"
      ],
      "text/plain": [
       "                          2              \n",
       "   ⎛  _______     _______⎞              2\n",
       "E₁⋅⎝╲╱ E - m  + ╲╱ E + m ⎠ ⋅(cos(θ) - 1) \n",
       "─────────────────────────────────────────\n",
       "                    2                    "
      ]
     },
     "execution_count": 25,
     "metadata": {},
     "output_type": "execute_result"
    }
   ],
   "source": [
    "tw2sq=simplify(tw2*tw2);tw2sq"
   ]
  },
  {
   "cell_type": "code",
   "execution_count": 26,
   "id": "6a3b786c",
   "metadata": {},
   "outputs": [
    {
     "data": {
      "image/png": "[encoded data removed]",
      "text/latex": [
       "$\\displaystyle \\sqrt{E_{1}} \\left(\\sqrt{E - m} - \\sqrt{E + m}\\right) \\cos{\\left(\\theta \\right)}$"
      ],
      "text/plain": [
       "  ____ ⎛  _______     _______⎞       \n",
       "╲╱ E₁ ⋅⎝╲╱ E - m  - ╲╱ E + m ⎠⋅cos(θ)"
      ]
     },
     "execution_count": 26,
     "metadata": {},
     "output_type": "execute_result"
    }
   ],
   "source": [
    "tw3=hep.dotprod4(hep.pol(pW,0),hep.ubvw(pf,1,kf,1));tw3"
   ]
  },
  {
   "cell_type": "code",
   "execution_count": 27,
   "id": "bf90422d",
   "metadata": {},
   "outputs": [
    {
     "data": {
      "image/png": "[encoded data removed]",
      "text/latex": [
       "$\\displaystyle E_{1} \\left(\\sqrt{E - m} - \\sqrt{E + m}\\right)^{2} \\cos^{2}{\\left(\\theta \\right)}$"
      ],
      "text/plain": [
       "                          2        \n",
       "   ⎛  _______     _______⎞     2   \n",
       "E₁⋅⎝╲╱ E - m  - ╲╱ E + m ⎠ ⋅cos (θ)"
      ]
     },
     "execution_count": 27,
     "metadata": {},
     "output_type": "execute_result"
    }
   ],
   "source": [
    "tw3sq=simplify(tw3*tw3);tw3sq"
   ]
  },
  {
   "cell_type": "code",
   "execution_count": 28,
   "id": "7d193be6",
   "metadata": {},
   "outputs": [
    {
     "data": {
      "image/png": "[encoded data removed]",
      "text/latex": [
       "$\\displaystyle \\sqrt{E_{1}} \\left(\\sqrt{E - m} + \\sqrt{E + m}\\right) \\sin{\\left(\\theta \\right)}$"
      ],
      "text/plain": [
       "  ____ ⎛  _______     _______⎞       \n",
       "╲╱ E₁ ⋅⎝╲╱ E - m  + ╲╱ E + m ⎠⋅sin(θ)"
      ]
     },
     "execution_count": 28,
     "metadata": {},
     "output_type": "execute_result"
    }
   ],
   "source": [
    "tw4=hep.dotprod4(hep.pol(pW,0),hep.ubvw(pf,-1,kf,1));tw4"
   ]
  },
  {
   "cell_type": "code",
   "execution_count": 29,
   "id": "2de15bf3",
   "metadata": {},
   "outputs": [
    {
     "data": {
      "image/png": "[encoded data removed]",
      "text/latex": [
       "$\\displaystyle E_{1} \\left(\\sqrt{E - m} + \\sqrt{E + m}\\right)^{2} \\sin^{2}{\\left(\\theta \\right)}$"
      ],
      "text/plain": [
       "                          2        \n",
       "   ⎛  _______     _______⎞     2   \n",
       "E₁⋅⎝╲╱ E - m  + ╲╱ E + m ⎠ ⋅sin (θ)"
      ]
     },
     "execution_count": 29,
     "metadata": {},
     "output_type": "execute_result"
    }
   ],
   "source": [
    "tw4sq=simplify(tw4*tw4);tw4sq"
   ]
  },
  {
   "cell_type": "code",
   "execution_count": 30,
   "id": "9f89a707",
   "metadata": {},
   "outputs": [
    {
     "data": {
      "image/png": "[encoded data removed]",
      "text/latex": [
       "$\\displaystyle \\frac{\\sqrt{2} \\sqrt{E_{1}} \\left(\\sqrt{E - m} - \\sqrt{E + m}\\right) \\sin{\\left(\\theta \\right)}}{2}$"
      ],
      "text/plain": [
       "     ____ ⎛  _______     _______⎞       \n",
       "√2⋅╲╱ E₁ ⋅⎝╲╱ E - m  - ╲╱ E + m ⎠⋅sin(θ)\n",
       "────────────────────────────────────────\n",
       "                   2                    "
      ]
     },
     "execution_count": 30,
     "metadata": {},
     "output_type": "execute_result"
    }
   ],
   "source": [
    "tw5=hep.dotprod4(hep.pol(pW,-1),hep.ubvw(pf,1,kf,1));tw5"
   ]
  },
  {
   "cell_type": "code",
   "execution_count": 31,
   "id": "d6d2c612",
   "metadata": {},
   "outputs": [
    {
     "data": {
      "image/png": "[encoded data removed]",
      "text/latex": [
       "$\\displaystyle E_{1} \\left(E - \\sqrt{E^{2} - m^{2}}\\right) \\sin^{2}{\\left(\\theta \\right)}$"
      ],
      "text/plain": [
       "   ⎛       _________⎞        \n",
       "   ⎜      ╱  2    2 ⎟    2   \n",
       "E₁⋅⎝E - ╲╱  E  - m  ⎠⋅sin (θ)"
      ]
     },
     "execution_count": 31,
     "metadata": {},
     "output_type": "execute_result"
    }
   ],
   "source": [
    "tw5sq=simplify(tw5*tw5);tw5sq"
   ]
  },
  {
   "cell_type": "code",
   "execution_count": 32,
   "id": "0c9e7ad2",
   "metadata": {},
   "outputs": [
    {
     "data": {
      "image/png": "[encoded data removed]",
      "text/latex": [
       "$\\displaystyle \\frac{\\sqrt{2} \\sqrt{E_{1}} \\left(- \\sqrt{E - m} - \\sqrt{E + m} + \\left(- \\sqrt{E - m} - \\sqrt{E + m}\\right) \\cos{\\left(\\theta \\right)}\\right)}{2}$"
      ],
      "text/plain": [
       "     ____ ⎛    _______     _______   ⎛    _______     _______⎞       ⎞\n",
       "√2⋅╲╱ E₁ ⋅⎝- ╲╱ E - m  - ╲╱ E + m  + ⎝- ╲╱ E - m  - ╲╱ E + m ⎠⋅cos(θ)⎠\n",
       "──────────────────────────────────────────────────────────────────────\n",
       "                                  2                                   "
      ]
     },
     "execution_count": 32,
     "metadata": {},
     "output_type": "execute_result"
    }
   ],
   "source": [
    "tw6=hep.dotprod4(hep.pol(pW,-1),hep.ubvw(pf,-1,kf,1));tw6"
   ]
  },
  {
   "cell_type": "code",
   "execution_count": 33,
   "id": "4575c1b4",
   "metadata": {},
   "outputs": [
    {
     "data": {
      "image/png": "[encoded data removed]",
      "text/latex": [
       "$\\displaystyle \\frac{E_{1} \\left(\\sqrt{E - m} + \\sqrt{E + m}\\right)^{2} \\left(\\cos{\\left(\\theta \\right)} + 1\\right)^{2}}{2}$"
      ],
      "text/plain": [
       "                          2              \n",
       "   ⎛  _______     _______⎞              2\n",
       "E₁⋅⎝╲╱ E - m  + ╲╱ E + m ⎠ ⋅(cos(θ) + 1) \n",
       "─────────────────────────────────────────\n",
       "                    2                    "
      ]
     },
     "execution_count": 33,
     "metadata": {},
     "output_type": "execute_result"
    }
   ],
   "source": [
    "tw6sq=simplify(tw6*tw6);tw6sq"
   ]
  },
  {
   "cell_type": "code",
   "execution_count": 34,
   "id": "b7c1d1b8",
   "metadata": {},
   "outputs": [
    {
     "data": {
      "image/png": "[encoded data removed]",
      "text/latex": [
       "$\\displaystyle 2 E_{1} \\cdot \\left(3 E + \\sqrt{E^{2} - m^{2}}\\right)$"
      ],
      "text/plain": [
       "     ⎛         _________⎞\n",
       "     ⎜        ╱  2    2 ⎟\n",
       "2⋅E₁⋅⎝3⋅E + ╲╱  E  - m  ⎠"
      ]
     },
     "execution_count": 34,
     "metadata": {},
     "output_type": "execute_result"
    }
   ],
   "source": [
    "simplify(tw1sq+tw2sq+tw3sq+tw4sq+tw5sq+tw6sq)"
   ]
  },
  {
   "cell_type": "code",
   "execution_count": 35,
   "id": "859e947a",
   "metadata": {},
   "outputs": [
    {
     "data": {
      "image/png": "[encoded data removed]",
      "text/latex": [
       "$\\displaystyle 2 E_{1} \\cdot \\left(2 E + M\\right)$"
      ],
      "text/plain": [
       "2⋅E₁⋅(2⋅E + M)"
      ]
     },
     "execution_count": 35,
     "metadata": {},
     "output_type": "execute_result"
    }
   ],
   "source": [
    "sumsq=2*E1*(2*E+M);sumsq"
   ]
  },
  {
   "cell_type": "code",
   "execution_count": 36,
   "id": "bca54b07",
   "metadata": {},
   "outputs": [
    {
     "data": {
      "image/png": "[encoded data removed]",
      "text/latex": [
       "$\\displaystyle 2 M^{2} - m^{2} - \\frac{m^{4}}{M^{2}}$"
      ],
      "text/plain": [
       "             4\n",
       "   2    2   m \n",
       "2⋅M  - m  - ──\n",
       "             2\n",
       "            M "
      ]
     },
     "execution_count": 36,
     "metadata": {},
     "output_type": "execute_result"
    }
   ],
   "source": [
    "simplify(sumsq.subs(E,(M**2+m**2)/2/M).subs(E1,(M**2-m**2)/2/M))"
   ]
  },
  {
   "cell_type": "markdown",
   "id": "ec0fa436",
   "metadata": {},
   "source": [
    "Compared to the decay $t\\to Wb$ this is indeed just a change of sign!"
   ]
  },
  {
   "cell_type": "code",
   "execution_count": null,
   "id": "e24df9f1",
   "metadata": {},
   "outputs": [],
   "source": []
  }
 ],
 "metadata": {
  "kernelspec": {
   "display_name": "Python 3 (ipykernel)",
   "language": "python",
   "name": "python3"
  },
  "language_info": {
   "codemirror_mode": {
    "name": "ipython",
    "version": 3
   },
   "file_extension": ".py",
   "mimetype": "text/x-python",
   "name": "python",
   "nbconvert_exporter": "python",
   "pygments_lexer": "ipython3",
   "version": "3.10.3"
  }
 },
 "nbformat": 4,
 "nbformat_minor": 5
}
