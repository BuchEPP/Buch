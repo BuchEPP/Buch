{
 "cells": [
  {
   "cell_type": "markdown",
   "metadata": {},
   "source": [
    "# Calculate PDF(x) and Parton Luminosity\n",
    "\n",
    "Use the `parton` package:  https://github.com/DavidMStraub/parton\n",
    "\n",
    "Install the `parton` package: `pip install parton`\n",
    "\n",
    "Install PDF sets. For example: `python3 -m parton install 'CT18NNLO'`\n",
    "\n",
    "A list of PDF sets for download are available at: https://www.lhapdf.org/pdfsets.html "
   ]
  },
  {
   "cell_type": "code",
   "execution_count": 1,
   "metadata": {},
   "outputs": [],
   "source": [
    "import parton\n",
    "import math"
   ]
  },
  {
   "cell_type": "markdown",
   "metadata": {},
   "source": [
    "# Calculate $x f(x,Q)$"
   ]
  },
  {
   "cell_type": "code",
   "execution_count": null,
   "metadata": {},
   "outputs": [
    {
     "name": "stdout",
     "output_type": "stream",
     "text": [
      "Q:  100  GeV\n",
      "x:  0.01\n",
      "x*u(x):  0.7883036490944652\n",
      "x*bbar(x):  0.22981313000849626\n",
      "x*b(x):  0.22981313000849626\n",
      "x*g(x):  7.960073481872382\n"
     ]
    }
   ],
   "source": [
    "# Calculate x*f(x)\n",
    "\n",
    "# get PDF set\n",
    "pdf = parton.mkPDF('CT18NNLO', 0)\n",
    "\n",
    "# particle code: 0,1,2,3,4,5 for d,u,s,c,b ; gluon has code 21\n",
    "# anti-quarks have minus sign\n",
    "# calculates x f(x,Q)\n",
    "x = 0.01\n",
    "Q = 100 # GeV ; # factorization scale, \n",
    "# compare to Figure 8.3 (right) in the Book\n",
    "print('Q: ',Q,' GeV')\n",
    "print('x: ',x)\n",
    "print('x*u(x): ',pdf.xfxQ(2, 0.01, Q=Q))\n",
    "print('x*bbar(x): ',pdf.xfxQ(-5, 0.01, Q=Q))\n",
    "print('x*b(x): ',pdf.xfxQ(5, 0.01, Q=Q))\n",
    "print('x*g(x): ',pdf.xfxQ(21, 0.01, Q=Q))"
   ]
  },
  {
   "cell_type": "markdown",
   "metadata": {},
   "source": [
    "# Calculate Parton Luminosity"
   ]
  },
  {
   "cell_type": "markdown",
   "metadata": {},
   "source": [
    "For the calculation we use the formulas in the book in section 8.1.4 'Parton Luminosity'\n",
    "\n",
    "We provide two functions:\n",
    "- our own function `partonlumi`, which follows the procedure described in section 8.1.4, and makes a simple integration over rapidity y. \n",
    "- the function `plumi` using the functions provided by the parton package \n",
    "\n",
    "As explained in the book, in both cases we divide by $s$ and convert to `nbarn` using the \n",
    "factor $0.389E6~\\text{GeV}^2~\\text{nb}$.    "
   ]
  },
  {
   "cell_type": "code",
   "execution_count": null,
   "metadata": {},
   "outputs": [],
   "source": [
    "def partonlumi(pdf, s, shat, parton_a, parton_b):\n",
    "    \"\"\"\n",
    "    Calculate the parton luminosity\n",
    "\n",
    "    For the parameters and the procedure see section 8.1.4 in the book.\n",
    "    Return parton lumi in nb\n",
    "    \"\"\"\n",
    "    to_nb = 0.389E6 # Gev^2 nb\n",
    "    tau = shat/s\n",
    "    mu = math.sqrt(shat) # factorization scale, use shat\n",
    "    ymin = 0.5 * math.log(tau) # see section 8.1.1\n",
    "    ymax = -0.5 * math.log(tau)\n",
    "    nbin = 1000\n",
    "    dy = (ymax-ymin)/nbin\n",
    "    if parton_a == parton_b:\n",
    "        fac = 0.5\n",
    "    else:\n",
    "        fac = 1.\n",
    "    dLdtau = 0.\n",
    "    for i in range(nbin): # do simple integration\n",
    "        y = ymin + dy/2 + i*dy\n",
    "        xA = math.sqrt(tau)*math.exp(y)\n",
    "        xB = math.sqrt(tau)*math.exp(-y)\n",
    "        xfaA = pdf.xfxQ(parton_a, xA, Q=mu)\n",
    "        xfbB = pdf.xfxQ(parton_b, xB, Q=mu)\n",
    "        xfbA = pdf.xfxQ(parton_b, xA, Q=mu)\n",
    "        xfaB = pdf.xfxQ(parton_a, xB, Q=mu)\n",
    "        dL  = (xfaA*xfbB + xfbA*xfaB) * dy \n",
    "        dLdtau += dL\n",
    "    # apply factor for double counting, convert to nb\n",
    "    # since xfxQ() gives x f(x), dL contains factors xA*xB = tau, therefore divide by tau \n",
    "    return fac * dLdtau * to_nb / tau / s"
   ]
  },
  {
   "cell_type": "code",
   "execution_count": 13,
   "metadata": {},
   "outputs": [],
   "source": [
    "def plumi(pdf, s, shat, parton_a, parton_b):\n",
    "    \"\"\"\n",
    "    Calculate parton luminosity with the PLumi.L(...)\n",
    "\n",
    "    Return parton lumi in nb\n",
    "    \"\"\"\n",
    "    to_nb = 0.389E6 # Gev^2 nb\n",
    "    tau = shat/s\n",
    "    pl = parton.PLumi(pdf, Q2=shat) # use factorization scale Q2 = shat \n",
    "    if parton_a == parton_b:\n",
    "        fac = 0.5\n",
    "    else:\n",
    "        fac = 1.\n",
    "    pl2 = pl.L(parton_a, parton_b, tau) + pl.L(parton_b, parton_a, tau)\n",
    "    return fac * pl2 * to_nb / s"
   ]
  },
  {
   "cell_type": "markdown",
   "metadata": {},
   "source": [
    "# Examples"
   ]
  },
  {
   "cell_type": "markdown",
   "metadata": {},
   "source": [
    "### Gluon-Gluon"
   ]
  },
  {
   "cell_type": "code",
   "execution_count": 16,
   "metadata": {},
   "outputs": [
    {
     "name": "stdout",
     "output_type": "stream",
     "text": [
      "sqrt(s): 14000 GeV\n",
      "sqrt(shat)   partonlumi     plumi\n",
      "    50 GeV   1.595e+05 nb   1.594e+05 nb\n",
      "   100 GeV   1.726e+04 nb   1.725e+04 nb\n",
      "   500 GeV   3.324e+01 nb   3.321e+01 nb\n",
      "  1000 GeV   1.156e+00 nb   1.155e+00 nb\n"
     ]
    }
   ],
   "source": [
    "# Check values in Figure 8.5 (gg) at 14 TeV\n",
    "s = (1.4E4)**2 # sqrt(s)=14 TeV\n",
    "print(f'sqrt(s): {math.sqrt(s):.0f} GeV')\n",
    "lQ = [ 50, 100, 500, 1000]\n",
    "parton_a = 21\n",
    "parton_b = 21\n",
    "pdf = parton.mkPDF('CT18NNLO', 0)\n",
    "print('sqrt(shat)   partonlumi     plumi')\n",
    "for Q in lQ:\n",
    "    shat = Q*Q \n",
    "    pl1 = partonlumi(pdf, s, shat, parton_a, parton_b)\n",
    "    pl2 = plumi(pdf, s, shat, parton_a, parton_b)\n",
    "    print(f'{Q:>6.0f} GeV  {pl1:10.3e} nb  {pl2:10.3e} nb')\n"
   ]
  },
  {
   "cell_type": "code",
   "execution_count": 17,
   "metadata": {},
   "outputs": [
    {
     "name": "stdout",
     "output_type": "stream",
     "text": [
      "sqrt(s): 2000 GeV\n",
      "sqrt(shat)   partonlumi     plumi\n",
      "    50 GeV   8.134e+03 nb   8.126e+03 nb\n",
      "   100 GeV   4.308e+02 nb   4.303e+02 nb\n",
      "   500 GeV   2.509e-02 nb   2.506e-02 nb\n",
      "  1000 GeV   9.258e-06 nb   9.249e-06 nb\n"
     ]
    }
   ],
   "source": [
    "# Check values in Figure 8.5 (gg) at 2 TeV\n",
    "s = (2E3)**2 # sqrt(s)=2 TeV\n",
    "print(f'sqrt(s): {math.sqrt(s):.0f} GeV')\n",
    "lQ = [ 50, 100, 500, 1000]\n",
    "parton_a = 21\n",
    "parton_b = 21\n",
    "pdf = parton.mkPDF('CT18NNLO', 0)\n",
    "print('sqrt(shat)   partonlumi     plumi')\n",
    "for Q in lQ:\n",
    "    shat = Q*Q \n",
    "    pl1 = partonlumi(pdf, s, shat, parton_a, parton_b)\n",
    "    pl2 = plumi(pdf, s, shat, parton_a, parton_b)\n",
    "    print(f'{Q:>6.0f} GeV  {pl1:10.3e} nb  {pl2:10.3e} nb')"
   ]
  },
  {
   "cell_type": "markdown",
   "metadata": {},
   "source": [
    "### $u \\bar{d}$ parton luminosity"
   ]
  },
  {
   "cell_type": "code",
   "execution_count": 18,
   "metadata": {},
   "outputs": [
    {
     "name": "stdout",
     "output_type": "stream",
     "text": [
      "sqrt(s): 14000 GeV\n",
      "sqrt(shat)   partonlumi     plumi\n",
      "    50 GeV   2.652e+03 nb   2.650e+03 nb\n",
      "   100 GeV   4.002e+02 nb   3.998e+02 nb\n",
      "   500 GeV   2.833e+00 nb   2.830e+00 nb\n",
      "  1000 GeV   2.339e-01 nb   2.337e-01 nb\n"
     ]
    }
   ],
   "source": [
    "# Check values in Figure 8.5 (udbar) at 14 TeV\n",
    "s = (1.4E4)**2 # sqrt(s)=14 TeV\n",
    "print(f'sqrt(s): {math.sqrt(s):.0f} GeV')\n",
    "lQ = [ 50, 100, 500, 1000]\n",
    "parton_a = 2\n",
    "parton_b = -1\n",
    "pdf = parton.mkPDF('CT18NNLO', 0)\n",
    "print('sqrt(shat)   partonlumi     plumi')\n",
    "for Q in lQ:\n",
    "    shat = Q*Q \n",
    "    pl1 = partonlumi(pdf, s, shat, parton_a, parton_b)\n",
    "    pl2 = plumi(pdf, s, shat, parton_a, parton_b)\n",
    "    print(f'{Q:>6.0f} GeV  {pl1:10.3e} nb  {pl2:10.3e} nb')"
   ]
  },
  {
   "cell_type": "code",
   "execution_count": 19,
   "metadata": {},
   "outputs": [
    {
     "name": "stdout",
     "output_type": "stream",
     "text": [
      "sqrt(s): 2000 GeV\n",
      "sqrt(shat)   partonlumi     plumi\n",
      "    50 GeV   4.179e+02 nb   4.174e+02 nb\n",
      "   100 GeV   4.537e+01 nb   4.533e+01 nb\n",
      "   500 GeV   2.516e-02 nb   2.513e-02 nb\n",
      "  1000 GeV   1.595e-05 nb   1.594e-05 nb\n"
     ]
    }
   ],
   "source": [
    "# Check values in Figure 8.5 (udbar) at 14 TeV\n",
    "s = (2E3)**2 # sqrt(s)=2 TeV\n",
    "print(f'sqrt(s): {math.sqrt(s):.0f} GeV')\n",
    "lQ = [ 50, 100, 500, 1000]\n",
    "parton_a = 2\n",
    "parton_b = -1\n",
    "pdf = parton.mkPDF('CT18NNLO', 0)\n",
    "print('sqrt(shat)   partonlumi     plumi')\n",
    "for Q in lQ:\n",
    "    shat = Q*Q \n",
    "    pl1 = partonlumi(pdf, s, shat, parton_a, parton_b)\n",
    "    pl2 = plumi(pdf, s, shat, parton_a, parton_b)\n",
    "    print(f'{Q:>6.0f} GeV  {pl1:10.3e} nb  {pl2:10.3e} nb')"
   ]
  },
  {
   "cell_type": "markdown",
   "metadata": {},
   "source": [
    "### $u \\bar{d}$ parton luminosity at $p \\bar{p}$ beams"
   ]
  },
  {
   "cell_type": "code",
   "execution_count": 20,
   "metadata": {},
   "outputs": [
    {
     "name": "stdout",
     "output_type": "stream",
     "text": [
      "sqrt(s): 1900 GeV\n",
      "sqrt(shat)   partonlumi     plumi\n",
      "    50 GeV   6.104e+02 nb   6.098e+02 nb\n",
      "   100 GeV   8.116e+01 nb   8.108e+01 nb\n",
      "   500 GeV   1.637e-01 nb   1.635e-01 nb\n",
      "  1000 GeV   3.470e-04 nb   3.466e-04 nb\n"
     ]
    }
   ],
   "source": [
    "# Check values in Figure 8.5 (udbar) for Tevatron\n",
    "# this is a  proton-antiproton beam of 1.9 TeV\n",
    "# dbar in antiproton is like d in proton\n",
    "s = (1.9E3)**2 # sqrt(s)=2 TeV\n",
    "print(f'sqrt(s): {math.sqrt(s):.0f} GeV')\n",
    "lQ = [ 50, 100, 500, 1000]\n",
    "parton_a = 2\n",
    "parton_b = 1\n",
    "pdf = parton.mkPDF('CT18NNLO', 0)\n",
    "print('sqrt(shat)   partonlumi     plumi')\n",
    "for Q in lQ:\n",
    "    shat = Q*Q \n",
    "    pl1 = partonlumi(pdf, s, shat, parton_a, parton_b)\n",
    "    pl2 = plumi(pdf, s, shat, parton_a, parton_b)\n",
    "    print(f'{Q:>6.0f} GeV  {pl1:10.3e} nb  {pl2:10.3e} nb')"
   ]
  },
  {
   "cell_type": "markdown",
   "metadata": {},
   "source": [
    "### Drell-Yan, Figure 8.19"
   ]
  },
  {
   "cell_type": "code",
   "execution_count": 21,
   "metadata": {},
   "outputs": [
    {
     "name": "stdout",
     "output_type": "stream",
     "text": [
      "sqrt(s): 8000 GeV\n",
      "sqrt(shat)   partonlumi     plumi\n",
      "Lumi:  1.013e+06 pb\n"
     ]
    }
   ],
   "source": [
    "# Section 8.3, \n",
    "# Check whether the factor 5/18 gives the same result as \n",
    "# a calculation where each qqbar contribution is multiplied with it charge**2\n",
    "# Calculate qqbar at 8 TeV where each parton contribution is multiplied by Q**2\n",
    "s = (8E3)**2 # sqrt(s)=8 TeV\n",
    "shat = 50**2\n",
    "print(f'sqrt(s): {math.sqrt(s):.0f} GeV')\n",
    "pdf = parton.mkPDF('CT18NNLO', 0)\n",
    "print('sqrt(shat)   partonlumi     plumi')\n",
    "pldd = partonlumi(pdf, s, shat, 1, -1) * 1/9\n",
    "pluu = partonlumi(pdf, s, shat, 2, -2) * 4/9\n",
    "plss = partonlumi(pdf, s, shat, 3, -3) * 1/9\n",
    "plcc = partonlumi(pdf, s, shat, 4, -4) * 4/9\n",
    "plbb = partonlumi(pdf, s, shat, 5, -5) * 1/9\n",
    "pl = pldd+pluu+plss+plcc+plbb\n",
    "print(f'Lumi: {pl*1000:10.3e} pb')"
   ]
  },
  {
   "cell_type": "code",
   "execution_count": 22,
   "metadata": {},
   "outputs": [
    {
     "name": "stdout",
     "output_type": "stream",
     "text": [
      "sqrt(s): 8000 GeV\n",
      "Lumi:  3.413e+06 pb\n",
      "Lumi*5/18:  9.482e+05 pb\n"
     ]
    }
   ],
   "source": [
    "# Calculate qqbar at 8 TeV \n",
    "# calculate the sum of q-qbar and apply the factor 5/18\n",
    "# the result shows that this method give good agreement with the \n",
    "# previous exact calculation\n",
    "# also compare parton lumi with reading from the plot: 3.4E6 pb\n",
    "# CT18NNLO gives slightly larger values than MSTW2008nlo68cl\n",
    "s = (8E3)**2 # sqrt(s)=8 TeV\n",
    "shat = 50**2\n",
    "print(f'sqrt(s): {math.sqrt(s):.0f} GeV')\n",
    "#pdf = parton.mkPDF('CT18NNLO', 0)\n",
    "pdf = parton.mkPDF('MSTW2008nlo68cl', 0)\n",
    "pldd = partonlumi(pdf, s, shat, 1, -1)\n",
    "pluu = partonlumi(pdf, s, shat, 2, -2)\n",
    "plss = partonlumi(pdf, s, shat, 3, -3)\n",
    "plcc = partonlumi(pdf, s, shat, 4, -4)\n",
    "plbb = partonlumi(pdf, s, shat, 5, -5)\n",
    "pl = pldd+pluu+plss+plcc+plbb\n",
    "print(f'Lumi: {pl*1000:10.3e} pb')\n",
    "print(f'Lumi*5/18: {pl*5/18*1000:10.3e} pb')\n"
   ]
  },
  {
   "cell_type": "code",
   "execution_count": 23,
   "metadata": {},
   "outputs": [
    {
     "name": "stdout",
     "output_type": "stream",
     "text": [
      "sqrt(s): 8000 GeV\n",
      "Lumi:  5.953e+05 pb\n"
     ]
    }
   ],
   "source": [
    "# calculate parton luminosity for Z production at 8 TeV, fig. 8.19\n",
    "# compare parton lumi with the reading from the plot of 5.9E5 pb\n",
    "# CT18NNLO gives slightly larger values than MSTW2008nlo68cl\n",
    "s = (8E3)**2 # sqrt(s)=8 TeV\n",
    "shat = 91.2**2\n",
    "print(f'sqrt(s): {math.sqrt(s):.0f} GeV')\n",
    "#pdf = parton.mkPDF('CT18NNLO', 0)\n",
    "pdf = parton.mkPDF('MSTW2008nlo68cl', 0)\n",
    "pldd = partonlumi(pdf, s, shat, 1, -1)\n",
    "pluu = partonlumi(pdf, s, shat, 2, -2)\n",
    "plss = partonlumi(pdf, s, shat, 3, -3)\n",
    "plcc = partonlumi(pdf, s, shat, 4, -4)\n",
    "plbb = partonlumi(pdf, s, shat, 5, -5)\n",
    "pl = pldd+pluu+plss+plcc+plbb\n",
    "print(f'Lumi: {pl*1000:10.3e} pb')"
   ]
  },
  {
   "cell_type": "code",
   "execution_count": null,
   "metadata": {},
   "outputs": [],
   "source": []
  }
 ],
 "metadata": {
  "kernelspec": {
   "display_name": "eparton",
   "language": "python",
   "name": "python3"
  },
  "language_info": {
   "codemirror_mode": {
    "name": "ipython",
    "version": 3
   },
   "file_extension": ".py",
   "mimetype": "text/x-python",
   "name": "python",
   "nbconvert_exporter": "python",
   "pygments_lexer": "ipython3",
   "version": "3.9.16"
  }
 },
 "nbformat": 4,
 "nbformat_minor": 2
}
