{
 "cells": [
  {
   "cell_type": "markdown",
   "metadata": {},
   "source": [
    "### Example program with *astropy*\n",
    "\n",
    "astropy performs calculations with units\n",
    "\n",
    "This example performs calculations, which\n",
    "are listed in the appendix A.1 of the book 'Elementarteilchenphysik'"
   ]
  },
  {
   "cell_type": "code",
   "execution_count": 7,
   "metadata": {},
   "outputs": [],
   "source": [
    "import numpy as np\n",
    "import astropy.units as u\n",
    "import astropy.constants as const"
   ]
  },
  {
   "cell_type": "code",
   "execution_count": 8,
   "metadata": {},
   "outputs": [
    {
     "data": {
      "text/plain": [
       "'hbar: '"
      ]
     },
     "metadata": {},
     "output_type": "display_data"
    },
    {
     "data": {
      "text/latex": [
       "$6.5821196 \\times 10^{-22} \\; \\mathrm{MeV\\,s}$"
      ],
      "text/plain": [
       "<Quantity 6.58211957e-22 MeV s>"
      ]
     },
     "metadata": {},
     "output_type": "display_data"
    },
    {
     "data": {
      "text/plain": [
       "'c: '"
      ]
     },
     "metadata": {},
     "output_type": "display_data"
    },
    {
     "data": {
      "text/latex": [
       "$2.9979246 \\times 10^{8} \\; \\mathrm{\\frac{m}{s}}$"
      ],
      "text/plain": [
       "<<class 'astropy.constants.codata2018.CODATA2018'> name='Speed of light in vacuum' value=299792458.0 uncertainty=0.0 unit='m / s' reference='CODATA 2018'>"
      ]
     },
     "metadata": {},
     "output_type": "display_data"
    },
    {
     "data": {
      "text/plain": [
       "'e: '"
      ]
     },
     "metadata": {},
     "output_type": "display_data"
    },
    {
     "data": {
      "text/latex": [
       "$1.6021766 \\times 10^{-19} \\; \\mathrm{C}$"
      ],
      "text/plain": [
       "<<class 'astropy.constants.codata2018.EMCODATA2018'> name='Electron charge' value=1.602176634e-19 uncertainty=0.0 unit='C' reference='CODATA 2018'>"
      ]
     },
     "metadata": {},
     "output_type": "display_data"
    },
    {
     "data": {
      "text/plain": [
       "'k: '"
      ]
     },
     "metadata": {},
     "output_type": "display_data"
    },
    {
     "data": {
      "text/latex": [
       "$8.6173333 \\times 10^{-5} \\; \\mathrm{\\frac{eV}{K}}$"
      ],
      "text/plain": [
       "<Quantity 8.61733326e-05 eV / K>"
      ]
     },
     "metadata": {},
     "output_type": "display_data"
    },
    {
     "data": {
      "text/plain": [
       "'eps0: '"
      ]
     },
     "metadata": {},
     "output_type": "display_data"
    },
    {
     "data": {
      "text/latex": [
       "$8.8541878 \\times 10^{-12} \\; \\mathrm{\\frac{F}{m}}$"
      ],
      "text/plain": [
       "<<class 'astropy.constants.codata2018.EMCODATA2018'> name='Vacuum electric permittivity' value=8.8541878128e-12 uncertainty=1.3e-21 unit='F / m' reference='CODATA 2018'>"
      ]
     },
     "metadata": {},
     "output_type": "display_data"
    }
   ],
   "source": [
    "# get constants in SI system\n",
    "# convert to specific units\n",
    "hbar = (const.si.hbar).to(u.MeV*u.s)\n",
    "c = const.si.c\n",
    "e = const.si.e\n",
    "k = (const.si.k_B).to(u.eV/u.K)\n",
    "eps0 = const.si.eps0\n",
    "alpha = const.si.alpha\n",
    "# display\n",
    "display(\"hbar: \",hbar)\n",
    "display(\"c: \",c)\n",
    "display(\"e: \",e)\n",
    "display(\"k: \",k)\n",
    "display(\"eps0: \",eps0)\n",
    "# display should be:  \n",
    "#> hbar:  6.582119569509068e-22 MeV s\n",
    "#> c: 299792458 m/s\n",
    "#> e: 1.602176634e-19 C\n",
    "#> k: 8.617333262145179e-05 eV / K\n",
    "#> eps0: 8.8541878128e-12 F / m"
   ]
  },
  {
   "cell_type": "code",
   "execution_count": 9,
   "metadata": {},
   "outputs": [
    {
     "data": {
      "text/plain": [
       "'1/alpha: '"
      ]
     },
     "metadata": {},
     "output_type": "display_data"
    },
    {
     "data": {
      "text/latex": [
       "$137.036 \\; \\mathrm{}$"
      ],
      "text/plain": [
       "<Quantity 137.03599908>"
      ]
     },
     "metadata": {},
     "output_type": "display_data"
    },
    {
     "data": {
      "text/plain": [
       "'1/alfa: '"
      ]
     },
     "metadata": {},
     "output_type": "display_data"
    },
    {
     "data": {
      "text/latex": [
       "$137.036 \\; \\mathrm{}$"
      ],
      "text/plain": [
       "<Quantity 137.03599908>"
      ]
     },
     "metadata": {},
     "output_type": "display_data"
    }
   ],
   "source": [
    "# check relation between e**2 and alpha\n",
    "alfa = e**2/(4*np.pi*eps0*hbar*c)\n",
    "# decompose to mksA to simplify conversion \n",
    "alfa = alfa.decompose()\n",
    "display(\"1/alpha: \",1/alpha)\n",
    "display(\"1/alfa: \",1/alfa)\n",
    "#> 1/alpha: 137.036\n",
    "#> 1/alfa: 137.036\n"
   ]
  },
  {
   "cell_type": "code",
   "execution_count": 10,
   "metadata": {},
   "outputs": [
    {
     "data": {
      "text/plain": [
       "'hbarc: '"
      ]
     },
     "metadata": {},
     "output_type": "display_data"
    },
    {
     "data": {
      "text/latex": [
       "$0.19732698 \\; \\mathrm{GeV\\,fm}$"
      ],
      "text/plain": [
       "<Quantity 0.19732698 fm GeV>"
      ]
     },
     "metadata": {},
     "output_type": "display_data"
    },
    {
     "data": {
      "text/plain": [
       "'hbarc2: '"
      ]
     },
     "metadata": {},
     "output_type": "display_data"
    },
    {
     "data": {
      "text/latex": [
       "$0.38937937 \\; \\mathrm{GeV^{2}\\,mbarn}$"
      ],
      "text/plain": [
       "<Quantity 0.38937937 GeV2 mbarn>"
      ]
     },
     "metadata": {},
     "output_type": "display_data"
    }
   ],
   "source": [
    "# calculate combinations of constants\n",
    "hbarc = (hbar*c).to(u.GeV*u.fm)\n",
    "hbarc2 = (hbarc**2).to(u.GeV**2*u.mbarn)\n",
    "display(\"hbarc: \",hbarc)\n",
    "display(\"hbarc2: \",hbarc2)\n",
    "#>  hbarc: 0.19732698 GeV fm\n",
    "#>  hbarc2: 0.38937937 GeV**2 mbarn"
   ]
  },
  {
   "cell_type": "code",
   "execution_count": 11,
   "metadata": {},
   "outputs": [
    {
     "data": {
      "text/plain": [
       "'sigma: '"
      ]
     },
     "metadata": {},
     "output_type": "display_data"
    },
    {
     "data": {
      "text/latex": [
       "$21.713619 \\; \\mathrm{nbarn}$"
      ],
      "text/plain": [
       "<Quantity 21.71361922 nbarn>"
      ]
     },
     "metadata": {},
     "output_type": "display_data"
    }
   ],
   "source": [
    "# Calculate cross section\n",
    "# Example e+ e- --> mu+ mu-\n",
    "# sigma = pi*alpha**2/(3*E**2)\n",
    "E = 1*u.GeV\n",
    "sigma = np.pi*alpha**2/(3*E**2) * hbarc2\n",
    "display(\"sigma: \",sigma.to(u.nbarn))\n",
    "#> sigma: 21.713619 nbarn"
   ]
  }
 ],
 "metadata": {
  "kernelspec": {
   "display_name": "epy",
   "language": "python",
   "name": "python3"
  },
  "language_info": {
   "codemirror_mode": {
    "name": "ipython",
    "version": 3
   },
   "file_extension": ".py",
   "mimetype": "text/x-python",
   "name": "python",
   "nbconvert_exporter": "python",
   "pygments_lexer": "ipython3",
   "version": "3.9.16"
  }
 },
 "nbformat": 4,
 "nbformat_minor": 2
}
