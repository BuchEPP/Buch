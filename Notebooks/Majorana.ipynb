{
 "cells": [
  {
   "cell_type": "markdown",
   "id": "56bd452a-5e21-4ec6-97cd-f924113f5fce",
   "metadata": {},
   "source": [
    "# Majorana spinor\n",
    "\n",
    "Calculate the Majorana mass for commutative and non-commutative spinors. \n",
    "Show that only in the latter case the mass term is different from zero. \n",
    "\n",
    "section 9.3, explanation box 9.2 "
   ]
  },
  {
   "cell_type": "code",
   "execution_count": 21,
   "id": "87fbf746-1e95-4744-8201-83aa89f2c77d",
   "metadata": {},
   "outputs": [],
   "source": [
    "import sympy as sy\n",
    "import heppackv0 as hep"
   ]
  },
  {
   "cell_type": "code",
   "execution_count": 22,
   "id": "7a2969a9-5ba6-4843-b377-f07af82fb508",
   "metadata": {},
   "outputs": [],
   "source": [
    "theta,phi = sy.symbols(\"theta,phi\",real=True)\n",
    "E,m = sy.symbols(\"E,m\",positive=True)\n",
    "a,b,c,d = sy.symbols(\"a b c d\", commutative=True)"
   ]
  },
  {
   "cell_type": "code",
   "execution_count": 23,
   "id": "09dc7146-1e44-4e95-9683-7dcbc12074ee",
   "metadata": {},
   "outputs": [
    {
     "data": {
      "image/png": "[encoded data removed]",
      "text/latex": [
       "$\\displaystyle \\left[\\begin{matrix}\\frac{a}{2} - \\frac{c}{2}\\\\\\frac{b}{2} - \\frac{d}{2}\\\\- \\frac{a}{2} + \\frac{c}{2}\\\\- \\frac{b}{2} + \\frac{d}{2}\\end{matrix}\\right]$"
      ],
      "text/plain": [
       "⎡ a   c ⎤\n",
       "⎢ ─ - ─ ⎥\n",
       "⎢ 2   2 ⎥\n",
       "⎢       ⎥\n",
       "⎢ b   d ⎥\n",
       "⎢ ─ - ─ ⎥\n",
       "⎢ 2   2 ⎥\n",
       "⎢       ⎥\n",
       "⎢  a   c⎥\n",
       "⎢- ─ + ─⎥\n",
       "⎢  2   2⎥\n",
       "⎢       ⎥\n",
       "⎢  b   d⎥\n",
       "⎢- ─ + ─⎥\n",
       "⎣  2   2⎦"
      ]
     },
     "execution_count": 23,
     "metadata": {},
     "output_type": "execute_result"
    }
   ],
   "source": [
    "# construct general 4-spinor with \n",
    "# four independent commutative components\n",
    "# calculate L, R parts and their conjugates. \n",
    "u  = sy.Matrix([[a],[b],[c],[d]]) \n",
    "CC = sy.I * hep.g2\n",
    "uR = hep.projpl*u\n",
    "uL = hep.projm*u\n",
    "uLc = CC*uL.C\n",
    "uRc = CC*uR.C \n",
    "uL"
   ]
  },
  {
   "cell_type": "markdown",
   "id": "cd82463e-f376-467d-bcbf-d73a6b2c2d1a",
   "metadata": {},
   "source": [
    "# Calculation with commutative spinor"
   ]
  },
  {
   "cell_type": "markdown",
   "id": "46915f91-6897-4eb4-b76b-f4b5567b32ab",
   "metadata": {},
   "source": [
    "### Construct majorana spinor with upL"
   ]
  },
  {
   "cell_type": "code",
   "execution_count": 24,
   "id": "ea2112e6-24db-4494-aa66-ab2aa987d740",
   "metadata": {},
   "outputs": [
    {
     "data": {
      "image/png": "[encoded data removed]",
      "text/latex": [
       "$\\displaystyle \\left[\\begin{matrix}0\\\\0\\\\0\\\\0\\end{matrix}\\right]$"
      ],
      "text/plain": [
       "⎡0⎤\n",
       "⎢ ⎥\n",
       "⎢0⎥\n",
       "⎢ ⎥\n",
       "⎢0⎥\n",
       "⎢ ⎥\n",
       "⎣0⎦"
      ]
     },
     "execution_count": 24,
     "metadata": {},
     "output_type": "execute_result"
    }
   ],
   "source": [
    "# show that hep.projm*uLc == 0\n",
    "# which implies that the spinor uLc is chiral right-handed \n",
    "sy.simplify(hep.projm*uLc)"
   ]
  },
  {
   "cell_type": "code",
   "execution_count": 25,
   "id": "af68ce54-2516-4602-aa40-d1f79f168990",
   "metadata": {},
   "outputs": [
    {
     "data": {
      "image/png": "[encoded data removed]",
      "text/latex": [
       "$\\displaystyle \\left[\\begin{matrix}0\\\\0\\\\0\\\\0\\end{matrix}\\right]$"
      ],
      "text/plain": [
       "⎡0⎤\n",
       "⎢ ⎥\n",
       "⎢0⎥\n",
       "⎢ ⎥\n",
       "⎢0⎥\n",
       "⎢ ⎥\n",
       "⎣0⎦"
      ]
     },
     "execution_count": 25,
     "metadata": {},
     "output_type": "execute_result"
    }
   ],
   "source": [
    "# show equivalently that hep.projpl*uLc == uLc\n",
    "# which implies that the spinor uLc is chiral right-handed \n",
    "sy.simplify(hep.projpl*uLc - uLc)"
   ]
  },
  {
   "cell_type": "code",
   "execution_count": 26,
   "id": "1957b7de-9a37-4455-8356-d796d89c61b2",
   "metadata": {},
   "outputs": [
    {
     "data": {
      "image/png": "[encoded data removed]",
      "text/latex": [
       "$\\displaystyle \\left[\\begin{matrix}\\frac{a}{2} - \\frac{c}{2} - \\frac{\\overline{b}}{2} + \\frac{\\overline{d}}{2}\\\\\\frac{b}{2} - \\frac{d}{2} + \\frac{\\overline{a}}{2} - \\frac{\\overline{c}}{2}\\\\- \\frac{a}{2} + \\frac{c}{2} - \\frac{\\overline{b}}{2} + \\frac{\\overline{d}}{2}\\\\- \\frac{b}{2} + \\frac{d}{2} + \\frac{\\overline{a}}{2} - \\frac{\\overline{c}}{2}\\end{matrix}\\right]$"
      ],
      "text/plain": [
       "⎡         _   _ ⎤\n",
       "⎢ a   c   b   d ⎥\n",
       "⎢ ─ - ─ - ─ + ─ ⎥\n",
       "⎢ 2   2   2   2 ⎥\n",
       "⎢               ⎥\n",
       "⎢         _   _ ⎥\n",
       "⎢ b   d   a   c ⎥\n",
       "⎢ ─ - ─ + ─ - ─ ⎥\n",
       "⎢ 2   2   2   2 ⎥\n",
       "⎢               ⎥\n",
       "⎢          _   _⎥\n",
       "⎢  a   c   b   d⎥\n",
       "⎢- ─ + ─ - ─ + ─⎥\n",
       "⎢  2   2   2   2⎥\n",
       "⎢               ⎥\n",
       "⎢          _   _⎥\n",
       "⎢  b   d   a   c⎥\n",
       "⎢- ─ + ─ + ─ - ─⎥\n",
       "⎣  2   2   2   2⎦"
      ]
     },
     "execution_count": 26,
     "metadata": {},
     "output_type": "execute_result"
    }
   ],
   "source": [
    "# construct the Majorana spinor from the upL\n",
    "# notice that the Majorana spinor has only \n",
    "# two independent variables: x=a-c and y=b-d. \n",
    "uLM = uL + uLc\n",
    "uLM = sy.simplify(uLM)\n",
    "uLM"
   ]
  },
  {
   "cell_type": "code",
   "execution_count": 27,
   "id": "6c023057-7458-404a-9b62-e271e96ede13",
   "metadata": {},
   "outputs": [
    {
     "data": {
      "image/png": "[encoded data removed]",
      "text/latex": [
       "$\\displaystyle \\left[\\begin{matrix}\\frac{a}{2} - \\frac{c}{2} - \\frac{\\overline{b}}{2} + \\frac{\\overline{d}}{2}\\\\\\frac{b}{2} - \\frac{d}{2} + \\frac{\\overline{a}}{2} - \\frac{\\overline{c}}{2}\\\\- \\frac{a}{2} + \\frac{c}{2} - \\frac{\\overline{b}}{2} + \\frac{\\overline{d}}{2}\\\\- \\frac{b}{2} + \\frac{d}{2} + \\frac{\\overline{a}}{2} - \\frac{\\overline{c}}{2}\\end{matrix}\\right]$"
      ],
      "text/plain": [
       "⎡         _   _ ⎤\n",
       "⎢ a   c   b   d ⎥\n",
       "⎢ ─ - ─ - ─ + ─ ⎥\n",
       "⎢ 2   2   2   2 ⎥\n",
       "⎢               ⎥\n",
       "⎢         _   _ ⎥\n",
       "⎢ b   d   a   c ⎥\n",
       "⎢ ─ - ─ + ─ - ─ ⎥\n",
       "⎢ 2   2   2   2 ⎥\n",
       "⎢               ⎥\n",
       "⎢          _   _⎥\n",
       "⎢  a   c   b   d⎥\n",
       "⎢- ─ + ─ - ─ + ─⎥\n",
       "⎢  2   2   2   2⎥\n",
       "⎢               ⎥\n",
       "⎢          _   _⎥\n",
       "⎢  b   d   a   c⎥\n",
       "⎢- ─ + ─ + ─ - ─⎥\n",
       "⎣  2   2   2   2⎦"
      ]
     },
     "execution_count": 27,
     "metadata": {},
     "output_type": "execute_result"
    }
   ],
   "source": [
    "# calculate the charge conjugate spinor\n",
    "uLMc = (CC*uLM.C)\n",
    "uLMc"
   ]
  },
  {
   "cell_type": "code",
   "execution_count": 28,
   "id": "b2650117-b03f-4ca7-9a8e-ff7ad9bcfd19",
   "metadata": {},
   "outputs": [
    {
     "data": {
      "image/png": "[encoded data removed]",
      "text/latex": [
       "$\\displaystyle \\left[\\begin{matrix}0\\\\0\\\\0\\\\0\\end{matrix}\\right]$"
      ],
      "text/plain": [
       "⎡0⎤\n",
       "⎢ ⎥\n",
       "⎢0⎥\n",
       "⎢ ⎥\n",
       "⎢0⎥\n",
       "⎢ ⎥\n",
       "⎣0⎦"
      ]
     },
     "execution_count": 28,
     "metadata": {},
     "output_type": "execute_result"
    }
   ],
   "source": [
    "# show that majorana spinors are identical\n",
    "# to their charge conjugates\n",
    "# uLM == uLMc\n",
    "sy.simplify(uLM - uLMc)"
   ]
  },
  {
   "cell_type": "code",
   "execution_count": 29,
   "id": "414d4a0c-4e8e-42bf-af22-ca98dfe15835",
   "metadata": {},
   "outputs": [
    {
     "data": {
      "image/png": "[encoded data removed]",
      "text/latex": [
       "$\\displaystyle \\left[\\begin{matrix}0\\end{matrix}\\right]$"
      ],
      "text/plain": [
       "[0]"
      ]
     },
     "execution_count": 29,
     "metadata": {},
     "output_type": "execute_result"
    }
   ],
   "source": [
    "# Calculate mass term\n",
    "# Notice that the mass term is zero.\n",
    "# The reason is that the components of the\n",
    "# spinor u are defined as commutative. \n",
    "# But in QFT fermion wave functions are non-commutative,\n",
    "# in this case the mass term in the Lagrangian is non zero,\n",
    "# see below. \n",
    "mL = sy.simplify((uLM.D * uLM))\n",
    "mL"
   ]
  },
  {
   "cell_type": "markdown",
   "id": "687849f1-8348-4cdd-ac40-9a890e1c146b",
   "metadata": {},
   "source": [
    "### Same test for right handed component upR"
   ]
  },
  {
   "cell_type": "code",
   "execution_count": 30,
   "id": "2103f358-25de-4f33-b71b-5535c9f4b763",
   "metadata": {},
   "outputs": [
    {
     "data": {
      "image/png": "[encoded data removed]",
      "text/latex": [
       "$\\displaystyle \\left[\\begin{matrix}0\\\\0\\\\0\\\\0\\end{matrix}\\right]$"
      ],
      "text/plain": [
       "⎡0⎤\n",
       "⎢ ⎥\n",
       "⎢0⎥\n",
       "⎢ ⎥\n",
       "⎢0⎥\n",
       "⎢ ⎥\n",
       "⎣0⎦"
      ]
     },
     "execution_count": 30,
     "metadata": {},
     "output_type": "execute_result"
    }
   ],
   "source": [
    "# show that hep.projpl*uRc == 0\n",
    "# which implies that the spinor uRc is chiral left handed \n",
    "hep.projpl*uRc"
   ]
  },
  {
   "cell_type": "code",
   "execution_count": 31,
   "id": "79d4f9a6-8095-4a1f-8142-e0b1a736d249",
   "metadata": {},
   "outputs": [
    {
     "data": {
      "image/png": "[encoded data removed]",
      "text/latex": [
       "$\\displaystyle \\left[\\begin{matrix}0\\\\0\\\\0\\\\0\\end{matrix}\\right]$"
      ],
      "text/plain": [
       "⎡0⎤\n",
       "⎢ ⎥\n",
       "⎢0⎥\n",
       "⎢ ⎥\n",
       "⎢0⎥\n",
       "⎢ ⎥\n",
       "⎣0⎦"
      ]
     },
     "execution_count": 31,
     "metadata": {},
     "output_type": "execute_result"
    }
   ],
   "source": [
    "# show equivalently that hep.projm*uRc == uRc\n",
    "# which implies that the spinor uRc is chiral left-handed\n",
    "sy.simplify(hep.projm*uRc - uRc)"
   ]
  },
  {
   "cell_type": "code",
   "execution_count": 32,
   "id": "a66ecd20-01dc-458b-9e8d-83500905eb83",
   "metadata": {},
   "outputs": [
    {
     "data": {
      "image/png": "[encoded data removed]",
      "text/latex": [
       "$\\displaystyle \\left[\\begin{matrix}\\frac{a}{2} + \\frac{c}{2} + \\frac{\\overline{b}}{2} + \\frac{\\overline{d}}{2}\\\\\\frac{b}{2} + \\frac{d}{2} - \\frac{\\overline{a}}{2} - \\frac{\\overline{c}}{2}\\\\\\frac{a}{2} + \\frac{c}{2} - \\frac{\\overline{b}}{2} - \\frac{\\overline{d}}{2}\\\\\\frac{b}{2} + \\frac{d}{2} + \\frac{\\overline{a}}{2} + \\frac{\\overline{c}}{2}\\end{matrix}\\right]$"
      ],
      "text/plain": [
       "⎡        _   _⎤\n",
       "⎢a   c   b   d⎥\n",
       "⎢─ + ─ + ─ + ─⎥\n",
       "⎢2   2   2   2⎥\n",
       "⎢             ⎥\n",
       "⎢        _   _⎥\n",
       "⎢b   d   a   c⎥\n",
       "⎢─ + ─ - ─ - ─⎥\n",
       "⎢2   2   2   2⎥\n",
       "⎢             ⎥\n",
       "⎢        _   _⎥\n",
       "⎢a   c   b   d⎥\n",
       "⎢─ + ─ - ─ - ─⎥\n",
       "⎢2   2   2   2⎥\n",
       "⎢             ⎥\n",
       "⎢        _   _⎥\n",
       "⎢b   d   a   c⎥\n",
       "⎢─ + ─ + ─ + ─⎥\n",
       "⎣2   2   2   2⎦"
      ]
     },
     "execution_count": 32,
     "metadata": {},
     "output_type": "execute_result"
    }
   ],
   "source": [
    "# construct the Majorana spinor from the uR\n",
    "# notice that the Majorana spinor has only the \n",
    "# two independent variables: X=a+c and Y=b+d. \n",
    "uRM = sy.simplify(uR + uRc)\n",
    "uRM"
   ]
  },
  {
   "cell_type": "code",
   "execution_count": 33,
   "id": "ff367a9f-51f7-4c0e-a5f0-d9336f2f33bc",
   "metadata": {},
   "outputs": [
    {
     "data": {
      "image/png": "[encoded data removed]",
      "text/latex": [
       "$\\displaystyle \\left[\\begin{matrix}\\frac{a}{2} + \\frac{c}{2} + \\frac{\\overline{b}}{2} + \\frac{\\overline{d}}{2}\\\\\\frac{b}{2} + \\frac{d}{2} - \\frac{\\overline{a}}{2} - \\frac{\\overline{c}}{2}\\\\\\frac{a}{2} + \\frac{c}{2} - \\frac{\\overline{b}}{2} - \\frac{\\overline{d}}{2}\\\\\\frac{b}{2} + \\frac{d}{2} + \\frac{\\overline{a}}{2} + \\frac{\\overline{c}}{2}\\end{matrix}\\right]$"
      ],
      "text/plain": [
       "⎡        _   _⎤\n",
       "⎢a   c   b   d⎥\n",
       "⎢─ + ─ + ─ + ─⎥\n",
       "⎢2   2   2   2⎥\n",
       "⎢             ⎥\n",
       "⎢        _   _⎥\n",
       "⎢b   d   a   c⎥\n",
       "⎢─ + ─ - ─ - ─⎥\n",
       "⎢2   2   2   2⎥\n",
       "⎢             ⎥\n",
       "⎢        _   _⎥\n",
       "⎢a   c   b   d⎥\n",
       "⎢─ + ─ - ─ - ─⎥\n",
       "⎢2   2   2   2⎥\n",
       "⎢             ⎥\n",
       "⎢        _   _⎥\n",
       "⎢b   d   a   c⎥\n",
       "⎢─ + ─ + ─ + ─⎥\n",
       "⎣2   2   2   2⎦"
      ]
     },
     "execution_count": 33,
     "metadata": {},
     "output_type": "execute_result"
    }
   ],
   "source": [
    "# calculate the charge conjugate spinor\n",
    "uRMc = sy.simplify((CC*uRM.C))\n",
    "uRMc"
   ]
  },
  {
   "cell_type": "code",
   "execution_count": 34,
   "id": "69285eec-2374-4282-a33f-6cb268ada272",
   "metadata": {},
   "outputs": [
    {
     "data": {
      "image/png": "[encoded data removed]",
      "text/latex": [
       "$\\displaystyle \\left[\\begin{matrix}0\\\\0\\\\0\\\\0\\end{matrix}\\right]$"
      ],
      "text/plain": [
       "⎡0⎤\n",
       "⎢ ⎥\n",
       "⎢0⎥\n",
       "⎢ ⎥\n",
       "⎢0⎥\n",
       "⎢ ⎥\n",
       "⎣0⎦"
      ]
     },
     "execution_count": 34,
     "metadata": {},
     "output_type": "execute_result"
    }
   ],
   "source": [
    "# show that for majorana spinors \n",
    "# uRM == uRMc as \n",
    "sy.simplify(uRM - uRMc)"
   ]
  },
  {
   "cell_type": "code",
   "execution_count": 35,
   "id": "74628848-a864-4f75-89b1-379c76fc42af",
   "metadata": {},
   "outputs": [
    {
     "data": {
      "image/png": "[encoded data removed]",
      "text/latex": [
       "$\\displaystyle \\left[\\begin{matrix}0\\end{matrix}\\right]$"
      ],
      "text/plain": [
       "[0]"
      ]
     },
     "execution_count": 35,
     "metadata": {},
     "output_type": "execute_result"
    }
   ],
   "source": [
    "#Calculate mass term\n",
    "mR = sy.simplify((uRM.D * uRM))\n",
    "mR"
   ]
  },
  {
   "cell_type": "markdown",
   "id": "31f709c5-724c-4201-8c17-ddd182e13d84",
   "metadata": {},
   "source": [
    "# Calculation with non-commutative spinor"
   ]
  },
  {
   "cell_type": "code",
   "execution_count": 36,
   "id": "a9352319-b412-4124-9ef2-cc1a5f9c59fa",
   "metadata": {},
   "outputs": [],
   "source": [
    "# repeat calculation with non-commutative components\n",
    "a,b,c,d = sy.symbols(\"a b c d\", commutative=False)\n",
    "u  = sy.Matrix([[a],[b],[c],[d]]) \n",
    "CC = sy.I * hep.g2\n",
    "uR = hep.projpl*u\n",
    "uL = hep.projm*u\n",
    "uLc = CC*uL.C\n",
    "uRc = CC*uR.C \n",
    "uLM = uL + uLc\n",
    "uLMc = (CC*uLM.C)\n",
    "uRM = sy.simplify(uR + uRc)\n",
    "uRMc = sy.simplify((CC*uRM.C))\n",
    "Z = sy.Matrix([0,0,0,0])"
   ]
  },
  {
   "cell_type": "code",
   "execution_count": 37,
   "id": "f4d6b45c-4cdb-46ca-a533-3cb816f4c7e2",
   "metadata": {},
   "outputs": [
    {
     "name": "stdout",
     "output_type": "stream",
     "text": [
      "uLc is right-handed:  True\n",
      "uRc is left-handed :  True\n"
     ]
    },
    {
     "data": {
      "text/plain": [
       "'Majorana spinor uLM: '"
      ]
     },
     "metadata": {},
     "output_type": "display_data"
    },
    {
     "data": {
      "image/png": "[encoded data removed]",
      "text/latex": [
       "$\\displaystyle \\left[\\begin{matrix}\\frac{a - c - \\overline{b} + \\overline{d}}{2}\\\\\\frac{b - d + \\overline{a} - \\overline{c}}{2}\\\\\\frac{- a + c - \\overline{b} + \\overline{d}}{2}\\\\\\frac{- b + d + \\overline{a} - \\overline{c}}{2}\\end{matrix}\\right]$"
      ],
      "text/plain": [
       "⎡        _   _ ⎤\n",
       "⎢a - c - b + d ⎥\n",
       "⎢───────────── ⎥\n",
       "⎢      2       ⎥\n",
       "⎢              ⎥\n",
       "⎢        _   _ ⎥\n",
       "⎢b - d + a - c ⎥\n",
       "⎢───────────── ⎥\n",
       "⎢      2       ⎥\n",
       "⎢              ⎥\n",
       "⎢         _   _⎥\n",
       "⎢-a + c - b + d⎥\n",
       "⎢──────────────⎥\n",
       "⎢      2       ⎥\n",
       "⎢              ⎥\n",
       "⎢         _   _⎥\n",
       "⎢-b + d + a - c⎥\n",
       "⎢──────────────⎥\n",
       "⎣      2       ⎦"
      ]
     },
     "metadata": {},
     "output_type": "display_data"
    },
    {
     "data": {
      "text/plain": [
       "'Majorana spinor uRM: '"
      ]
     },
     "metadata": {},
     "output_type": "display_data"
    },
    {
     "data": {
      "image/png": "[encoded data removed]",
      "text/latex": [
       "$\\displaystyle \\left[\\begin{matrix}\\frac{a + c + \\overline{b} + \\overline{d}}{2}\\\\\\frac{b + d - \\overline{a} - \\overline{c}}{2}\\\\\\frac{a + c - \\overline{b} - \\overline{d}}{2}\\\\\\frac{b + d + \\overline{a} + \\overline{c}}{2}\\end{matrix}\\right]$"
      ],
      "text/plain": [
       "⎡        _   _⎤\n",
       "⎢a + c + b + d⎥\n",
       "⎢─────────────⎥\n",
       "⎢      2      ⎥\n",
       "⎢             ⎥\n",
       "⎢        _   _⎥\n",
       "⎢b + d - a - c⎥\n",
       "⎢─────────────⎥\n",
       "⎢      2      ⎥\n",
       "⎢             ⎥\n",
       "⎢        _   _⎥\n",
       "⎢a + c - b - d⎥\n",
       "⎢─────────────⎥\n",
       "⎢      2      ⎥\n",
       "⎢             ⎥\n",
       "⎢        _   _⎥\n",
       "⎢b + d + a + c⎥\n",
       "⎢─────────────⎥\n",
       "⎣      2      ⎦"
      ]
     },
     "metadata": {},
     "output_type": "display_data"
    },
    {
     "name": "stdout",
     "output_type": "stream",
     "text": [
      "uLM == uLMc:  True\n",
      "uRM == uRMc:  True\n"
     ]
    },
    {
     "data": {
      "text/plain": [
       "'Mass term for uLM: '"
      ]
     },
     "metadata": {},
     "output_type": "display_data"
    },
    {
     "data": {
      "image/png": "[encoded data removed]",
      "text/latex": [
       "$\\displaystyle \\left[\\begin{matrix}\\frac{\\left(a - c - \\overline{b} + \\overline{d}\\right) \\left(b - d - \\overline{a} + \\overline{c}\\right) + \\left(a - c + \\overline{b} - \\overline{d}\\right) \\left(b - d + \\overline{a} - \\overline{c}\\right) - \\left(b - d - \\overline{a} + \\overline{c}\\right) \\left(a - c - \\overline{b} + \\overline{d}\\right) - \\left(b - d + \\overline{a} - \\overline{c}\\right) \\left(a - c + \\overline{b} - \\overline{d}\\right)}{4}\\end{matrix}\\right]$"
      ],
      "text/plain": [
       "⎡⎛        _   _⎞ ⎛        _   _⎞   ⎛        _   _⎞ ⎛        _   _⎞   ⎛        \n",
       "⎢⎝a - c - b + d⎠⋅⎝b - d - a + c⎠ + ⎝a - c + b - d⎠⋅⎝b - d + a - c⎠ - ⎝b - d - \n",
       "⎢─────────────────────────────────────────────────────────────────────────────\n",
       "⎣                                                                  4          \n",
       "\n",
       "_   _⎞ ⎛        _   _⎞   ⎛        _   _⎞ ⎛        _   _⎞⎤\n",
       "a + c⎠⋅⎝a - c - b + d⎠ - ⎝b - d + a - c⎠⋅⎝a - c + b - d⎠⎥\n",
       "────────────────────────────────────────────────────────⎥\n",
       "                                                        ⎦"
      ]
     },
     "metadata": {},
     "output_type": "display_data"
    },
    {
     "data": {
      "text/plain": [
       "'Mass term for uRM: '"
      ]
     },
     "metadata": {},
     "output_type": "display_data"
    },
    {
     "data": {
      "image/png": "[encoded data removed]",
      "text/latex": [
       "$\\displaystyle \\left[\\begin{matrix}\\frac{- \\left(a + c - \\overline{b} - \\overline{d}\\right) \\left(b + d - \\overline{a} - \\overline{c}\\right) - \\left(a + c + \\overline{b} + \\overline{d}\\right) \\left(b + d + \\overline{a} + \\overline{c}\\right) + \\left(b + d - \\overline{a} - \\overline{c}\\right) \\left(a + c - \\overline{b} - \\overline{d}\\right) + \\left(b + d + \\overline{a} + \\overline{c}\\right) \\left(a + c + \\overline{b} + \\overline{d}\\right)}{4}\\end{matrix}\\right]$"
      ],
      "text/plain": [
       "⎡  ⎛        _   _⎞ ⎛        _   _⎞   ⎛        _   _⎞ ⎛        _   _⎞   ⎛      \n",
       "⎢- ⎝a + c - b - d⎠⋅⎝b + d - a - c⎠ - ⎝a + c + b + d⎠⋅⎝b + d + a + c⎠ + ⎝b + d \n",
       "⎢─────────────────────────────────────────────────────────────────────────────\n",
       "⎣                                                                   4         \n",
       "\n",
       "  _   _⎞ ⎛        _   _⎞   ⎛        _   _⎞ ⎛        _   _⎞⎤\n",
       "- a - c⎠⋅⎝a + c - b - d⎠ + ⎝b + d + a + c⎠⋅⎝a + c + b + d⎠⎥\n",
       "──────────────────────────────────────────────────────────⎥\n",
       "                                                          ⎦"
      ]
     },
     "metadata": {},
     "output_type": "display_data"
    }
   ],
   "source": [
    "# check Majorana properties for non-commutative spinor\n",
    "print(\"uLc is right-handed: \", sy.simplify(hep.projpl*uLc - uLc) == Z)\n",
    "print(\"uRc is left-handed : \", sy.simplify(hep.projm *uRc - uRc)==Z)\n",
    "display(\"Majorana spinor uLM: \",sy.simplify(uLM))\n",
    "display(\"Majorana spinor uRM: \",sy.simplify(uRM))\n",
    "print(\"uLM == uLMc: \",sy.simplify(uLM-uLMc)==Z)\n",
    "print(\"uRM == uRMc: \",sy.simplify(uRM-uRMc)==Z)\n",
    "display(\"Mass term for uLM: \",sy.simplify((uLM.D * uLM)))\n",
    "display(\"Mass term for uRM: \",sy.simplify((uRM.D * uRM)))"
   ]
  }
 ],
 "metadata": {
  "kernelspec": {
   "display_name": "Python 3 (ipykernel)",
   "language": "python",
   "name": "python3"
  },
  "language_info": {
   "codemirror_mode": {
    "name": "ipython",
    "version": 3
   },
   "file_extension": ".py",
   "mimetype": "text/x-python",
   "name": "python",
   "nbconvert_exporter": "python",
   "pygments_lexer": "ipython3",
   "version": "3.9.16"
  }
 },
 "nbformat": 4,
 "nbformat_minor": 5
}
