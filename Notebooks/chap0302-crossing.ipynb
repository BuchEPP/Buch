{
 "cells": [
  {
   "cell_type": "markdown",
   "metadata": {},
   "source": []
  },
  {
   "cell_type": "markdown",
   "metadata": {},
   "source": [
    "# Calculate crossing reactions\n",
    "\n",
    "This function calculates substitution rules of s,t,u for crossing reactions\n",
    "\n",
    "The procedure is explained in the book in section 3.2 and in the appendix A.2. \n"
   ]
  },
  {
   "cell_type": "code",
   "execution_count": 1,
   "metadata": {},
   "outputs": [],
   "source": [
    "import sympy as sy\n",
    "import math"
   ]
  },
  {
   "cell_type": "code",
   "execution_count": 2,
   "metadata": {},
   "outputs": [],
   "source": [
    "p1,p2,p3,p4 = sy.symbols(\"p_1 p_2 p_3 p_4\",real=True)\n",
    "S,T,U = sy.symbols(\"S T U\",real=True)\n",
    "s,t,u = sy.symbols(\"s t u\",real=True)\n",
    "m,M = sy.symbols(\"m M\",positive=True)"
   ]
  },
  {
   "cell_type": "code",
   "execution_count": 3,
   "metadata": {},
   "outputs": [],
   "source": [
    "def crossing(particles, order, Tfi_base = None):\n",
    "    \"\"\"\n",
    "    \n",
    "    This function calculates substitution rule of s,t,u for crossing reactions\n",
    "\n",
    "    The general paretocle\n",
    "\n",
    "    Parameters\n",
    "    ----------\n",
    "    particles (list of strings) : gives names of particles of base reaction. \n",
    "                                e.g. particles = ['e-','e+','mu-','mu+']\n",
    "    order (list of integers) : gives new order of particles after crossing\n",
    "                                base order = [1,2,3,4]\n",
    "                                after crossing: order = [1,4,2,3]\n",
    "    Tfi_base (str, optional) : One can give the string expression of the \n",
    "                               amplitude of the base reaction using s,t,u.  \n",
    "                               e.g. Tfi_base = \"(t**2 + u**2)/s**2\"\n",
    "    Returns\n",
    "    -------- \n",
    "    None\n",
    "\n",
    "    Prints\n",
    "    ------\n",
    "    - base reaction\n",
    "    - crossed reaction\n",
    "    - substitution rules for s,t,u\n",
    "    - Tfi of crossed reaction (if Tfi_base is given)\n",
    "\n",
    "    Several examples of usage are given below following the discusion in the book. \n",
    "\n",
    "    \"\"\"\n",
    "\n",
    "    # make particle dict\n",
    "    dpar = {'gam':0, \n",
    "        'nue':1, 'nuebar':-1, \n",
    "        'numu':2, 'numubar':-2,\n",
    "        'nutau':3, 'nutaubar':-3,\n",
    "        'e-':4, 'e+':-4,\n",
    "        'mu-':5, 'mu+':-5,\n",
    "        'tau-':6, 'tau+':-6,\n",
    "        'u':7, 'ubar':-7,\n",
    "        'd':8, 'dbar':-8,\n",
    "        'c':9, 'cbar':-9,\n",
    "        's':10, 'sbar':-10,\n",
    "        't':11, 'tbar':-11,\n",
    "        'b':12, 'bbar':-12,\n",
    "        'W+':13, 'W-':-13,\n",
    "        'Z':14, 'H':15,\n",
    "        'A':20, 'Abar':-20,\n",
    "        'B':21, 'Bbar':-21,\n",
    "        'C':22, 'Cbar':-22,\n",
    "        'D':23, 'Dar':-23}       \n",
    "    # make revesed dict {4:'e-',....} and add -14,-15 for Z, H\n",
    "    dpar_flipped = {value: key for key, value in dpar.items()}\n",
    "    dpar_flipped[-14] = 'Z'\n",
    "    dpar_flipped[-15] = 'H'\n",
    "    # Mandelstam variables \n",
    "    dsubs = {(p1+p2)**2: S, (p3+p4)**2:S, (-p1-p2)**2: S, (-p3-p4)**2:S,\n",
    "         (p1-p3)**2: T, (p2-p4)**2: T,(-p1+p3)**2: T, (-p2+p4)**2: T,\n",
    "         (p1-p4)**2: U, (p2-p3)**2: U, (-p1+p4)**2: U, (-p2+p3)**2: U\n",
    "    }\n",
    "    # momentum assignment\n",
    "    lmom = [p1,p2,p3,p4]\n",
    "    lpar = []\n",
    "    for name in particles:\n",
    "        lpar.append(dpar[name])\n",
    "    # \n",
    "    lparc = []\n",
    "    lmomc = []\n",
    "    Asign = 1\n",
    "    # calculate crossing\n",
    "    for i in range(1,5):\n",
    "        p = order[i-1]\n",
    "        # calculate sign change for momentum\n",
    "        sign = int(math.copysign(1,2.5-i)*math.copysign(1,2.5-p))\n",
    "        # calculate overall sign for Amplitude\n",
    "        if abs(lpar[p-1]) >= 1 and abs(lpar[p-1]) <= 12:\n",
    "            Asign = Asign*sign\n",
    "            #print(\"i: {}, p: {}, lpar[p-1]: {}, sign: {}, Asign: {}\".format(\n",
    "            #    i,p,lpar[p-1],sign,Asign))\n",
    "        pc = lpar[p-1]*sign\n",
    "        mc = lmom[p-1]*sign\n",
    "        lparc.append(pc)\n",
    "        lmomc.append(mc)\n",
    "    # Calculate Mandelstam\n",
    "    sc = (lmomc[0]+lmomc[1])**2\n",
    "    tc = (lmomc[0]-lmomc[2])**2\n",
    "    uc = (lmomc[0]-lmomc[3])**2\n",
    "        \n",
    "    # get crossed particle names\n",
    "    particlesc = []\n",
    "    for num in lparc:\n",
    "        particlesc.append(dpar_flipped[num])\n",
    "    # printout    \n",
    "    print(\"Base reaction: {}  {} --> {}  {}\".format(*particles))\n",
    "    print(\"Crossed reaction: {}  {} --> {}  {}\".format(*particlesc))\n",
    "    print(\"Exchange Mandelstam variables between crossed and base (capital letters) reaction:\")\n",
    "    print(\"s <-> \",sc.subs(dsubs))\n",
    "    print(\"t <-> \",tc.subs(dsubs))\n",
    "    print(\"u <-> \",uc.subs(dsubs))\n",
    "\n",
    "    print(\"Amplitude sign: \", Asign)\n",
    "    if not 'Tfi_base' == None:\n",
    "\n",
    "        Tfi_base = Tfi_base.subs(s,S).subs(t,T).subs(u,U)\n",
    "        Tfi = Tfi_base\n",
    "        Tfi = Tfi.subs(sc.subs(dsubs),s)\n",
    "        Tfi = Tfi.subs(tc.subs(dsubs),t)\n",
    "        Tfi = Tfi.subs(uc.subs(dsubs),u)\n",
    "        Tfi = Tfi*Asign\n",
    "        display(\"Tfi_base: \",Tfi_base)\n",
    "        display(\"Tfi_crossed: \",Tfi)"
   ]
  },
  {
   "cell_type": "markdown",
   "metadata": {},
   "source": [
    "# Examples"
   ]
  },
  {
   "cell_type": "markdown",
   "metadata": {},
   "source": [
    "#### Base reaction:  $e^- ~ e^+ \\to \\mu^-  \\mu^+$ \n",
    "#### Crossed reaction:  $e^- ~ \\mu^- \\to e^-  \\mu^-$"
   ]
  },
  {
   "cell_type": "code",
   "execution_count": 4,
   "metadata": {},
   "outputs": [
    {
     "name": "stdout",
     "output_type": "stream",
     "text": [
      "Base reaction: e-  e+ --> mu-  mu+\n",
      "Crossed reaction: e-  mu- --> e-  mu-\n",
      "Exchange Mandelstam variables between crossed and base (capital letters) reaction:\n",
      "s <->  U\n",
      "t <->  S\n",
      "u <->  T\n",
      "Amplitude sign:  1\n"
     ]
    },
    {
     "data": {
      "text/plain": [
       "'Tfi_base: '"
      ]
     },
     "metadata": {},
     "output_type": "display_data"
    },
    {
     "data": {
      "text/latex": [
       "$\\displaystyle \\frac{T^{2} + U^{2}}{S^{2}}$"
      ],
      "text/plain": [
       "(T**2 + U**2)/S**2"
      ]
     },
     "metadata": {},
     "output_type": "display_data"
    },
    {
     "data": {
      "text/plain": [
       "'Tfi_crossed: '"
      ]
     },
     "metadata": {},
     "output_type": "display_data"
    },
    {
     "data": {
      "text/latex": [
       "$\\displaystyle \\frac{s^{2} + u^{2}}{t^{2}}$"
      ],
      "text/plain": [
       "(s**2 + u**2)/t**2"
      ]
     },
     "metadata": {},
     "output_type": "display_data"
    }
   ],
   "source": [
    "# Base reaction: e-  e+ --> mu-  mu+\n",
    "# Crossed reaction: e-  mu- --> e-  mu-\n",
    "# see. Book. eq. 3.62 and 3.63\n",
    "particles = ['e-','e+','mu-','mu+']\n",
    "order = [1,4,2,3]\n",
    "Tfi_base = (t**2 + u**2)/s**2\n",
    "crossing(particles, order, Tfi_base = Tfi_base)"
   ]
  },
  {
   "cell_type": "code",
   "execution_count": null,
   "metadata": {},
   "outputs": [],
   "source": []
  },
  {
   "cell_type": "code",
   "execution_count": 5,
   "metadata": {},
   "outputs": [
    {
     "name": "stdout",
     "output_type": "stream",
     "text": [
      "Base reaction: e-  e+ --> e-  e+\n",
      "Crossed reaction: e-  e- --> e-  e-\n",
      "Exchange Mandelstam variables between crossed and base (capital letters) reaction:\n",
      "s <->  U\n",
      "t <->  T\n",
      "u <->  S\n",
      "Amplitude sign:  1\n"
     ]
    },
    {
     "data": {
      "text/plain": [
       "'Tfi_base: '"
      ]
     },
     "metadata": {},
     "output_type": "display_data"
    },
    {
     "data": {
      "text/latex": [
       "$\\displaystyle \\frac{\\left(U - 6 m^{2}\\right) \\left(2 U - 4 m^{2}\\right)}{S T}$"
      ],
      "text/plain": [
       "(U - 6*m**2)*(2*U - 4*m**2)/(S*T)"
      ]
     },
     "metadata": {},
     "output_type": "display_data"
    },
    {
     "data": {
      "text/plain": [
       "'Tfi_crossed: '"
      ]
     },
     "metadata": {},
     "output_type": "display_data"
    },
    {
     "data": {
      "text/latex": [
       "$\\displaystyle \\frac{\\left(- 6 m^{2} + s\\right) \\left(- 4 m^{2} + 2 s\\right)}{t u}$"
      ],
      "text/plain": [
       "(-6*m**2 + s)*(-4*m**2 + 2*s)/(t*u)"
      ]
     },
     "metadata": {},
     "output_type": "display_data"
    }
   ],
   "source": [
    "# Base reaction: e-  e+ --> e-  e+\n",
    "# Crossed reaction: e-  mu- --> e-  mu-\n",
    "# see. Book. eq. 3.77ff\n",
    "# Calculate with masses\n",
    "# the amplitude has 3 terms, calculate them seperately in turn\n",
    "particles = ['e-','e+','e-','e+']\n",
    "order = [1,4,3,2]\n",
    "Tfi_base = (S**2+U**2+8*m**2*(T-m**2))/T**2 \n",
    "Tfi_base = (T**2+U**2+8*m**2*(S-m**2))/S**2\n",
    "Tfi_base = 2*(U-2*m**2)*(u-6*m**2)/ (t*s)\n",
    "crossing(particles, order, Tfi_base = Tfi_base)"
   ]
  },
  {
   "cell_type": "markdown",
   "metadata": {},
   "source": [
    "#### Base reaction:  $e^- ~ e^+ \\to \\mu^-  \\mu^+$ <br>\n",
    "#### Crossed reaction:  $e^- ~ \\mu^+ \\to e^-  \\mu^+$"
   ]
  },
  {
   "cell_type": "code",
   "execution_count": 6,
   "metadata": {},
   "outputs": [
    {
     "name": "stdout",
     "output_type": "stream",
     "text": [
      "Base reaction: e-  e+ --> mu-  mu+\n",
      "Crossed reaction: e-  mu+ --> e-  mu+\n",
      "Exchange Mandelstam variables between crossed and base (capital letters) reaction:\n",
      "s <->  T\n",
      "t <->  S\n",
      "u <->  U\n",
      "Amplitude sign:  1\n"
     ]
    },
    {
     "data": {
      "text/plain": [
       "'Tfi_base: '"
      ]
     },
     "metadata": {},
     "output_type": "display_data"
    },
    {
     "data": {
      "text/latex": [
       "$\\displaystyle \\frac{T^{2} + U^{2}}{S^{2}}$"
      ],
      "text/plain": [
       "(T**2 + U**2)/S**2"
      ]
     },
     "metadata": {},
     "output_type": "display_data"
    },
    {
     "data": {
      "text/plain": [
       "'Tfi_crossed: '"
      ]
     },
     "metadata": {},
     "output_type": "display_data"
    },
    {
     "data": {
      "text/latex": [
       "$\\displaystyle \\frac{s^{2} + u^{2}}{t^{2}}$"
      ],
      "text/plain": [
       "(s**2 + u**2)/t**2"
      ]
     },
     "metadata": {},
     "output_type": "display_data"
    }
   ],
   "source": [
    "# Base reaction: e-  e+ --> mu-  mu+\n",
    "# Crossed reaction: e-  mu+ --> e-  mu+\n",
    "# see. Book. eq. 3.62 and 3.63\n",
    "particles = ['e-','e+','mu-','mu+']\n",
    "Tfi_base = (t**2 + u**2)/s**2\n",
    "crossing(particles, [1,3,2,4], Tfi_base = Tfi_base)"
   ]
  },
  {
   "cell_type": "markdown",
   "metadata": {},
   "source": [
    "#### Base reaction:  $e^- ~ e^+ \\to \\gamma  \\gamma$ <br>\n",
    "#### Crossed reaction:  $e^- ~ \\gamma \\to e^- \\gamma$"
   ]
  },
  {
   "cell_type": "code",
   "execution_count": 7,
   "metadata": {},
   "outputs": [
    {
     "name": "stdout",
     "output_type": "stream",
     "text": [
      "Base reaction: e-  e+ --> gam  gam\n",
      "Crossed reaction: e-  gam --> e-  gam\n",
      "Exchange Mandelstam variables between crossed and base (capital letters) reaction:\n",
      "s <->  T\n",
      "t <->  S\n",
      "u <->  U\n",
      "Amplitude sign:  -1\n"
     ]
    },
    {
     "data": {
      "text/plain": [
       "'Tfi_base: '"
      ]
     },
     "metadata": {},
     "output_type": "display_data"
    },
    {
     "data": {
      "text/latex": [
       "$\\displaystyle \\frac{T}{U} + \\frac{U}{T}$"
      ],
      "text/plain": [
       "T/U + U/T"
      ]
     },
     "metadata": {},
     "output_type": "display_data"
    },
    {
     "data": {
      "text/plain": [
       "'Tfi_crossed: '"
      ]
     },
     "metadata": {},
     "output_type": "display_data"
    },
    {
     "data": {
      "text/latex": [
       "$\\displaystyle - \\frac{s}{u} - \\frac{u}{s}$"
      ],
      "text/plain": [
       "-s/u - u/s"
      ]
     },
     "metadata": {},
     "output_type": "display_data"
    }
   ],
   "source": [
    "# Base reaction: e-  e+ --> gam  gam\n",
    "# Crossed:  gam e- --> gam e-  (1. option)\n",
    "# see book eq. 3.87 and 3.94 ff.\n",
    "# as explained in the book Tfi gets a minus sign, \n",
    "# because only one fermion is exchanged between incoming and outgoing. \n",
    "particles = ['e-','e+','gam','gam']\n",
    "order = [3,1,4,2] # 1st option for ordering\n",
    "Tfi_base = (u/t + t/u)\n",
    "crossing(particles, [1,3,2,4], Tfi_base = Tfi_base)"
   ]
  },
  {
   "cell_type": "code",
   "execution_count": 8,
   "metadata": {},
   "outputs": [
    {
     "name": "stdout",
     "output_type": "stream",
     "text": [
      "Base reaction: e-  e+ --> gam  gam\n",
      "Crossed reaction: e-  gam --> e-  gam\n",
      "Exchange Mandelstam variables between crossed and base (capital letters) reaction:\n",
      "s <->  U\n",
      "t <->  S\n",
      "u <->  T\n",
      "Amplitude sign:  -1\n"
     ]
    },
    {
     "data": {
      "text/plain": [
       "'Tfi_base: '"
      ]
     },
     "metadata": {},
     "output_type": "display_data"
    },
    {
     "data": {
      "text/latex": [
       "$\\displaystyle \\frac{T}{U} + \\frac{U}{T}$"
      ],
      "text/plain": [
       "T/U + U/T"
      ]
     },
     "metadata": {},
     "output_type": "display_data"
    },
    {
     "data": {
      "text/plain": [
       "'Tfi_crossed: '"
      ]
     },
     "metadata": {},
     "output_type": "display_data"
    },
    {
     "data": {
      "text/latex": [
       "$\\displaystyle - \\frac{s}{u} - \\frac{u}{s}$"
      ],
      "text/plain": [
       "-s/u - u/s"
      ]
     },
     "metadata": {},
     "output_type": "display_data"
    }
   ],
   "source": [
    "# Base reaction: e-  e+ --> gam  gam\n",
    "# Crossed:  gam e- --> gam e-  (2. option)\n",
    "# see book eq. 3.87 and 3.94 ff.\n",
    "# as explained in the book Tfi gets a minus sign, \n",
    "# because only one fermion is exchanged between incoming and outgoing.\n",
    "# Note that we get the same result for both ordering options.  \n",
    "particles = ['e-','e+','gam','gam']\n",
    "order = [1,4,2,3] # 2nd option for ordering\n",
    "Tfi_base = (u/t + t/u)\n",
    "crossing(particles, order, Tfi_base = Tfi_base)"
   ]
  },
  {
   "cell_type": "markdown",
   "metadata": {},
   "source": [
    "\n",
    "#### Base reaction:  $\\nu_e ~ e^- \\to \\nu_e ~ e^-$ <br>\n",
    "#### Crossed reaction:  $\\bar\\nu_e ~ e^- \\to \\bar\\nu_e ~ e^-$"
   ]
  },
  {
   "cell_type": "code",
   "execution_count": 9,
   "metadata": {},
   "outputs": [
    {
     "name": "stdout",
     "output_type": "stream",
     "text": [
      "Base reaction: nue  e- --> nue  e-\n",
      "Crossed reaction: nuebar  e- --> nuebar  e-\n",
      "Exchange Mandelstam variables between crossed and base (capital letters) reaction:\n",
      "s <->  U\n",
      "t <->  T\n",
      "u <->  S\n",
      "Amplitude sign:  1\n"
     ]
    },
    {
     "data": {
      "text/plain": [
       "'Tfi_base: '"
      ]
     },
     "metadata": {},
     "output_type": "display_data"
    },
    {
     "data": {
      "text/latex": [
       "$\\displaystyle S$"
      ],
      "text/plain": [
       "S"
      ]
     },
     "metadata": {},
     "output_type": "display_data"
    },
    {
     "data": {
      "text/plain": [
       "'Tfi_crossed: '"
      ]
     },
     "metadata": {},
     "output_type": "display_data"
    },
    {
     "data": {
      "text/latex": [
       "$\\displaystyle u$"
      ],
      "text/plain": [
       "u"
      ]
     },
     "metadata": {},
     "output_type": "display_data"
    }
   ],
   "source": [
    "# Base reaction: nu_e-  e- --> nu_e  e- \n",
    "# Crossed:  nubar_e e-  --> gam nubar_e e- \n",
    "# see book eq. 6.9ff\n",
    "# only the charged current reaction is used  \n",
    "particles = ['nue','e-','nue','e-']\n",
    "order = [3,2,1,4] \n",
    "Tfi_base = S\n",
    "crossing(particles, order, Tfi_base = Tfi_base)"
   ]
  }
 ],
 "metadata": {
  "kernelspec": {
   "display_name": "epy",
   "language": "python",
   "name": "python3"
  },
  "language_info": {
   "codemirror_mode": {
    "name": "ipython",
    "version": 3
   },
   "file_extension": ".py",
   "mimetype": "text/x-python",
   "name": "python",
   "nbconvert_exporter": "python",
   "pygments_lexer": "ipython3",
   "version": "3.9.16"
  }
 },
 "nbformat": 4,
 "nbformat_minor": 2
}
