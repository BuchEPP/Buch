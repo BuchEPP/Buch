{
 "cells": [
  {
   "cell_type": "code",
   "execution_count": 1,
   "metadata": {},
   "outputs": [],
   "source": [
    "from sympy import *"
   ]
  },
  {
   "cell_type": "code",
   "execution_count": 2,
   "metadata": {},
   "outputs": [
    {
     "name": "stdout",
     "output_type": "stream",
     "text": [
      "Reading heppackv0.py (March 2023)\n",
      "\n",
      "Done\n"
     ]
    }
   ],
   "source": [
    "import heppackv0 as hep"
   ]
  },
  {
   "cell_type": "code",
   "execution_count": 3,
   "metadata": {},
   "outputs": [
    {
     "name": "stdout",
     "output_type": "stream",
     "text": [
      "The CM system is used\n"
     ]
    }
   ],
   "source": [
    "print('The CM system is used')\n",
    "E,E0,M,M1,M2,p,Delta,m=symbols('E E0 M M1 M2 p Delta m',positive=True)\n",
    "theta,alpha,omega,=symbols('theta alpha omega',real=True)"
   ]
  },
  {
   "cell_type": "markdown",
   "metadata": {},
   "source": [
    "We consider neutron decay $n\\rightarrow p e^-\\bar{\\nu_e}$ or $d$ quark decay\n",
    "$d\\rightarrow u e^-\\bar{\\nu_e}$ in the approximation where the recoil of the\n",
    "outgoing neutron ($u$ quark) is neglected. Four momentum conservation reads\n",
    "$k_i=k_f+p'+p_f$. Compared to the book we change the notation:\n",
    "$m_d\\to M,\\,$ $m_u\\to M_1,\\,$ $E'\\to E,\\,$ $\\omega'\\to \\omega,\\,$ and $\\theta_e\\to \\theta\\,$."
   ]
  },
  {
   "cell_type": "code",
   "execution_count": 4,
   "metadata": {},
   "outputs": [],
   "source": [
    "ki=[M,M,0,0]\n",
    "ppr=[E,m,theta,0]\n",
    "kf=[M1,M1,0,0]\n",
    "pf=[omega,0,0,0]"
   ]
  },
  {
   "cell_type": "markdown",
   "metadata": {},
   "source": [
    "### 1) Neutrons as elementary fermions\n",
    "The matrix elements are calculated from\n",
    "$$T_{{fi}}=\\frac{4G_{{\\mathrm{F}}}}{\\sqrt{2}}\\bar{u}(k_f)\n",
    "\\gamma^{\\mu}\\frac{1-\\gamma^{5}}{2}u(k_i)\\bar{u}(p')\\gamma _{\\mu}\\frac{1-\\gamma^{5}}{2}v(p_f)\n",
    "\\enspace .$$\n",
    "The weak currents, e.g. $\\bar{u}(k_f)\\gamma^{\\mu}\\frac{1-\\gamma^{5}}{2}u(k_i)$ are contained in the heppackv0 package. In this ansatz the neutrons are treated as elementary fermions. "
   ]
  },
  {
   "cell_type": "code",
   "execution_count": 5,
   "metadata": {},
   "outputs": [
    {
     "data": {
      "image/png": "[encoded data removed]",
      "text/latex": [
       "$\\displaystyle - 2 \\sqrt{M} \\sqrt{M_{1}} \\sqrt{\\omega} \\left(\\sqrt{E - m} + \\sqrt{E + m}\\right) \\cos{\\left(\\frac{\\theta}{2} \\right)}$"
      ],
      "text/plain": [
       "        ____    ⎛  _______     _______⎞    ⎛θ⎞\n",
       "-2⋅√M⋅╲╱ M₁ ⋅√ω⋅⎝╲╱ E - m  + ╲╱ E + m ⎠⋅cos⎜─⎟\n",
       "                                           ⎝2⎠"
      ]
     },
     "execution_count": 5,
     "metadata": {},
     "output_type": "execute_result"
    }
   ],
   "source": [
    "dec11=simplify(hep.dotprod4(hep.ubvw(ppr,-1,pf,1),hep.ubuw(kf,1,ki,1)));dec11"
   ]
  },
  {
   "cell_type": "code",
   "execution_count": 6,
   "metadata": {},
   "outputs": [
    {
     "data": {
      "image/png": "[encoded data removed]",
      "text/latex": [
       "$\\displaystyle - 2 \\sqrt{M} \\sqrt{M_{1}} \\sqrt{\\omega} \\left(\\sqrt{E - m} + \\sqrt{E + m}\\right) \\sin{\\left(\\frac{\\theta}{2} \\right)}$"
      ],
      "text/plain": [
       "        ____    ⎛  _______     _______⎞    ⎛θ⎞\n",
       "-2⋅√M⋅╲╱ M₁ ⋅√ω⋅⎝╲╱ E - m  + ╲╱ E + m ⎠⋅sin⎜─⎟\n",
       "                                           ⎝2⎠"
      ]
     },
     "execution_count": 6,
     "metadata": {},
     "output_type": "execute_result"
    }
   ],
   "source": [
    "dec12=simplify(hep.dotprod4(hep.ubvw(ppr,-1,pf,1),hep.ubuw(kf,-1,ki,1)));dec12"
   ]
  },
  {
   "cell_type": "code",
   "execution_count": 7,
   "metadata": {},
   "outputs": [
    {
     "data": {
      "image/png": "[encoded data removed]",
      "text/latex": [
       "$\\displaystyle 4 M M_{1} \\omega \\left(\\sqrt{E - m} + \\sqrt{E + m}\\right)^{2}$"
      ],
      "text/plain": [
       "                                2\n",
       "         ⎛  _______     _______⎞ \n",
       "4⋅M⋅M₁⋅ω⋅⎝╲╱ E - m  + ╲╱ E + m ⎠ "
      ]
     },
     "execution_count": 7,
     "metadata": {},
     "output_type": "execute_result"
    }
   ],
   "source": [
    "h1=simplify(dec11**2+dec12**2);h1"
   ]
  },
  {
   "cell_type": "code",
   "execution_count": 8,
   "metadata": {},
   "outputs": [
    {
     "data": {
      "image/png": "[encoded data removed]",
      "text/latex": [
       "$\\displaystyle 2 \\sqrt{M} \\sqrt{M_{1}} \\sqrt{\\omega} \\left(\\sqrt{E - m} - \\sqrt{E + m}\\right) \\sin{\\left(\\frac{\\theta}{2} \\right)}$"
      ],
      "text/plain": [
       "       ____    ⎛  _______     _______⎞    ⎛θ⎞\n",
       "2⋅√M⋅╲╱ M₁ ⋅√ω⋅⎝╲╱ E - m  - ╲╱ E + m ⎠⋅sin⎜─⎟\n",
       "                                          ⎝2⎠"
      ]
     },
     "execution_count": 8,
     "metadata": {},
     "output_type": "execute_result"
    }
   ],
   "source": [
    "dec21=simplify(hep.dotprod4(hep.ubvw(ppr,1,pf,1),hep.ubuw(kf,1,ki,1)));dec21"
   ]
  },
  {
   "cell_type": "code",
   "execution_count": 9,
   "metadata": {},
   "outputs": [
    {
     "data": {
      "image/png": "[encoded data removed]",
      "text/latex": [
       "$\\displaystyle 2 \\sqrt{M} \\sqrt{M_{1}} \\sqrt{\\omega} \\left(- \\sqrt{E - m} + \\sqrt{E + m}\\right) \\cos{\\left(\\frac{\\theta}{2} \\right)}$"
      ],
      "text/plain": [
       "       ____    ⎛    _______     _______⎞    ⎛θ⎞\n",
       "2⋅√M⋅╲╱ M₁ ⋅√ω⋅⎝- ╲╱ E - m  + ╲╱ E + m ⎠⋅cos⎜─⎟\n",
       "                                            ⎝2⎠"
      ]
     },
     "execution_count": 9,
     "metadata": {},
     "output_type": "execute_result"
    }
   ],
   "source": [
    "dec22=simplify(hep.dotprod4(hep.ubvw(ppr,1,pf,1),hep.ubuw(kf,-1,ki,1)));dec22"
   ]
  },
  {
   "cell_type": "code",
   "execution_count": 10,
   "metadata": {},
   "outputs": [
    {
     "data": {
      "image/png": "[encoded data removed]",
      "text/latex": [
       "$\\displaystyle 4 M M_{1} \\omega \\left(\\sqrt{E - m} - \\sqrt{E + m}\\right)^{2}$"
      ],
      "text/plain": [
       "                                2\n",
       "         ⎛  _______     _______⎞ \n",
       "4⋅M⋅M₁⋅ω⋅⎝╲╱ E - m  - ╲╱ E + m ⎠ "
      ]
     },
     "execution_count": 10,
     "metadata": {},
     "output_type": "execute_result"
    }
   ],
   "source": [
    "h2=simplify(dec21**2+dec22**2);h2"
   ]
  },
  {
   "cell_type": "code",
   "execution_count": 11,
   "metadata": {},
   "outputs": [
    {
     "data": {
      "image/png": "[encoded data removed]",
      "text/latex": [
       "$\\displaystyle 16 E M M_{1} \\omega$"
      ],
      "text/plain": [
       "16⋅E⋅M⋅M₁⋅ω"
      ]
     },
     "execution_count": 11,
     "metadata": {},
     "output_type": "execute_result"
    }
   ],
   "source": [
    "Tsq=simplify(h1+h2);Tsq"
   ]
  },
  {
   "cell_type": "markdown",
   "metadata": {},
   "source": [
    "Until now we followed the line of arguments given in the bbok. With regard to the folowing discussion it is probably more instructive to use another order of the amplitudes. Call $F$ (Fermi) the squared amplitudes without spin flip of the nucleons and $GT$ (Gamow-Teller) the squared amplitudes with spin flip."
   ]
  },
  {
   "cell_type": "code",
   "execution_count": 12,
   "metadata": {},
   "outputs": [
    {
     "data": {
      "image/png": "[encoded data removed]",
      "text/latex": [
       "$\\displaystyle 8 M M_{1} \\omega \\left(E - 2 \\sqrt{E^{2} - m^{2}} \\sin^{2}{\\left(\\frac{\\theta}{2} \\right)} + \\sqrt{E^{2} - m^{2}}\\right)$"
      ],
      "text/plain": [
       "         ⎛         _________              _________⎞\n",
       "         ⎜        ╱  2    2     2⎛θ⎞     ╱  2    2 ⎟\n",
       "8⋅M⋅M₁⋅ω⋅⎜E - 2⋅╲╱  E  - m  ⋅sin ⎜─⎟ + ╲╱  E  - m  ⎟\n",
       "         ⎝                       ⎝2⎠               ⎠"
      ]
     },
     "execution_count": 12,
     "metadata": {},
     "output_type": "execute_result"
    }
   ],
   "source": [
    "F=simplify(dec11**2+dec21**2);F"
   ]
  },
  {
   "cell_type": "code",
   "execution_count": 13,
   "metadata": {},
   "outputs": [
    {
     "data": {
      "image/png": "[encoded data removed]",
      "text/latex": [
       "$\\displaystyle 8 M M_{1} \\left(E + p \\cos{\\left(\\theta \\right)}\\right)$"
      ],
      "text/plain": [
       "8⋅M⋅M₁⋅(E + p⋅cos(θ))"
      ]
     },
     "execution_count": 13,
     "metadata": {},
     "output_type": "execute_result"
    }
   ],
   "source": [
    "F=8*M*M1*(E+p*cos(theta));F"
   ]
  },
  {
   "cell_type": "code",
   "execution_count": 14,
   "metadata": {},
   "outputs": [
    {
     "data": {
      "image/png": "[encoded data removed]",
      "text/latex": [
       "$\\displaystyle 8 M M_{1} \\omega \\left(E - 2 \\sqrt{E^{2} - m^{2}} \\cos^{2}{\\left(\\frac{\\theta}{2} \\right)} + \\sqrt{E^{2} - m^{2}}\\right)$"
      ],
      "text/plain": [
       "         ⎛         _________              _________⎞\n",
       "         ⎜        ╱  2    2     2⎛θ⎞     ╱  2    2 ⎟\n",
       "8⋅M⋅M₁⋅ω⋅⎜E - 2⋅╲╱  E  - m  ⋅cos ⎜─⎟ + ╲╱  E  - m  ⎟\n",
       "         ⎝                       ⎝2⎠               ⎠"
      ]
     },
     "execution_count": 14,
     "metadata": {},
     "output_type": "execute_result"
    }
   ],
   "source": [
    "GT=simplify(dec12**2+dec22**2);GT"
   ]
  },
  {
   "cell_type": "code",
   "execution_count": 15,
   "metadata": {},
   "outputs": [
    {
     "data": {
      "image/png": "[encoded data removed]",
      "text/latex": [
       "$\\displaystyle 8 M M_{1} \\left(E - p \\cos{\\left(\\theta \\right)}\\right)$"
      ],
      "text/plain": [
       "8⋅M⋅M₁⋅(E - p⋅cos(θ))"
      ]
     },
     "execution_count": 15,
     "metadata": {},
     "output_type": "execute_result"
    }
   ],
   "source": [
    "GT=8*M*M1*(E-p*cos(theta));GT"
   ]
  },
  {
   "cell_type": "markdown",
   "metadata": {},
   "source": [
    "Summing, averaging and including the $G_F$ term yields\n",
    "$$\\overline{\\sum_i}|T_i|^2=64G_F^2E\\omega MM_1\\enspace .$$\n",
    "The differential decay rate for a three body decay is calculated from\n",
    "$$\\mathrm{d}\\Gamma=\\frac{1}{2M}\\int|T_{{fi}}|^{2}\\mathrm{d}L$$\n",
    "with \n",
    "$$\\mathrm{d}L=(2\\pi)^{4}\\delta^{4}(P-p_{1}-p_{2}-p_{3})\\frac{\\mathrm{d}^{3}p_{1}}{(2\\pi)^{3}2E_{1}}\\frac{\\mathrm{d}^{3}p_{2}}{(2\\pi)^{3}2E_{2}}\\frac{\\mathrm{d}^{3}p_{3}}{(2\\pi)^{3}2E_{3}}\\enspace.$$\n",
    "\n",
    "In our case the formula for $\\mathrm{d}\\Gamma$ reduces to\n",
    "$$\\mathrm{d}\\Gamma=\\frac{4G_F^2}{(2\\pi)^5}\\int\n",
    "\\delta^{4}(k_i-p_{\\rm out}-p_{f}-k_{f})\\mathrm{d}^{3}p\\mathrm{d}^{3}p_{f}\n",
    "\\mathrm{d}^{3}k_{f}\\enspace .$$\n",
    "\n",
    "The integral can be evaluated without discussing the contours of the Dalitzplot.\n",
    "Integrating over $\\mathrm{d}^{3}k_{f}$ uses up 3 dimensions of the $\\delta$-function,\n",
    "$$\\mathrm{d}\\Gamma=\\frac{4G_F^2}{(2\\pi)^5}\\int\n",
    "\\delta(M-M_1-\\omega-E)\\mathrm{d}^{3}p\\mathrm{d}^{3}p_{f}\n",
    "\\enspace .$$\n",
    "\n",
    "Using $\\mathrm{d}^{3}p_{f}=|\\vec{p_f}|^2\\mathrm{d}|\\vec{p_f}|\n",
    "\\mathrm{d}\\Omega=4\\pi\\omega^2\\mathrm{d}\\omega$ the $\\mathrm{d}^{3}p_{f}$\n",
    "integral is easily performed\n",
    "\n",
    "$$\\mathrm{d}\\Gamma=\\frac{8G_F^2}{(2\\pi)^4}\\int(M-M_1-E)^2\n",
    "\\mathrm{d}^{3}p=\\frac{8G_F^2}{(2\\pi)^3}\\int(M-M_1-E)^2p^2\n",
    "\\mathrm{d}p\\mathrm{d}\\cos\\theta\n",
    "\\enspace .$$\n",
    "\n",
    "Finally using the abbreviation $M-M_1=\\Delta$ the electron energy spectrum is given by\n",
    "\n",
    "$$\\frac{\\mathrm{d}\\Gamma}{\\mathrm{d}p}=\\frac{2G_F^2}{\\pi^3}p^2(\\Delta-E)^2\n",
    "\\enspace .$$\n",
    "\n",
    "For massless electrons the total width is easily calculated:"
   ]
  },
  {
   "cell_type": "code",
   "execution_count": 16,
   "metadata": {},
   "outputs": [
    {
     "data": {
      "image/png": "[encoded data removed]",
      "text/latex": [
       "$\\displaystyle \\frac{\\Delta^{5}}{30}$"
      ],
      "text/plain": [
       " 5\n",
       "Δ \n",
       "──\n",
       "30"
      ]
     },
     "execution_count": 16,
     "metadata": {},
     "output_type": "execute_result"
    }
   ],
   "source": [
    "Gam0=integrate(E**2*(Delta-E)**2,(E,0,Delta));Gam0"
   ]
  },
  {
   "cell_type": "markdown",
   "metadata": {},
   "source": [
    "resulting in\n",
    "$$\\Gamma_0=\\frac{G_F^2\\Delta^5}{15\\pi^3}\\enspace ,$$\n",
    "\n",
    "whereas the integral for finite $m$ looks ugly. "
   ]
  },
  {
   "cell_type": "code",
   "execution_count": 17,
   "metadata": {},
   "outputs": [
    {
     "data": {
      "image/png": "[encoded data removed]",
      "text/latex": [
       "$\\displaystyle \\frac{\\Delta^{4} \\sqrt{\\Delta^{2} - m^{2}}}{30} - \\frac{3 \\Delta^{2} m^{2} \\sqrt{\\Delta^{2} - m^{2}}}{20} + \\frac{\\Delta m^{4} \\operatorname{asinh}{\\left(\\frac{\\sqrt{\\Delta^{2} - m^{2}}}{m} \\right)}}{4} - \\frac{2 m^{4} \\sqrt{\\Delta^{2} - m^{2}}}{15}$"
      ],
      "text/plain": [
       "                                                   ⎛   _________⎞             \n",
       "                                                   ⎜  ╱  2    2 ⎟             \n",
       "      _________              _________      4      ⎜╲╱  Δ  - m  ⎟           __\n",
       " 4   ╱  2    2       2  2   ╱  2    2    Δ⋅m ⋅asinh⎜────────────⎟      4   ╱  \n",
       "Δ ⋅╲╱  Δ  - m     3⋅Δ ⋅m ⋅╲╱  Δ  - m               ⎝     m      ⎠   2⋅m ⋅╲╱  Δ\n",
       "─────────────── - ──────────────────── + ──────────────────────── - ──────────\n",
       "       30                  20                       4                       15\n",
       "\n",
       "       \n",
       "       \n",
       "_______\n",
       "2    2 \n",
       "  - m  \n",
       "───────\n",
       "       "
      ]
     },
     "execution_count": 17,
     "metadata": {},
     "output_type": "execute_result"
    }
   ],
   "source": [
    "Gam=simplify(integrate(p**2*(Delta-sqrt(p**2+m**2))**2,\n",
    "(p,0,sqrt(Delta**2-m**2))));Gam"
   ]
  },
  {
   "cell_type": "code",
   "execution_count": 18,
   "metadata": {},
   "outputs": [
    {
     "name": "stdout",
     "output_type": "stream",
     "text": [
      "numerical evaluation for neutron decay\n"
     ]
    },
    {
     "data": {
      "image/png": "[encoded data removed]",
      "text/latex": [
       "$\\displaystyle 4 M M_{1} \\omega \\left(\\sqrt{E - m} + \\sqrt{E + m}\\right)^{2}$"
      ],
      "text/plain": [
       "                                2\n",
       "         ⎛  _______     _______⎞ \n",
       "4⋅M⋅M₁⋅ω⋅⎝╲╱ E - m  + ╲╱ E + m ⎠ "
      ]
     },
     "execution_count": 18,
     "metadata": {},
     "output_type": "execute_result"
    }
   ],
   "source": [
    "print('numerical evaluation for neutron decay')\n",
    "h3=Gam.subs(m,0.511).subs(Delta,1.3) ;h1"
   ]
  },
  {
   "cell_type": "code",
   "execution_count": 19,
   "metadata": {},
   "outputs": [
    {
     "name": "stdout",
     "output_type": "stream",
     "text": [
      "numerical evaluation for neutron decay with m=0\n"
     ]
    },
    {
     "data": {
      "image/png": "[encoded data removed]",
      "text/latex": [
       "$\\displaystyle 4 M M_{1} \\omega \\left(\\sqrt{E - m} - \\sqrt{E + m}\\right)^{2}$"
      ],
      "text/plain": [
       "                                2\n",
       "         ⎛  _______     _______⎞ \n",
       "4⋅M⋅M₁⋅ω⋅⎝╲╱ E - m  - ╲╱ E + m ⎠ "
      ]
     },
     "execution_count": 19,
     "metadata": {},
     "output_type": "execute_result"
    }
   ],
   "source": [
    "print('numerical evaluation for neutron decay with m=0')\n",
    "h4=Gam0.subs(Delta,1.3);h2"
   ]
  },
  {
   "cell_type": "code",
   "execution_count": 20,
   "metadata": {},
   "outputs": [
    {
     "name": "stdout",
     "output_type": "stream",
     "text": [
      "Correction factor for neutron decay\n"
     ]
    },
    {
     "data": {
      "image/png": "[encoded data removed]",
      "text/latex": [
       "$\\displaystyle 0.476312845975566$"
      ],
      "text/plain": [
       "0.476312845975566"
      ]
     },
     "execution_count": 20,
     "metadata": {},
     "output_type": "execute_result"
    }
   ],
   "source": [
    "print('Correction factor for neutron decay')\n",
    "h3/h4"
   ]
  },
  {
   "cell_type": "markdown",
   "metadata": {},
   "source": [
    "### 2) Hadronic neutron currents \n",
    "The resulting formula\n",
    "\n",
    "$$\\Gamma_0=0.476\\frac{G_F^2\\Delta^5}{15\\pi^3}\\enspace $$\n",
    "\n",
    "is not in agreement with the measured neutron decay width. Leptonic weak currents differ from hadronic weak currents\n",
    "$$\\bar{u}(k_f)\n",
    "\\gamma^{\\mu}\\frac{1-\\alpha\\gamma^{5}}{2}u(k_i)\\enspace ,$$\n",
    "where $\\alpha$ is a number ${\\cal O}(1)$ to be taken from experiment.\n",
    "Weak currents of the general form \n",
    "$$\\bar{u}(k_f)\n",
    "\\gamma^{\\mu}\\frac{c_V-c_A\\gamma^{5}}{2}u(k_i)\\enspace ,$$\n",
    "are also contained in heppackv0.py. $c_V$ and $c_A$, respectively $1$ and $\\alpha=c_A/c_V$ \n",
    "have to be given as 5th and 6th argument"
   ]
  },
  {
   "cell_type": "code",
   "execution_count": 21,
   "metadata": {},
   "outputs": [
    {
     "data": {
      "image/png": "[encoded data removed]",
      "text/latex": [
       "$\\displaystyle - \\sqrt{M} \\sqrt{M_{1}} \\sqrt{\\omega} \\left(\\alpha + 1.0\\right) \\left(\\sqrt{E - m} + \\sqrt{E + m}\\right) \\cos{\\left(\\frac{\\theta}{2} \\right)}$"
      ],
      "text/plain": [
       "      ____              ⎛  _______     _______⎞    ⎛θ⎞\n",
       "-√M⋅╲╱ M₁ ⋅√ω⋅(α + 1.0)⋅⎝╲╱ E - m  + ╲╱ E + m ⎠⋅cos⎜─⎟\n",
       "                                                   ⎝2⎠"
      ]
     },
     "execution_count": 21,
     "metadata": {},
     "output_type": "execute_result"
    }
   ],
   "source": [
    "T11=simplify(hep.dotprod4(hep.ubvw(ppr,-1,pf,1),\n",
    "hep.ubuva(kf,1,ki,1,1,alpha)));T11"
   ]
  },
  {
   "cell_type": "code",
   "execution_count": 22,
   "metadata": {},
   "outputs": [
    {
     "data": {
      "image/png": "[encoded data removed]",
      "text/latex": [
       "$\\displaystyle \\sqrt{M} \\sqrt{M_{1}} \\sqrt{\\omega} \\left(\\alpha + 1.0\\right) \\left(\\sqrt{E - m} - \\sqrt{E + m}\\right) \\sin{\\left(\\frac{\\theta}{2} \\right)}$"
      ],
      "text/plain": [
       "     ____              ⎛  _______     _______⎞    ⎛θ⎞\n",
       "√M⋅╲╱ M₁ ⋅√ω⋅(α + 1.0)⋅⎝╲╱ E - m  - ╲╱ E + m ⎠⋅sin⎜─⎟\n",
       "                                                  ⎝2⎠"
      ]
     },
     "execution_count": 22,
     "metadata": {},
     "output_type": "execute_result"
    }
   ],
   "source": [
    "T12=simplify(hep.dotprod4(hep.ubvw(ppr,1,pf,1),\n",
    "hep.ubuva(kf,1,ki,1,1,alpha)));T12"
   ]
  },
  {
   "cell_type": "code",
   "execution_count": 23,
   "metadata": {},
   "outputs": [
    {
     "data": {
      "image/png": "[encoded data removed]",
      "text/latex": [
       "$\\displaystyle 2 M M_{1} \\omega \\left(\\alpha + 1.0\\right)^{2} \\left(E - 2 \\sqrt{E^{2} - m^{2}} \\sin^{2}{\\left(\\frac{\\theta}{2} \\right)} + \\sqrt{E^{2} - m^{2}}\\right)$"
      ],
      "text/plain": [
       "                    ⎛         _________              _________⎞\n",
       "                  2 ⎜        ╱  2    2     2⎛θ⎞     ╱  2    2 ⎟\n",
       "2⋅M⋅M₁⋅ω⋅(α + 1.0) ⋅⎜E - 2⋅╲╱  E  - m  ⋅sin ⎜─⎟ + ╲╱  E  - m  ⎟\n",
       "                    ⎝                       ⎝2⎠               ⎠"
      ]
     },
     "execution_count": 23,
     "metadata": {},
     "output_type": "execute_result"
    }
   ],
   "source": [
    "simplify(T11**2+T12**2)"
   ]
  },
  {
   "cell_type": "code",
   "execution_count": 24,
   "metadata": {},
   "outputs": [
    {
     "data": {
      "image/png": "[encoded data removed]",
      "text/latex": [
       "$\\displaystyle 2 M M_{1} \\omega \\left(E + p \\cos{\\left(\\theta \\right)}\\right) \\left(\\alpha + 1\\right)^{2}$"
      ],
      "text/plain": [
       "                               2\n",
       "2⋅M⋅M₁⋅ω⋅(E + p⋅cos(θ))⋅(α + 1) "
      ]
     },
     "execution_count": 24,
     "metadata": {},
     "output_type": "execute_result"
    }
   ],
   "source": [
    "F1=2*(1+alpha)**2*omega*M*M1*(E+p*cos(theta));F1"
   ]
  },
  {
   "cell_type": "code",
   "execution_count": 25,
   "metadata": {},
   "outputs": [
    {
     "data": {
      "image/png": "[encoded data removed]",
      "text/latex": [
       "$\\displaystyle - 2 \\sqrt{M} \\sqrt{M_{1}} \\alpha \\sqrt{\\omega} \\left(\\sqrt{E - m} + \\sqrt{E + m}\\right) \\sin{\\left(\\frac{\\theta}{2} \\right)}$"
      ],
      "text/plain": [
       "        ____      ⎛  _______     _______⎞    ⎛θ⎞\n",
       "-2⋅√M⋅╲╱ M₁ ⋅α⋅√ω⋅⎝╲╱ E - m  + ╲╱ E + m ⎠⋅sin⎜─⎟\n",
       "                                             ⎝2⎠"
      ]
     },
     "execution_count": 25,
     "metadata": {},
     "output_type": "execute_result"
    }
   ],
   "source": [
    "T21=simplify(hep.dotprod4(hep.ubvw(ppr,-1,pf,1),\n",
    "hep.ubuva(kf,-1,ki,1,1,alpha)));T21"
   ]
  },
  {
   "cell_type": "code",
   "execution_count": 26,
   "metadata": {},
   "outputs": [
    {
     "data": {
      "image/png": "[encoded data removed]",
      "text/latex": [
       "$\\displaystyle 2 \\sqrt{M} \\sqrt{M_{1}} \\alpha \\sqrt{\\omega} \\left(- \\sqrt{E - m} + \\sqrt{E + m}\\right) \\cos{\\left(\\frac{\\theta}{2} \\right)}$"
      ],
      "text/plain": [
       "       ____      ⎛    _______     _______⎞    ⎛θ⎞\n",
       "2⋅√M⋅╲╱ M₁ ⋅α⋅√ω⋅⎝- ╲╱ E - m  + ╲╱ E + m ⎠⋅cos⎜─⎟\n",
       "                                              ⎝2⎠"
      ]
     },
     "execution_count": 26,
     "metadata": {},
     "output_type": "execute_result"
    }
   ],
   "source": [
    "T22=simplify(hep.dotprod4(hep.ubvw(ppr,1,pf,1),\n",
    "hep.ubuva(kf,-1,ki,1,1,alpha)));T22"
   ]
  },
  {
   "cell_type": "code",
   "execution_count": 27,
   "metadata": {},
   "outputs": [
    {
     "data": {
      "image/png": "[encoded data removed]",
      "text/latex": [
       "$\\displaystyle 8 M M_{1} \\alpha^{2} \\omega \\left(E - 2 \\sqrt{E^{2} - m^{2}} \\cos^{2}{\\left(\\frac{\\theta}{2} \\right)} + \\sqrt{E^{2} - m^{2}}\\right)$"
      ],
      "text/plain": [
       "            ⎛         _________              _________⎞\n",
       "        2   ⎜        ╱  2    2     2⎛θ⎞     ╱  2    2 ⎟\n",
       "8⋅M⋅M₁⋅α ⋅ω⋅⎜E - 2⋅╲╱  E  - m  ⋅cos ⎜─⎟ + ╲╱  E  - m  ⎟\n",
       "            ⎝                       ⎝2⎠               ⎠"
      ]
     },
     "execution_count": 27,
     "metadata": {},
     "output_type": "execute_result"
    }
   ],
   "source": [
    "simplify(T21**2+T22**2)"
   ]
  },
  {
   "cell_type": "code",
   "execution_count": 28,
   "metadata": {},
   "outputs": [
    {
     "data": {
      "image/png": "[encoded data removed]",
      "text/latex": [
       "$\\displaystyle 8 M M_{1} \\alpha^{2} \\omega \\left(E - p \\cos{\\left(\\theta \\right)}\\right)$"
      ],
      "text/plain": [
       "        2                 \n",
       "8⋅M⋅M₁⋅α ⋅ω⋅(E - p⋅cos(θ))"
      ]
     },
     "execution_count": 28,
     "metadata": {},
     "output_type": "execute_result"
    }
   ],
   "source": [
    "GT1=8*omega*M*M1*alpha**2*(E-p*cos(theta));GT1"
   ]
  },
  {
   "cell_type": "code",
   "execution_count": 29,
   "metadata": {},
   "outputs": [
    {
     "data": {
      "image/png": "[encoded data removed]",
      "text/latex": [
       "$\\displaystyle 0$"
      ],
      "text/plain": [
       "0"
      ]
     },
     "execution_count": 29,
     "metadata": {},
     "output_type": "execute_result"
    }
   ],
   "source": [
    "T31=simplify(hep.dotprod4(hep.ubvw(ppr,-1,pf,1),\n",
    "hep.ubuva(kf,1,ki,-1,1,alpha)));T31"
   ]
  },
  {
   "cell_type": "code",
   "execution_count": 30,
   "metadata": {},
   "outputs": [
    {
     "data": {
      "image/png": "[encoded data removed]",
      "text/latex": [
       "$\\displaystyle 0$"
      ],
      "text/plain": [
       "0"
      ]
     },
     "execution_count": 30,
     "metadata": {},
     "output_type": "execute_result"
    }
   ],
   "source": [
    "T32=simplify(hep.dotprod4(hep.ubvw(ppr,1,pf,1),\n",
    "hep.ubuva(kf,1,ki,-1,1,alpha)));T32"
   ]
  },
  {
   "cell_type": "code",
   "execution_count": 31,
   "metadata": {},
   "outputs": [
    {
     "data": {
      "image/png": "[encoded data removed]",
      "text/latex": [
       "$\\displaystyle \\sqrt{M} \\sqrt{M_{1}} \\sqrt{\\omega} \\left(\\alpha - 1.0\\right) \\left(\\sqrt{E - m} + \\sqrt{E + m}\\right) \\cos{\\left(\\frac{\\theta}{2} \\right)}$"
      ],
      "text/plain": [
       "     ____              ⎛  _______     _______⎞    ⎛θ⎞\n",
       "√M⋅╲╱ M₁ ⋅√ω⋅(α - 1.0)⋅⎝╲╱ E - m  + ╲╱ E + m ⎠⋅cos⎜─⎟\n",
       "                                                  ⎝2⎠"
      ]
     },
     "execution_count": 31,
     "metadata": {},
     "output_type": "execute_result"
    }
   ],
   "source": [
    "T41=simplify(hep.dotprod4(hep.ubvw(ppr,-1,pf,1),\n",
    "hep.ubuva(kf,-1,ki,-1,1,alpha)));T41"
   ]
  },
  {
   "cell_type": "code",
   "execution_count": 32,
   "metadata": {},
   "outputs": [
    {
     "data": {
      "image/png": "[encoded data removed]",
      "text/latex": [
       "$\\displaystyle - \\sqrt{M} \\sqrt{M_{1}} \\sqrt{\\omega} \\left(\\alpha - 1.0\\right) \\left(\\sqrt{E - m} - \\sqrt{E + m}\\right) \\sin{\\left(\\frac{\\theta}{2} \\right)}$"
      ],
      "text/plain": [
       "      ____              ⎛  _______     _______⎞    ⎛θ⎞\n",
       "-√M⋅╲╱ M₁ ⋅√ω⋅(α - 1.0)⋅⎝╲╱ E - m  - ╲╱ E + m ⎠⋅sin⎜─⎟\n",
       "                                                   ⎝2⎠"
      ]
     },
     "execution_count": 32,
     "metadata": {},
     "output_type": "execute_result"
    }
   ],
   "source": [
    "T42=simplify(hep.dotprod4(hep.ubvw(ppr,1,pf,1),\n",
    "hep.ubuva(kf,-1,ki,-1,1,alpha)));T42"
   ]
  },
  {
   "cell_type": "code",
   "execution_count": 33,
   "metadata": {},
   "outputs": [
    {
     "data": {
      "image/png": "[encoded data removed]",
      "text/latex": [
       "$\\displaystyle 2 M M_{1} \\omega \\left(\\alpha - 1.0\\right)^{2} \\left(E - 2 \\sqrt{E^{2} - m^{2}} \\sin^{2}{\\left(\\frac{\\theta}{2} \\right)} + \\sqrt{E^{2} - m^{2}}\\right)$"
      ],
      "text/plain": [
       "                    ⎛         _________              _________⎞\n",
       "                  2 ⎜        ╱  2    2     2⎛θ⎞     ╱  2    2 ⎟\n",
       "2⋅M⋅M₁⋅ω⋅(α - 1.0) ⋅⎜E - 2⋅╲╱  E  - m  ⋅sin ⎜─⎟ + ╲╱  E  - m  ⎟\n",
       "                    ⎝                       ⎝2⎠               ⎠"
      ]
     },
     "execution_count": 33,
     "metadata": {},
     "output_type": "execute_result"
    }
   ],
   "source": [
    "simplify(T41**2+T42**2)"
   ]
  },
  {
   "cell_type": "code",
   "execution_count": 34,
   "metadata": {},
   "outputs": [
    {
     "data": {
      "image/png": "[encoded data removed]",
      "text/latex": [
       "$\\displaystyle 2 M M_{1} \\omega \\left(1 - \\alpha\\right)^{2} \\left(E + p \\cos{\\left(\\theta \\right)}\\right)$"
      ],
      "text/plain": [
       "                2               \n",
       "2⋅M⋅M₁⋅ω⋅(1 - α) ⋅(E + p⋅cos(θ))"
      ]
     },
     "execution_count": 34,
     "metadata": {},
     "output_type": "execute_result"
    }
   ],
   "source": [
    "F2=2*(1-alpha)**2*omega*M*M1*(E+p*cos(theta));F2"
   ]
  },
  {
   "cell_type": "code",
   "execution_count": 35,
   "metadata": {},
   "outputs": [
    {
     "data": {
      "image/png": "[encoded data removed]",
      "text/latex": [
       "$\\displaystyle 2 M M_{1} \\omega \\left(3 E \\alpha^{2} + E - \\alpha^{2} p \\cos{\\left(\\theta \\right)} + p \\cos{\\left(\\theta \\right)}\\right)$"
      ],
      "text/plain": [
       "         ⎛     2        2                    ⎞\n",
       "2⋅M⋅M₁⋅ω⋅⎝3⋅E⋅α  + E - α ⋅p⋅cos(θ) + p⋅cos(θ)⎠"
      ]
     },
     "execution_count": 35,
     "metadata": {},
     "output_type": "execute_result"
    }
   ],
   "source": [
    "Tdecsq=simplify(F1+F2+GT1)/2;Tdecsq"
   ]
  },
  {
   "cell_type": "markdown",
   "metadata": {},
   "source": [
    "Repeating the discussion above the evaluation of $\\mathrm{d}\\Gamma/\\mathrm{d}p$ needs  a $\\mathrm{d}\\cos\\theta$ integration.\n",
    "With $\\int_{-1}^1\\cos\\theta\\mathrm{d}\\cos\\theta=0$ the formula for the momentum spectrum has simply to be multiplied by the ratio \n",
    "$$\\frac{2E\\omega MM_1(1+3\\alpha^2)}{8E\\omega MM_1}$$\n",
    "\n",
    "of the average matrix elements squared with the result\n",
    "$$\\frac{\\mathrm{d}\\Gamma}{\\mathrm{d}p}=\\frac{G_F^2}{2\\pi^3}\n",
    "(1+3\\alpha^2)p^2(\\Delta-E)^2\n",
    "\\enspace .$$\n",
    "and\n",
    "$$\\Gamma=0.476\\frac{G_F^2\\Delta^5}{60\\pi^3}(1+3\\alpha^2)\\enspace $$\n",
    "\n",
    "Finally taking the flavor structure of the weak currents into account the\n",
    "neutron decay width is given by\n",
    "\n",
    "$$\\Gamma=0.476\\frac{G_F^2\\Delta^5}{60\\pi^3}(1+3\\alpha^2)\n",
    "\\cos^2\\theta_{\\rm C}\\enspace , $$\n",
    "where $\\theta_{\\rm C}$ is the Cabbibo angle.\n",
    "\n",
    "### 3) Momentum spectrum and polarization of the decay electrons\n",
    "In the next step the momentum spectrum with a normalization close to $1$ is plotted:"
   ]
  },
  {
   "cell_type": "code",
   "execution_count": 36,
   "metadata": {},
   "outputs": [
    {
     "data": {
      "image/png": "[encoded data removed]",
      "text/latex": [
       "$\\displaystyle \\frac{30 p^{2} \\left(\\Delta - \\sqrt{m^{2} + p^{2}}\\right)^{2}}{\\Delta^{5}}$"
      ],
      "text/plain": [
       "                        2\n",
       "      ⎛       _________⎞ \n",
       "    2 ⎜      ╱  2    2 ⎟ \n",
       "30⋅p ⋅⎝Δ - ╲╱  m  + p  ⎠ \n",
       "─────────────────────────\n",
       "             5           \n",
       "            Δ            "
      ]
     },
     "execution_count": 36,
     "metadata": {},
     "output_type": "execute_result"
    }
   ],
   "source": [
    "gamplot=p**2*(Delta-sqrt(p**2+m**2))**2*30/Delta**5;gamplot"
   ]
  },
  {
   "cell_type": "code",
   "execution_count": 37,
   "metadata": {},
   "outputs": [
    {
     "data": {
      "image/png": "[encoded data removed]",
      "text/plain": [
       "<Figure size 432x288 with 1 Axes>"
      ]
     },
     "metadata": {
      "needs_background": "light"
     },
     "output_type": "display_data"
    },
    {
     "data": {
      "text/plain": [
       "<sympy.plotting.plot.Plot at 0x104812200>"
      ]
     },
     "execution_count": 37,
     "metadata": {},
     "output_type": "execute_result"
    }
   ],
   "source": [
    "plot(gamplot.subs(m,0.511).subs(Delta,1.3),(p,0,1.2))"
   ]
  },
  {
   "cell_type": "markdown",
   "metadata": {},
   "source": [
    "The average polarization of the decay electrons can simply be calculated from the matrix elements given in chapter 1."
   ]
  },
  {
   "cell_type": "code",
   "execution_count": 38,
   "metadata": {},
   "outputs": [
    {
     "data": {
      "image/png": "[encoded data removed]",
      "text/latex": [
       "$\\displaystyle 8 M M_{1} \\omega \\left(- 2 E \\cos^{2}{\\left(\\frac{\\theta}{2} \\right)} + E - \\sqrt{E^{2} - m^{2}}\\right)$"
      ],
      "text/plain": [
       "         ⎛                       _________⎞\n",
       "         ⎜         2⎛θ⎞         ╱  2    2 ⎟\n",
       "8⋅M⋅M₁⋅ω⋅⎜- 2⋅E⋅cos ⎜─⎟ + E - ╲╱  E  - m  ⎟\n",
       "         ⎝          ⎝2⎠                   ⎠"
      ]
     },
     "execution_count": 38,
     "metadata": {},
     "output_type": "execute_result"
    }
   ],
   "source": [
    "polF=simplify(dec21**2-dec11**2);polF"
   ]
  },
  {
   "cell_type": "code",
   "execution_count": 39,
   "metadata": {},
   "outputs": [
    {
     "data": {
      "image/png": "[encoded data removed]",
      "text/latex": [
       "$\\displaystyle 8 M M_{1} \\omega \\left(- 2 E \\sin^{2}{\\left(\\frac{\\theta}{2} \\right)} + E - \\sqrt{E^{2} - m^{2}}\\right)$"
      ],
      "text/plain": [
       "         ⎛                       _________⎞\n",
       "         ⎜         2⎛θ⎞         ╱  2    2 ⎟\n",
       "8⋅M⋅M₁⋅ω⋅⎜- 2⋅E⋅sin ⎜─⎟ + E - ╲╱  E  - m  ⎟\n",
       "         ⎝          ⎝2⎠                   ⎠"
      ]
     },
     "execution_count": 39,
     "metadata": {},
     "output_type": "execute_result"
    }
   ],
   "source": [
    "polGT=simplify(dec22**2-dec12**2);polGT"
   ]
  },
  {
   "cell_type": "code",
   "execution_count": 40,
   "metadata": {},
   "outputs": [
    {
     "data": {
      "image/png": "[encoded data removed]",
      "text/latex": [
       "$\\displaystyle - \\frac{\\sqrt{E^{2} - m^{2}}}{E}$"
      ],
      "text/plain": [
       "    _________ \n",
       "   ╱  2    2  \n",
       "-╲╱  E  - m   \n",
       "──────────────\n",
       "      E       "
      ]
     },
     "execution_count": 40,
     "metadata": {},
     "output_type": "execute_result"
    }
   ],
   "source": [
    "pol=simplify((polF+polGT)/Tsq);pol"
   ]
  },
  {
   "cell_type": "markdown",
   "metadata": {},
   "source": [
    "therefore the polarization of the decay electrons is given by $-\\beta_e$."
   ]
  },
  {
   "cell_type": "code",
   "execution_count": null,
   "metadata": {},
   "outputs": [],
   "source": []
  }
 ],
 "metadata": {
  "kernelspec": {
   "display_name": "Python 3 (ipykernel)",
   "language": "python",
   "name": "python3"
  },
  "language_info": {
   "codemirror_mode": {
    "name": "ipython",
    "version": 3
   },
   "file_extension": ".py",
   "mimetype": "text/x-python",
   "name": "python",
   "nbconvert_exporter": "python",
   "pygments_lexer": "ipython3",
   "version": "3.10.3"
  }
 },
 "nbformat": 4,
 "nbformat_minor": 2
}
