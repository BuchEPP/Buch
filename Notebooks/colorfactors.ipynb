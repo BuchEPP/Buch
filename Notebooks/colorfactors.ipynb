{
 "cells": [
  {
   "cell_type": "code",
   "execution_count": 1,
   "id": "558b95aa",
   "metadata": {},
   "outputs": [
    {
     "name": "stdout",
     "output_type": "stream",
     "text": [
      "Reading heppackv0.py (March 2023)\n",
      "\n",
      "Done\n"
     ]
    }
   ],
   "source": [
    "from sympy import *\n",
    "import heppackv0 as h"
   ]
  },
  {
   "cell_type": "code",
   "execution_count": 2,
   "id": "538aeabb",
   "metadata": {},
   "outputs": [
    {
     "name": "stdout",
     "output_type": "stream",
     "text": [
      "Color factor Cf =  2/9\n"
     ]
    }
   ],
   "source": [
    "# Resulting color factor for qq' scattering (e.g. ud)\n",
    "# chapter 4.2 of the book, here page 273\n",
    "# Downloading this code for running as a standalone Python-routine requires uncommenting the next 2 lines\n",
    "\n",
    "#from sympy import *\n",
    "#import heppackv0 as h\n",
    "\n",
    "# The QCD lambda-Matrices are prvided by heppackv0\n",
    "\n",
    "lv=[h.lam1,h.lam2,h.lam3,h.lam4,h.lam5,h.lam6,h.lam7,h.lam8]\n",
    "#\n",
    "Cf=0\n",
    "for a in range (8):\n",
    "    for i in range (3):\n",
    "        for j in range (3):\n",
    "            for k in range (3):\n",
    "                for l in range (3):\n",
    "                    Cf += (lv[a][i,j]*lv[a][k,l])**2\n",
    "# Divide by 16 due to equation (4.30), divede by 9 because of averaging over incoming colors \n",
    "Cf=Cf/16/9\n",
    "print(\"Color factor Cf = \", Cf)"
   ]
  },
  {
   "cell_type": "code",
   "execution_count": 23,
   "id": "4b7cd9f8",
   "metadata": {},
   "outputs": [
    {
     "name": "stdout",
     "output_type": "stream",
     "text": [
      "page 273:\n",
      "C_t= [1/2, 1/2, -1/6, -1/6, 1/3]\n",
      "C_u= [-1/6, -1/6, 1/2, 1/2, 1/3]\n",
      "\n",
      "Squaring and summing yields:\n",
      "colorfactor t- or u-channel =  2/9\n",
      "colorfactor of the interference term =  -4/27\n",
      "after summing over 3 values of the index i (factor 3) and averaging (factor 1/9)\n",
      "Check how the interference term is calculated.\n"
     ]
    }
   ],
   "source": [
    "# Routine QCDFv2\n",
    "# Color factors for qq scattering. The helicity amplitude amplitude T_(--,--) gets contributions\n",
    "# of gluon exchanege in the t- and u channel.\n",
    "\n",
    "# Downloading this code for running as a standalone Python-routine requires uncommenting the next 4 lines\n",
    "\n",
    "# from sympy import *\n",
    "# import heppackv0 as h\n",
    "#\n",
    "# lv=[h.lam1,h.lam2,h.lam3,h.lam4,h.lam5,h.lam6,h.lam7,h.lam8]\n",
    "#\n",
    "# In table 4.8 of the book the 5 nonvanishing s channel amplitudes have been calculated by hand. Here we calculate\n",
    "# similar tables for the s and u channels. The final color factors are then evaluated in a second step. \n",
    "# Our method is slow and far from elegant.\n",
    "\n",
    "cfakT=0\n",
    "cfakU=0\n",
    "lstT=[]\n",
    "\n",
    "lstU=[]\n",
    "lstTsq=[]\n",
    "lstTU=[]\n",
    "# Incoming blue  u Quark (R,G,B=0,1,2):\n",
    "i=2\n",
    "for j in range(3):\n",
    "    for k in range(3):\n",
    "        for l in range(3):\n",
    "            for a in range(8):                   \n",
    "                cfakT=cfakT+lv[a][i,j]*lv[a][k,l]\n",
    "                cfakU=cfakU+lv[a][i,l]*lv[a][k,j]       \n",
    "                #if a==7:\n",
    "            if cfakT!=0:\n",
    "            # Divide by 4 due to definition (4.30)\n",
    "                lstT.append(cfakT/4)\n",
    "                lstU.append(cfakU/4)\n",
    "                cfakT=0\n",
    "                cfakU=0\n",
    "print('page 273:')\n",
    "print('C_t=',lstT)\n",
    "print('C_u=',lstU)\n",
    "#\n",
    "for x in lstT:\n",
    "    lstTsq.append(x*x)\n",
    "print()\n",
    "print('Squaring and summing yields:')\n",
    "print('colorfactor t- or u-channel = ',sum(lstTsq)/3)\n",
    "for i in range(len(lstT)):\n",
    "    lstTU.append(lstT[i]*lstU[i])\n",
    "print('colorfactor of the interference term = ',2*sum(lstTU)/3)\n",
    "print('after summing over 3 values of the index i (factor 3) and averaging (factor 1/9)')\n",
    "print('Check how the interference term is calculated.')\n",
    "        \n",
    "                 "
   ]
  },
  {
   "cell_type": "code",
   "execution_count": null,
   "id": "0b2f26c9",
   "metadata": {},
   "outputs": [],
   "source": []
  }
 ],
 "metadata": {
  "kernelspec": {
   "display_name": "Python 3 (ipykernel)",
   "language": "python",
   "name": "python3"
  },
  "language_info": {
   "codemirror_mode": {
    "name": "ipython",
    "version": 3
   },
   "file_extension": ".py",
   "mimetype": "text/x-python",
   "name": "python",
   "nbconvert_exporter": "python",
   "pygments_lexer": "ipython3",
   "version": "3.10.3"
  }
 },
 "nbformat": 4,
 "nbformat_minor": 5
}
