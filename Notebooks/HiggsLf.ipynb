{
 "cells": [
  {
   "cell_type": "markdown",
   "id": "31f4d4d9-2802-45ab-b2b3-386c2f6eedc2",
   "metadata": {
    "tags": []
   },
   "source": [
    "# Derive the gauge couplings to Fermions $\\mathcal{L}_F$\n",
    "\n",
    "section 7.3 in the book"
   ]
  },
  {
   "cell_type": "code",
   "execution_count": 1,
   "id": "e679645e-ec98-4108-9194-2fb99dfc838d",
   "metadata": {},
   "outputs": [],
   "source": [
    "import sys,os\n",
    "import higgsLf as hf\n",
    "import sympy as sy"
   ]
  },
  {
   "cell_type": "markdown",
   "id": "13d8a909-c129-417c-866d-28244c5212e0",
   "metadata": {},
   "source": []
  },
  {
   "cell_type": "markdown",
   "id": "d048bf10-4945-44db-bce4-2819b3ebe10d",
   "metadata": {},
   "source": [
    "**Gauge coupling of Fermions**\n",
    "\n",
    "Fermion fields have already been considered in the Yukuwa part  $\\mathcal{L}_Y$,  so that in $\\mathcal{L}_F$ only the kinetic term of the Dirac Lagrangian has to be treated.\n",
    "$$\n",
    "\\mathcal{L}_F = i{\\overline{\\psi}} \\gamma^\\mu {\\partial_\\mu}~{\\psi}\n",
    "$$\n",
    "When inserting the covariant derivative, it must now be noted that left-handed and right-handed fields have different interaction terms, so that they must be treated separately.\n",
    "$$\n",
    "{D}^L_\\mu = \\partial_\\mu + i \\frac{g}{2} {\\sigma_a} {W^a_\\mu} + i g^\\prime \\frac{Y}{2} B_\\mu\n",
    "$$\n",
    "$$\n",
    "{D}^R_\\mu = \\partial_\\mu + i g^\\prime \\frac{Y}{2} B_\\mu\n",
    "$$\n",
    "As an example, the Lagrangian density for $u$ and $d$ quarks is given by\n",
    "\\begin{align}\n",
    " \\mathcal{L}_F = (\\bar{u}_L,\\bar{d}_L) i \\gamma^\\mu D_\\mu^L \\begin{pmatrix} u_L\\\\ d_L \\end{pmatrix} \n",
    " + \\bar{u}_R i \\gamma^\\mu D_\\mu^R  u_R  \n",
    " + \\bar{d}_R i \\gamma^\\mu D_\\mu^R  d_R \n",
    " \\label{7.3Equ81_LF}\n",
    " \\end{align}"
   ]
  },
  {
   "cell_type": "markdown",
   "id": "a3afb9cd-a0df-4025-b36c-eee183488c69",
   "metadata": {},
   "source": [
    "**Righthanded coupling**\n",
    "\n",
    "Inserting ${D}^R_\\mu$ into $\\mathcal{L}_F$ provides\n",
    "\n",
    "$$\n",
    "\\mathcal{L}_R = i{\\overline{\\psi}_R} \\gamma^\\mu {\\partial_\\mu}   {\\psi_R} -g^\\prime {\\overline{\\psi}_R} \\frac{Y}{2} B_\\mu {\\psi_R}\n",
    "$$\n",
    "\n",
    "Now we insert $B_\\mu=-\\sin{\\theta_W} Z_\\mu + \\sin{\\theta_W} A_\\mu$. With the hypercharge $Y=2(Q-I_{3,L})= 2Q$ for right-handed fermions follows\n",
    "\n",
    "$$\n",
    "\\mathcal{L}_R  = i\\overline{\\psi}_R \\gamma^\\mu \\partial_\\mu  \\psi_R - (Qg^\\prime \\cos{\\theta_W}) (\\overline{\\psi}_R\\gamma^\\mu \\psi_R) A_\\mu\n",
    " -  (-Q g^\\prime \\sin{\\theta_W}) (\\overline{\\psi}_R \\gamma^\\mu\\psi_R) Z_\\mu~.\n",
    "$$\n",
    " \n",
    "By comparing them with the Lagrangian density of QED, we can interpret the last two terms as couplings of a fermion with the charge Q to the photon or Z boson. \n",
    "The photon coupling constant is the electric charge $q=Qe$, so that the following relationship must exist\n",
    "$$\n",
    "e = g^\\prime \\cos\\theta_W\n",
    "$$\n",
    "Mit $g^\\prime = g \\tan\\theta_W$ folgt dann auch     \n",
    "$$\n",
    "e = g  \\sin\\theta_W~.\n",
    "$$\n",
    "The coupling of a right-handed fermion to the Z boson can also be read from the Lagrangian density $\\mathcal{L}_R$.\n",
    "$$\n",
    "g^\\prime \\sin\\theta_W = \\frac{g}{\\cos\\theta_W} \\sin^2\\theta_W,\n",
    "$$\n",
    "in perfect agreement with the previous result $c_R=-Q\\sin^2\\theta_W$.\n"
   ]
  },
  {
   "cell_type": "markdown",
   "id": "db7efb0f-27c9-4b03-976d-9c41aa806f17",
   "metadata": {},
   "source": [
    "**Left-handed coupling**\n",
    "\n",
    "The left-handed coupling to the photon (left- and right-handed couplings are identical) and to the Z boson can be calculated in a similar way. The W boson contributions must be taken into account. In the calculation, it must be noted that $\\psi^f$ is now an isospin doublet. \n",
    "\n",
    "As a result, the interaction terms for left-handed fermions are obtained using the $d$ quark as an example\n",
    "\\begin{align*}\n",
    "\\mathcal{L}^d_L &= i \\bar{d}_L \\gamma^{\\mu} {\\partial_\\mu} d_L\\\\\n",
    "&\\quad - Q g \\sin\\Theta_W~  (\\bar{d}_L \\gamma^{\\mu} d_L )~A_{\\mu}\\\\\n",
    "&\\quad - (I_{3,L} - Q \\sin^2\\Theta_W) \\frac{g}{c}~ (\\bar{d}_L \\gamma^{\\mu}  d_L) Z_{\\mu}\\\\\n",
    "&\\quad - \\frac{1}{\\sqrt{2}} g (\\bar{d}_L \\gamma^{\\mu}  u_L)~W^{-}_{\\mu} \n",
    "- \\frac{1}{\\sqrt{2}} g (\\bar{u}_L \\gamma^{\\mu} d_L)~ W^{+}_{\\mu}\n",
    "\\end{align*}\n",
    "The $d_L$ state specified here is the eigenstate of the weak interaction, which we have previously specified as $d^\\prime$; therefore, no mixing angles of the CKM matrix occur here. \n",
    "\n",
    "The comparison with the general interaction terms of the gauge bosons with fermions, which occur with a negative sign in the Lagrangian density  \n",
    "\n",
    "\\begin{align*}\n",
    "\\mathcal{L}^{int}_{F} = -J_{EM}^\\mu A_\\mu - J_{NC}^\\mu Z_\\mu - J_{CC}^\\mu W^+_\\mu  - (J_{CC}^\\mu)^\\dagger W^-_\\mu \n",
    "\\end{align*}\n",
    "\n",
    "The result shows that the calculated left-handed couplings \n",
    "$$Qg  \\sin\\Theta_W=Qe\\quad \\mathrm{(QED)}$$\n",
    "$$c_L=(I_3-Q \\sin^2\\Theta_W) g/ \\cos\\Theta_W\\quad \\mathrm{(NC)}$$\n",
    "and \n",
    "$$g/\\sqrt{2}\\quad \\mathrm{(CC)}$$ \n",
    "agree with the previous result.  "
   ]
  },
  {
   "cell_type": "markdown",
   "id": "d0e6d4a0-a284-4a67-b08c-ed95f359f8c5",
   "metadata": {},
   "source": [
    "### Calculation with sympy\n",
    "\n",
    "The program `HiggsLf.LgUD()` calculates the individual terms of the Lagramgian.\n",
    "- LdR1: Lg righthanded for d-quarks\n",
    "- LdR2: Lg righthanded for d-quarks with chiral projector $P_R$\n",
    "- LuR1: Lg righthanded for u-quarks\n",
    "- LuR2: Lg righthanded for u-quarks with chiral projector $P_R$\n",
    "- LudL1: Lg lefthanded für u,d-quarks\n",
    "- LudL2: Lg lefthanded für u,d-quarks with chiralen projector $P_L$ \n",
    "- Lud: total Lagrangian"
   ]
  },
  {
   "cell_type": "code",
   "execution_count": 2,
   "id": "d365bac3-7b9e-4b67-8d0b-2504b1a2ba15",
   "metadata": {},
   "outputs": [
    {
     "data": {
      "text/plain": [
       "'LdR1: L-righthanded for d:'"
      ]
     },
     "metadata": {},
     "output_type": "display_data"
    },
    {
     "data": {
      "text/latex": [
       "$\\displaystyle - Q g s \\bar{\\psi}_{R} \\gamma^{\\mu} A_{\\mu} \\psi_{R} + \\frac{Q g s^{2} \\bar{\\psi}_{R} \\gamma^{\\mu} Z_{\\mu} \\psi_{R}}{c} + i \\bar{\\psi}_{R} \\gamma^{\\mu} {\\partial_\\mu} \\psi_{R}$"
      ],
      "text/plain": [
       "-Q*g*s*psibar_R*gamma^\\mu*A_mu*psi_R + Q*g*s**2*psibar_R*gamma^\\mu*Z_mu*psi_R/c + I*psibar_R*gamma^\\mu*{\\partial_\\mu}*psi_R"
      ]
     },
     "metadata": {},
     "output_type": "display_data"
    },
    {
     "data": {
      "text/plain": [
       "'LdR2: L-righthanded for d with chiral projector P_R:'"
      ]
     },
     "metadata": {},
     "output_type": "display_data"
    },
    {
     "data": {
      "text/latex": [
       "$\\displaystyle - Q g s \\bar{d} \\gamma^{\\mu} P_{R} d A_{\\mu} + \\frac{Q g s^{2} \\bar{d} \\gamma^{\\mu} P_{R} d Z_{\\mu}}{c} + i \\bar{d} \\gamma^{\\mu} {\\partial_\\mu} P_{R} d$"
      ],
      "text/plain": [
       "-Q*g*s*dbar*gamma^\\mu*P_R*d*A_mu + Q*g*s**2*dbar*gamma^\\mu*P_R*d*Z_mu/c + I*dbar*gamma^\\mu*{\\partial_\\mu}*P_R*d"
      ]
     },
     "metadata": {},
     "output_type": "display_data"
    },
    {
     "data": {
      "text/plain": [
       "'LuR1: L-righthanded for u: '"
      ]
     },
     "metadata": {},
     "output_type": "display_data"
    },
    {
     "data": {
      "text/latex": [
       "$\\displaystyle - Q g s \\bar{\\psi}_{R} \\gamma^{\\mu} A_{\\mu} \\psi_{R} + \\frac{Q g s^{2} \\bar{\\psi}_{R} \\gamma^{\\mu} Z_{\\mu} \\psi_{R}}{c} + i \\bar{\\psi}_{R} \\gamma^{\\mu} {\\partial_\\mu} \\psi_{R}$"
      ],
      "text/plain": [
       "-Q*g*s*psibar_R*gamma^\\mu*A_mu*psi_R + Q*g*s**2*psibar_R*gamma^\\mu*Z_mu*psi_R/c + I*psibar_R*gamma^\\mu*{\\partial_\\mu}*psi_R"
      ]
     },
     "metadata": {},
     "output_type": "display_data"
    },
    {
     "data": {
      "text/plain": [
       "'LuR2: L-righthanded for u with PR: '"
      ]
     },
     "metadata": {},
     "output_type": "display_data"
    },
    {
     "data": {
      "text/latex": [
       "$\\displaystyle - Q g s \\bar{u} \\gamma^{\\mu} P_{R} u A_{\\mu} + \\frac{Q g s^{2} \\bar{u} \\gamma^{\\mu} P_{R} u Z_{\\mu}}{c} + i \\bar{u} \\gamma^{\\mu} {\\partial_\\mu} P_{R} u$"
      ],
      "text/plain": [
       "-Q*g*s*ubar*gamma^\\mu*P_R*u*A_mu + Q*g*s**2*ubar*gamma^\\mu*P_R*u*Z_mu/c + I*ubar*gamma^\\mu*{\\partial_\\mu}*P_R*u"
      ]
     },
     "metadata": {},
     "output_type": "display_data"
    },
    {
     "data": {
      "text/plain": [
       "'LudL1: L-lefthanded for ud: '"
      ]
     },
     "metadata": {},
     "output_type": "display_data"
    },
    {
     "data": {
      "text/latex": [
       "$\\displaystyle - \\frac{I_{3} g \\bar{d}_{L} \\gamma^{\\mu} Z_{\\mu} d_{L}}{c} - \\frac{I_{3} g \\bar{u}_{L} \\gamma^{\\mu} Z_{\\mu} u_{L}}{c} - Q g s \\bar{d}_{L} \\gamma^{\\mu} A_{\\mu} d_{L} - Q g s \\bar{u}_{L} \\gamma^{\\mu} A_{\\mu} u_{L} + \\frac{Q g s^{2} \\bar{d}_{L} \\gamma^{\\mu} Z_{\\mu} d_{L}}{c} + \\frac{Q g s^{2} \\bar{u}_{L} \\gamma^{\\mu} Z_{\\mu} u_{L}}{c} - \\frac{\\sqrt{2} g \\bar{d}_{L} \\gamma^{\\mu} W^{-}_{\\mu} u_{L}}{2} - \\frac{\\sqrt{2} g \\bar{u}_{L} \\gamma^{\\mu} W^{+}_{\\mu} d_{L}}{2} + i \\bar{d}_{L} \\gamma^{\\mu} {\\partial_\\mu} d_{L} + i \\bar{u}_{L} \\gamma^{\\mu} {\\partial_\\mu} u_{L}$"
      ],
      "text/plain": [
       "-I_3*g*dbar_L*gamma^\\mu*Z_mu*d_L/c - I_3*g*ubar_L*gamma^\\mu*Z_mu*u_L/c - Q*g*s*dbar_L*gamma^\\mu*A_mu*d_L - Q*g*s*ubar_L*gamma^\\mu*A_mu*u_L + Q*g*s**2*dbar_L*gamma^\\mu*Z_mu*d_L/c + Q*g*s**2*ubar_L*gamma^\\mu*Z_mu*u_L/c - sqrt(2)*g*dbar_L*gamma^\\mu*W^-_mu*u_L/2 - sqrt(2)*g*ubar_L*gamma^\\mu*W^+_mu*d_L/2 + I*dbar_L*gamma^\\mu*{\\partial_\\mu}*d_L + I*ubar_L*gamma^\\mu*{\\partial_\\mu}*u_L"
      ]
     },
     "metadata": {},
     "output_type": "display_data"
    },
    {
     "data": {
      "text/plain": [
       "'LudL2: L-lefthanded for ud with PL:'"
      ]
     },
     "metadata": {},
     "output_type": "display_data"
    },
    {
     "data": {
      "text/latex": [
       "$\\displaystyle - \\frac{I_{3} g \\bar{d} \\gamma^{\\mu} P_{L} d Z_{\\mu}}{c} - \\frac{I_{3} g \\bar{u} \\gamma^{\\mu} P_{L} u Z_{\\mu}}{c} - Q g s \\bar{d} \\gamma^{\\mu} P_{L} d A_{\\mu} - Q g s \\bar{u} \\gamma^{\\mu} P_{L} u A_{\\mu} + \\frac{Q g s^{2} \\bar{d} \\gamma^{\\mu} P_{L} d Z_{\\mu}}{c} + \\frac{Q g s^{2} \\bar{u} \\gamma^{\\mu} P_{L} u Z_{\\mu}}{c} - \\frac{\\sqrt{2} g \\bar{d} \\gamma^{\\mu} P_{L} u W^{-}_{\\mu}}{2} - \\frac{\\sqrt{2} g \\bar{u} \\gamma^{\\mu} P_{L} d W^{+}_{\\mu}}{2} + i \\bar{d} \\gamma^{\\mu} {\\partial_\\mu} P_{L} d + i \\bar{u} \\gamma^{\\mu} {\\partial_\\mu} P_{L} u$"
      ],
      "text/plain": [
       "-I_3*g*dbar*gamma^\\mu*P_L*d*Z_mu/c - I_3*g*ubar*gamma^\\mu*P_L*u*Z_mu/c - Q*g*s*dbar*gamma^\\mu*P_L*d*A_mu - Q*g*s*ubar*gamma^\\mu*P_L*u*A_mu + Q*g*s**2*dbar*gamma^\\mu*P_L*d*Z_mu/c + Q*g*s**2*ubar*gamma^\\mu*P_L*u*Z_mu/c - sqrt(2)*g*dbar*gamma^\\mu*P_L*u*W^-_mu/2 - sqrt(2)*g*ubar*gamma^\\mu*P_L*d*W^+_mu/2 + I*dbar*gamma^\\mu*{\\partial_\\mu}*P_L*d + I*ubar*gamma^\\mu*{\\partial_\\mu}*P_L*u"
      ]
     },
     "metadata": {},
     "output_type": "display_data"
    },
    {
     "data": {
      "text/plain": [
       "'Lud: L-total for ud:'"
      ]
     },
     "metadata": {},
     "output_type": "display_data"
    },
    {
     "data": {
      "text/latex": [
       "$\\displaystyle - \\frac{I_{3} g \\bar{d} \\gamma^{\\mu} 1 d Z_{\\mu}}{2 c} + \\frac{I_{3} g \\bar{d} \\gamma^{\\mu} \\gamma^{5} d Z_{\\mu}}{2 c} - \\frac{I_{3} g \\bar{u} \\gamma^{\\mu} 1 u Z_{\\mu}}{2 c} + \\frac{I_{3} g \\bar{u} \\gamma^{\\mu} \\gamma^{5} u Z_{\\mu}}{2 c} - Q g s \\bar{d} \\gamma^{\\mu} 1 d A_{\\mu} - Q g s \\bar{u} \\gamma^{\\mu} 1 u A_{\\mu} + \\frac{Q g s^{2} \\bar{d} \\gamma^{\\mu} 1 d Z_{\\mu}}{c} + \\frac{Q g s^{2} \\bar{u} \\gamma^{\\mu} 1 u Z_{\\mu}}{c} - \\frac{\\sqrt{2} g \\bar{d} \\gamma^{\\mu} 1 u W^{-}_{\\mu}}{4} + \\frac{\\sqrt{2} g \\bar{d} \\gamma^{\\mu} \\gamma^{5} u W^{-}_{\\mu}}{4} - \\frac{\\sqrt{2} g \\bar{u} \\gamma^{\\mu} 1 d W^{+}_{\\mu}}{4} + \\frac{\\sqrt{2} g \\bar{u} \\gamma^{\\mu} \\gamma^{5} d W^{+}_{\\mu}}{4} + i \\bar{d} \\gamma^{\\mu} {\\partial_\\mu} 1 d + i \\bar{u} \\gamma^{\\mu} {\\partial_\\mu} 1 u$"
      ],
      "text/plain": [
       "-I_3*g*dbar*gamma^\\mu*1*d*Z_mu/(2*c) + I_3*g*dbar*gamma^\\mu*gamma^5*d*Z_mu/(2*c) - I_3*g*ubar*gamma^\\mu*1*u*Z_mu/(2*c) + I_3*g*ubar*gamma^\\mu*gamma^5*u*Z_mu/(2*c) - Q*g*s*dbar*gamma^\\mu*1*d*A_mu - Q*g*s*ubar*gamma^\\mu*1*u*A_mu + Q*g*s**2*dbar*gamma^\\mu*1*d*Z_mu/c + Q*g*s**2*ubar*gamma^\\mu*1*u*Z_mu/c - sqrt(2)*g*dbar*gamma^\\mu*1*u*W^-_mu/4 + sqrt(2)*g*dbar*gamma^\\mu*gamma^5*u*W^-_mu/4 - sqrt(2)*g*ubar*gamma^\\mu*1*d*W^+_mu/4 + sqrt(2)*g*ubar*gamma^\\mu*gamma^5*d*W^+_mu/4 + I*dbar*gamma^\\mu*{\\partial_\\mu}*1*d + I*ubar*gamma^\\mu*{\\partial_\\mu}*1*u"
      ]
     },
     "metadata": {},
     "output_type": "display_data"
    }
   ],
   "source": [
    "c = hf.HiggsLf()\n",
    "dLg = c.LgUD(PRINT=True)\n",
    "Lud = dLg['Lud']"
   ]
  },
  {
   "cell_type": "code",
   "execution_count": 3,
   "id": "28ca834d-1e30-4808-92d5-ad08a8bdf3f6",
   "metadata": {},
   "outputs": [
    {
     "data": {
      "text/plain": [
       "0"
      ]
     },
     "metadata": {},
     "output_type": "display_data"
    },
    {
     "data": {
      "text/latex": [
       "$\\displaystyle \\frac{I_{3} g \\bar{d} \\gamma^{\\mu} \\gamma^{5} d Z_{\\mu}}{2 c}$"
      ],
      "text/plain": [
       "I_3*g*dbar*gamma^\\mu*gamma^5*d*Z_mu/(2*c)"
      ]
     },
     "metadata": {},
     "output_type": "display_data"
    },
    {
     "data": {
      "text/plain": [
       "'latex: \\\\frac{I_{3} g \\\\bar{d} \\\\gamma^{\\\\mu} \\\\gamma^{5} d Z_{\\\\mu}}{2 c}'"
      ]
     },
     "metadata": {},
     "output_type": "display_data"
    },
    {
     "data": {
      "text/plain": [
       "'repr: I_3*g*dbar*gamma^\\\\mu*gamma^5*d*Z_mu/(2*c)'"
      ]
     },
     "metadata": {},
     "output_type": "display_data"
    },
    {
     "data": {
      "text/plain": [
       "1"
      ]
     },
     "metadata": {},
     "output_type": "display_data"
    },
    {
     "data": {
      "text/latex": [
       "$\\displaystyle \\frac{I_{3} g \\bar{u} \\gamma^{\\mu} \\gamma^{5} u Z_{\\mu}}{2 c}$"
      ],
      "text/plain": [
       "I_3*g*ubar*gamma^\\mu*gamma^5*u*Z_mu/(2*c)"
      ]
     },
     "metadata": {},
     "output_type": "display_data"
    },
    {
     "data": {
      "text/plain": [
       "'latex: \\\\frac{I_{3} g \\\\bar{u} \\\\gamma^{\\\\mu} \\\\gamma^{5} u Z_{\\\\mu}}{2 c}'"
      ]
     },
     "metadata": {},
     "output_type": "display_data"
    },
    {
     "data": {
      "text/plain": [
       "'repr: I_3*g*ubar*gamma^\\\\mu*gamma^5*u*Z_mu/(2*c)'"
      ]
     },
     "metadata": {},
     "output_type": "display_data"
    },
    {
     "data": {
      "text/plain": [
       "2"
      ]
     },
     "metadata": {},
     "output_type": "display_data"
    },
    {
     "data": {
      "text/latex": [
       "$\\displaystyle - \\frac{I_{3} g \\bar{d} \\gamma^{\\mu} 1 d Z_{\\mu}}{2 c}$"
      ],
      "text/plain": [
       "-I_3*g*dbar*gamma^\\mu*1*d*Z_mu/(2*c)"
      ]
     },
     "metadata": {},
     "output_type": "display_data"
    },
    {
     "data": {
      "text/plain": [
       "'latex: - \\\\frac{I_{3} g \\\\bar{d} \\\\gamma^{\\\\mu} 1 d Z_{\\\\mu}}{2 c}'"
      ]
     },
     "metadata": {},
     "output_type": "display_data"
    },
    {
     "data": {
      "text/plain": [
       "'repr: -I_3*g*dbar*gamma^\\\\mu*1*d*Z_mu/(2*c)'"
      ]
     },
     "metadata": {},
     "output_type": "display_data"
    },
    {
     "data": {
      "text/plain": [
       "3"
      ]
     },
     "metadata": {},
     "output_type": "display_data"
    },
    {
     "data": {
      "text/latex": [
       "$\\displaystyle - \\frac{I_{3} g \\bar{u} \\gamma^{\\mu} 1 u Z_{\\mu}}{2 c}$"
      ],
      "text/plain": [
       "-I_3*g*ubar*gamma^\\mu*1*u*Z_mu/(2*c)"
      ]
     },
     "metadata": {},
     "output_type": "display_data"
    },
    {
     "data": {
      "text/plain": [
       "'latex: - \\\\frac{I_{3} g \\\\bar{u} \\\\gamma^{\\\\mu} 1 u Z_{\\\\mu}}{2 c}'"
      ]
     },
     "metadata": {},
     "output_type": "display_data"
    },
    {
     "data": {
      "text/plain": [
       "'repr: -I_3*g*ubar*gamma^\\\\mu*1*u*Z_mu/(2*c)'"
      ]
     },
     "metadata": {},
     "output_type": "display_data"
    },
    {
     "data": {
      "text/plain": [
       "4"
      ]
     },
     "metadata": {},
     "output_type": "display_data"
    },
    {
     "data": {
      "text/latex": [
       "$\\displaystyle \\frac{Q g s^{2} \\bar{d} \\gamma^{\\mu} 1 d Z_{\\mu}}{c}$"
      ],
      "text/plain": [
       "Q*g*s**2*dbar*gamma^\\mu*1*d*Z_mu/c"
      ]
     },
     "metadata": {},
     "output_type": "display_data"
    },
    {
     "data": {
      "text/plain": [
       "'latex: \\\\frac{Q g s^{2} \\\\bar{d} \\\\gamma^{\\\\mu} 1 d Z_{\\\\mu}}{c}'"
      ]
     },
     "metadata": {},
     "output_type": "display_data"
    },
    {
     "data": {
      "text/plain": [
       "'repr: Q*g*s**2*dbar*gamma^\\\\mu*1*d*Z_mu/c'"
      ]
     },
     "metadata": {},
     "output_type": "display_data"
    },
    {
     "data": {
      "text/plain": [
       "5"
      ]
     },
     "metadata": {},
     "output_type": "display_data"
    },
    {
     "data": {
      "text/latex": [
       "$\\displaystyle \\frac{Q g s^{2} \\bar{u} \\gamma^{\\mu} 1 u Z_{\\mu}}{c}$"
      ],
      "text/plain": [
       "Q*g*s**2*ubar*gamma^\\mu*1*u*Z_mu/c"
      ]
     },
     "metadata": {},
     "output_type": "display_data"
    },
    {
     "data": {
      "text/plain": [
       "'latex: \\\\frac{Q g s^{2} \\\\bar{u} \\\\gamma^{\\\\mu} 1 u Z_{\\\\mu}}{c}'"
      ]
     },
     "metadata": {},
     "output_type": "display_data"
    },
    {
     "data": {
      "text/plain": [
       "'repr: Q*g*s**2*ubar*gamma^\\\\mu*1*u*Z_mu/c'"
      ]
     },
     "metadata": {},
     "output_type": "display_data"
    }
   ],
   "source": [
    "# list all parts in sympy expression with filter: filter=\"\" lists all.\n",
    "c.syparts(Lud, filter=\"Z\")"
   ]
  },
  {
   "cell_type": "code",
   "execution_count": 4,
   "id": "82c29d99-c7db-431c-8286-e11fc1c6174e",
   "metadata": {},
   "outputs": [
    {
     "data": {
      "text/latex": [
       "$\\displaystyle - Q g s \\bar{d} \\gamma^{\\mu} 1 d A_{\\mu}$"
      ],
      "text/plain": [
       "-Q*g*s*dbar*gamma^\\mu*1*d*A_mu"
      ]
     },
     "execution_count": 4,
     "metadata": {},
     "output_type": "execute_result"
    }
   ],
   "source": [
    "# filter terms, e.g. Ad, Au, Zd, Zu, Wu, Wd\n",
    "c.select(Lud,filter=\"dA\")"
   ]
  },
  {
   "cell_type": "code",
   "execution_count": 5,
   "id": "a36b0b6d-1687-407e-993e-45ab95c1ef6f",
   "metadata": {},
   "outputs": [
    {
     "data": {
      "text/latex": [
       "$\\displaystyle - Q g s \\bar{u} \\gamma^{\\mu} 1 u A_{\\mu}$"
      ],
      "text/plain": [
       "-Q*g*s*ubar*gamma^\\mu*1*u*A_mu"
      ]
     },
     "execution_count": 5,
     "metadata": {},
     "output_type": "execute_result"
    }
   ],
   "source": [
    "c.select(Lud,filter=\"uA\")"
   ]
  },
  {
   "cell_type": "code",
   "execution_count": 6,
   "id": "cd83a3dc-8697-47df-940a-97e756142964",
   "metadata": {},
   "outputs": [
    {
     "data": {
      "text/latex": [
       "$\\displaystyle - \\frac{I_{3} g \\bar{d} \\gamma^{\\mu} 1 d Z_{\\mu}}{2 c} + \\frac{I_{3} g \\bar{d} \\gamma^{\\mu} \\gamma^{5} d Z_{\\mu}}{2 c} + \\frac{Q g s^{2} \\bar{d} \\gamma^{\\mu} 1 d Z_{\\mu}}{c}$"
      ],
      "text/plain": [
       "-I_3*g*dbar*gamma^\\mu*1*d*Z_mu/(2*c) + I_3*g*dbar*gamma^\\mu*gamma^5*d*Z_mu/(2*c) + Q*g*s**2*dbar*gamma^\\mu*1*d*Z_mu/c"
      ]
     },
     "execution_count": 6,
     "metadata": {},
     "output_type": "execute_result"
    }
   ],
   "source": [
    "# select NC for d\n",
    "LdNC = c.select(Lud,filter=\"dZ\");LdNC"
   ]
  },
  {
   "cell_type": "code",
   "execution_count": 7,
   "id": "6b275dbc-7d25-4db6-b050-027e76a942de",
   "metadata": {},
   "outputs": [
    {
     "data": {
      "text/plain": [
       "'LdNCt1: '"
      ]
     },
     "metadata": {},
     "output_type": "display_data"
    },
    {
     "data": {
      "text/latex": [
       "$\\displaystyle - \\frac{g \\bar{d} \\gamma^{\\mu} \\left(- I_{3} \\gamma^{5} + \\left(I_{3} - 2 Q s^{2}\\right) 1\\right) d Z_{\\mu}}{2 c}$"
      ],
      "text/plain": [
       "-g*dbar*gamma^\\mu*(-I_3*gamma^5 + (I_3 - 2*Q*s**2)*1)*d*Z_mu/(2*c)"
      ]
     },
     "metadata": {},
     "output_type": "display_data"
    },
    {
     "data": {
      "text/plain": [
       "'Test equality'"
      ]
     },
     "metadata": {},
     "output_type": "display_data"
    },
    {
     "data": {
      "text/latex": [
       "$\\displaystyle 0$"
      ],
      "text/plain": [
       "0"
      ]
     },
     "execution_count": 7,
     "metadata": {},
     "output_type": "execute_result"
    }
   ],
   "source": [
    "# check whether NC for d agrees with formula in book using cV,cA\n",
    "cV = c.I3-2*c.Q*c.s**2;cV\n",
    "cA = c.I3;cA\n",
    "LdNCt = - sy.Rational(1,2)*c.g/c.c\n",
    "# check against the formula in the book\n",
    "LdNCt1 = LdNCt *c.dbar*c.gammaMU*(c.one*cV-cA*c.gamma5)*c.d*c.Zmu\n",
    "display(\"LdNCt1: \",LdNCt1)\n",
    "display(\"Test equality\")\n",
    "sy.simplify(LdNCt1-LdNC)"
   ]
  },
  {
   "cell_type": "code",
   "execution_count": 8,
   "id": "a7bf125e-395d-4703-997e-5351f6ad7d12",
   "metadata": {},
   "outputs": [
    {
     "data": {
      "text/plain": [
       "'LdNCt1: '"
      ]
     },
     "metadata": {},
     "output_type": "display_data"
    },
    {
     "data": {
      "text/latex": [
       "$\\displaystyle - \\frac{g \\bar{u} \\gamma^{\\mu} \\left(- I_{3} \\gamma^{5} + \\left(I_{3} - 2 Q s^{2}\\right) 1\\right) u Z_{\\mu}}{2 c}$"
      ],
      "text/plain": [
       "-g*ubar*gamma^\\mu*(-I_3*gamma^5 + (I_3 - 2*Q*s**2)*1)*u*Z_mu/(2*c)"
      ]
     },
     "metadata": {},
     "output_type": "display_data"
    },
    {
     "data": {
      "text/plain": [
       "'Test equality'"
      ]
     },
     "metadata": {},
     "output_type": "display_data"
    },
    {
     "data": {
      "text/latex": [
       "$\\displaystyle 0$"
      ],
      "text/plain": [
       "0"
      ]
     },
     "execution_count": 8,
     "metadata": {},
     "output_type": "execute_result"
    }
   ],
   "source": [
    "# check whether NC for u agrees with formula in book using cV,cA\n",
    "LdNC = c.select(Lud,filter=\"uZ\");LdNC\n",
    "cV = c.I3-2*c.Q*c.s**2;cV\n",
    "cA = c.I3;cA\n",
    "LdNCt = - sy.Rational(1,2)*c.g/c.c\n",
    "LdNCt1 = LdNCt *c.ubar*c.gammaMU*(c.one*cV-cA*c.gamma5)*c.u*c.Zmu\n",
    "display(\"LdNCt1: \",LdNCt1)\n",
    "display(\"Test equality\")\n",
    "sy.simplify(LdNCt1-LdNC)"
   ]
  },
  {
   "cell_type": "code",
   "execution_count": 9,
   "id": "ae7de6b3-f791-46bb-aa43-5ef3b16db5a4",
   "metadata": {},
   "outputs": [
    {
     "data": {
      "text/latex": [
       "$\\displaystyle - \\frac{\\sqrt{2} g \\bar{d} \\gamma^{\\mu} 1 u W^{-}_{\\mu}}{4} + \\frac{\\sqrt{2} g \\bar{d} \\gamma^{\\mu} \\gamma^{5} u W^{-}_{\\mu}}{4} - \\frac{\\sqrt{2} g \\bar{u} \\gamma^{\\mu} 1 d W^{+}_{\\mu}}{4} + \\frac{\\sqrt{2} g \\bar{u} \\gamma^{\\mu} \\gamma^{5} d W^{+}_{\\mu}}{4}$"
      ],
      "text/plain": [
       "-sqrt(2)*g*dbar*gamma^\\mu*1*u*W^-_mu/4 + sqrt(2)*g*dbar*gamma^\\mu*gamma^5*u*W^-_mu/4 - sqrt(2)*g*ubar*gamma^\\mu*1*d*W^+_mu/4 + sqrt(2)*g*ubar*gamma^\\mu*gamma^5*d*W^+_mu/4"
      ]
     },
     "execution_count": 9,
     "metadata": {},
     "output_type": "execute_result"
    }
   ],
   "source": [
    "# check CC\n",
    "c.select(Lud,filter=\"dW\")+c.select(Lud,filter=\"uW\")"
   ]
  },
  {
   "cell_type": "code",
   "execution_count": 10,
   "id": "937c3703-f532-464e-b182-5d1c6692a469",
   "metadata": {},
   "outputs": [
    {
     "data": {
      "text/latex": [
       "$\\displaystyle - \\frac{I_{3} g_{Z} \\bar{d} \\gamma^{\\mu} 1 d Z_{\\mu}}{2} + \\frac{I_{3} g_{Z} \\bar{d} \\gamma^{\\mu} \\gamma^{5} d Z_{\\mu}}{2} - \\frac{I_{3} g_{Z} \\bar{u} \\gamma^{\\mu} 1 u Z_{\\mu}}{2} + \\frac{I_{3} g_{Z} \\bar{u} \\gamma^{\\mu} \\gamma^{5} u Z_{\\mu}}{2} - Q e \\bar{d} \\gamma^{\\mu} 1 d A_{\\mu} - Q e \\bar{u} \\gamma^{\\mu} 1 u A_{\\mu} + Q g_{Z} s^{2} \\bar{d} \\gamma^{\\mu} 1 d Z_{\\mu} + Q g_{Z} s^{2} \\bar{u} \\gamma^{\\mu} 1 u Z_{\\mu} - \\frac{\\sqrt{2} g \\bar{d} \\gamma^{\\mu} 1 u W^{-}_{\\mu}}{4} + \\frac{\\sqrt{2} g \\bar{d} \\gamma^{\\mu} \\gamma^{5} u W^{-}_{\\mu}}{4} - \\frac{\\sqrt{2} g \\bar{u} \\gamma^{\\mu} 1 d W^{+}_{\\mu}}{4} + \\frac{\\sqrt{2} g \\bar{u} \\gamma^{\\mu} \\gamma^{5} d W^{+}_{\\mu}}{4}$"
      ],
      "text/plain": [
       "-I_3*g_Z*dbar*gamma^\\mu*1*d*Z_mu/2 + I_3*g_Z*dbar*gamma^\\mu*gamma^5*d*Z_mu/2 - I_3*g_Z*ubar*gamma^\\mu*1*u*Z_mu/2 + I_3*g_Z*ubar*gamma^\\mu*gamma^5*u*Z_mu/2 - Q*e*dbar*gamma^\\mu*1*d*A_mu - Q*e*ubar*gamma^\\mu*1*u*A_mu + Q*g_Z*s**2*dbar*gamma^\\mu*1*d*Z_mu + Q*g_Z*s**2*ubar*gamma^\\mu*1*u*Z_mu - sqrt(2)*g*dbar*gamma^\\mu*1*u*W^-_mu/4 + sqrt(2)*g*dbar*gamma^\\mu*gamma^5*u*W^-_mu/4 - sqrt(2)*g*ubar*gamma^\\mu*1*d*W^+_mu/4 + sqrt(2)*g*ubar*gamma^\\mu*gamma^5*d*W^+_mu/4"
      ]
     },
     "execution_count": 10,
     "metadata": {},
     "output_type": "execute_result"
    }
   ],
   "source": [
    "# Use xsy_part_to\n",
    "c.xsy_part_to(Lud)"
   ]
  },
  {
   "cell_type": "code",
   "execution_count": null,
   "id": "5a4d9537-c917-4674-9491-bcb0fff6f2d2",
   "metadata": {},
   "outputs": [],
   "source": []
  },
  {
   "cell_type": "code",
   "execution_count": null,
   "id": "9eb4c3d5-6858-4397-b3f8-a33e41a56fd7",
   "metadata": {},
   "outputs": [],
   "source": []
  }
 ],
 "metadata": {
  "kernelspec": {
   "display_name": "Python 3 (ipykernel)",
   "language": "python",
   "name": "python3"
  },
  "language_info": {
   "codemirror_mode": {
    "name": "ipython",
    "version": 3
   },
   "file_extension": ".py",
   "mimetype": "text/x-python",
   "name": "python",
   "nbconvert_exporter": "python",
   "pygments_lexer": "ipython3",
   "version": "3.9.16"
  }
 },
 "nbformat": 4,
 "nbformat_minor": 5
}
