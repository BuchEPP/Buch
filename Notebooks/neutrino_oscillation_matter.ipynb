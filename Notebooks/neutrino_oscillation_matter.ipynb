{
 "cells": [
  {
   "cell_type": "markdown",
   "id": "9d395aa4-9495-4008-9e5d-7b844b4a8a3e",
   "metadata": {
    "tags": []
   },
   "source": [
    "# Neutrino Oscillation in Matter\n",
    "\n",
    "Calculate the neutrino oscillation in matter and \n",
    "erive eq. 9.30, 9.31 and 9.32 in the book. \n",
    "\n",
    "section 9.1, exercise 9.4"
   ]
  },
  {
   "cell_type": "code",
   "execution_count": 1,
   "id": "7ff37ad4-5848-414b-a30d-9569858b9b42",
   "metadata": {
    "tags": []
   },
   "outputs": [],
   "source": [
    "import sympy as sy"
   ]
  },
  {
   "cell_type": "markdown",
   "id": "c0cf980b-82d0-4282-853a-53ac3b4ec559",
   "metadata": {},
   "source": [
    "### Step 1\n",
    "\n",
    "We diagonalize a generic matrix of the type\n",
    "\n",
    "$$ M= \\begin{pmatrix} a & b\\\\b & c \\end{pmatrix}$$"
   ]
  },
  {
   "cell_type": "code",
   "execution_count": 2,
   "id": "0a2659a0-c268-42df-ae32-8d2daf4d025c",
   "metadata": {
    "tags": []
   },
   "outputs": [],
   "source": [
    "a,b,c = sy.symbols(\"a b c\")"
   ]
  },
  {
   "cell_type": "code",
   "execution_count": 3,
   "id": "acb5e0d0-73a1-4083-8ee9-d2c4b683a446",
   "metadata": {
    "tags": []
   },
   "outputs": [
    {
     "data": {
      "text/plain": [
       "'Matrix M: '"
      ]
     },
     "metadata": {},
     "output_type": "display_data"
    },
    {
     "data": {
      "text/latex": [
       "$\\displaystyle \\left[\\begin{matrix}a & b\\\\b & c\\end{matrix}\\right]$"
      ],
      "text/plain": [
       "Matrix([\n",
       "[a, b],\n",
       "[b, c]])"
      ]
     },
     "metadata": {},
     "output_type": "display_data"
    }
   ],
   "source": [
    "M = sy.Matrix([[a,b],[b,c]])\n",
    "display(\"Matrix M: \",M)"
   ]
  },
  {
   "cell_type": "markdown",
   "id": "c13389b1-13e3-4a68-848a-7239028bf921",
   "metadata": {},
   "source": [
    "With the help of sympy.Matrix().diagonalize() method, we can diagonalize a matrix M. diagonalize() returns a tuple (P, D), where D is diagonal and M = PDP^{-1}"
   ]
  },
  {
   "cell_type": "code",
   "execution_count": 4,
   "id": "3b133615-06f0-4f0d-be47-a06b4b9c36d8",
   "metadata": {
    "tags": []
   },
   "outputs": [],
   "source": [
    "P, D = M.diagonalize()"
   ]
  },
  {
   "cell_type": "code",
   "execution_count": 5,
   "id": "8adac312-df64-4a8e-8bd9-babc9f624d64",
   "metadata": {
    "tags": []
   },
   "outputs": [
    {
     "data": {
      "text/latex": [
       "$\\displaystyle \\left[\\begin{matrix}\\frac{a - c - \\sqrt{a^{2} - 2 a c + 4 b^{2} + c^{2}}}{2 b} & \\frac{a - c + \\sqrt{a^{2} - 2 a c + 4 b^{2} + c^{2}}}{2 b}\\\\1 & 1\\end{matrix}\\right]$"
      ],
      "text/plain": [
       "Matrix([\n",
       "[(a - c - sqrt(a**2 - 2*a*c + 4*b**2 + c**2))/(2*b), (a - c + sqrt(a**2 - 2*a*c + 4*b**2 + c**2))/(2*b)],\n",
       "[                                                 1,                                                  1]])"
      ]
     },
     "execution_count": 5,
     "metadata": {},
     "output_type": "execute_result"
    }
   ],
   "source": [
    "P"
   ]
  },
  {
   "cell_type": "code",
   "execution_count": 6,
   "id": "201884a9-f9aa-4673-8104-9cab54a1b249",
   "metadata": {
    "tags": []
   },
   "outputs": [
    {
     "data": {
      "text/latex": [
       "$\\displaystyle \\left[\\begin{matrix}\\frac{a}{2} + \\frac{c}{2} - \\frac{\\sqrt{a^{2} - 2 a c + 4 b^{2} + c^{2}}}{2} & 0\\\\0 & \\frac{a}{2} + \\frac{c}{2} + \\frac{\\sqrt{a^{2} - 2 a c + 4 b^{2} + c^{2}}}{2}\\end{matrix}\\right]$"
      ],
      "text/plain": [
       "Matrix([\n",
       "[a/2 + c/2 - sqrt(a**2 - 2*a*c + 4*b**2 + c**2)/2,                                                0],\n",
       "[                                               0, a/2 + c/2 + sqrt(a**2 - 2*a*c + 4*b**2 + c**2)/2]])"
      ]
     },
     "execution_count": 6,
     "metadata": {},
     "output_type": "execute_result"
    }
   ],
   "source": [
    "D"
   ]
  },
  {
   "cell_type": "code",
   "execution_count": 7,
   "id": "8e6c1ff7-fc52-45c5-9eae-0337d5d49e98",
   "metadata": {
    "tags": []
   },
   "outputs": [
    {
     "data": {
      "text/latex": [
       "$\\displaystyle \\left[\\begin{matrix}a & b\\\\b & c\\end{matrix}\\right]$"
      ],
      "text/plain": [
       "Matrix([\n",
       "[a, b],\n",
       "[b, c]])"
      ]
     },
     "execution_count": 7,
     "metadata": {},
     "output_type": "execute_result"
    }
   ],
   "source": [
    "# check whether the diagonalization is correct\n",
    "sy.simplify( P * D * P**(-1) )"
   ]
  },
  {
   "cell_type": "markdown",
   "id": "7e7e9ebe-85c1-42da-adb3-3d899a4ffa11",
   "metadata": {},
   "source": [
    "### Step 2\n",
    "\n",
    "We start with the matrix (eq. 9.29) and replace $m_{ee}^2$, $m^2_{e\\mu}$... \n",
    "with the expressions in 9.22.\n",
    "Then we substitute a,b,c with those matrix elements and \n",
    "insert it into the diagonal matrix D. \n"
   ]
  },
  {
   "cell_type": "code",
   "execution_count": 8,
   "id": "ad0c7f63-c35e-45a6-aff7-9723c0d7d90d",
   "metadata": {
    "tags": []
   },
   "outputs": [
    {
     "data": {
      "text/latex": [
       "$\\displaystyle \\Delta{m}$"
      ],
      "text/plain": [
       "\\Delta{m}"
      ]
     },
     "execution_count": 8,
     "metadata": {},
     "output_type": "execute_result"
    }
   ],
   "source": [
    "mee2, mem2, mmm2 = sy.symbols(\"m_{ee}^2 m_{e\\mu}^2 m_{\\mu\\mu}^2\", real=True)\n",
    "m1, m2, Dm = sy.symbols(\"m_1 m_2 \\Delta{m}\",real=True)\n",
    "mu12, mu22 = sy.symbols(\"\\mu_1^2 \\mu_2^2\",real=True)\n",
    "Acc = sy.symbols(\"A_{CC}\",real=True)\n",
    "theta = sy.symbols(\"theta\",real=True)\n",
    "Dm"
   ]
  },
  {
   "cell_type": "code",
   "execution_count": 9,
   "id": "a44f9522-7370-4be4-bda3-2db7569ce11b",
   "metadata": {
    "tags": []
   },
   "outputs": [
    {
     "data": {
      "text/latex": [
       "$\\displaystyle \\left[\\begin{matrix}A_{CC} + m_{ee}^2 & m_{e\\mu}^2\\\\m_{e\\mu}^2 & m_{\\mu\\mu}^2\\end{matrix}\\right]$"
      ],
      "text/plain": [
       "Matrix([\n",
       "[A_{CC} + m_{ee}^2,   m_{e\\mu}^2],\n",
       "[       m_{e\\mu}^2, m_{\\mu\\mu}^2]])"
      ]
     },
     "execution_count": 9,
     "metadata": {},
     "output_type": "execute_result"
    }
   ],
   "source": [
    "M1 = sy.Matrix([[mee2+Acc, mem2],[mem2,mmm2]]); M1"
   ]
  },
  {
   "cell_type": "code",
   "execution_count": 10,
   "id": "e7cd8962-a775-4573-b609-ac7db3756974",
   "metadata": {
    "tags": []
   },
   "outputs": [
    {
     "data": {
      "text/latex": [
       "$\\displaystyle \\left[\\begin{matrix}A_{CC} + m_{1}^{2} \\cos^{2}{\\left(\\theta \\right)} + m_{2}^{2} \\sin^{2}{\\left(\\theta \\right)} & \\frac{\\Delta{m}^{2} \\sin{\\left(2 \\theta \\right)}}{2}\\\\\\frac{\\Delta{m}^{2} \\sin{\\left(2 \\theta \\right)}}{2} & m_{1}^{2} \\sin^{2}{\\left(\\theta \\right)} + m_{2}^{2} \\cos^{2}{\\left(\\theta \\right)}\\end{matrix}\\right]$"
      ],
      "text/plain": [
       "Matrix([\n",
       "[A_{CC} + m_1**2*cos(theta)**2 + m_2**2*sin(theta)**2,                 \\Delta{m}**2*sin(2*theta)/2],\n",
       "[                         \\Delta{m}**2*sin(2*theta)/2, m_1**2*sin(theta)**2 + m_2**2*cos(theta)**2]])"
      ]
     },
     "execution_count": 10,
     "metadata": {},
     "output_type": "execute_result"
    }
   ],
   "source": [
    "# define a dictionary for substitution using eq. 9.22\n",
    "dsubs1 = {mee2: m1**2 * sy.cos(theta)**2 + m2**2 * sy.sin(theta)**2,\n",
    "         mem2: Dm**2 * sy.sin(2*theta)/2,\n",
    "         mmm2: m1**2 * sy.sin(theta)**2 + m2**2 * sy.cos(theta)**2} \n",
    "# express M1 with m1 and m2\n",
    "M2 = M1.subs(dsubs1)\n",
    "M2"
   ]
  },
  {
   "cell_type": "markdown",
   "id": "cfb6df7d-7927-410c-bf6b-ae9785f16036",
   "metadata": {
    "tags": []
   },
   "source": [
    "Use the result for the diagonal matrix D and calculate the \n",
    "eigenvalues $\\mu_1^2$ and $\\mu_2^2$.\n",
    "\n",
    "First we calculate the term in fron of the sqrt: $T=(a+c)/2$.\n",
    "Then the sqrt: S"
   ]
  },
  {
   "cell_type": "code",
   "execution_count": 11,
   "id": "c8d9281e-a8ca-4c40-83b4-6789ab88d8ad",
   "metadata": {
    "tags": []
   },
   "outputs": [
    {
     "data": {
      "text/plain": [
       "'T: '"
      ]
     },
     "metadata": {},
     "output_type": "display_data"
    },
    {
     "data": {
      "text/latex": [
       "$\\displaystyle \\frac{A_{CC}}{2} + \\frac{m_{1}^{2}}{2} + \\frac{m_{2}^{2}}{2}$"
      ],
      "text/plain": [
       "A_{CC}/2 + m_1**2/2 + m_2**2/2"
      ]
     },
     "metadata": {},
     "output_type": "display_data"
    }
   ],
   "source": [
    "# substitute a,b,c with the values in M2\n",
    "dsubs2 = {a: M2[0,0], b: M2[0,1], c:M2[1,1]}\n",
    "# calculate T\n",
    "T = ((a+c)/2).subs(dsubs2)\n",
    "T = sy.simplify(T)\n",
    "display(\"T: \",T)  # this agrees with eq. 9.30 "
   ]
  },
  {
   "cell_type": "code",
   "execution_count": 12,
   "id": "dc70bc58-2dd2-4367-9202-2132226ea20a",
   "metadata": {
    "tags": []
   },
   "outputs": [
    {
     "data": {
      "text/plain": [
       "'S: '"
      ]
     },
     "metadata": {},
     "output_type": "display_data"
    },
    {
     "data": {
      "text/latex": [
       "$\\displaystyle \\sqrt{\\Delta{m}^{4} \\sin^{2}{\\left(2 \\theta \\right)} + \\left(m_{1}^{2} \\sin^{2}{\\left(\\theta \\right)} + m_{2}^{2} \\cos^{2}{\\left(\\theta \\right)}\\right)^{2} - 2 \\left(m_{1}^{2} \\sin^{2}{\\left(\\theta \\right)} + m_{2}^{2} \\cos^{2}{\\left(\\theta \\right)}\\right) \\left(A_{CC} + m_{1}^{2} \\cos^{2}{\\left(\\theta \\right)} + m_{2}^{2} \\sin^{2}{\\left(\\theta \\right)}\\right) + \\left(A_{CC} + m_{1}^{2} \\cos^{2}{\\left(\\theta \\right)} + m_{2}^{2} \\sin^{2}{\\left(\\theta \\right)}\\right)^{2}}$"
      ],
      "text/plain": [
       "sqrt(\\Delta{m}**4*sin(2*theta)**2 + (m_1**2*sin(theta)**2 + m_2**2*cos(theta)**2)**2 - 2*(m_1**2*sin(theta)**2 + m_2**2*cos(theta)**2)*(A_{CC} + m_1**2*cos(theta)**2 + m_2**2*sin(theta)**2) + (A_{CC} + m_1**2*cos(theta)**2 + m_2**2*sin(theta)**2)**2)"
      ]
     },
     "metadata": {},
     "output_type": "display_data"
    }
   ],
   "source": [
    "# calculate the sqrt term S\n",
    "S = sy.sqrt(a**2 - 2*a*c + 4*b**2 + c**2)\n",
    "S = S.subs(dsubs2)\n",
    "S = sy.simplify(S)\n",
    "display(\"S: \",S)"
   ]
  },
  {
   "cell_type": "code",
   "execution_count": 13,
   "id": "50ffb1d7-38c1-41c1-a259-193c832ae285",
   "metadata": {
    "tags": []
   },
   "outputs": [],
   "source": [
    "# check whether this agrees with eq. 9.32\n",
    "S932 = Dm**2 * sy.sqrt(sy.sin(2*theta)**2 + \n",
    "       (sy.cos(2*theta) - Acc/Dm**2)**2)"
   ]
  },
  {
   "cell_type": "code",
   "execution_count": 14,
   "id": "3a26da99-fdef-4aa6-92bc-4971201af819",
   "metadata": {
    "tags": []
   },
   "outputs": [
    {
     "data": {
      "text/plain": [
       "'S932: '"
      ]
     },
     "metadata": {},
     "output_type": "display_data"
    },
    {
     "data": {
      "text/latex": [
       "$\\displaystyle 0.246852268840766$"
      ],
      "text/plain": [
       "0.246852268840766"
      ]
     },
     "metadata": {},
     "output_type": "display_data"
    },
    {
     "data": {
      "text/plain": [
       "'S: '"
      ]
     },
     "metadata": {},
     "output_type": "display_data"
    },
    {
     "data": {
      "text/latex": [
       "$\\displaystyle 0.246852268840766$"
      ],
      "text/plain": [
       "0.246852268840766"
      ]
     },
     "metadata": {},
     "output_type": "display_data"
    }
   ],
   "source": [
    "# check numerical equivalence\n",
    "dsubs3 = {Dm:0.379,theta:1.134,Acc:0.1287} \n",
    "display(\"S932: \",S932.subs(dsubs3))\n",
    "display(\"S: \",S932.subs(dsubs3))"
   ]
  },
  {
   "cell_type": "markdown",
   "id": "e8214f22-416d-445a-ab6e-036bd74d4011",
   "metadata": {},
   "source": [
    "We obtain the same result as eq. 9.30 und 9.32"
   ]
  },
  {
   "cell_type": "code",
   "execution_count": null,
   "id": "f31e7397-c62e-4c94-8bc4-7f16e2aeed73",
   "metadata": {},
   "outputs": [],
   "source": []
  }
 ],
 "metadata": {
  "kernelspec": {
   "display_name": "Python 3 (ipykernel)",
   "language": "python",
   "name": "python3"
  },
  "language_info": {
   "codemirror_mode": {
    "name": "ipython",
    "version": 3
   },
   "file_extension": ".py",
   "mimetype": "text/x-python",
   "name": "python",
   "nbconvert_exporter": "python",
   "pygments_lexer": "ipython3",
   "version": "3.9.16"
  }
 },
 "nbformat": 4,
 "nbformat_minor": 5
}
