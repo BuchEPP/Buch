{
 "cells": [
  {
   "cell_type": "markdown",
   "id": "14785e68-75c1-4087-9c49-68ca1abc7893",
   "metadata": {},
   "source": [
    "# Random normal distribution\n",
    "\n",
    "Several calculations with normal (Gaussian) distributions\n",
    "\n",
    "Used in exercise 1.32 and 1.37 \n",
    "\n",
    "- random numbers according to normal distribution\n",
    "- quantil and p-values of normal distribution\n"
   ]
  },
  {
   "cell_type": "code",
   "execution_count": 1,
   "id": "b4cbfe69-b83c-4406-8299-65a35be445ff",
   "metadata": {
    "tags": []
   },
   "outputs": [],
   "source": [
    "import numpy as np\n",
    "import scipy as sp\n",
    "import matplotlib.pyplot as plt"
   ]
  },
  {
   "cell_type": "markdown",
   "id": "e27550d2-ab9b-48b1-8e9b-5d390dc9b39d",
   "metadata": {
    "tags": []
   },
   "source": [
    "## Random numbers according to normal distribution"
   ]
  },
  {
   "cell_type": "code",
   "execution_count": 2,
   "id": "c61f1857-0f35-4f16-8d46-8adf859d56d7",
   "metadata": {
    "tags": []
   },
   "outputs": [
    {
     "name": "stdout",
     "output_type": "stream",
     "text": [
      "N1.mean:  1.9824117852708014\n",
      "N2.mean:  2.004883718013635\n",
      "N1.std:  3.992606231052779\n",
      "N2.std:  3.985885979640678\n"
     ]
    }
   ],
   "source": [
    "# make your own normal random number generator\n",
    "# using the instructions in exercise 1.37\n",
    "N = 10**5\n",
    "mu = 2\n",
    "sigma = 4\n",
    "U1 = np.random.rand(N) # np.array\n",
    "U2 = np.random.rand(N) # np.array\n",
    "X1 = np.sin(2*np.pi*U1)*np.sqrt(-2*np.log(U2)) # np.array\n",
    "X2 = np.cos(2*np.pi*U1)*np.sqrt(-2*np.log(U2)) # np.array\n",
    "N1 = mu + sigma*X1\n",
    "N2 = mu + sigma*X2\n",
    "# show that N1, N2 are normally distributed\n",
    "# with mean mu and standard deviation sigma\n",
    "print(\"N1.mean: \",N1.mean())\n",
    "print(\"N2.mean: \",N2.mean())\n",
    "print(\"N1.std: \",N1.std())\n",
    "print(\"N2.std: \",N2.std())"
   ]
  },
  {
   "cell_type": "code",
   "execution_count": 3,
   "id": "ec33b13a-e971-4e27-b1c3-5c0f7fb47feb",
   "metadata": {
    "tags": []
   },
   "outputs": [
    {
     "data": {
      "image/png": "[encoded data removed]",
      "text/plain": [
       "<Figure size 640x480 with 1 Axes>"
      ]
     },
     "metadata": {},
     "output_type": "display_data"
    }
   ],
   "source": [
    "# plot normal distribution and compare with theory\n",
    "nbin = 100\n",
    "xlow = -10\n",
    "xup  =  12\n",
    "binsize = (xup-xlow)/100 \n",
    "plt.hist(N1,nbin,(-10,12))\n",
    "x = np.linspace(-10,12, num=100) # array of 100 equally space numbers in (-10,12)\n",
    "gauss = lambda x,mu,sigma:np.exp(-( ((x-mu)/sigma)**2)/2)/(sigma*np.sqrt(2*np.pi))\n",
    "plt.plot(x,gauss(x,mu,sigma)*N*binsize) # plot gaussian function normalized to hist\n",
    "\n",
    "plt.show()"
   ]
  },
  {
   "cell_type": "markdown",
   "id": "81fe42d5-c01a-49c3-8f3f-489a0575adf3",
   "metadata": {},
   "source": [
    "# Calculate quantils\n",
    "\n",
    "see exercise 1.32"
   ]
  },
  {
   "cell_type": "code",
   "execution_count": 4,
   "id": "dd91ace8-8f82-42d4-a5ad-de7562704b2d",
   "metadata": {
    "tags": []
   },
   "outputs": [
    {
     "name": "stdout",
     "output_type": "stream",
     "text": [
      " x        p     1-p \n",
      "0.00   0.502   0.498 \n",
      "0.10   0.540   0.460 \n",
      "0.20   0.579   0.421 \n",
      "0.30   0.618   0.382 \n",
      "0.40   0.655   0.345 \n",
      "0.50   0.692   0.308 \n",
      "0.60   0.728   0.272 \n",
      "0.70   0.760   0.240 \n",
      "0.80   0.789   0.211 \n",
      "0.90   0.817   0.183 \n",
      "1.00   0.843   0.157 \n",
      "1.10   0.865   0.135 \n",
      "1.20   0.886   0.114 \n",
      "1.30   0.905   0.095 \n",
      "1.40   0.921   0.079 \n",
      "1.50   0.935   0.065 \n",
      "1.60   0.946   0.054 \n",
      "1.70   0.957   0.043 \n",
      "1.80   0.966   0.034 \n",
      "1.90   0.972   0.028 \n",
      "2.00   0.978   0.022 \n",
      "2.10   0.983   0.017 \n",
      "2.20   0.987   0.013 \n",
      "2.30   0.990   0.010 \n",
      "2.40   0.992   0.008 \n",
      "2.50   0.994   0.006 \n",
      "2.60   0.996   0.004 \n",
      "2.70   0.997   0.003 \n",
      "2.80   0.997   0.003 \n",
      "2.90   0.998   0.002 \n",
      "3.00   0.999   0.001 \n",
      "3.10   0.999   0.001 \n",
      "3.20   0.999   0.001 \n",
      "3.30   1.000   0.000 \n",
      "3.40   1.000   0.000 \n",
      "3.50   1.000   0.000 \n",
      "3.60   1.000   0.000 \n",
      "3.70   1.000   0.000 \n",
      "3.80   1.000   0.000 \n",
      "3.90   1.000   0.000 \n",
      "4.00   1.000   0.000 \n",
      "4.10   1.000   0.000 \n",
      "4.20   1.000   0.000 \n",
      "4.30   1.000   0.000 \n",
      "4.40   1.000   0.000 \n",
      "4.50   1.000   0.000 \n",
      "4.60   1.000   0.000 \n",
      "4.70   1.000   0.000 \n",
      "4.80   1.000   0.000 \n",
      "4.90   1.000   0.000 \n"
     ]
    }
   ],
   "source": [
    "# First method: use X1 and X2 to estimate the quantil\n",
    "print(\" x        p     1-p \")\n",
    "for x in np.arange(0,5,0.1):\n",
    "    q = np.sum(X1 < x)/N\n",
    "    print(\"{:.2f}   {:.3f}   {:.3f} \".format(x,q,1-q))"
   ]
  },
  {
   "cell_type": "markdown",
   "id": "a989a2e0-4f9a-4906-936e-323dd70ff61f",
   "metadata": {},
   "source": [
    "From the above list one can read off that \n",
    "between 1.6 < x < 1.7 the p-value is about 95%. Therefor<br>\n",
    "quantil(95%) is about 1.65<br>\n",
    "quantil (5%) is about - 1.65"
   ]
  },
  {
   "cell_type": "code",
   "execution_count": 6,
   "id": "2646a79e-8911-45a4-a39c-047795ce3601",
   "metadata": {
    "tags": []
   },
   "outputs": [
    {
     "name": "stdout",
     "output_type": "stream",
     "text": [
      "quantil(5):  -1.6448536269514729\n",
      "quantil(95):  1.644853626951472\n"
     ]
    }
   ],
   "source": [
    "# exact calculation of quantil using scipy.stats.norm.ppf\n",
    "print(\"quantil(5): \",sp.stats.norm.ppf(0.05, loc=0, scale=1))\n",
    "print(\"quantil(95): \",sp.stats.norm.ppf(0.95, loc=0, scale=1))"
   ]
  },
  {
   "cell_type": "code",
   "execution_count": 12,
   "id": "eae754ab-772f-47c7-9586-ff96af9d2b96",
   "metadata": {
    "tags": []
   },
   "outputs": [
    {
     "name": "stdout",
     "output_type": "stream",
     "text": [
      "  x    p-value\n",
      "-5.0   2.867e-07\n",
      "-4.0   3.167e-05\n",
      "-3.0   0.00135\n",
      "-2.0   0.02275\n",
      "-1.0   0.1587\n"
     ]
    }
   ],
   "source": [
    "# Calculate p-values for x = -5, -4, -3, -2, -1\n",
    "print(\"  x    p-value\")\n",
    "for x in [-5, -4, -3, -2, -1]:\n",
    "    p = sp.stats.norm.cdf(x, loc=0, scale=1)\n",
    "    print(\"{:.1f}   {:.4g}\".format(x,p))"
   ]
  }
 ],
 "metadata": {
  "kernelspec": {
   "display_name": "Python 3 (ipykernel)",
   "language": "python",
   "name": "python3"
  },
  "language_info": {
   "codemirror_mode": {
    "name": "ipython",
    "version": 3
   },
   "file_extension": ".py",
   "mimetype": "text/x-python",
   "name": "python",
   "nbconvert_exporter": "python",
   "pygments_lexer": "ipython3",
   "version": "3.9.16"
  }
 },
 "nbformat": 4,
 "nbformat_minor": 5
}
