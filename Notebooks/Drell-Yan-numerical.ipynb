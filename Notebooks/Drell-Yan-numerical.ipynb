{
 "cells": [
  {
   "cell_type": "markdown",
   "id": "954f88d2-22e6-41c9-9e43-6151c8abccd3",
   "metadata": {},
   "source": [
    "# Drell-Yan cross-section numerical calculation\n",
    "\n",
    "Calculate the Drell-Yan cross-section using a more realistic parton distribution \n",
    "function as given in section 5.3 of the book. \n",
    "Now the integration can not be done analytically anymore. \n",
    "The numerical integration method `scipy.dblquad` is used. \n",
    "\n",
    "section 8.1, exercise 8.3"
   ]
  },
  {
   "cell_type": "code",
   "execution_count": 1,
   "id": "e54c821c-c981-4043-b96a-4e6fb2063ee5",
   "metadata": {},
   "outputs": [],
   "source": [
    "import numpy as np\n",
    "import scipy as sp\n",
    "from scipy import integrate"
   ]
  },
  {
   "cell_type": "markdown",
   "id": "db28f731-95e6-430d-83ff-34b39fb3f735",
   "metadata": {},
   "source": [
    "1. We use the parton distribution function for $d$ ($\\bar{d}$) quarks in section 5.3. \n",
    "2. We choose again $\\sqrt{s}=30$~GeV and $x_0=0.01$.  \n",
    "3. We integrate over the Drell-Yan diff. cross-section with the routine `scipy.dblquad`. \n",
    "4. Compare this result with the analytic result in the supplement in notebook `Drell-Yan.ipynb` (exercise 8.2).  "
   ]
  },
  {
   "cell_type": "code",
   "execution_count": 5,
   "id": "85d3752f-e63b-4496-a403-0f8409dc0f0d",
   "metadata": {},
   "outputs": [],
   "source": [
    "def f(xa,xb):\n",
    "    \"\"\"\n",
    "    return fa(xa)*fb(xb) * sigma_DY\n",
    "    use: fa=fb=dv (Kap. 5.3)\n",
    "    \"\"\"\n",
    "    alf = 1./137\n",
    "    Q = 1./3\n",
    "    s = 30**2\n",
    "    fac = 0.389e6 # convert 1/GeV**2 to nb\n",
    "    sigdy = (Q**2/9.) * 4*np.pi*alf**2/(xa*xb*s)\n",
    "    dva =  0.67*xa**0.4*(1-xa**1.51)**4.5/xa\n",
    "    dvb =  0.67*xb**0.4*(1-xb**1.51)**4.5/xb\n",
    "    return dva*dvb*sigdy*fac"
   ]
  },
  {
   "cell_type": "code",
   "execution_count": 6,
   "id": "2f00c76f-0528-488e-a3ca-a965005e07e4",
   "metadata": {},
   "outputs": [
    {
     "data": {
      "text/plain": [
       "(0.7675074284126913, 3.4135726492375614e-08)"
      ]
     },
     "execution_count": 6,
     "metadata": {},
     "output_type": "execute_result"
    }
   ],
   "source": [
    "# 2-dimensional Integration\n",
    "sp.integrate.dblquad(f, 0.01, 1, lambda x: 0.01, lambda x: 1)"
   ]
  },
  {
   "cell_type": "markdown",
   "id": "aa6e6df4-dfcb-4893-9fa6-78905bc48ea5",
   "metadata": {},
   "source": [
    "We get the same result as in the supplement of Aufgabe 8.2"
   ]
  }
 ],
 "metadata": {
  "kernelspec": {
   "display_name": "Python 3 (ipykernel)",
   "language": "python",
   "name": "python3"
  },
  "language_info": {
   "codemirror_mode": {
    "name": "ipython",
    "version": 3
   },
   "file_extension": ".py",
   "mimetype": "text/x-python",
   "name": "python",
   "nbconvert_exporter": "python",
   "pygments_lexer": "ipython3",
   "version": "3.9.16"
  }
 },
 "nbformat": 4,
 "nbformat_minor": 5
}
