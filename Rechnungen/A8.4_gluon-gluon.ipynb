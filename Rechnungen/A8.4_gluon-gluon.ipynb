{
 "cells": [
  {
   "cell_type": "markdown",
   "id": "00006113-7fbd-4376-8d75-d67112a82da6",
   "metadata": {},
   "source": [
    "# Aufgabe 8.4"
   ]
  },
  {
   "cell_type": "markdown",
   "id": "a5084ade-abb0-4715-90c5-6891c5417158",
   "metadata": {},
   "source": [
    "Zeigen Sie, dass für die Reaktion $gg\\to gg$\n",
    "mit $p_T(g)= 0.1 \\sqrt{s}$ der Wirkungsquerschnitt \n",
    "$s~\\sigma(s)_{gg} \\approx 19$ ist. "
   ]
  },
  {
   "cell_type": "markdown",
   "id": "e65d563b-e17e-4f47-977b-d88c02d74bb7",
   "metadata": {},
   "source": [
    "### Calculation\n",
    "using\n",
    "$s+t+u=0$ and $p=\\frac{\\sqrt{s}}{2}$ one finds\n",
    "\n",
    "$$t=-\\frac{s}{2}(1-\\cos\\theta)=-\\frac{s}{2}(1-p_L/p)=\n",
    "-\\frac{s}{2}(1-2p_L/\\sqrt{s}).$$\n",
    "One can relate the $p_T$ cut to a $p_L$ cut.\n",
    "$$p_T(cut) = k\\cdot \\sqrt{s}$$\n",
    "\n",
    "$$p_L(cut) = \\pm \\sqrt{p^2-p_T^2(cut)}=\n",
    "\\pm \\frac{\\sqrt{s}}{2}\\sqrt{1-4k^2}$$\n",
    "\n",
    "and therefore\n",
    "\n",
    "$$t(cut) = -\\frac{s}{2}(1\\mp \\sqrt{1-4k^2})$$\n"
   ]
  },
  {
   "cell_type": "markdown",
   "id": "8f293617-5750-4dfb-ba6d-0299d8f3974c",
   "metadata": {},
   "source": [
    "The following routine calculates $s \\sigma$ for all QCD processes not only for gg as given in the exercise."
   ]
  },
  {
   "cell_type": "markdown",
   "id": "2fe27bc7-c204-4662-a12d-ce27a9afc132",
   "metadata": {},
   "source": [
    "# 1. Analytische Rechnung"
   ]
  },
  {
   "cell_type": "code",
   "execution_count": 2,
   "id": "40a6ca44-211f-40af-b77f-45b8e8ee2616",
   "metadata": {},
   "outputs": [],
   "source": [
    "import sympy as sy"
   ]
  },
  {
   "cell_type": "code",
   "execution_count": 3,
   "id": "0303f9b5-6742-4eeb-a7c6-d4394d2858c3",
   "metadata": {},
   "outputs": [],
   "source": [
    "t,u = sy.symbols(\"t,u\", negative=True)\n",
    "s,alfs = sy.symbols(\"s,alpha_s\",positive=True)\n",
    "t1,t2 = sy.symbols(\"t_1,t_2\",negative=True)\n",
    "fk = 0.1\n",
    "fac = 1.\n",
    "falfs = 0.118"
   ]
  },
  {
   "cell_type": "code",
   "execution_count": 4,
   "id": "863881c1-305e-4e40-98bb-382fbb563d06",
   "metadata": {},
   "outputs": [],
   "source": [
    "def sig_ptcut(dsdt, fk, fac):\n",
    "    \"\"\"\n",
    "    Calculate total xsec with pt cut: pt(cut)= k * sqrt(s)\n",
    "    dsdt: diff. cross section\n",
    "    fk : numeric value for k\n",
    "    fac: = 1/2, if identical particles in the final state, otherwise 1\n",
    "    \"\"\"\n",
    "    dsdt1 = sy.simplify(dsdt.subs(u,-s-t)) # replace u\n",
    "    int_dsdt1 = sy.integrate(dsdt1,(t,t1,t2)) # integrate dsdt1\n",
    "    ft1 = -(s/2)*(1+sy.sqrt(1-4*fk**2)) # numeric value for t1 \n",
    "    ft2 = -(s/2)*(1-sy.sqrt(1-4*fk**2)) # numeric value for t2\n",
    "    # calculate s*sigma and substitute values for t1 and t2\n",
    "    eq1 = s*int_dsdt1.subs(t1,ft1).subs(t2,ft2).subs(alfs,falfs)\n",
    "    r = sy.simplify(eq1).evalf()\n",
    "    return r*fac"
   ]
  },
  {
   "cell_type": "code",
   "execution_count": 5,
   "id": "5b0ad936-5fc2-468e-b2a6-027c0340f056",
   "metadata": {},
   "outputs": [
    {
     "data": {
      "text/latex": [
       "$\\displaystyle 18.6572795110116$"
      ],
      "text/plain": [
       "18.6572795110116"
      ]
     },
     "execution_count": 5,
     "metadata": {},
     "output_type": "execute_result"
    }
   ],
   "source": [
    "# gg to gg xsec Kap. 4.3\n",
    "# capital means bar, e.g. qqbar = qQ\n",
    "fk = 0.1\n",
    "fac = 0.5\n",
    "dsdt = 9*sy.pi*alfs**2/(2*s**2)*(3-s*u/t**2-u*t/s**2-s*t/u**2)\n",
    "sig_ptcut(dsdt,fk,fac)                                 \n",
    "#d[\"gg_qQ\"]={\"dsdt\":3*sy.pi*alfs**2/(8*s**2)*( (4/9)*(t/u+u/t)-(t**2+u**2)/s**2),\n",
    "#         \"fac\":1,\"fk\":0.1}\n",
    "\n",
    "#d[\"gg_qQ\"]={\"dsdt\":3*sy.pi*alfs**2/(8*s**2)*( (4/9)*(t/u+u/t)),\n",
    "#         \"fac\":1,\"fk\":0.}\n"
   ]
  },
  {
   "cell_type": "markdown",
   "id": "9631713c-9c84-4336-a043-9971fe52c5d5",
   "metadata": {},
   "source": [
    "# Numerische Berechnung"
   ]
  },
  {
   "cell_type": "code",
   "execution_count": 6,
   "id": "090edd6f-ec94-49ad-8a13-e9bfc9f8d0f9",
   "metadata": {},
   "outputs": [],
   "source": [
    "import numpy as np\n",
    "import scipy as sp\n",
    "from scipy import integrate"
   ]
  },
  {
   "cell_type": "code",
   "execution_count": 10,
   "id": "27fc7944-a077-4532-8542-6f48d8e8cea8",
   "metadata": {},
   "outputs": [],
   "source": [
    "def sgggg(t,s,alfs):\n",
    "    \"\"\"\n",
    "    Parton xsec for gg-> gg from Kap. 4.2\n",
    "    \"\"\"\n",
    "    u   = -s-t \n",
    "    sig = 9*np.pi*alfs**2/(2*s**2)*(3-s*u/t**2-u*t/s**2-s*t/u**2)\n",
    "    return s*sig"
   ]
  },
  {
   "cell_type": "code",
   "execution_count": 11,
   "id": "8a9f002c-014f-43eb-9e67-6558811bb164",
   "metadata": {},
   "outputs": [],
   "source": [
    "def sig_ptcut_num(sig,s,k,fac,alfs):\n",
    "    ft1 = -(s/2)*(1+np.sqrt(1-4*k**2)) # numeric value for t1 \n",
    "    ft2 = -(s/2)*(1-np.sqrt(1-4*k**2)) # numeric value for t2\n",
    "    xsec = sp.integrate.quad(sig, ft1,ft2,args=(s,alfs))\n",
    "    return fac*xsec[0]"
   ]
  },
  {
   "cell_type": "code",
   "execution_count": 12,
   "id": "8e626272-47d7-4db8-8522-1e130f307f33",
   "metadata": {},
   "outputs": [
    {
     "name": "stdout",
     "output_type": "stream",
     "text": [
      "s*sigma(gg-gg):  18.65727951101166 18.65727951101153\n"
     ]
    }
   ],
   "source": [
    "# gg -> gg\n",
    "# Parton-parton luminosity functions for the LHC: ~ 19\n",
    "# Alexander Belyaev, Joey Huston, Jon Pumplin\n",
    "k = 0.1\n",
    "fac = 0.5\n",
    "s = 100.\n",
    "alfs = 0.118\n",
    "x1=sig_ptcut_num(sgggg,s,k,fac,alfs)\n",
    "s = 1000.\n",
    "x2=sig_ptcut_num(sgggg,s,k,fac,alfs)\n",
    "print(\"s*sigma(gg-gg): \",x1,x2) "
   ]
  }
 ],
 "metadata": {
  "kernelspec": {
   "display_name": "Python 3 (ipykernel)",
   "language": "python",
   "name": "python3"
  },
  "language_info": {
   "codemirror_mode": {
    "name": "ipython",
    "version": 3
   },
   "file_extension": ".py",
   "mimetype": "text/x-python",
   "name": "python",
   "nbconvert_exporter": "python",
   "pygments_lexer": "ipython3",
   "version": "3.8.12"
  }
 },
 "nbformat": 4,
 "nbformat_minor": 5
}
