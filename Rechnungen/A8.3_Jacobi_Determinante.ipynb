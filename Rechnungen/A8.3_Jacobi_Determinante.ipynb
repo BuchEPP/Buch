{
 "cells": [
  {
   "cell_type": "code",
   "execution_count": 1,
   "id": "84536e60-531b-425e-b80b-2954579506d3",
   "metadata": {},
   "outputs": [],
   "source": [
    "import sympy as sy"
   ]
  },
  {
   "cell_type": "code",
   "execution_count": 2,
   "id": "db86d31e-f84d-49e0-ac35-f1df85d87346",
   "metadata": {},
   "outputs": [],
   "source": [
    "xa,xb,shat,y,t,s = sy.symbols(\"x_a x_b \\hat{s} y t s\",positive=True)"
   ]
  },
  {
   "cell_type": "markdown",
   "id": "f27baa45-d989-4ef2-b975-fe7da6bf6c83",
   "metadata": {},
   "source": [
    "# Aufgabe Kap. 8.1, Aufgabe 8.3"
   ]
  },
  {
   "cell_type": "markdown",
   "id": "52e2cd10-651d-4c60-813a-8e9ff72c5d22",
   "metadata": {},
   "source": [
    "Berechnen Sie die Jacobi-Determinanten\n",
    "\n",
    "$ \\mathrm{d}x_a  \\mathrm{d}x_b = \\frac{1}{s} \\mathrm{d}\\hat{s}  \\mathrm{d}y$\n",
    "\n",
    "$ \\mathrm{d}x_a  \\mathrm{d}x_b = \\mathrm{d}\\tau  \\mathrm{d}y $"
   ]
  },
  {
   "cell_type": "code",
   "execution_count": 3,
   "id": "df76d566-5c6c-4070-869f-ae039068576a",
   "metadata": {},
   "outputs": [],
   "source": [
    "xa = sy.sqrt(t)* sy.exp(y)\n",
    "xb = sy.sqrt(t)* sy.exp(-y)"
   ]
  },
  {
   "cell_type": "code",
   "execution_count": 4,
   "id": "763bd2c2-56eb-4eac-92f8-3c0f842c103b",
   "metadata": {},
   "outputs": [
    {
     "name": "stdout",
     "output_type": "stream",
     "text": [
      "D:  1\n"
     ]
    }
   ],
   "source": [
    "# tau, y\n",
    "d11 = sy.diff(xa,y); d11\n",
    "d12 = sy.diff(xa,t); d12\n",
    "d21 = sy.diff(xb,y); d21\n",
    "d22 = sy.diff(xb,t); d22\n",
    "D = d11*d22 - d12*d21\n",
    "print(\"D: \",D) "
   ]
  },
  {
   "cell_type": "code",
   "execution_count": 5,
   "id": "fc8941df-a5d1-4f3b-9b17-1454248ac0f2",
   "metadata": {},
   "outputs": [],
   "source": [
    "xa = sy.sqrt(shat/s)* sy.exp(y)\n",
    "xb = sy.sqrt(shat/s)* sy.exp(-y)"
   ]
  },
  {
   "cell_type": "code",
   "execution_count": 6,
   "id": "1048bce0-8157-47cf-a89e-fe913e38a2ff",
   "metadata": {},
   "outputs": [
    {
     "name": "stdout",
     "output_type": "stream",
     "text": [
      "D:  1/s\n"
     ]
    }
   ],
   "source": [
    "# y, shat\n",
    "d11 = sy.diff(xa,y); d11\n",
    "d12 = sy.diff(xa,shat); d12\n",
    "d21 = sy.diff(xb,y); d21\n",
    "d22 = sy.diff(xb,shat); d22\n",
    "D = d11*d22 - d12*d21\n",
    "print(\"D: \",D) "
   ]
  }
 ],
 "metadata": {
  "kernelspec": {
   "display_name": "Python 3 (ipykernel)",
   "language": "python",
   "name": "python3"
  },
  "language_info": {
   "codemirror_mode": {
    "name": "ipython",
    "version": 3
   },
   "file_extension": ".py",
   "mimetype": "text/x-python",
   "name": "python",
   "nbconvert_exporter": "python",
   "pygments_lexer": "ipython3",
   "version": "3.8.12"
  }
 },
 "nbformat": 4,
 "nbformat_minor": 5
}
